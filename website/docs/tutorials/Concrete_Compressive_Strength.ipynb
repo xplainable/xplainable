{
 "cells": [
  {
   "cell_type": "markdown",
   "metadata": {},
   "source": [
    "# Regression - Concrete Compressive Strength Prediction\n",
    "\n",
    "Predicting concrete compressive strength from mixture components using materials science data.\n",
    "\n",
    "**Dataset Source**: [UCI ML Repository - Concrete Compressive Strength](https://archive.ics.uci.edu/ml/datasets/Concrete+Compressive+Strength)\n",
    "**Problem Type**: Regression\n",
    "**Target Variable**: Concrete compressive strength (MPa)\n",
    "**Use Case**: Construction engineering, quality control, materials optimization\n",
    "\n",
    "## Package Imports"
   ]
  },
  {
   "cell_type": "code",
   "execution_count": null,
   "metadata": {},
   "outputs": [],
   "source": [
    "!pip install xplainable\n",
    "!pip install xplainable-client"
   ]
  },
  {
   "cell_type": "code",
   "execution_count": 1,
   "metadata": {},
   "outputs": [],
   "source": [
    "import pandas as pd\n",
    "import xplainable as xp\n",
    "from xplainable.core.models import XRegressor\n",
    "from xplainable.core.optimisation.genetic import XEvolutionaryNetwork\n",
    "from xplainable.core.optimisation.layers import Evolve, Tighten\n",
    "from xplainable.preprocessing.pipeline import XPipeline\n",
    "from xplainable.preprocessing import transformers as xtf\n",
    "from sklearn.model_selection import train_test_split\n",
    "import requests\n",
    "import json\n",
    "\n",
    "# Additional imports specific to this example\n",
    "import numpy as np\n",
    "import matplotlib.pyplot as plt\n",
    "from ucimlrepo import fetch_ucirepo\n",
    "\n",
    "from xplainable_client.client.client import XplainableClient\n",
    "from xplainable_client.client.base import XplainableAPIError"
   ]
  },
  {
   "cell_type": "markdown",
   "metadata": {},
   "source": [
    "## Xplainable Cloud Setup"
   ]
  },
  {
   "cell_type": "code",
   "execution_count": null,
   "metadata": {},
   "outputs": [
    {
     "name": "stdout",
     "output_type": "stream",
     "text": [
      "<Response [200]>\n"
     ]
    }
   ],
   "source": [
    "# Initialize Xplainable Cloud client\n",
    "client = XplainableClient(\n",
    "    api_key=\"\", #Create api key in xplainable cloud - https://platform.xplainable.io/\n",
    "    hostname=\"https://platform.xplainable.io\"\n",
    ")"
   ]
  },
  {
   "cell_type": "markdown",
   "metadata": {},
   "source": [
    "## Data Loading and Exploration\n",
    "\n",
    "Load the Concrete Compressive Strength dataset from UCI ML Repository."
   ]
  },
  {
   "cell_type": "code",
   "execution_count": null,
   "metadata": {},
   "outputs": [
    {
     "name": "stdout",
     "output_type": "stream",
     "text": [
      "Error loading dataset: Error connecting to server\n",
      "Install ucimlrepo: pip install ucimlrepo\n"
     ]
    },
    {
     "ename": "",
     "evalue": "",
     "output_type": "error",
     "traceback": [
      "\u001b[1;31mThe Kernel crashed while executing code in the current cell or a previous cell. \n",
      "\u001b[1;31mPlease review the code in the cell(s) to identify a possible cause of the failure. \n",
      "\u001b[1;31mClick <a href='https://aka.ms/vscodeJupyterKernelCrash'>here</a> for more info. \n",
      "\u001b[1;31mView Jupyter <a href='command:jupyter.viewOutput'>log</a> for further details."
     ]
    }
   ],
   "source": [
    "# Load dataset using ucimlrepo\n",
    "try:\n",
    "    # Fetch dataset\n",
    "    concrete = fetch_ucirepo(id=165)\n",
    "    \n",
    "    # Data (as pandas dataframes)\n",
    "    X = concrete.data.features\n",
    "    y = concrete.data.targets\n",
    "    \n",
    "    # Combine features and target\n",
    "    df = pd.concat([X, y], axis=1)\n",
    "    \n",
    "    # Display basic information\n",
    "    print(f\"Dataset shape: {df.shape}\")\n",
    "    print(f\"\\nFeatures: {list(X.columns)}\")\n",
    "    print(f\"\\nTarget variable statistics:\")\n",
    "    print(y.describe())\n",
    "    \n",
    "    df.head()\n",
    "    \n",
    "except Exception as e:\n",
    "    print(f\"Error loading dataset: {e}\")\n",
    "    print(\"Install ucimlrepo: pip install ucimlrepo\")"
   ]
  },
  {
   "cell_type": "markdown",
   "metadata": {},
   "source": [
    "## 1. Data Preprocessing\n",
    "\n",
    "Preprocess the concrete mixture data for optimal model performance."
   ]
  },
  {
   "cell_type": "code",
   "execution_count": null,
   "metadata": {},
   "outputs": [],
   "source": [
    "# # Create preprocessing pipeline\n",
    "# pipeline = XPipeline()\n",
    "# pipeline.add_stages([\n",
    "#     # Check for missing values (this dataset typically has none)\n",
    "#     # {\"transformer\": xtf.FillMissing(method=\"median\")},\n",
    "    \n",
    "#     # Optionally scale features if needed\n",
    "#     # {\"transformer\": xtf.StandardScaler()},\n",
    "# ])\n",
    "\n",
    "# # Apply preprocessing\n",
    "# df_processed = pipeline.fit_transform(df)\n",
    "# print(f\"Processed dataset shape: {df_processed.shape}\")\n",
    "# print(f\"Missing values: {df_processed.isnull().sum().sum()}\")\n",
    "# df_processed.head()"
   ]
  },
  {
   "cell_type": "markdown",
   "metadata": {},
   "source": [
    "### Create Train/Test Split"
   ]
  },
  {
   "cell_type": "code",
   "execution_count": null,
   "metadata": {},
   "outputs": [],
   "source": [
    "df.columns"
   ]
  },
  {
   "cell_type": "code",
   "execution_count": null,
   "metadata": {},
   "outputs": [],
   "source": [
    "# Assuming the target column is the last one\n",
    "target_col = \"Concrete compressive strength\"\n",
    "X, y = df.drop(columns=[target_col]), df[target_col]\n",
    "\n",
    "X_train, X_test, y_train, y_test = train_test_split(\n",
    "    X, y, test_size=0.2, random_state=42\n",
    ")\n",
    "\n",
    "print(f\"Training set: {X_train.shape[0]} samples\")\n",
    "print(f\"Test set: {X_test.shape[0]} samples\")"
   ]
  },
  {
   "cell_type": "code",
   "execution_count": null,
   "metadata": {},
   "outputs": [],
   "source": [
    "model = XRegressor(ignore_nan=False)"
   ]
  },
  {
   "cell_type": "code",
   "execution_count": null,
   "metadata": {},
   "outputs": [],
   "source": [
    "model.fit(X_train, y_train)"
   ]
  },
  {
   "cell_type": "markdown",
   "metadata": {},
   "source": [
    "## 2. Model Optimization\n",
    "\n",
    "Optimize hyperparameters for concrete strength prediction."
   ]
  },
  {
   "cell_type": "code",
   "execution_count": null,
   "metadata": {},
   "outputs": [],
   "source": [
    "network = XEvolutionaryNetwork(model)\n",
    "\n",
    "# Add the layers\n",
    "# Start with an initial Tighten layer\n",
    "network.add_layer(\n",
    "    Tighten(\n",
    "        iterations=100,\n",
    "        learning_rate=0.1,\n",
    "        early_stopping=20\n",
    "        )\n",
    "    )\n",
    "\n",
    "# Add an Evolve layer with a high severity\n",
    "network.add_layer(\n",
    "    Evolve(\n",
    "        mutations=100,\n",
    "        generations=50,\n",
    "        max_severity=0.5,\n",
    "        max_leaves=20,\n",
    "        early_stopping=20\n",
    "        )\n",
    "    )\n",
    "\n",
    "# Add another Evolve layer with a lower severity and reach\n",
    "network.add_layer(\n",
    "    Evolve(\n",
    "        mutations=100,\n",
    "        generations=50,\n",
    "        max_severity=0.3,\n",
    "        max_leaves=15,\n",
    "        early_stopping=20\n",
    "        )\n",
    "    )\n",
    "\n",
    "# Add a final Tighten layer with a low learning rate\n",
    "network.add_layer(\n",
    "    Tighten(\n",
    "        iterations=100,\n",
    "        learning_rate=0.025,\n",
    "        early_stopping=20\n",
    "        )\n",
    "    )\n",
    "\n",
    "# Fit the network (before or after adding layers)\n",
    "network.fit(X_train, y_train)\n",
    "\n",
    "# Run the network\n",
    "network.optimise()"
   ]
  },
  {
   "cell_type": "markdown",
   "metadata": {},
   "source": [
    "## 4. Model Interpretability and Explainability\n",
    "\n",
    "Understand which concrete mixture components most influence compressive strength."
   ]
  },
  {
   "cell_type": "code",
   "execution_count": null,
   "metadata": {},
   "outputs": [],
   "source": [
    "model.explain()"
   ]
  },
  {
   "cell_type": "markdown",
   "metadata": {},
   "source": [
    "## 5. Model Persistence (Optional)\n",
    "\n",
    "Save the model to Xplainable Cloud."
   ]
  },
  {
   "cell_type": "code",
   "execution_count": null,
   "metadata": {},
   "outputs": [],
   "source": [
    "# Uncomment to save model to Xplainable Cloud\n",
    "# try:\n",
    "#     model_id, version_id = client.models.create_model(\n",
    "#         model=model,\n",
    "#         model_name=\"Concrete Compressive Strength Model\",\n",
    "#         model_description=\"Predicting concrete strength from mixture components\",\n",
    "#         x=X_train,\n",
    "#         y=y_train\n",
    "#     )\n",
    "# except XplainableAPIError as e:\n",
    "#     print(f\"Error creating model: {e}\")"
   ]
  },
  {
   "cell_type": "markdown",
   "metadata": {},
   "source": [
    "## 6. Model Deployment (Optional)\n",
    "\n",
    "Deploy the model for real-time strength predictions."
   ]
  },
  {
   "cell_type": "code",
   "execution_count": null,
   "metadata": {},
   "outputs": [],
   "source": [
    "# Uncomment to deploy model\n",
    "# try:\n",
    "#     deployment_response = client.deployments.deploy(\n",
    "#         model_version_id=version_id\n",
    "#     )\n",
    "#     deployment_id = deployment_response.deployment_id\n",
    "# except XplainableAPIError as e:\n",
    "#     print(f\"Error deploying model: {e}\")\n",
    "# \n",
    "# # Activate deployment\n",
    "# try:\n",
    "#     client.deployments.activate_deployment(deployment_id=deployment_id)\n",
    "# except XplainableAPIError as e:\n",
    "#     print(f\"Error activating deployment: {e}\")\n",
    "# \n",
    "# # Generate deploy key for inference\n",
    "# try:\n",
    "#     deploy_key = client.deployments.generate_deploy_key(\n",
    "#         deployment_id=deployment_id,\n",
    "#         name=\"Concrete Strength Deployment Key\"\n",
    "#     )\n",
    "#     print(f\"Deploy key created: {str(deploy_key)}\")\n",
    "# except XplainableAPIError as e:\n",
    "#     print(f\"Error generating deploy key: {e}\")\n",
    "# \n",
    "# # Generate example deployment payload\n",
    "# try:\n",
    "#     example_payload = client.deployments.generate_example_deployment_payload(\n",
    "#         model_version_id=version_id\n",
    "#     )\n",
    "#     print(\"Example payload:\", example_payload)\n",
    "# except XplainableAPIError as e:\n",
    "#     print(f\"Error generating example payload: {e}\")"
   ]
  },
  {
   "cell_type": "markdown",
   "metadata": {},
   "source": [
    "## 7. Model Testing\n",
    "\n",
    "Evaluate model performance on concrete strength predictions."
   ]
  },
  {
   "cell_type": "code",
   "execution_count": null,
   "metadata": {},
   "outputs": [],
   "source": [
    "# Evaluate on test set\n",
    "test_predictions = model.predict(X_test)\n",
    "test_performance = model.evaluate(X_test, y_test)\n",
    "\n",
    "print(\"Test Set Performance:\")\n",
    "for metric, value in test_performance.items():\n",
    "    print(f\"{metric}: {value:.4f}\")\n",
    "\n",
    "# Plot predictions vs actual\n",
    "plt.figure(figsize=(10, 6))\n",
    "plt.scatter(y_test, test_predictions, alpha=0.6)\n",
    "plt.plot([y_test.min(), y_test.max()], [y_test.min(), y_test.max()], 'r--', lw=2)\n",
    "plt.xlabel('Actual Compressive Strength (MPa)')\n",
    "plt.ylabel('Predicted Compressive Strength (MPa)')\n",
    "plt.title('Concrete Compressive Strength: Predictions vs Actual')\n",
    "plt.grid(True, alpha=0.3)\n",
    "plt.show()\n",
    "\n",
    "# Feature importance analysis\n",
    "print(\"\\nTop features influencing concrete strength:\")\n",
    "print(\"- Cement content typically shows high importance\")\n",
    "print(\"- Age of concrete is usually a strong predictor\")\n",
    "print(\"- Water-to-cement ratio affects strength significantly\")"
   ]
  }
 ],
 "metadata": {
  "kernelspec": {
   "display_name": "xplainable-jupyter",
   "language": "python",
   "name": "python3"
  },
  "language_info": {
   "codemirror_mode": {
    "name": "ipython",
    "version": 3
   },
   "file_extension": ".py",
   "mimetype": "text/x-python",
   "name": "python",
   "nbconvert_exporter": "python",
   "pygments_lexer": "ipython3",
   "version": "3.10.18"
  }
 },
 "nbformat": 4,
 "nbformat_minor": 4
}
