{
 "cells": [
  {
   "cell_type": "markdown",
   "id": "935ce6d1",
   "metadata": {},
   "source": [
    "## Package Imports"
   ]
  },
  {
   "cell_type": "code",
   "execution_count": 2,
   "id": "a92f2053",
   "metadata": {},
   "outputs": [],
   "source": [
    "import pandas as pd\n",
    "import xplainable as xp\n",
    "from xplainable.core.models import XClassifier\n",
    "from xplainable.core.optimisation.bayesian import XParamOptimiser\n",
    "from xplainable.preprocessing.pipeline import XPipeline\n",
    "from xplainable.preprocessing import transformers as xtf\n",
    "from sklearn.model_selection import train_test_split\n",
    "import requests"
   ]
  },
  {
   "cell_type": "markdown",
   "id": "0429f4ed",
   "metadata": {},
   "source": [
    "## Instantiate Xplainable Cloud\n",
    "\n",
    "Initialise the xplainable cloud using an API key from:\n",
    "https://beta.xplainable.io/\n",
    "\n",
    "This allows you to save and collaborate on models, create deployments, create shareable reports."
   ]
  },
  {
   "cell_type": "code",
   "execution_count": 22,
   "id": "cacd5212",
   "metadata": {},
   "outputs": [
    {
     "data": {
      "application/vnd.jupyter.widget-view+json": {
       "model_id": "3f0c1b8ccd2848c6b4abb99c3c8f5fb0",
       "version_major": 2,
       "version_minor": 0
      },
      "text/plain": [
       "VBox(children=(VBox(children=(HBox(children=(HBox(children=(Output(), HTML(value='\\n        <span style=\"font-…"
      ]
     },
     "metadata": {},
     "output_type": "display_data"
    }
   ],
   "source": [
    "xp.initialise(\n",
    "    api_key=\"\", #<- Add your own token here\n",
    ")"
   ]
  },
  {
   "cell_type": "markdown",
   "id": "5d23d171",
   "metadata": {},
   "source": [
    "## Read IBM Telco Churn Dataset"
   ]
  },
  {
   "cell_type": "code",
   "execution_count": 23,
   "id": "ff39f4f3",
   "metadata": {},
   "outputs": [],
   "source": [
    "df = pd.read_excel('./data/Telco_customer_churn.xlsx')"
   ]
  },
  {
   "cell_type": "markdown",
   "id": "fc374a7d",
   "metadata": {},
   "source": [
    "### Sample of the IBM Telco Churn Dataset"
   ]
  },
  {
   "cell_type": "code",
   "execution_count": 24,
   "id": "205c3e7a",
   "metadata": {},
   "outputs": [
    {
     "data": {
      "text/html": [
       "<div>\n",
       "<style scoped>\n",
       "    .dataframe tbody tr th:only-of-type {\n",
       "        vertical-align: middle;\n",
       "    }\n",
       "\n",
       "    .dataframe tbody tr th {\n",
       "        vertical-align: top;\n",
       "    }\n",
       "\n",
       "    .dataframe thead th {\n",
       "        text-align: right;\n",
       "    }\n",
       "</style>\n",
       "<table border=\"1\" class=\"dataframe\">\n",
       "  <thead>\n",
       "    <tr style=\"text-align: right;\">\n",
       "      <th></th>\n",
       "      <th>CustomerID</th>\n",
       "      <th>Count</th>\n",
       "      <th>Country</th>\n",
       "      <th>State</th>\n",
       "      <th>City</th>\n",
       "      <th>Zip Code</th>\n",
       "      <th>Lat Long</th>\n",
       "      <th>Latitude</th>\n",
       "      <th>Longitude</th>\n",
       "      <th>Gender</th>\n",
       "      <th>...</th>\n",
       "      <th>Contract</th>\n",
       "      <th>Paperless Billing</th>\n",
       "      <th>Payment Method</th>\n",
       "      <th>Monthly Charges</th>\n",
       "      <th>Total Charges</th>\n",
       "      <th>Churn Label</th>\n",
       "      <th>Churn Value</th>\n",
       "      <th>Churn Score</th>\n",
       "      <th>CLTV</th>\n",
       "      <th>Churn Reason</th>\n",
       "    </tr>\n",
       "  </thead>\n",
       "  <tbody>\n",
       "    <tr>\n",
       "      <th>0</th>\n",
       "      <td>3668-QPYBK</td>\n",
       "      <td>1</td>\n",
       "      <td>United States</td>\n",
       "      <td>California</td>\n",
       "      <td>Los Angeles</td>\n",
       "      <td>90003</td>\n",
       "      <td>33.964131, -118.272783</td>\n",
       "      <td>33.964131</td>\n",
       "      <td>-118.272783</td>\n",
       "      <td>Male</td>\n",
       "      <td>...</td>\n",
       "      <td>Month-to-month</td>\n",
       "      <td>Yes</td>\n",
       "      <td>Mailed check</td>\n",
       "      <td>53.85</td>\n",
       "      <td>108.15</td>\n",
       "      <td>Yes</td>\n",
       "      <td>1</td>\n",
       "      <td>86</td>\n",
       "      <td>3239</td>\n",
       "      <td>Competitor made better offer</td>\n",
       "    </tr>\n",
       "    <tr>\n",
       "      <th>1</th>\n",
       "      <td>9237-HQITU</td>\n",
       "      <td>1</td>\n",
       "      <td>United States</td>\n",
       "      <td>California</td>\n",
       "      <td>Los Angeles</td>\n",
       "      <td>90005</td>\n",
       "      <td>34.059281, -118.30742</td>\n",
       "      <td>34.059281</td>\n",
       "      <td>-118.307420</td>\n",
       "      <td>Female</td>\n",
       "      <td>...</td>\n",
       "      <td>Month-to-month</td>\n",
       "      <td>Yes</td>\n",
       "      <td>Electronic check</td>\n",
       "      <td>70.70</td>\n",
       "      <td>151.65</td>\n",
       "      <td>Yes</td>\n",
       "      <td>1</td>\n",
       "      <td>67</td>\n",
       "      <td>2701</td>\n",
       "      <td>Moved</td>\n",
       "    </tr>\n",
       "    <tr>\n",
       "      <th>2</th>\n",
       "      <td>9305-CDSKC</td>\n",
       "      <td>1</td>\n",
       "      <td>United States</td>\n",
       "      <td>California</td>\n",
       "      <td>Los Angeles</td>\n",
       "      <td>90006</td>\n",
       "      <td>34.048013, -118.293953</td>\n",
       "      <td>34.048013</td>\n",
       "      <td>-118.293953</td>\n",
       "      <td>Female</td>\n",
       "      <td>...</td>\n",
       "      <td>Month-to-month</td>\n",
       "      <td>Yes</td>\n",
       "      <td>Electronic check</td>\n",
       "      <td>99.65</td>\n",
       "      <td>820.5</td>\n",
       "      <td>Yes</td>\n",
       "      <td>1</td>\n",
       "      <td>86</td>\n",
       "      <td>5372</td>\n",
       "      <td>Moved</td>\n",
       "    </tr>\n",
       "    <tr>\n",
       "      <th>3</th>\n",
       "      <td>7892-POOKP</td>\n",
       "      <td>1</td>\n",
       "      <td>United States</td>\n",
       "      <td>California</td>\n",
       "      <td>Los Angeles</td>\n",
       "      <td>90010</td>\n",
       "      <td>34.062125, -118.315709</td>\n",
       "      <td>34.062125</td>\n",
       "      <td>-118.315709</td>\n",
       "      <td>Female</td>\n",
       "      <td>...</td>\n",
       "      <td>Month-to-month</td>\n",
       "      <td>Yes</td>\n",
       "      <td>Electronic check</td>\n",
       "      <td>104.80</td>\n",
       "      <td>3046.05</td>\n",
       "      <td>Yes</td>\n",
       "      <td>1</td>\n",
       "      <td>84</td>\n",
       "      <td>5003</td>\n",
       "      <td>Moved</td>\n",
       "    </tr>\n",
       "    <tr>\n",
       "      <th>4</th>\n",
       "      <td>0280-XJGEX</td>\n",
       "      <td>1</td>\n",
       "      <td>United States</td>\n",
       "      <td>California</td>\n",
       "      <td>Los Angeles</td>\n",
       "      <td>90015</td>\n",
       "      <td>34.039224, -118.266293</td>\n",
       "      <td>34.039224</td>\n",
       "      <td>-118.266293</td>\n",
       "      <td>Male</td>\n",
       "      <td>...</td>\n",
       "      <td>Month-to-month</td>\n",
       "      <td>Yes</td>\n",
       "      <td>Bank transfer (automatic)</td>\n",
       "      <td>103.70</td>\n",
       "      <td>5036.3</td>\n",
       "      <td>Yes</td>\n",
       "      <td>1</td>\n",
       "      <td>89</td>\n",
       "      <td>5340</td>\n",
       "      <td>Competitor had better devices</td>\n",
       "    </tr>\n",
       "  </tbody>\n",
       "</table>\n",
       "<p>5 rows × 33 columns</p>\n",
       "</div>"
      ],
      "text/plain": [
       "   CustomerID  Count        Country       State         City  Zip Code  \\\n",
       "0  3668-QPYBK      1  United States  California  Los Angeles     90003   \n",
       "1  9237-HQITU      1  United States  California  Los Angeles     90005   \n",
       "2  9305-CDSKC      1  United States  California  Los Angeles     90006   \n",
       "3  7892-POOKP      1  United States  California  Los Angeles     90010   \n",
       "4  0280-XJGEX      1  United States  California  Los Angeles     90015   \n",
       "\n",
       "                 Lat Long   Latitude   Longitude  Gender  ...        Contract  \\\n",
       "0  33.964131, -118.272783  33.964131 -118.272783    Male  ...  Month-to-month   \n",
       "1   34.059281, -118.30742  34.059281 -118.307420  Female  ...  Month-to-month   \n",
       "2  34.048013, -118.293953  34.048013 -118.293953  Female  ...  Month-to-month   \n",
       "3  34.062125, -118.315709  34.062125 -118.315709  Female  ...  Month-to-month   \n",
       "4  34.039224, -118.266293  34.039224 -118.266293    Male  ...  Month-to-month   \n",
       "\n",
       "  Paperless Billing             Payment Method  Monthly Charges Total Charges  \\\n",
       "0               Yes               Mailed check            53.85        108.15   \n",
       "1               Yes           Electronic check            70.70        151.65   \n",
       "2               Yes           Electronic check            99.65         820.5   \n",
       "3               Yes           Electronic check           104.80       3046.05   \n",
       "4               Yes  Bank transfer (automatic)           103.70        5036.3   \n",
       "\n",
       "  Churn Label Churn Value Churn Score  CLTV                   Churn Reason  \n",
       "0         Yes           1          86  3239   Competitor made better offer  \n",
       "1         Yes           1          67  2701                          Moved  \n",
       "2         Yes           1          86  5372                          Moved  \n",
       "3         Yes           1          84  5003                          Moved  \n",
       "4         Yes           1          89  5340  Competitor had better devices  \n",
       "\n",
       "[5 rows x 33 columns]"
      ]
     },
     "execution_count": 24,
     "metadata": {},
     "output_type": "execute_result"
    }
   ],
   "source": [
    "df.head()"
   ]
  },
  {
   "cell_type": "markdown",
   "id": "ccf3a5eb",
   "metadata": {},
   "source": [
    "## 1. Data Preprocessing"
   ]
  },
  {
   "cell_type": "markdown",
   "id": "1eed188b",
   "metadata": {},
   "source": [
    "### Turn Label into Binary input"
   ]
  },
  {
   "cell_type": "code",
   "execution_count": 25,
   "id": "6799f20e",
   "metadata": {},
   "outputs": [],
   "source": [
    "df[\"Churn Label\"] = df[\"Churn Label\"].map({\"Yes\":1,\"No\":0})"
   ]
  },
  {
   "cell_type": "code",
   "execution_count": 26,
   "id": "28d00a38",
   "metadata": {},
   "outputs": [
    {
     "data": {
      "text/plain": [
       "<xplainable.preprocessing.pipeline.XPipeline at 0x1065660d0>"
      ]
     },
     "execution_count": 26,
     "metadata": {},
     "output_type": "execute_result"
    }
   ],
   "source": [
    "#Instantiate a Pipeline\n",
    "pipeline = XPipeline()\n",
    "\n",
    "# Add stages for specific features\n",
    "pipeline.add_stages([\n",
    "    {\"transformer\": xtf.ChangeCases(\n",
    "        columns=['City', 'Gender', 'Senior Citizen', 'Partner', 'Dependents',\n",
    "       'Phone Service', 'Multiple Lines', 'Internet Service',\n",
    "       'Online Security', 'Online Backup', 'Device Protection', 'Tech Support',\n",
    "       'Streaming TV', 'Streaming Movies', 'Contract', 'Paperless Billing',\n",
    "       'Payment Method'], case=\"lower\")},\n",
    "    {\"feature\":\"City\",\"transformer\": xtf.Condense(pct=0.25)}, #-> Automatically condense extremely long tail values, to check if latent information\n",
    "    {\"feature\":\"Monthly Charges\", \"transformer\": xtf.SetDType(to_type=\"float\")}, #-> Turn values into float\n",
    "    {\"transformer\": xtf.DropCols(\n",
    "        columns=['CustomerID', #-> Highly Cardinal, \n",
    "                 \"Total Charges\", #-> Reduce Multicollinearity between Tenure and Monthly Costs\n",
    "                 'Count', #-> Only one value\n",
    "                 \"Country\", #-> Only one value\n",
    "                 \"State\", #-> Only one value,\n",
    "                 \"Zip Code\", #-> Highly Cardinal and Data Leakage if you keep City\n",
    "                 \"Lat Long\", #-> Highly Cardinal\n",
    "                 \"Latitude\", #-> Highly Cardinal\n",
    "                 \"Longitude\", #-> Highly Cardinal\n",
    "                 \"Churn Value\", #-> Data Leakage\n",
    "                 \"Churn Score\", #-> Data Leakage\n",
    "                 \"CLTV\", #-> Data Leakage\n",
    "                 \"Churn Reason\", #-> Data Leakage\n",
    "                ]\n",
    "    )},\n",
    "])"
   ]
  },
  {
   "cell_type": "markdown",
   "id": "21a9ec1e",
   "metadata": {},
   "source": [
    "### Preprocessed data"
   ]
  },
  {
   "cell_type": "code",
   "execution_count": 27,
   "id": "b8d1b32d",
   "metadata": {},
   "outputs": [
    {
     "data": {
      "text/html": [
       "<div>\n",
       "<style scoped>\n",
       "    .dataframe tbody tr th:only-of-type {\n",
       "        vertical-align: middle;\n",
       "    }\n",
       "\n",
       "    .dataframe tbody tr th {\n",
       "        vertical-align: top;\n",
       "    }\n",
       "\n",
       "    .dataframe thead th {\n",
       "        text-align: right;\n",
       "    }\n",
       "</style>\n",
       "<table border=\"1\" class=\"dataframe\">\n",
       "  <thead>\n",
       "    <tr style=\"text-align: right;\">\n",
       "      <th></th>\n",
       "      <th>City</th>\n",
       "      <th>Gender</th>\n",
       "      <th>Senior Citizen</th>\n",
       "      <th>Partner</th>\n",
       "      <th>Dependents</th>\n",
       "      <th>Tenure Months</th>\n",
       "      <th>Phone Service</th>\n",
       "      <th>Multiple Lines</th>\n",
       "      <th>Internet Service</th>\n",
       "      <th>Online Security</th>\n",
       "      <th>Online Backup</th>\n",
       "      <th>Device Protection</th>\n",
       "      <th>Tech Support</th>\n",
       "      <th>Streaming TV</th>\n",
       "      <th>Streaming Movies</th>\n",
       "      <th>Contract</th>\n",
       "      <th>Paperless Billing</th>\n",
       "      <th>Payment Method</th>\n",
       "      <th>Monthly Charges</th>\n",
       "      <th>Churn Label</th>\n",
       "    </tr>\n",
       "  </thead>\n",
       "  <tbody>\n",
       "    <tr>\n",
       "      <th>0</th>\n",
       "      <td>los angeles</td>\n",
       "      <td>male</td>\n",
       "      <td>no</td>\n",
       "      <td>no</td>\n",
       "      <td>no</td>\n",
       "      <td>2</td>\n",
       "      <td>yes</td>\n",
       "      <td>no</td>\n",
       "      <td>dsl</td>\n",
       "      <td>yes</td>\n",
       "      <td>yes</td>\n",
       "      <td>no</td>\n",
       "      <td>no</td>\n",
       "      <td>no</td>\n",
       "      <td>no</td>\n",
       "      <td>month-to-month</td>\n",
       "      <td>yes</td>\n",
       "      <td>mailed check</td>\n",
       "      <td>53.85</td>\n",
       "      <td>1</td>\n",
       "    </tr>\n",
       "    <tr>\n",
       "      <th>1</th>\n",
       "      <td>los angeles</td>\n",
       "      <td>female</td>\n",
       "      <td>no</td>\n",
       "      <td>no</td>\n",
       "      <td>yes</td>\n",
       "      <td>2</td>\n",
       "      <td>yes</td>\n",
       "      <td>no</td>\n",
       "      <td>fiber optic</td>\n",
       "      <td>no</td>\n",
       "      <td>no</td>\n",
       "      <td>no</td>\n",
       "      <td>no</td>\n",
       "      <td>no</td>\n",
       "      <td>no</td>\n",
       "      <td>month-to-month</td>\n",
       "      <td>yes</td>\n",
       "      <td>electronic check</td>\n",
       "      <td>70.70</td>\n",
       "      <td>1</td>\n",
       "    </tr>\n",
       "    <tr>\n",
       "      <th>2</th>\n",
       "      <td>los angeles</td>\n",
       "      <td>female</td>\n",
       "      <td>no</td>\n",
       "      <td>no</td>\n",
       "      <td>yes</td>\n",
       "      <td>8</td>\n",
       "      <td>yes</td>\n",
       "      <td>yes</td>\n",
       "      <td>fiber optic</td>\n",
       "      <td>no</td>\n",
       "      <td>no</td>\n",
       "      <td>yes</td>\n",
       "      <td>no</td>\n",
       "      <td>yes</td>\n",
       "      <td>yes</td>\n",
       "      <td>month-to-month</td>\n",
       "      <td>yes</td>\n",
       "      <td>electronic check</td>\n",
       "      <td>99.65</td>\n",
       "      <td>1</td>\n",
       "    </tr>\n",
       "    <tr>\n",
       "      <th>3</th>\n",
       "      <td>los angeles</td>\n",
       "      <td>female</td>\n",
       "      <td>no</td>\n",
       "      <td>yes</td>\n",
       "      <td>yes</td>\n",
       "      <td>28</td>\n",
       "      <td>yes</td>\n",
       "      <td>yes</td>\n",
       "      <td>fiber optic</td>\n",
       "      <td>no</td>\n",
       "      <td>no</td>\n",
       "      <td>yes</td>\n",
       "      <td>yes</td>\n",
       "      <td>yes</td>\n",
       "      <td>yes</td>\n",
       "      <td>month-to-month</td>\n",
       "      <td>yes</td>\n",
       "      <td>electronic check</td>\n",
       "      <td>104.80</td>\n",
       "      <td>1</td>\n",
       "    </tr>\n",
       "    <tr>\n",
       "      <th>4</th>\n",
       "      <td>los angeles</td>\n",
       "      <td>male</td>\n",
       "      <td>no</td>\n",
       "      <td>no</td>\n",
       "      <td>yes</td>\n",
       "      <td>49</td>\n",
       "      <td>yes</td>\n",
       "      <td>yes</td>\n",
       "      <td>fiber optic</td>\n",
       "      <td>no</td>\n",
       "      <td>yes</td>\n",
       "      <td>yes</td>\n",
       "      <td>no</td>\n",
       "      <td>yes</td>\n",
       "      <td>yes</td>\n",
       "      <td>month-to-month</td>\n",
       "      <td>yes</td>\n",
       "      <td>bank transfer (automatic)</td>\n",
       "      <td>103.70</td>\n",
       "      <td>1</td>\n",
       "    </tr>\n",
       "  </tbody>\n",
       "</table>\n",
       "</div>"
      ],
      "text/plain": [
       "          City  Gender Senior Citizen Partner Dependents  Tenure Months  \\\n",
       "0  los angeles    male             no      no         no              2   \n",
       "1  los angeles  female             no      no        yes              2   \n",
       "2  los angeles  female             no      no        yes              8   \n",
       "3  los angeles  female             no     yes        yes             28   \n",
       "4  los angeles    male             no      no        yes             49   \n",
       "\n",
       "  Phone Service Multiple Lines Internet Service Online Security Online Backup  \\\n",
       "0           yes             no              dsl             yes           yes   \n",
       "1           yes             no      fiber optic              no            no   \n",
       "2           yes            yes      fiber optic              no            no   \n",
       "3           yes            yes      fiber optic              no            no   \n",
       "4           yes            yes      fiber optic              no           yes   \n",
       "\n",
       "  Device Protection Tech Support Streaming TV Streaming Movies  \\\n",
       "0                no           no           no               no   \n",
       "1                no           no           no               no   \n",
       "2               yes           no          yes              yes   \n",
       "3               yes          yes          yes              yes   \n",
       "4               yes           no          yes              yes   \n",
       "\n",
       "         Contract Paperless Billing             Payment Method  \\\n",
       "0  month-to-month               yes               mailed check   \n",
       "1  month-to-month               yes           electronic check   \n",
       "2  month-to-month               yes           electronic check   \n",
       "3  month-to-month               yes           electronic check   \n",
       "4  month-to-month               yes  bank transfer (automatic)   \n",
       "\n",
       "   Monthly Charges  Churn Label  \n",
       "0            53.85            1  \n",
       "1            70.70            1  \n",
       "2            99.65            1  \n",
       "3           104.80            1  \n",
       "4           103.70            1  "
      ]
     },
     "execution_count": 27,
     "metadata": {},
     "output_type": "execute_result"
    }
   ],
   "source": [
    "df_transformed = pipeline.fit_transform(df)\n",
    "df_transformed.head()"
   ]
  },
  {
   "cell_type": "markdown",
   "id": "20586081",
   "metadata": {},
   "source": [
    "### Create preprocessor ID to persist to Xplainable Cloud"
   ]
  },
  {
   "cell_type": "code",
   "execution_count": 28,
   "id": "82e2261d",
   "metadata": {},
   "outputs": [
    {
     "data": {
      "text/plain": [
       "'HyfDRWw1ZK2e0WJN'"
      ]
     },
     "execution_count": 28,
     "metadata": {},
     "output_type": "execute_result"
    }
   ],
   "source": [
    "preprocessor_id = xp.client.create_preprocessor_id(\n",
    "    preprocessor_name=\"Telco Churn Preprocessing\",\n",
    "    preprocessor_description=\"Handling all preprocessing steps in the IBM Telco Churn Dataset\",\n",
    ")\n",
    "preprocessor_id"
   ]
  },
  {
   "cell_type": "markdown",
   "id": "49cbff67",
   "metadata": {},
   "source": [
    "### Link a preprocessor version to the ID"
   ]
  },
  {
   "cell_type": "markdown",
   "id": "857fec64",
   "metadata": {},
   "source": [
    "**Note:** Turn the Pipeline object into a preprocessor object. We're building out the functionality to persist the pipeline object directly. It's also possible to run the following code to view the GUI which is currently in Beta:\n",
    "\n",
    "```python\n",
    "pp.preprocessor(df)\n",
    "```"
   ]
  },
  {
   "cell_type": "markdown",
   "id": "ac666866",
   "metadata": {},
   "source": [
    "**Note:** Turn the Pipeline object into a preprocessor object. We're building out the functionality to persist the pipeline object directly. It's also possible to run the following code to view the GUI which is currently in Beta:\n",
    "\n",
    "```python\n",
    "pp.preprocessor(df)\n",
    "```"
   ]
  },
  {
   "cell_type": "code",
   "execution_count": 29,
   "id": "6e949278",
   "metadata": {},
   "outputs": [
    {
     "data": {
      "text/plain": [
       "{'version_id': 'aMdNQFwofZGZHP9n'}"
      ]
     },
     "execution_count": 29,
     "metadata": {},
     "output_type": "execute_result"
    }
   ],
   "source": [
    "preprocessor_version = xp.client.create_preprocessor_version(\n",
    "    preprocessor_id, #preprocessor_id,\n",
    "    pipeline, # <-- Pass the pipeline\n",
    "    df # <-- Pass the raw dataframe\n",
    ")\n",
    "\n",
    "preprocessor_version"
   ]
  },
  {
   "cell_type": "markdown",
   "id": "3c2f9a1b",
   "metadata": {},
   "source": [
    "### Loading the Preprocessor steps\n",
    "Use the api to load pre-existing preprocessor steps from the xplainable cloud and transform data inplace."
   ]
  },
  {
   "cell_type": "code",
   "execution_count": 30,
   "id": "c757996b",
   "metadata": {},
   "outputs": [],
   "source": [
    "pp_cloud = xp.client.load_preprocessor(\n",
    "    preprocessor_id,\n",
    "    preprocessor_version[\"version_id\"],\n",
    "    gui_object=False # Set to true to load the GUI object, keep as False for pipeline\n",
    "    )"
   ]
  },
  {
   "cell_type": "code",
   "execution_count": 31,
   "id": "d7ee43a3",
   "metadata": {},
   "outputs": [
    {
     "data": {
      "text/plain": [
       "[{'feature': '__dataset__',\n",
       "  'name': 'ChangeCases',\n",
       "  'transformer': <xplainable.preprocessing.transformers.dataset.ChangeCases at 0x102a89bb0>},\n",
       " {'feature': 'City',\n",
       "  'name': 'Condense',\n",
       "  'transformer': <xplainable.preprocessing.transformers.categorical.Condense at 0x2a6ec7c70>},\n",
       " {'feature': 'Monthly Charges',\n",
       "  'name': 'SetDType',\n",
       "  'transformer': <xplainable.preprocessing.transformers.mixed.SetDType at 0x2a6ec7b50>},\n",
       " {'feature': '__dataset__',\n",
       "  'name': 'DropCols',\n",
       "  'transformer': <xplainable.preprocessing.transformers.dataset.DropCols at 0x2a6ec7520>}]"
      ]
     },
     "execution_count": 31,
     "metadata": {},
     "output_type": "execute_result"
    }
   ],
   "source": [
    "pp_cloud.stages"
   ]
  },
  {
   "cell_type": "code",
   "execution_count": 32,
   "id": "a348f2fb",
   "metadata": {},
   "outputs": [],
   "source": [
    "df_transformed_cloud = pp_cloud.transform(df)"
   ]
  },
  {
   "cell_type": "markdown",
   "id": "9f856119",
   "metadata": {},
   "source": [
    "### Create Train/Test split for model training validation"
   ]
  },
  {
   "cell_type": "code",
   "execution_count": 33,
   "id": "f151560f",
   "metadata": {},
   "outputs": [],
   "source": [
    "X, y = df_transformed_cloud.drop(columns=['Churn Label']), df['Churn Label']\n",
    "\n",
    "X_train, X_test, y_train, y_test = train_test_split(\n",
    "     X, y, test_size=0.33, random_state=42)"
   ]
  },
  {
   "cell_type": "markdown",
   "id": "83392be4",
   "metadata": {},
   "source": [
    "## 2. Model Optimisation\n",
    "The `XParamOptimiser` is utilised to fine-tune the hyperparameters of our model. This process searches for the optimal parameters that will yield the best model performance, balancing accuracy and computational efficiency."
   ]
  },
  {
   "cell_type": "code",
   "execution_count": 35,
   "id": "17ec10cb",
   "metadata": {},
   "outputs": [
    {
     "name": "stdout",
     "output_type": "stream",
     "text": [
      "100%|████████| 30/30 [00:03<00:00,  9.44trial/s, best loss: -0.8268936134101414]\n"
     ]
    }
   ],
   "source": [
    "opt = XParamOptimiser()\n",
    "params = opt.optimise(X_train, y_train)"
   ]
  },
  {
   "cell_type": "markdown",
   "id": "c5e4ae0a",
   "metadata": {},
   "source": [
    "## 3. Model Training\n",
    "With the optimised parameters obtained, the `XClassifier` is trained on the dataset. This classifier undergoes a fitting process with the training data, ensuring that it learns the underlying patterns and can make accurate predictions."
   ]
  },
  {
   "cell_type": "code",
   "execution_count": 36,
   "id": "138c9bf7",
   "metadata": {},
   "outputs": [
    {
     "data": {
      "text/plain": [
       "<xplainable.core.ml.classification.XClassifier at 0x2abcac100>"
      ]
     },
     "execution_count": 36,
     "metadata": {},
     "output_type": "execute_result"
    }
   ],
   "source": [
    "model = XClassifier(**params)\n",
    "model.fit(X_train, y_train)"
   ]
  },
  {
   "cell_type": "markdown",
   "id": "1a7d5b35",
   "metadata": {},
   "source": [
    "## 4. Model Interpretability and Explainability\n",
    "Following training, the `model.explain()` method is called to generate insights into the model's decision-making process. This step is crucial for understanding the factors that influence the model's predictions and ensuring that the model's behaviour is transparent and explainable."
   ]
  },
  {
   "cell_type": "code",
   "execution_count": 37,
   "id": "08fb8e82",
   "metadata": {},
   "outputs": [
    {
     "data": {
      "text/html": [
       "\n",
       "    <style>\n",
       "    .vega-bind {\n",
       "      text-align:right;\n",
       "    }\n",
       "    </style>\n",
       "    "
      ],
      "text/plain": [
       "<IPython.core.display.HTML object>"
      ]
     },
     "metadata": {},
     "output_type": "display_data"
    },
    {
     "data": {
      "text/html": [
       "\n",
       "<style>\n",
       "  #altair-viz-2b2d19e776eb46fbb748463821396d40.vega-embed {\n",
       "    width: 100%;\n",
       "    display: flex;\n",
       "  }\n",
       "\n",
       "  #altair-viz-2b2d19e776eb46fbb748463821396d40.vega-embed details,\n",
       "  #altair-viz-2b2d19e776eb46fbb748463821396d40.vega-embed details summary {\n",
       "    position: relative;\n",
       "  }\n",
       "</style>\n",
       "<div id=\"altair-viz-2b2d19e776eb46fbb748463821396d40\"></div>\n",
       "<script type=\"text/javascript\">\n",
       "  var VEGA_DEBUG = (typeof VEGA_DEBUG == \"undefined\") ? {} : VEGA_DEBUG;\n",
       "  (function(spec, embedOpt){\n",
       "    let outputDiv = document.currentScript.previousElementSibling;\n",
       "    if (outputDiv.id !== \"altair-viz-2b2d19e776eb46fbb748463821396d40\") {\n",
       "      outputDiv = document.getElementById(\"altair-viz-2b2d19e776eb46fbb748463821396d40\");\n",
       "    }\n",
       "    const paths = {\n",
       "      \"vega\": \"https://cdn.jsdelivr.net/npm/vega@5?noext\",\n",
       "      \"vega-lib\": \"https://cdn.jsdelivr.net/npm/vega-lib?noext\",\n",
       "      \"vega-lite\": \"https://cdn.jsdelivr.net/npm/vega-lite@5.8.0?noext\",\n",
       "      \"vega-embed\": \"https://cdn.jsdelivr.net/npm/vega-embed@6?noext\",\n",
       "    };\n",
       "\n",
       "    function maybeLoadScript(lib, version) {\n",
       "      var key = `${lib.replace(\"-\", \"\")}_version`;\n",
       "      return (VEGA_DEBUG[key] == version) ?\n",
       "        Promise.resolve(paths[lib]) :\n",
       "        new Promise(function(resolve, reject) {\n",
       "          var s = document.createElement('script');\n",
       "          document.getElementsByTagName(\"head\")[0].appendChild(s);\n",
       "          s.async = true;\n",
       "          s.onload = () => {\n",
       "            VEGA_DEBUG[key] = version;\n",
       "            return resolve(paths[lib]);\n",
       "          };\n",
       "          s.onerror = () => reject(`Error loading script: ${paths[lib]}`);\n",
       "          s.src = paths[lib];\n",
       "        });\n",
       "    }\n",
       "\n",
       "    function showError(err) {\n",
       "      outputDiv.innerHTML = `<div class=\"error\" style=\"color:red;\">${err}</div>`;\n",
       "      throw err;\n",
       "    }\n",
       "\n",
       "    function displayChart(vegaEmbed) {\n",
       "      vegaEmbed(outputDiv, spec, embedOpt)\n",
       "        .catch(err => showError(`Javascript Error: ${err.message}<br>This usually means there's a typo in your chart specification. See the javascript console for the full traceback.`));\n",
       "    }\n",
       "\n",
       "    if(typeof define === \"function\" && define.amd) {\n",
       "      requirejs.config({paths});\n",
       "      require([\"vega-embed\"], displayChart, err => showError(`Error loading script: ${err.message}`));\n",
       "    } else {\n",
       "      maybeLoadScript(\"vega\", \"5\")\n",
       "        .then(() => maybeLoadScript(\"vega-lite\", \"5.8.0\"))\n",
       "        .then(() => maybeLoadScript(\"vega-embed\", \"6\"))\n",
       "        .catch(showError)\n",
       "        .then(() => displayChart(vegaEmbed));\n",
       "    }\n",
       "  })({\"config\": {\"view\": {\"continuousWidth\": 300, \"continuousHeight\": 300}}, \"hconcat\": [{\"mark\": {\"type\": \"bar\", \"color\": \"#0080ea\"}, \"encoding\": {\"color\": {\"condition\": {\"param\": \"param_4\", \"value\": \"lightgray\"}, \"value\": \"#0080ea\"}, \"tooltip\": {\"field\": \"importance_label\", \"type\": \"nominal\"}, \"x\": {\"field\": \"importance\", \"type\": \"quantitative\"}, \"y\": {\"field\": \"feature\", \"sort\": {\"field\": \"importance\", \"order\": \"descending\"}, \"type\": \"nominal\"}}, \"height\": 400, \"name\": \"view_5\", \"title\": \"Feature Importances\", \"transform\": [{\"filter\": {\"param\": \"param_5\"}}], \"width\": 330}, {\"mark\": {\"type\": \"bar\", \"color\": \"#0080ea\"}, \"encoding\": {\"x\": {\"axis\": {\"labels\": false, \"title\": null}, \"field\": \"importance\", \"type\": \"quantitative\"}, \"y\": {\"axis\": {\"labels\": false, \"title\": null}, \"field\": \"feature\", \"sort\": \"-x\", \"type\": \"nominal\"}}, \"height\": 400, \"name\": \"view_6\", \"width\": 25}, {\"data\": {\"name\": \"data-de5764dc474b107d0b9f70abcd53beee\"}, \"mark\": {\"type\": \"bar\", \"color\": \"#e14067\"}, \"encoding\": {\"color\": {\"condition\": {\"test\": \"(datum.contribution < 0)\", \"value\": \"#e14067\"}, \"value\": \"#12b980\"}, \"tooltip\": {\"field\": \"score_label\", \"type\": \"nominal\"}, \"x\": {\"field\": \"val\", \"type\": \"quantitative\"}, \"y\": {\"field\": \"value\", \"sort\": {\"field\": \"index\", \"order\": \"descending\"}, \"type\": \"nominal\"}}, \"height\": 400, \"name\": \"view_7\", \"title\": \"Contributions\", \"transform\": [{\"fold\": [\"contribution\", \"mean\", \"frequency\"], \"as\": [\"column\", \"val\"]}, {\"filter\": {\"param\": \"Select\"}}, {\"filter\": {\"param\": \"param_4\"}}, {\"filter\": {\"param\": \"param_6\"}}], \"width\": 330}, {\"data\": {\"name\": \"data-de5764dc474b107d0b9f70abcd53beee\"}, \"mark\": {\"type\": \"bar\", \"color\": \"#e14067\"}, \"encoding\": {\"color\": {\"condition\": {\"test\": \"(datum.contribution < 0)\", \"value\": \"#e14067\"}, \"value\": \"#12b980\"}, \"x\": {\"axis\": {\"labels\": false, \"title\": null}, \"field\": \"contribution\", \"type\": \"quantitative\"}, \"y\": {\"axis\": {\"labels\": false, \"title\": null}, \"field\": \"value\", \"sort\": {\"field\": \"index\", \"order\": \"descending\"}, \"type\": \"nominal\"}}, \"height\": 400, \"name\": \"view_8\", \"transform\": [{\"filter\": {\"param\": \"param_4\"}}], \"width\": 25}], \"data\": {\"name\": \"data-3c503bcbd873f2eafda27d57a207b3e3\"}, \"params\": [{\"name\": \"param_4\", \"select\": {\"type\": \"point\", \"fields\": [\"feature\"]}, \"value\": \"Tenure Months\", \"views\": [\"view_5\"]}, {\"name\": \"Select\", \"select\": {\"type\": \"point\", \"fields\": [\"column\"]}, \"bind\": {\"input\": \"select\", \"options\": [\"contribution\", \"mean\", \"frequency\"]}, \"value\": \"contribution\", \"views\": [\"view_5\", \"view_7\"]}, {\"name\": \"param_5\", \"select\": {\"type\": \"interval\", \"encodings\": [\"y\"]}, \"views\": [\"view_6\"]}, {\"name\": \"param_6\", \"select\": {\"type\": \"interval\", \"encodings\": [\"y\"]}, \"views\": [\"view_8\"]}], \"$schema\": \"https://vega.github.io/schema/vega-lite/v5.8.0.json\", \"datasets\": {\"data-3c503bcbd873f2eafda27d57a207b3e3\": [{\"feature\": \"Gender\", \"importance\": 0.00012357580591172454, \"importance_label\": \"0.0%\"}, {\"feature\": \"Phone Service\", \"importance\": 0.0006919402277112586, \"importance_label\": \"0.1%\"}, {\"feature\": \"Multiple Lines\", \"importance\": 0.006269572443919198, \"importance_label\": \"0.6%\"}, {\"feature\": \"Senior Citizen\", \"importance\": 0.009958248899397854, \"importance_label\": \"1.0%\"}, {\"feature\": \"Dependents\", \"importance\": 0.01062444454331409, \"importance_label\": \"1.1%\"}, {\"feature\": \"Partner\", \"importance\": 0.011139603193357925, \"importance_label\": \"1.1%\"}, {\"feature\": \"Paperless Billing\", \"importance\": 0.01304200733029005, \"importance_label\": \"1.3%\"}, {\"feature\": \"Streaming TV\", \"importance\": 0.026300140286463183, \"importance_label\": \"2.6%\"}, {\"feature\": \"Streaming Movies\", \"importance\": 0.026414225777802315, \"importance_label\": \"2.6%\"}, {\"feature\": \"Device Protection\", \"importance\": 0.031608891094820166, \"importance_label\": \"3.2%\"}, {\"feature\": \"Online Backup\", \"importance\": 0.032949526887220255, \"importance_label\": \"3.3%\"}, {\"feature\": \"Tech Support\", \"importance\": 0.03756570344699633, \"importance_label\": \"3.8%\"}, {\"feature\": \"Internet Service\", \"importance\": 0.037722110413985065, \"importance_label\": \"3.8%\"}, {\"feature\": \"Online Security\", \"importance\": 0.03859491262921235, \"importance_label\": \"3.9%\"}, {\"feature\": \"Contract\", \"importance\": 0.041999844542730466, \"importance_label\": \"4.2%\"}, {\"feature\": \"Payment Method\", \"importance\": 0.05048517746882078, \"importance_label\": \"5.0%\"}, {\"feature\": \"City\", \"importance\": 0.16966927172238386, \"importance_label\": \"17.0%\"}, {\"feature\": \"Monthly Charges\", \"importance\": 0.1873509664602195, \"importance_label\": \"18.7%\"}, {\"feature\": \"Tenure Months\", \"importance\": 0.26748983682544375, \"importance_label\": \"26.7%\"}], \"data-de5764dc474b107d0b9f70abcd53beee\": [{\"index\": 0, \"value\": \"bakersfield\", \"contribution\": -0.01743642781517226, \"mean\": 0.041666666666666664, \"frequency\": 0.005086901229334464, \"feature\": \"City\", \"score_label\": \"-1.7\"}, {\"index\": 1, \"value\": \"corona\", \"contribution\": -0.011181816433274145, \"mean\": 0.11764705882352941, \"frequency\": 0.0036032217041119118, \"feature\": \"City\", \"score_label\": \"-1.1\"}, {\"index\": 2, \"value\": \"whittier\", \"contribution\": -0.010789819878516954, \"mean\": 0.125, \"frequency\": 0.005086901229334464, \"feature\": \"City\", \"score_label\": \"-1.1\"}, {\"index\": 3, \"value\": \"chula vista\", \"contribution\": -0.010573277530121756, \"mean\": 0.125, \"frequency\": 0.003391267486222976, \"feature\": \"City\", \"score_label\": \"-1.1\"}, {\"index\": 4, \"value\": \"salinas\", \"contribution\": -0.008232784930989202, \"mean\": 0.15384615384615385, \"frequency\": 0.002755404832556168, \"feature\": \"City\", \"score_label\": \"-0.8\"}, {\"index\": 5, \"value\": \"orange\", \"contribution\": -0.008232784930989202, \"mean\": 0.15384615384615385, \"frequency\": 0.002755404832556168, \"feature\": \"City\", \"score_label\": \"-0.8\"}, {\"index\": 6, \"value\": \"santa ana\", \"contribution\": -0.004696204109398834, \"mean\": 0.2, \"frequency\": 0.00317931326833404, \"feature\": \"City\", \"score_label\": \"-0.5\"}, {\"index\": 7, \"value\": \"van nuys\", \"contribution\": -0.004696204109398834, \"mean\": 0.2, \"frequency\": 0.00317931326833404, \"feature\": \"City\", \"score_label\": \"-0.5\"}, {\"index\": 8, \"value\": \"long beach\", \"contribution\": -0.004060534892893153, \"mean\": 0.21052631578947367, \"frequency\": 0.008054260279779568, \"feature\": \"City\", \"score_label\": \"-0.4\"}, {\"index\": 9, \"value\": \"san jose\", \"contribution\": -0.0025777705326866006, \"mean\": 0.22972972972972974, \"frequency\": 0.015684612123781264, \"feature\": \"City\", \"score_label\": \"-0.3\"}, {\"index\": 10, \"value\": \"garden grove\", \"contribution\": -0.002282680870877826, \"mean\": 0.23076923076923078, \"frequency\": 0.002755404832556168, \"feature\": \"City\", \"score_label\": \"-0.2\"}, {\"index\": 11, \"value\": \"escondido\", \"contribution\": -0.001958772738835785, \"mean\": 0.23529411764705882, \"frequency\": 0.0036032217041119118, \"feature\": \"City\", \"score_label\": \"-0.2\"}, {\"index\": 12, \"value\": \"inglewood\", \"contribution\": -0.001958772738835785, \"mean\": 0.23529411764705882, \"frequency\": 0.0036032217041119118, \"feature\": \"City\", \"score_label\": \"-0.2\"}, {\"index\": 13, \"value\": \"stockton\", \"contribution\": -0.0015218198051447653, \"mean\": 0.2413793103448276, \"frequency\": 0.006146672318779143, \"feature\": \"City\", \"score_label\": \"-0.2\"}, {\"index\": 14, \"value\": \"santa monica\", \"contribution\": -0.0008034531299818329, \"mean\": 0.25, \"frequency\": 0.003391267486222976, \"feature\": \"City\", \"score_label\": \"-0.1\"}, {\"index\": 15, \"value\": \"huntington beach\", \"contribution\": -0.0007919788980116361, \"mean\": 0.25, \"frequency\": 0.002543450614667232, \"feature\": \"City\", \"score_label\": \"-0.1\"}, {\"index\": 16, \"value\": \"irvine\", \"contribution\": -0.0008034531299818329, \"mean\": 0.25, \"frequency\": 0.003391267486222976, \"feature\": \"City\", \"score_label\": \"-0.1\"}, {\"index\": 17, \"value\": \"riverside\", \"contribution\": -0.0008199079735339946, \"mean\": 0.25, \"frequency\": 0.005086901229334464, \"feature\": \"City\", \"score_label\": \"-0.1\"}, {\"index\": 18, \"value\": \"other\", \"contribution\": -0.0004814338695100573, \"mean\": 0.2555746140651801, \"frequency\": 0.741415854175498, \"feature\": \"City\", \"score_label\": \"-0.0\"}, {\"index\": 19, \"value\": \"rancho cucamonga\", \"contribution\": 0.0016717611967902624, \"mean\": 0.26666666666666666, \"frequency\": 0.00317931326833404, \"feature\": \"City\", \"score_label\": \"0.2\"}, {\"index\": 20, \"value\": \"anaheim\", \"contribution\": 0.0016717611967902624, \"mean\": 0.26666666666666666, \"frequency\": 0.00317931326833404, \"feature\": \"City\", \"score_label\": \"0.2\"}, {\"index\": 21, \"value\": \"glendale\", \"contribution\": 0.0024082421950771655, \"mean\": 0.2692307692307692, \"frequency\": 0.005510809665112336, \"feature\": \"City\", \"score_label\": \"0.2\"}, {\"index\": 22, \"value\": \"sacramento\", \"contribution\": 0.002544229150168604, \"mean\": 0.2692307692307692, \"frequency\": 0.016532428995337006, \"feature\": \"City\", \"score_label\": \"0.3\"}, {\"index\": 23, \"value\": \"palo alto\", \"contribution\": 0.0032079823413258277, \"mean\": 0.2727272727272727, \"frequency\": 0.0023314963967782957, \"feature\": \"City\", \"score_label\": \"0.3\"}, {\"index\": 24, \"value\": \"berkeley\", \"contribution\": 0.006770405999153785, \"mean\": 0.2857142857142857, \"frequency\": 0.004451038575667656, \"feature\": \"City\", \"score_label\": \"0.7\"}, {\"index\": 25, \"value\": \"san francisco\", \"contribution\": 0.007746875485235854, \"mean\": 0.2875, \"frequency\": 0.01695633743111488, \"feature\": \"City\", \"score_label\": \"0.8\"}, {\"index\": 26, \"value\": \"santa rosa\", \"contribution\": 0.00891262984351953, \"mean\": 0.29411764705882354, \"frequency\": 0.0036032217041119118, \"feature\": \"City\", \"score_label\": \"0.9\"}, {\"index\": 27, \"value\": \"los angeles\", \"contribution\": 0.010860310847553182, \"mean\": 0.2966507177033493, \"frequency\": 0.044298431538787625, \"feature\": \"City\", \"score_label\": \"1.1\"}, {\"index\": 28, \"value\": \"fresno\", \"contribution\": 0.010418069319897383, \"mean\": 0.2978723404255319, \"frequency\": 0.009961848240779992, \"feature\": \"City\", \"score_label\": \"1.0\"}, {\"index\": 29, \"value\": \"san bernardino\", \"contribution\": 0.010547355597870267, \"mean\": 0.3, \"frequency\": 0.00423908435777872, \"feature\": \"City\", \"score_label\": \"1.1\"}, {\"index\": 30, \"value\": \"oakland\", \"contribution\": 0.011639855054912019, \"mean\": 0.30303030303030304, \"frequency\": 0.006994489190334888, \"feature\": \"City\", \"score_label\": \"1.2\"}, {\"index\": 31, \"value\": \"pasadena\", \"contribution\": 0.01470235661676812, \"mean\": 0.3157894736842105, \"frequency\": 0.004027130139889784, \"feature\": \"City\", \"score_label\": \"1.5\"}, {\"index\": 32, \"value\": \"san diego\", \"contribution\": 0.01822084238716717, \"mean\": 0.3235294117647059, \"frequency\": 0.02161933022467147, \"feature\": \"City\", \"score_label\": \"1.8\"}, {\"index\": 33, \"value\": \"moreno valley\", \"contribution\": 0.01890953495227804, \"mean\": 0.3333333333333333, \"frequency\": 0.002543450614667232, \"feature\": \"City\", \"score_label\": \"1.9\"}, {\"index\": 34, \"value\": \"burbank\", \"contribution\": 0.01929680513354039, \"mean\": 0.3333333333333333, \"frequency\": 0.0038151759220008477, \"feature\": \"City\", \"score_label\": \"1.9\"}, {\"index\": 35, \"value\": \"santa cruz\", \"contribution\": 0.01890953495227804, \"mean\": 0.3333333333333333, \"frequency\": 0.002543450614667232, \"feature\": \"City\", \"score_label\": \"1.9\"}, {\"index\": 36, \"value\": \"newport beach\", \"contribution\": 0.01890953495227804, \"mean\": 0.3333333333333333, \"frequency\": 0.002543450614667232, \"feature\": \"City\", \"score_label\": \"1.9\"}, {\"index\": 37, \"value\": \"santa barbara\", \"contribution\": 0.03212181512931852, \"mean\": 0.38095238095238093, \"frequency\": 0.004451038575667656, \"feature\": \"City\", \"score_label\": \"3.2\"}, {\"index\": 38, \"value\": \"north hollywood\", \"contribution\": 0.03657162547314626, \"mean\": 0.4, \"frequency\": 0.00317931326833404, \"feature\": \"City\", \"score_label\": \"3.7\"}, {\"index\": 39, \"value\": \"palmdale\", \"contribution\": 0.04047993773391437, \"mean\": 0.4166666666666667, \"frequency\": 0.002543450614667232, \"feature\": \"City\", \"score_label\": \"4.0\"}, {\"index\": 40, \"value\": \"torrance\", \"contribution\": 0.04047993773391437, \"mean\": 0.4166666666666667, \"frequency\": 0.002543450614667232, \"feature\": \"City\", \"score_label\": \"4.0\"}, {\"index\": 41, \"value\": \"modesto\", \"contribution\": 0.06365559861895023, \"mean\": 0.5, \"frequency\": 0.00423908435777872, \"feature\": \"City\", \"score_label\": \"6.4\"}, {\"index\": 42, \"value\": \"Null\", \"contribution\": 0.0, \"mean\": 0.0, \"frequency\": 0.0, \"feature\": \"City\", \"score_label\": \"0.0\"}, {\"index\": 0, \"value\": \"male\", \"contribution\": -7.276610831867163e-05, \"mean\": 0.25955480890382193, \"frequency\": 0.5046629927935566, \"feature\": \"Gender\", \"score_label\": \"-0.0\"}, {\"index\": 1, \"value\": \"female\", \"contribution\": 0.0002488481922224847, \"mean\": 0.2610183996576808, \"frequency\": 0.4953370072064434, \"feature\": \"Gender\", \"score_label\": \"0.0\"}, {\"index\": 2, \"value\": \"Null\", \"contribution\": 0.0, \"mean\": 0.0, \"frequency\": 0.0, \"feature\": \"Gender\", \"score_label\": \"0.0\"}, {\"index\": 0, \"value\": \"no\", \"contribution\": -0.002789401806391515, \"mean\": 0.23319063208259885, \"frequency\": 0.8416701992369648, \"feature\": \"Senior Citizen\", \"score_label\": \"-0.3\"}, {\"index\": 1, \"value\": \"yes\", \"contribution\": 0.045826964522160306, \"mean\": 0.4042838018741633, \"frequency\": 0.15832980076303518, \"feature\": \"Senior Citizen\", \"score_label\": \"4.6\"}, {\"index\": 2, \"value\": \"Null\", \"contribution\": 0.0, \"mean\": 0.0, \"frequency\": 0.0, \"feature\": \"Senior Citizen\", \"score_label\": \"0.0\"}, {\"index\": 0, \"value\": \"yes\", \"contribution\": -0.006948709833072504, \"mean\": 0.1909130624726955, \"frequency\": 0.48516320474777447, \"feature\": \"Partner\", \"score_label\": \"-0.7\"}, {\"index\": 1, \"value\": \"no\", \"contribution\": 0.022065879046674532, \"mean\": 0.3256484149855908, \"frequency\": 0.5148367952522255, \"feature\": \"Partner\", \"score_label\": \"2.2\"}, {\"index\": 2, \"value\": \"Null\", \"contribution\": 0.0, \"mean\": 0.0, \"frequency\": 0.0, \"feature\": \"Partner\", \"score_label\": \"0.0\"}, {\"index\": 0, \"value\": \"yes\", \"contribution\": -0.01868614293728342, \"mean\": 0.06672760511882998, \"frequency\": 0.23187791437049599, \"feature\": \"Dependents\", \"score_label\": \"-1.9\"}, {\"index\": 1, \"value\": \"no\", \"contribution\": 0.020121809618660676, \"mean\": 0.31870860927152317, \"frequency\": 0.768122085629504, \"feature\": \"Dependents\", \"score_label\": \"2.0\"}, {\"index\": 2, \"value\": \"Null\", \"contribution\": 0.0, \"mean\": 0.0, \"frequency\": 0.0, \"feature\": \"Dependents\", \"score_label\": \"0.0\"}, {\"index\": 0, \"value\": \"-inf - 1.5\", \"contribution\": 0.10546552554266185, \"mean\": 0.6009280742459396, \"frequency\": 0.09135226791013142, \"feature\": \"Tenure Months\", \"score_label\": \"10.5\"}, {\"index\": 1, \"value\": \"1.5 - 2.5\", \"contribution\": 0.07044939797945723, \"mean\": 0.5, \"frequency\": 0.03221704111911827, \"feature\": \"Tenure Months\", \"score_label\": \"7.0\"}, {\"index\": 2, \"value\": \"2.5 - 4.5\", \"contribution\": 0.06159751231023238, \"mean\": 0.4645669291338583, \"frequency\": 0.05383637134378974, \"feature\": \"Tenure Months\", \"score_label\": \"6.2\"}, {\"index\": 3, \"value\": \"4.5 - 7.5\", \"contribution\": 0.04719016969063018, \"mean\": 0.41700404858299595, \"frequency\": 0.052352691818567186, \"feature\": \"Tenure Months\", \"score_label\": \"4.7\"}, {\"index\": 4, \"value\": \"7.5 - 16.5\", \"contribution\": 0.027270184957119352, \"mean\": 0.3467741935483871, \"frequency\": 0.13141161509114033, \"feature\": \"Tenure Months\", \"score_label\": \"2.7\"}, {\"index\": 5, \"value\": \"16.5 - 49.5\", \"contribution\": -0.005027155608567363, \"mean\": 0.20909090909090908, \"frequency\": 0.3264094955489614, \"feature\": \"Tenure Months\", \"score_label\": \"-0.5\"}, {\"index\": 6, \"value\": \"49.5 - 59.5\", \"contribution\": -0.00999365171724382, \"mean\": 0.1524008350730689, \"frequency\": 0.10152607036880033, \"feature\": \"Tenure Months\", \"score_label\": \"-1.0\"}, {\"index\": 7, \"value\": \"59.5 - 63.5\", \"contribution\": -0.016648785395878295, \"mean\": 0.07281553398058252, \"frequency\": 0.043662568885120816, \"feature\": \"Tenure Months\", \"score_label\": \"-1.7\"}, {\"index\": 8, \"value\": \"63.5 - 67.5\", \"contribution\": -0.013872332477417587, \"mean\": 0.10426540284360192, \"frequency\": 0.04472233997456549, \"feature\": \"Tenure Months\", \"score_label\": \"-1.4\"}, {\"index\": 9, \"value\": \"67.5 - 69.5\", \"contribution\": -0.01554715093442541, \"mean\": 0.08148148148148149, \"frequency\": 0.028613819415006358, \"feature\": \"Tenure Months\", \"score_label\": \"-1.6\"}, {\"index\": 10, \"value\": \"69.5 - 71.5\", \"contribution\": -0.019222955135197697, \"mean\": 0.0427807486631016, \"frequency\": 0.03963543874523103, \"feature\": \"Tenure Months\", \"score_label\": \"-1.9\"}, {\"index\": 11, \"value\": \"71.5 - inf\", \"contribution\": -0.021263853744631602, \"mean\": 0.0234375, \"frequency\": 0.05426027977956761, \"feature\": \"Tenure Months\", \"score_label\": \"-2.1\"}, {\"index\": 12, \"value\": \"nan - nan\", \"contribution\": 0.0, \"mean\": 0.0, \"frequency\": 0.0, \"feature\": \"Tenure Months\", \"score_label\": \"0.0\"}, {\"index\": 0, \"value\": \"no\", \"contribution\": -0.003697016407864983, \"mean\": 0.22026431718061673, \"frequency\": 0.09622721492157695, \"feature\": \"Phone Service\", \"score_label\": \"-0.4\"}, {\"index\": 1, \"value\": \"yes\", \"contribution\": 0.0014792371139889873, \"mean\": 0.26454033771106944, \"frequency\": 0.9037727850784231, \"feature\": \"Phone Service\", \"score_label\": \"0.1\"}, {\"index\": 2, \"value\": \"Null\", \"contribution\": 0.0, \"mean\": 0.0, \"frequency\": 0.0, \"feature\": \"Phone Service\", \"score_label\": \"0.0\"}, {\"index\": 0, \"value\": \"no phone service\", \"contribution\": -0.003697016407864983, \"mean\": 0.22026431718061673, \"frequency\": 0.09622721492157695, \"feature\": \"Multiple Lines\", \"score_label\": \"-0.4\"}, {\"index\": 1, \"value\": \"no\", \"contribution\": -0.0014877658362602538, \"mean\": 0.2454308093994778, \"frequency\": 0.4870707927087749, \"feature\": \"Multiple Lines\", \"score_label\": \"-0.1\"}, {\"index\": 2, \"value\": \"yes\", \"contribution\": 0.008883709635628772, \"mean\": 0.28687690742624616, \"frequency\": 0.41670199236964817, \"feature\": \"Multiple Lines\", \"score_label\": \"0.9\"}, {\"index\": 3, \"value\": \"Null\", \"contribution\": 0.0, \"mean\": 0.0, \"frequency\": 0.0, \"feature\": \"Multiple Lines\", \"score_label\": \"0.0\"}, {\"index\": 0, \"value\": \"no\", \"contribution\": -0.017775137133722977, \"mean\": 0.07582938388625593, \"frequency\": 0.22361169987282747, \"feature\": \"Internet Service\", \"score_label\": \"-1.8\"}, {\"index\": 1, \"value\": \"dsl\", \"contribution\": -0.007278086066799008, \"mean\": 0.18633540372670807, \"frequency\": 0.34124629080118696, \"feature\": \"Internet Service\", \"score_label\": \"-0.7\"}, {\"index\": 2, \"value\": \"fiber optic\", \"contribution\": 0.051138755308563905, \"mean\": 0.41305406721870436, \"frequency\": 0.43514200932598557, \"feature\": \"Internet Service\", \"score_label\": \"5.1\"}, {\"index\": 3, \"value\": \"Null\", \"contribution\": 0.0, \"mean\": 0.0, \"frequency\": 0.0, \"feature\": \"Internet Service\", \"score_label\": \"0.0\"}, {\"index\": 0, \"value\": \"no internet service\", \"contribution\": -0.017775137133722977, \"mean\": 0.07582938388625593, \"frequency\": 0.22361169987282747, \"feature\": \"Online Security\", \"score_label\": \"-1.8\"}, {\"index\": 1, \"value\": \"yes\", \"contribution\": -0.011450623741104655, \"mean\": 0.14285714285714285, \"frequency\": 0.28338278931750743, \"feature\": \"Online Security\", \"score_label\": \"-1.1\"}, {\"index\": 2, \"value\": \"no\", \"contribution\": 0.050913948636735554, \"mean\": 0.4114359415305245, \"frequency\": 0.4930055108096651, \"feature\": \"Online Security\", \"score_label\": \"5.1\"}, {\"index\": 3, \"value\": \"Null\", \"contribution\": 0.0, \"mean\": 0.0, \"frequency\": 0.0, \"feature\": \"Online Security\", \"score_label\": \"0.0\"}, {\"index\": 0, \"value\": \"no internet service\", \"contribution\": -0.017775137133722977, \"mean\": 0.07582938388625593, \"frequency\": 0.22361169987282747, \"feature\": \"Online Backup\", \"score_label\": \"-1.8\"}, {\"index\": 1, \"value\": \"yes\", \"contribution\": -0.0046493037837984, \"mean\": 0.21304347826086956, \"frequency\": 0.34124629080118696, \"feature\": \"Online Backup\", \"score_label\": \"-0.5\"}, {\"index\": 2, \"value\": \"no\", \"contribution\": 0.04412776459070747, \"mean\": 0.3921091086215295, \"frequency\": 0.43514200932598557, \"feature\": \"Online Backup\", \"score_label\": \"4.4\"}, {\"index\": 3, \"value\": \"Null\", \"contribution\": 0.0, \"mean\": 0.0, \"frequency\": 0.0, \"feature\": \"Online Backup\", \"score_label\": \"0.0\"}, {\"index\": 0, \"value\": \"no internet service\", \"contribution\": -0.017775137133722977, \"mean\": 0.07582938388625593, \"frequency\": 0.22361169987282747, \"feature\": \"Device Protection\", \"score_label\": \"-1.8\"}, {\"index\": 1, \"value\": \"yes\", \"contribution\": -0.003688961556125644, \"mean\": 0.22283272283272285, \"frequency\": 0.34718100890207715, \"feature\": \"Device Protection\", \"score_label\": \"-0.4\"}, {\"index\": 2, \"value\": \"no\", \"contribution\": 0.0422769557287958, \"mean\": 0.38666666666666666, \"frequency\": 0.4292072912250954, \"feature\": \"Device Protection\", \"score_label\": \"4.2\"}, {\"index\": 3, \"value\": \"Null\", \"contribution\": 0.0, \"mean\": 0.0, \"frequency\": 0.0, \"feature\": \"Device Protection\", \"score_label\": \"0.0\"}, {\"index\": 0, \"value\": \"no internet service\", \"contribution\": -0.017775137133722977, \"mean\": 0.07582938388625593, \"frequency\": 0.22361169987282747, \"feature\": \"Tech Support\", \"score_label\": \"-1.8\"}, {\"index\": 1, \"value\": \"yes\", \"contribution\": -0.009955151311174023, \"mean\": 0.1583873290136789, \"frequency\": 0.2944044086477321, \"feature\": \"Tech Support\", \"score_label\": \"-1.0\"}, {\"index\": 2, \"value\": \"no\", \"contribution\": 0.04973117743014013, \"mean\": 0.4080914687774846, \"frequency\": 0.48198389147944043, \"feature\": \"Tech Support\", \"score_label\": \"5.0\"}, {\"index\": 3, \"value\": \"Null\", \"contribution\": 0.0, \"mean\": 0.0, \"frequency\": 0.0, \"feature\": \"Tech Support\", \"score_label\": \"0.0\"}, {\"index\": 0, \"value\": \"no internet service\", \"contribution\": -0.017775137133722977, \"mean\": 0.07582938388625593, \"frequency\": 0.22361169987282747, \"feature\": \"Streaming TV\", \"score_label\": \"-1.8\"}, {\"index\": 1, \"value\": \"yes\", \"contribution\": 0.011069611702865327, \"mean\": 0.29358830146231724, \"frequency\": 0.3768545994065282, \"feature\": \"Streaming TV\", \"score_label\": \"1.1\"}, {\"index\": 2, \"value\": \"no\", \"contribution\": 0.023936765852240336, \"mean\": 0.3320954907161804, \"frequency\": 0.3995337007206443, \"feature\": \"Streaming TV\", \"score_label\": \"2.4\"}, {\"index\": 3, \"value\": \"Null\", \"contribution\": 0.0, \"mean\": 0.0, \"frequency\": 0.0, \"feature\": \"Streaming TV\", \"score_label\": \"0.0\"}, {\"index\": 0, \"value\": \"no internet service\", \"contribution\": -0.017775137133722977, \"mean\": 0.07582938388625593, \"frequency\": 0.22361169987282747, \"feature\": \"Streaming Movies\", \"score_label\": \"-1.8\"}, {\"index\": 1, \"value\": \"yes\", \"contribution\": 0.01076966986882698, \"mean\": 0.29265599116510216, \"frequency\": 0.38384908859686306, \"feature\": \"Streaming Movies\", \"score_label\": \"1.1\"}, {\"index\": 2, \"value\": \"no\", \"contribution\": 0.024447731368512055, \"mean\": 0.33369330453563717, \"frequency\": 0.39253921153030946, \"feature\": \"Streaming Movies\", \"score_label\": \"2.4\"}, {\"index\": 3, \"value\": \"Null\", \"contribution\": 0.0, \"mean\": 0.0, \"frequency\": 0.0, \"feature\": \"Streaming Movies\", \"score_label\": \"0.0\"}, {\"index\": 0, \"value\": \"two year\", \"contribution\": -0.02257555571750508, \"mean\": 0.02700348432055749, \"frequency\": 0.2433234421364985, \"feature\": \"Contract\", \"score_label\": \"-2.3\"}, {\"index\": 1, \"value\": \"one year\", \"contribution\": -0.01399806468185865, \"mean\": 0.11465603190428714, \"frequency\": 0.2125900805426028, \"feature\": \"Contract\", \"score_label\": \"-1.4\"}, {\"index\": 2, \"value\": \"month-to-month\", \"contribution\": 0.05457342511379243, \"mean\": 0.4215037008180756, \"frequency\": 0.5440864773208987, \"feature\": \"Contract\", \"score_label\": \"5.5\"}, {\"index\": 3, \"value\": \"Null\", \"contribution\": 0.0, \"mean\": 0.0, \"frequency\": 0.0, \"feature\": \"Contract\", \"score_label\": \"0.0\"}, {\"index\": 0, \"value\": \"no\", \"contribution\": -0.010341592396499698, \"mean\": 0.15618556701030928, \"frequency\": 0.4111911827045358, \"feature\": \"Paperless Billing\", \"score_label\": \"-1.0\"}, {\"index\": 1, \"value\": \"yes\", \"contribution\": 0.024703763630477254, \"mean\": 0.3329733621310295, \"frequency\": 0.5888088172954642, \"feature\": \"Paperless Billing\", \"score_label\": \"2.5\"}, {\"index\": 2, \"value\": \"Null\", \"contribution\": 0.0, \"mean\": 0.0, \"frequency\": 0.0, \"feature\": \"Paperless Billing\", \"score_label\": \"0.0\"}, {\"index\": 0, \"value\": \"credit card (automatic)\", \"contribution\": -0.011447431494387745, \"mean\": 0.14132553606237816, \"frequency\": 0.2174650275540483, \"feature\": \"Payment Method\", \"score_label\": \"-1.1\"}, {\"index\": 1, \"value\": \"bank transfer (automatic)\", \"contribution\": -0.009045727458687864, \"mean\": 0.16634615384615384, \"frequency\": 0.22043238660449344, \"feature\": \"Payment Method\", \"score_label\": \"-0.9\"}, {\"index\": 2, \"value\": \"mailed check\", \"contribution\": -0.0062073345661475855, \"mean\": 0.19600725952813067, \"frequency\": 0.23357354811360745, \"feature\": \"Payment Method\", \"score_label\": \"-0.6\"}, {\"index\": 3, \"value\": \"electronic check\", \"contribution\": 0.0618743473031711, \"mean\": 0.447741935483871, \"frequency\": 0.3285290377278508, \"feature\": \"Payment Method\", \"score_label\": \"6.2\"}, {\"index\": 4, \"value\": \"Null\", \"contribution\": 0.0, \"mean\": 0.0, \"frequency\": 0.0, \"feature\": \"Payment Method\", \"score_label\": \"0.0\"}, {\"index\": 0, \"value\": \"-inf - 19.425\", \"contribution\": -0.015615765002814957, \"mean\": 0.08, \"frequency\": 0.026494277236116998, \"feature\": \"Monthly Charges\", \"score_label\": \"-1.6\"}, {\"index\": 1, \"value\": \"19.425 - 19.675\", \"contribution\": -0.014839852020540202, \"mean\": 0.08955223880597014, \"frequency\": 0.02840186519711742, \"feature\": \"Monthly Charges\", \"score_label\": \"-1.5\"}, {\"index\": 2, \"value\": \"19.675 - 19.925\", \"contribution\": -0.013394848737104455, \"mean\": 0.10606060606060606, \"frequency\": 0.027977956761339552, \"feature\": \"Monthly Charges\", \"score_label\": \"-1.3\"}, {\"index\": 3, \"value\": \"19.925 - 20.125\", \"contribution\": -0.016897904962560023, \"mean\": 0.06504065040650407, \"frequency\": 0.02607036880033913, \"feature\": \"Monthly Charges\", \"score_label\": \"-1.7\"}, {\"index\": 4, \"value\": \"20.125 - 20.425\", \"contribution\": -0.013292835871530285, \"mean\": 0.10810810810810811, \"frequency\": 0.03136922424756253, \"feature\": \"Monthly Charges\", \"score_label\": \"-1.3\"}, {\"index\": 5, \"value\": \"20.425 - 23.575\", \"contribution\": -0.014114662770255377, \"mean\": 0.09937888198757763, \"frequency\": 0.03412462908011869, \"feature\": \"Monthly Charges\", \"score_label\": \"-1.4\"}, {\"index\": 6, \"value\": \"23.575 - 25.025\", \"contribution\": -0.015861284736249863, \"mean\": 0.07894736842105263, \"frequency\": 0.03221704111911827, \"feature\": \"Monthly Charges\", \"score_label\": \"-1.6\"}, {\"index\": 7, \"value\": \"25.025 - 29.475\", \"contribution\": -0.013618467980067196, \"mean\": 0.10416666666666667, \"frequency\": 0.03052140737600678, \"feature\": \"Monthly Charges\", \"score_label\": \"-1.4\"}, {\"index\": 8, \"value\": \"29.475 - 50.875\", \"contribution\": 0.012951809876900066, \"mean\": 0.30177514792899407, \"frequency\": 0.10746078846969055, \"feature\": \"Monthly Charges\", \"score_label\": \"1.3\"}, {\"index\": 9, \"value\": \"50.875 - 56.0\", \"contribution\": -0.0018592095243759276, \"mean\": 0.2394957983193282, \"frequency\": 0.050445103857566766, \"feature\": \"Monthly Charges\", \"score_label\": \"-0.2\"}, {\"index\": 10, \"value\": \"56.0 - 61.425\", \"contribution\": -0.014423329699236289, \"mean\": 0.09659090909090909, \"frequency\": 0.03730394234845273, \"feature\": \"Monthly Charges\", \"score_label\": \"-1.4\"}, {\"index\": 11, \"value\": \"61.425 - 68.825\", \"contribution\": -0.0127229321591246, \"mean\": 0.116402116402117, \"frequency\": 0.040059347181008904, \"feature\": \"Monthly Charges\", \"score_label\": \"-1.3\"}, {\"index\": 12, \"value\": \"68.825 - 74.425\", \"contribution\": 0.04424801317830283, \"mean\": 0.40437158469945356, \"frequency\": 0.07757524374735057, \"feature\": \"Monthly Charges\", \"score_label\": \"4.4\"}, {\"index\": 13, \"value\": \"74.425 - 80.525\", \"contribution\": 0.0349521812324984, \"mean\": 0.3732394366197183, \"frequency\": 0.09029249682068673, \"feature\": \"Monthly Charges\", \"score_label\": \"3.5\"}, {\"index\": 14, \"value\": \"80.525 - 106.775\", \"contribution\": 0.03439250147160574, \"mean\": 0.36482758620689654, \"frequency\": 0.3073336159389572, \"feature\": \"Monthly Charges\", \"score_label\": \"3.4\"}, {\"index\": 15, \"value\": \"106.775 - inf\", \"contribution\": -0.008812926789350138, \"mean\": 0.16194331983805668, \"frequency\": 0.052352691818567186, \"feature\": \"Monthly Charges\", \"score_label\": \"-0.9\"}, {\"index\": 16, \"value\": \"nan - nan\", \"contribution\": 0.0, \"mean\": 0.0, \"frequency\": 0.0, \"feature\": \"Monthly Charges\", \"score_label\": \"0.0\"}]}}, {\"mode\": \"vega-lite\"});\n",
       "</script>"
      ],
      "text/plain": [
       "alt.HConcatChart(...)"
      ]
     },
     "execution_count": 37,
     "metadata": {},
     "output_type": "execute_result"
    }
   ],
   "source": [
    "model.explain()"
   ]
  },
  {
   "cell_type": "markdown",
   "id": "fd7d5f3b",
   "metadata": {},
   "source": [
    "The image displays two graphs related to a churn prediction model.\n",
    "\n",
    "On the left is the 'Feature Importances' bar chart, which ranks the features by their ability to predict customer churn. 'Tenure Months' has the highest importance, confirming that the length of customer engagement is the most significant indicator of churn likelihood. 'Monthly Charges' and 'Contract' follow, suggesting that financial and contractual commitments are also influential in churn prediction.\n",
    "\n",
    "The right graph is a 'Contributions' histogram, which quantifies the impact of a specific feature's values on the prediction outcome. The red bars indicate that higher values within the selected feature correspond to a decrease in the likelihood of churn, whereas the green bars show that lower values increase this likelihood.\n",
    "\n",
    "The placement of 'Gender' at the bottom of the 'Feature Importances' chart conclusively indicates that the model does not consider gender a determinant in predicting churn, thereby ensuring the model's impartiality regarding gender.\n"
   ]
  },
  {
   "cell_type": "markdown",
   "id": "68ff786c",
   "metadata": {},
   "source": [
    "## 5. Model Persisting\n",
    "In this step, we first create a unique identifier for our churn prediction model using `xp.client.create_model_id`. This identifier, shown as `model_id`, represents the newly instantiated model which predicts the likelihood of customers leaving within the next month. Following this, we generate a specific version of the model with `xp.client.create_model_version`, passing in our training data. The output `version_id` represents this particular iteration of our model, allowing us to track and manage different versions systematically.\n"
   ]
  },
  {
   "cell_type": "code",
   "execution_count": 38,
   "id": "b98935fb",
   "metadata": {},
   "outputs": [
    {
     "data": {
      "text/plain": [
       "'CxdKyfllkLMKQYT9'"
      ]
     },
     "execution_count": 38,
     "metadata": {},
     "output_type": "execute_result"
    }
   ],
   "source": [
    "model_id = xp.client.create_model_id(\n",
    "    model,\n",
    "    model_name=\"Telco Customer Churn\",\n",
    "    model_description='Predicting customers who are likely to leave the business within the next month.'\n",
    ")\n",
    "model_id"
   ]
  },
  {
   "cell_type": "code",
   "execution_count": 39,
   "id": "7c607901",
   "metadata": {},
   "outputs": [
    {
     "data": {
      "application/vnd.jupyter.widget-view+json": {
       "model_id": "8ae09523420e400abf9f5b05e9c46f5e",
       "version_major": 2,
       "version_minor": 0
      },
      "text/plain": [
       "  0%|          | 0/19 [00:00<?, ?it/s]"
      ]
     },
     "metadata": {},
     "output_type": "display_data"
    },
    {
     "data": {
      "text/plain": [
       "'3RmCOzUFTtBi5uVX'"
      ]
     },
     "execution_count": 39,
     "metadata": {},
     "output_type": "execute_result"
    }
   ],
   "source": [
    "version_id = xp.client.create_model_version(\n",
    "    model,\n",
    "    model_id,\n",
    "    X_train,\n",
    "    y_train\n",
    ")\n",
    "version_id"
   ]
  },
  {
   "cell_type": "markdown",
   "id": "ddd297a2",
   "metadata": {},
   "source": [
    "### SaaS Models View"
   ]
  },
  {
   "cell_type": "markdown",
   "id": "421d363a",
   "metadata": {},
   "source": [
    "![Model Image](./images/models.png)"
   ]
  },
  {
   "cell_type": "markdown",
   "id": "21cc4c90",
   "metadata": {},
   "source": [
    "### SaaS Explainer View"
   ]
  },
  {
   "cell_type": "markdown",
   "id": "afa77adb",
   "metadata": {},
   "source": [
    "![Model Image](./images/model_explainer.png)"
   ]
  },
  {
   "cell_type": "markdown",
   "id": "e6ef7bff",
   "metadata": {},
   "source": [
    "## 6. Model Deployment"
   ]
  },
  {
   "cell_type": "markdown",
   "id": "92ca6d22",
   "metadata": {},
   "source": [
    "The code block illustrates the deployment of our churn prediction model using the `xp.client.deploy` function. The deployment process involves specifying the `hostname` of the server where the model will be hosted, as well as the unique `model_id` and `version_id` that we obtained in the previous steps. This step effectively activates the model's endpoint, allowing it to receive and process prediction requests. The output confirms the deployment with a `deployment_id`, indicating the model's current `status` as 'inactive', its `location`, and the `endpoint` URL where it can be accessed for xplainable deployments.\n"
   ]
  },
  {
   "cell_type": "code",
   "execution_count": 40,
   "id": "3fb3a4bd",
   "metadata": {},
   "outputs": [],
   "source": [
    "deployment = xp.client.deploy(\n",
    "    hostname=\"https://inference.xplainable.io\", #<- Can set up deployments to be hosted on-prem\n",
    "    model_id=model_id, #<- Use model id produced above\n",
    "    version_id=version_id #<- Use version id produced above\n",
    ")"
   ]
  },
  {
   "cell_type": "markdown",
   "id": "5470fa5d",
   "metadata": {},
   "source": [
    "### SaaS Deployment View"
   ]
  },
  {
   "cell_type": "markdown",
   "id": "7cf63875",
   "metadata": {},
   "source": [
    "![Model Image](./images/deployments.png)\n"
   ]
  },
  {
   "cell_type": "markdown",
   "id": "d6ba1d6e",
   "metadata": {},
   "source": [
    "### Testing the Deployment programatically\n",
    "This section demonstrates the steps taken to programmatically test a deployed model. These steps are essential for validating that the model's deployment is functional and ready to process incoming prediction requests.\n"
   ]
  },
  {
   "cell_type": "markdown",
   "id": "8d11366a",
   "metadata": {},
   "source": [
    "1. **Activating the Deployment:**\n",
    "   The model deployment is activated using `xp.client.activate_deployment`, which changes the deployment status to active, allowing it to accept prediction requests."
   ]
  },
  {
   "cell_type": "code",
   "execution_count": 41,
   "id": "71fbf0b4",
   "metadata": {},
   "outputs": [
    {
     "data": {
      "text/plain": [
       "{'message': 'activated deployment'}"
      ]
     },
     "execution_count": 41,
     "metadata": {},
     "output_type": "execute_result"
    }
   ],
   "source": [
    "xp.client.activate_deployment(deployment['deployment_id'])"
   ]
  },
  {
   "cell_type": "markdown",
   "id": "284654f9",
   "metadata": {},
   "source": [
    "2. **Creating a Deployment Key:**\n",
    "   A deployment key is generated with `xp.client.generate_deploy_key`. This key is required to authenticate and make secure requests to the deployed model."
   ]
  },
  {
   "cell_type": "code",
   "execution_count": 42,
   "id": "8348ea26",
   "metadata": {},
   "outputs": [],
   "source": [
    "deploy_key = xp.client.generate_deploy_key('for testing', deployment['deployment_id'], 7, clipboard=False)"
   ]
  },
  {
   "cell_type": "markdown",
   "id": "23224654",
   "metadata": {},
   "source": [
    "3. **Generating Example Payload:**\n",
    "   An example payload for a deployment request is generated by `xp.client.generate_example_deployment_payload`. This payload mimics the input data structure the model expects when making predictions."
   ]
  },
  {
   "cell_type": "code",
   "execution_count": 43,
   "id": "58b99aed",
   "metadata": {},
   "outputs": [],
   "source": [
    "#Set the option to highlight multiple ways of creating data\n",
    "option = 1"
   ]
  },
  {
   "cell_type": "code",
   "execution_count": 44,
   "id": "319cc84f",
   "metadata": {},
   "outputs": [],
   "source": [
    "if option == 1:\n",
    "    body = xp.client.generate_example_deployment_payload(deployment['deployment_id'])\n",
    "else:\n",
    "    body = json.loads(df_transformed.drop(columns=[\"Churn Label\"]).sample(1).to_json(orient=\"records\"))\n",
    "    body[0][\"Gender\"] = None #<- Won't require this line the next release of xplainable"
   ]
  },
  {
   "cell_type": "code",
   "execution_count": 45,
   "id": "d7859827",
   "metadata": {},
   "outputs": [
    {
     "data": {
      "text/plain": [
       "[{'City': 'other',\n",
       "  'Gender': 'male',\n",
       "  'Senior Citizen': 'yes',\n",
       "  'Partner': 'no',\n",
       "  'Dependents': 'yes',\n",
       "  'Tenure Months': 71.5,\n",
       "  'Phone Service': 'no',\n",
       "  'Multiple Lines': 'no',\n",
       "  'Internet Service': 'dsl',\n",
       "  'Online Security': 'no internet service',\n",
       "  'Online Backup': 'yes',\n",
       "  'Device Protection': 'no',\n",
       "  'Tech Support': 'yes',\n",
       "  'Streaming TV': 'yes',\n",
       "  'Streaming Movies': 'no',\n",
       "  'Contract': 'month-to-month',\n",
       "  'Paperless Billing': 'yes',\n",
       "  'Payment Method': 'bank transfer (automatic)',\n",
       "  'Monthly Charges': None}]"
      ]
     },
     "execution_count": 45,
     "metadata": {},
     "output_type": "execute_result"
    }
   ],
   "source": [
    "body"
   ]
  },
  {
   "cell_type": "markdown",
   "id": "3cc76f6b",
   "metadata": {},
   "source": [
    "4. **Making a Prediction Request:**\n",
    "   A POST request is made to the model's prediction endpoint with the example payload. The model processes the input data and returns a prediction response, which includes the predicted class (e.g., 'No' for no churn) and the prediction probabilities for each class."
   ]
  },
  {
   "cell_type": "code",
   "execution_count": 46,
   "id": "b56be646",
   "metadata": {},
   "outputs": [
    {
     "data": {
      "text/plain": [
       "[{'index': 0,\n",
       "  'id': None,\n",
       "  'partition': '__dataset__',\n",
       "  'score': 0.3928926246322737,\n",
       "  'proba': 0.11276893943031227,\n",
       "  'pred': '0',\n",
       "  'support': 303,\n",
       "  'breakdown': {'base_value': 0.2602797795676134,\n",
       "   'City': -0.0004814338695100573,\n",
       "   'Gender': -7.276610831867163e-05,\n",
       "   'Senior Citizen': 0.045826964522160306,\n",
       "   'Partner': 0.022065879046674532,\n",
       "   'Dependents': -0.01868614293728342,\n",
       "   'Tenure Months': -0.019222955135197697,\n",
       "   'Phone Service': -0.003697016407864983,\n",
       "   'Multiple Lines': -0.0014877658362602538,\n",
       "   'Internet Service': -0.007278086066799008,\n",
       "   'Online Security': -0.017775137133722977,\n",
       "   'Online Backup': -0.0046493037837984,\n",
       "   'Device Protection': 0.0422769557287958,\n",
       "   'Tech Support': -0.009955151311174023,\n",
       "   'Streaming TV': 0.011069611702865327,\n",
       "   'Streaming Movies': 0.024447731368512055,\n",
       "   'Contract': 0.05457342511379243,\n",
       "   'Paperless Billing': 0.024703763630477254,\n",
       "   'Payment Method': -0.009045727458687864,\n",
       "   'Monthly Charges': 0.0}}]"
      ]
     },
     "execution_count": 46,
     "metadata": {},
     "output_type": "execute_result"
    }
   ],
   "source": [
    "response = requests.post(\n",
    "    url=\"https://inference.xplainable.io/v1/predict\",\n",
    "    headers={'api_key': deploy_key['deploy_key']},\n",
    "    json=body\n",
    ")\n",
    "\n",
    "value = response.json()\n",
    "value"
   ]
  },
  {
   "cell_type": "markdown",
   "id": "fcb9a408",
   "metadata": {},
   "source": [
    "## SaaS Deployment Info\n",
    "The SaaS application interface displayed above mirrors the operations performed programmatically in the earlier steps. It displays a dashboard for managing the 'Telco Customer Churn' model, facilitating a range of actions from deployment to testing, all within a user-friendly web interface. This makes it accessible even to non-technical users who prefer to manage model deployments and monitor performance through a graphical interface rather than code. Features like the deployment checklist, example payload, and prediction response are all integrated into the application, ensuring that users have full control and visibility over the deployment lifecycle and model interactions."
   ]
  },
  {
   "cell_type": "markdown",
   "id": "d2273ddb",
   "metadata": {},
   "source": [
    "![Model Image](./images/deployment_info.png)\n",
    "\n"
   ]
  },
  {
   "cell_type": "markdown",
   "id": "75ef5763",
   "metadata": {},
   "source": [
    "## 7. Batch Optimisation (Beta)\n",
    "The concept of Batch Optimization within the Xplainable platform represents a significant leap forward from traditional machine learning approaches. Moving away from the prediction -> monitor model approach, this feature offers a dynamic and cost-effective utilisation of model insights.\n",
    "\n",
    "This optimisation approach allows for the association of monetary costs with various predictive scores. It provides a detailed understanding of the financial impact of different predictive outcomes. For example, within our Telco model, the choice to provide tech support carries a different cost implication than opting against it, influencing the decision-making process.\n",
    "\n",
    "Features may be fixed or adjustable to align with business requirements. Certain attributes like 'Senior Citizen', 'Tenure', and 'Monthly Charges' may be set due to regulatory standards or business limitations, ensuring that optimisation adheres to these rules.\n",
    "\n",
    "Conversely, features such as 'Streaming Movies' or 'Device Protection' are modifiable, enabling the exploration of various combinations to discover the most cost-effective approach. The model could assess if altering the contract type for specific customer segments improves retention without markedly raising costs.\n",
    "\n",
    "Employing the Xplainable model's output in this manner allows organisations to extend past simple predictions to genuine cost optimisation, facilitating strategic decision-making that evaluates each recommended action not only for its impact on outcomes like churn but also for cost-efficiency. Thus, Xplainable's strategy provides businesses the capability to optimise their resources with foresight rarely seen in traditional machine learning.\n",
    "\n"
   ]
  }
 ],
 "metadata": {
  "kernelspec": {
   "display_name": "Python 3 (ipykernel)",
   "language": "python",
   "name": "python3"
  },
  "language_info": {
   "codemirror_mode": {
    "name": "ipython",
    "version": 3
   },
   "file_extension": ".py",
   "mimetype": "text/x-python",
   "name": "python",
   "nbconvert_exporter": "python",
   "pygments_lexer": "ipython3",
   "version": "3.8.16"
  }
 },
 "nbformat": 4,
 "nbformat_minor": 5
}
