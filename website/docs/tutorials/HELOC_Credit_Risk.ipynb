{
  "cells": [
    {
      "cell_type": "markdown",
      "metadata": {
        "id": "Ep4kZC5MhsR9"
      },
      "source": [
        "# FICO Explainable ML: HELOC\n"
      ]
    },
    {
      "cell_type": "markdown",
      "metadata": {
        "id": "wDkSldOTRwSz"
      },
      "source": [
        "## Introduction\n",
        "In this walkthrough, we'll use Xplainable's platform to analyze the FICO Home Equity Line of Credit (HELOC) dataset. This dataset is commonly used to predict credit risk, helping to identify borrowers who may be at risk of defaulting on their line of credit.\n",
        "\n",
        "We'll go step-by-step through Xplainable's features, starting with data preprocessing, moving on to model training, and finally, interpreting the results. The goal is to show how Xplainable can simplify the process of building and understanding machine learning models, providing clear insights without the need for complex coding or deep statistical knowledge. By the end of this walkthrough, you'll see how Xplainable can help you quickly draw meaningful conclusions from the FICO HELOC dataset."
      ]
    },
    {
      "cell_type": "markdown",
      "metadata": {
        "id": "HabORHiGephQ"
      },
      "source": [
        "# Install and import relevant packages"
      ]
    },
    {
      "cell_type": "code",
      "execution_count": 16,
      "metadata": {
        "colab": {
          "base_uri": "https://localhost:8080/"
        },
        "collapsed": true,
        "id": "NFGp0aM-07HG",
        "outputId": "b4f83c5a-4f63-4548-af3f-5f02de63454b"
      },
      "outputs": [
        {
          "name": "stdout",
          "output_type": "stream",
          "text": [
            "Requirement already satisfied: xplainable in /Users/jtuppack/miniforge3/envs/xplainable-dev/lib/python3.10/site-packages (1.2.4)\n",
            "Requirement already satisfied: hyperopt>=0.2.7 in /Users/jtuppack/miniforge3/envs/xplainable-dev/lib/python3.10/site-packages (from xplainable) (0.2.7)\n",
            "Requirement already satisfied: numba>=0.56.4 in /Users/jtuppack/miniforge3/envs/xplainable-dev/lib/python3.10/site-packages (from xplainable) (0.58.1)\n",
            "Requirement already satisfied: numpy>=1.26 in /Users/jtuppack/miniforge3/envs/xplainable-dev/lib/python3.10/site-packages (from xplainable) (1.26.4)\n",
            "Requirement already satisfied: pandas>=1.5.2 in /Users/jtuppack/miniforge3/envs/xplainable-dev/lib/python3.10/site-packages (from xplainable) (1.5.3)\n",
            "Requirement already satisfied: pyperclip>=1.8.2 in /Users/jtuppack/miniforge3/envs/xplainable-dev/lib/python3.10/site-packages (from xplainable) (1.8.2)\n",
            "Requirement already satisfied: scikit-learn>=1.2.2 in /Users/jtuppack/miniforge3/envs/xplainable-dev/lib/python3.10/site-packages (from xplainable) (1.3.2)\n",
            "Requirement already satisfied: scipy>=1.6.2 in /Users/jtuppack/miniforge3/envs/xplainable-dev/lib/python3.10/site-packages (from xplainable) (1.11.4)\n",
            "Requirement already satisfied: urllib3>=1.26.5 in /Users/jtuppack/miniforge3/envs/xplainable-dev/lib/python3.10/site-packages (from xplainable) (2.1.0)\n",
            "Requirement already satisfied: psutil>=5.9.4 in /Users/jtuppack/miniforge3/envs/xplainable-dev/lib/python3.10/site-packages (from xplainable) (5.9.6)\n",
            "Requirement already satisfied: joblib>=1.2.0 in /Users/jtuppack/miniforge3/envs/xplainable-dev/lib/python3.10/site-packages (from xplainable) (1.3.2)\n",
            "Requirement already satisfied: networkx>=2.6.3 in /Users/jtuppack/miniforge3/envs/xplainable-dev/lib/python3.10/site-packages (from xplainable) (3.2.1)\n",
            "Requirement already satisfied: tqdm>=4.62.3 in /Users/jtuppack/miniforge3/envs/xplainable-dev/lib/python3.10/site-packages (from xplainable) (4.66.1)\n",
            "Requirement already satisfied: ipython in /Users/jtuppack/miniforge3/envs/xplainable-dev/lib/python3.10/site-packages (from xplainable) (8.18.1)\n",
            "Requirement already satisfied: packaging in /Users/jtuppack/miniforge3/envs/xplainable-dev/lib/python3.10/site-packages (from xplainable) (23.2)\n",
            "Requirement already satisfied: requests in /Users/jtuppack/miniforge3/envs/xplainable-dev/lib/python3.10/site-packages (from xplainable) (2.31.0)\n",
            "Requirement already satisfied: six in /Users/jtuppack/miniforge3/envs/xplainable-dev/lib/python3.10/site-packages (from hyperopt>=0.2.7->xplainable) (1.16.0)\n",
            "Requirement already satisfied: future in /Users/jtuppack/miniforge3/envs/xplainable-dev/lib/python3.10/site-packages (from hyperopt>=0.2.7->xplainable) (0.18.3)\n",
            "Requirement already satisfied: cloudpickle in /Users/jtuppack/miniforge3/envs/xplainable-dev/lib/python3.10/site-packages (from hyperopt>=0.2.7->xplainable) (3.0.0)\n",
            "Requirement already satisfied: py4j in /Users/jtuppack/miniforge3/envs/xplainable-dev/lib/python3.10/site-packages (from hyperopt>=0.2.7->xplainable) (0.10.9.7)\n",
            "Requirement already satisfied: llvmlite<0.42,>=0.41.0dev0 in /Users/jtuppack/miniforge3/envs/xplainable-dev/lib/python3.10/site-packages (from numba>=0.56.4->xplainable) (0.41.1)\n",
            "Requirement already satisfied: python-dateutil>=2.8.1 in /Users/jtuppack/miniforge3/envs/xplainable-dev/lib/python3.10/site-packages (from pandas>=1.5.2->xplainable) (2.8.2)\n",
            "Requirement already satisfied: pytz>=2020.1 in /Users/jtuppack/miniforge3/envs/xplainable-dev/lib/python3.10/site-packages (from pandas>=1.5.2->xplainable) (2023.3.post1)\n",
            "Requirement already satisfied: threadpoolctl>=2.0.0 in /Users/jtuppack/miniforge3/envs/xplainable-dev/lib/python3.10/site-packages (from scikit-learn>=1.2.2->xplainable) (3.2.0)\n",
            "Requirement already satisfied: decorator in /Users/jtuppack/miniforge3/envs/xplainable-dev/lib/python3.10/site-packages (from ipython->xplainable) (5.1.1)\n",
            "Requirement already satisfied: jedi>=0.16 in /Users/jtuppack/miniforge3/envs/xplainable-dev/lib/python3.10/site-packages (from ipython->xplainable) (0.19.1)\n",
            "Requirement already satisfied: matplotlib-inline in /Users/jtuppack/miniforge3/envs/xplainable-dev/lib/python3.10/site-packages (from ipython->xplainable) (0.1.6)\n",
            "Requirement already satisfied: prompt-toolkit<3.1.0,>=3.0.41 in /Users/jtuppack/miniforge3/envs/xplainable-dev/lib/python3.10/site-packages (from ipython->xplainable) (3.0.41)\n",
            "Requirement already satisfied: pygments>=2.4.0 in /Users/jtuppack/miniforge3/envs/xplainable-dev/lib/python3.10/site-packages (from ipython->xplainable) (2.17.2)\n",
            "Requirement already satisfied: stack-data in /Users/jtuppack/miniforge3/envs/xplainable-dev/lib/python3.10/site-packages (from ipython->xplainable) (0.6.3)\n",
            "Requirement already satisfied: traitlets>=5 in /Users/jtuppack/miniforge3/envs/xplainable-dev/lib/python3.10/site-packages (from ipython->xplainable) (5.14.0)\n",
            "Requirement already satisfied: exceptiongroup in /Users/jtuppack/miniforge3/envs/xplainable-dev/lib/python3.10/site-packages (from ipython->xplainable) (1.2.0)\n",
            "Requirement already satisfied: pexpect>4.3 in /Users/jtuppack/miniforge3/envs/xplainable-dev/lib/python3.10/site-packages (from ipython->xplainable) (4.9.0)\n",
            "Requirement already satisfied: charset-normalizer<4,>=2 in /Users/jtuppack/miniforge3/envs/xplainable-dev/lib/python3.10/site-packages (from requests->xplainable) (3.3.2)\n",
            "Requirement already satisfied: idna<4,>=2.5 in /Users/jtuppack/miniforge3/envs/xplainable-dev/lib/python3.10/site-packages (from requests->xplainable) (3.6)\n",
            "Requirement already satisfied: certifi>=2017.4.17 in /Users/jtuppack/miniforge3/envs/xplainable-dev/lib/python3.10/site-packages (from requests->xplainable) (2023.11.17)\n",
            "Requirement already satisfied: parso<0.9.0,>=0.8.3 in /Users/jtuppack/miniforge3/envs/xplainable-dev/lib/python3.10/site-packages (from jedi>=0.16->ipython->xplainable) (0.8.3)\n",
            "Requirement already satisfied: ptyprocess>=0.5 in /Users/jtuppack/miniforge3/envs/xplainable-dev/lib/python3.10/site-packages (from pexpect>4.3->ipython->xplainable) (0.7.0)\n",
            "Requirement already satisfied: wcwidth in /Users/jtuppack/miniforge3/envs/xplainable-dev/lib/python3.10/site-packages (from prompt-toolkit<3.1.0,>=3.0.41->ipython->xplainable) (0.2.12)\n",
            "Requirement already satisfied: executing>=1.2.0 in /Users/jtuppack/miniforge3/envs/xplainable-dev/lib/python3.10/site-packages (from stack-data->ipython->xplainable) (2.0.1)\n",
            "Requirement already satisfied: asttokens>=2.1.0 in /Users/jtuppack/miniforge3/envs/xplainable-dev/lib/python3.10/site-packages (from stack-data->ipython->xplainable) (2.4.1)\n",
            "Requirement already satisfied: pure-eval in /Users/jtuppack/miniforge3/envs/xplainable-dev/lib/python3.10/site-packages (from stack-data->ipython->xplainable) (0.2.2)\n",
            "Requirement already satisfied: altair==5.4.1 in /Users/jtuppack/miniforge3/envs/xplainable-dev/lib/python3.10/site-packages (5.4.1)\n",
            "Requirement already satisfied: jinja2 in /Users/jtuppack/miniforge3/envs/xplainable-dev/lib/python3.10/site-packages (from altair==5.4.1) (3.1.2)\n",
            "Requirement already satisfied: jsonschema>=3.0 in /Users/jtuppack/miniforge3/envs/xplainable-dev/lib/python3.10/site-packages (from altair==5.4.1) (4.20.0)\n",
            "Requirement already satisfied: narwhals>=1.5.2 in /Users/jtuppack/miniforge3/envs/xplainable-dev/lib/python3.10/site-packages (from altair==5.4.1) (1.8.1)\n",
            "Requirement already satisfied: packaging in /Users/jtuppack/miniforge3/envs/xplainable-dev/lib/python3.10/site-packages (from altair==5.4.1) (23.2)\n",
            "Requirement already satisfied: typing-extensions>=4.10.0 in /Users/jtuppack/miniforge3/envs/xplainable-dev/lib/python3.10/site-packages (from altair==5.4.1) (4.12.2)\n",
            "Requirement already satisfied: attrs>=22.2.0 in /Users/jtuppack/miniforge3/envs/xplainable-dev/lib/python3.10/site-packages (from jsonschema>=3.0->altair==5.4.1) (23.1.0)\n",
            "Requirement already satisfied: jsonschema-specifications>=2023.03.6 in /Users/jtuppack/miniforge3/envs/xplainable-dev/lib/python3.10/site-packages (from jsonschema>=3.0->altair==5.4.1) (2023.11.1)\n",
            "Requirement already satisfied: referencing>=0.28.4 in /Users/jtuppack/miniforge3/envs/xplainable-dev/lib/python3.10/site-packages (from jsonschema>=3.0->altair==5.4.1) (0.31.0)\n",
            "Requirement already satisfied: rpds-py>=0.7.1 in /Users/jtuppack/miniforge3/envs/xplainable-dev/lib/python3.10/site-packages (from jsonschema>=3.0->altair==5.4.1) (0.13.1)\n",
            "Requirement already satisfied: MarkupSafe>=2.0 in /Users/jtuppack/miniforge3/envs/xplainable-dev/lib/python3.10/site-packages (from jinja2->altair==5.4.1) (2.1.3)\n",
            "Requirement already satisfied: xplainable-client in /Users/jtuppack/miniforge3/envs/xplainable-dev/lib/python3.10/site-packages (1.2.5.post10)\n",
            "Requirement already satisfied: ipywidgets in /Users/jtuppack/miniforge3/envs/xplainable-dev/lib/python3.10/site-packages (from xplainable-client) (8.1.1)\n",
            "Requirement already satisfied: numpy>=1.26 in /Users/jtuppack/miniforge3/envs/xplainable-dev/lib/python3.10/site-packages (from xplainable-client) (1.26.4)\n",
            "Requirement already satisfied: pandas>=1.5.2 in /Users/jtuppack/miniforge3/envs/xplainable-dev/lib/python3.10/site-packages (from xplainable-client) (1.5.3)\n",
            "Requirement already satisfied: pyperclip in /Users/jtuppack/miniforge3/envs/xplainable-dev/lib/python3.10/site-packages (from xplainable-client) (1.8.2)\n",
            "Requirement already satisfied: Requests in /Users/jtuppack/miniforge3/envs/xplainable-dev/lib/python3.10/site-packages (from xplainable-client) (2.31.0)\n",
            "Requirement already satisfied: scikit-learn in /Users/jtuppack/miniforge3/envs/xplainable-dev/lib/python3.10/site-packages (from xplainable-client) (1.3.2)\n",
            "Requirement already satisfied: setuptools>=65.5.1 in /Users/jtuppack/miniforge3/envs/xplainable-dev/lib/python3.10/site-packages (from xplainable-client) (68.2.2)\n",
            "Requirement already satisfied: urllib3 in /Users/jtuppack/miniforge3/envs/xplainable-dev/lib/python3.10/site-packages (from xplainable-client) (2.1.0)\n",
            "Requirement already satisfied: xplainable>=1.2.4 in /Users/jtuppack/miniforge3/envs/xplainable-dev/lib/python3.10/site-packages (from xplainable-client) (1.2.4)\n",
            "Requirement already satisfied: python-dateutil>=2.8.1 in /Users/jtuppack/miniforge3/envs/xplainable-dev/lib/python3.10/site-packages (from pandas>=1.5.2->xplainable-client) (2.8.2)\n",
            "Requirement already satisfied: pytz>=2020.1 in /Users/jtuppack/miniforge3/envs/xplainable-dev/lib/python3.10/site-packages (from pandas>=1.5.2->xplainable-client) (2023.3.post1)\n",
            "Requirement already satisfied: hyperopt>=0.2.7 in /Users/jtuppack/miniforge3/envs/xplainable-dev/lib/python3.10/site-packages (from xplainable>=1.2.4->xplainable-client) (0.2.7)\n",
            "Requirement already satisfied: numba>=0.56.4 in /Users/jtuppack/miniforge3/envs/xplainable-dev/lib/python3.10/site-packages (from xplainable>=1.2.4->xplainable-client) (0.58.1)\n",
            "Requirement already satisfied: scipy>=1.6.2 in /Users/jtuppack/miniforge3/envs/xplainable-dev/lib/python3.10/site-packages (from xplainable>=1.2.4->xplainable-client) (1.11.4)\n",
            "Requirement already satisfied: psutil>=5.9.4 in /Users/jtuppack/miniforge3/envs/xplainable-dev/lib/python3.10/site-packages (from xplainable>=1.2.4->xplainable-client) (5.9.6)\n",
            "Requirement already satisfied: joblib>=1.2.0 in /Users/jtuppack/miniforge3/envs/xplainable-dev/lib/python3.10/site-packages (from xplainable>=1.2.4->xplainable-client) (1.3.2)\n",
            "Requirement already satisfied: networkx>=2.6.3 in /Users/jtuppack/miniforge3/envs/xplainable-dev/lib/python3.10/site-packages (from xplainable>=1.2.4->xplainable-client) (3.2.1)\n",
            "Requirement already satisfied: tqdm>=4.62.3 in /Users/jtuppack/miniforge3/envs/xplainable-dev/lib/python3.10/site-packages (from xplainable>=1.2.4->xplainable-client) (4.66.1)\n",
            "Requirement already satisfied: ipython in /Users/jtuppack/miniforge3/envs/xplainable-dev/lib/python3.10/site-packages (from xplainable>=1.2.4->xplainable-client) (8.18.1)\n",
            "Requirement already satisfied: packaging in /Users/jtuppack/miniforge3/envs/xplainable-dev/lib/python3.10/site-packages (from xplainable>=1.2.4->xplainable-client) (23.2)\n",
            "Requirement already satisfied: threadpoolctl>=2.0.0 in /Users/jtuppack/miniforge3/envs/xplainable-dev/lib/python3.10/site-packages (from scikit-learn->xplainable-client) (3.2.0)\n",
            "Requirement already satisfied: comm>=0.1.3 in /Users/jtuppack/miniforge3/envs/xplainable-dev/lib/python3.10/site-packages (from ipywidgets->xplainable-client) (0.2.0)\n",
            "Requirement already satisfied: traitlets>=4.3.1 in /Users/jtuppack/miniforge3/envs/xplainable-dev/lib/python3.10/site-packages (from ipywidgets->xplainable-client) (5.14.0)\n",
            "Requirement already satisfied: widgetsnbextension~=4.0.9 in /Users/jtuppack/miniforge3/envs/xplainable-dev/lib/python3.10/site-packages (from ipywidgets->xplainable-client) (4.0.9)\n",
            "Requirement already satisfied: jupyterlab-widgets~=3.0.9 in /Users/jtuppack/miniforge3/envs/xplainable-dev/lib/python3.10/site-packages (from ipywidgets->xplainable-client) (3.0.9)\n",
            "Requirement already satisfied: charset-normalizer<4,>=2 in /Users/jtuppack/miniforge3/envs/xplainable-dev/lib/python3.10/site-packages (from Requests->xplainable-client) (3.3.2)\n",
            "Requirement already satisfied: idna<4,>=2.5 in /Users/jtuppack/miniforge3/envs/xplainable-dev/lib/python3.10/site-packages (from Requests->xplainable-client) (3.6)\n",
            "Requirement already satisfied: certifi>=2017.4.17 in /Users/jtuppack/miniforge3/envs/xplainable-dev/lib/python3.10/site-packages (from Requests->xplainable-client) (2023.11.17)\n",
            "Requirement already satisfied: six in /Users/jtuppack/miniforge3/envs/xplainable-dev/lib/python3.10/site-packages (from hyperopt>=0.2.7->xplainable>=1.2.4->xplainable-client) (1.16.0)\n",
            "Requirement already satisfied: future in /Users/jtuppack/miniforge3/envs/xplainable-dev/lib/python3.10/site-packages (from hyperopt>=0.2.7->xplainable>=1.2.4->xplainable-client) (0.18.3)\n",
            "Requirement already satisfied: cloudpickle in /Users/jtuppack/miniforge3/envs/xplainable-dev/lib/python3.10/site-packages (from hyperopt>=0.2.7->xplainable>=1.2.4->xplainable-client) (3.0.0)\n",
            "Requirement already satisfied: py4j in /Users/jtuppack/miniforge3/envs/xplainable-dev/lib/python3.10/site-packages (from hyperopt>=0.2.7->xplainable>=1.2.4->xplainable-client) (0.10.9.7)\n",
            "Requirement already satisfied: decorator in /Users/jtuppack/miniforge3/envs/xplainable-dev/lib/python3.10/site-packages (from ipython->xplainable>=1.2.4->xplainable-client) (5.1.1)\n",
            "Requirement already satisfied: jedi>=0.16 in /Users/jtuppack/miniforge3/envs/xplainable-dev/lib/python3.10/site-packages (from ipython->xplainable>=1.2.4->xplainable-client) (0.19.1)\n",
            "Requirement already satisfied: matplotlib-inline in /Users/jtuppack/miniforge3/envs/xplainable-dev/lib/python3.10/site-packages (from ipython->xplainable>=1.2.4->xplainable-client) (0.1.6)\n",
            "Requirement already satisfied: prompt-toolkit<3.1.0,>=3.0.41 in /Users/jtuppack/miniforge3/envs/xplainable-dev/lib/python3.10/site-packages (from ipython->xplainable>=1.2.4->xplainable-client) (3.0.41)\n",
            "Requirement already satisfied: pygments>=2.4.0 in /Users/jtuppack/miniforge3/envs/xplainable-dev/lib/python3.10/site-packages (from ipython->xplainable>=1.2.4->xplainable-client) (2.17.2)\n",
            "Requirement already satisfied: stack-data in /Users/jtuppack/miniforge3/envs/xplainable-dev/lib/python3.10/site-packages (from ipython->xplainable>=1.2.4->xplainable-client) (0.6.3)\n",
            "Requirement already satisfied: exceptiongroup in /Users/jtuppack/miniforge3/envs/xplainable-dev/lib/python3.10/site-packages (from ipython->xplainable>=1.2.4->xplainable-client) (1.2.0)\n",
            "Requirement already satisfied: pexpect>4.3 in /Users/jtuppack/miniforge3/envs/xplainable-dev/lib/python3.10/site-packages (from ipython->xplainable>=1.2.4->xplainable-client) (4.9.0)\n",
            "Requirement already satisfied: llvmlite<0.42,>=0.41.0dev0 in /Users/jtuppack/miniforge3/envs/xplainable-dev/lib/python3.10/site-packages (from numba>=0.56.4->xplainable>=1.2.4->xplainable-client) (0.41.1)\n",
            "Requirement already satisfied: parso<0.9.0,>=0.8.3 in /Users/jtuppack/miniforge3/envs/xplainable-dev/lib/python3.10/site-packages (from jedi>=0.16->ipython->xplainable>=1.2.4->xplainable-client) (0.8.3)\n",
            "Requirement already satisfied: ptyprocess>=0.5 in /Users/jtuppack/miniforge3/envs/xplainable-dev/lib/python3.10/site-packages (from pexpect>4.3->ipython->xplainable>=1.2.4->xplainable-client) (0.7.0)\n",
            "Requirement already satisfied: wcwidth in /Users/jtuppack/miniforge3/envs/xplainable-dev/lib/python3.10/site-packages (from prompt-toolkit<3.1.0,>=3.0.41->ipython->xplainable>=1.2.4->xplainable-client) (0.2.12)\n",
            "Requirement already satisfied: executing>=1.2.0 in /Users/jtuppack/miniforge3/envs/xplainable-dev/lib/python3.10/site-packages (from stack-data->ipython->xplainable>=1.2.4->xplainable-client) (2.0.1)\n",
            "Requirement already satisfied: asttokens>=2.1.0 in /Users/jtuppack/miniforge3/envs/xplainable-dev/lib/python3.10/site-packages (from stack-data->ipython->xplainable>=1.2.4->xplainable-client) (2.4.1)\n",
            "Requirement already satisfied: pure-eval in /Users/jtuppack/miniforge3/envs/xplainable-dev/lib/python3.10/site-packages (from stack-data->ipython->xplainable>=1.2.4->xplainable-client) (0.2.2)\n",
            "Collecting kaggle\n",
            "  Downloading kaggle-1.6.17.tar.gz (82 kB)\n",
            "\u001b[2K     \u001b[90m━━━━━━━━━━━━━━━━━━━━━━━━━━━━━━━━━━━━━━━\u001b[0m \u001b[32m82.7/82.7 kB\u001b[0m \u001b[31m162.6 kB/s\u001b[0m eta \u001b[36m0:00:00\u001b[0m00:01\u001b[0m00:01\u001b[0m\n",
            "\u001b[?25h  Preparing metadata (setup.py) ... \u001b[?25ldone\n",
            "\u001b[?25hRequirement already satisfied: six>=1.10 in /Users/jtuppack/miniforge3/envs/xplainable-dev/lib/python3.10/site-packages (from kaggle) (1.16.0)\n",
            "Requirement already satisfied: certifi>=2023.7.22 in /Users/jtuppack/miniforge3/envs/xplainable-dev/lib/python3.10/site-packages (from kaggle) (2023.11.17)\n",
            "Requirement already satisfied: python-dateutil in /Users/jtuppack/miniforge3/envs/xplainable-dev/lib/python3.10/site-packages (from kaggle) (2.8.2)\n",
            "Requirement already satisfied: requests in /Users/jtuppack/miniforge3/envs/xplainable-dev/lib/python3.10/site-packages (from kaggle) (2.31.0)\n",
            "Requirement already satisfied: tqdm in /Users/jtuppack/miniforge3/envs/xplainable-dev/lib/python3.10/site-packages (from kaggle) (4.66.1)\n",
            "Collecting python-slugify (from kaggle)\n",
            "  Downloading python_slugify-8.0.4-py2.py3-none-any.whl.metadata (8.5 kB)\n",
            "Requirement already satisfied: urllib3 in /Users/jtuppack/miniforge3/envs/xplainable-dev/lib/python3.10/site-packages (from kaggle) (2.1.0)\n",
            "Requirement already satisfied: bleach in /Users/jtuppack/miniforge3/envs/xplainable-dev/lib/python3.10/site-packages (from kaggle) (6.1.0)\n",
            "Requirement already satisfied: webencodings in /Users/jtuppack/miniforge3/envs/xplainable-dev/lib/python3.10/site-packages (from bleach->kaggle) (0.5.1)\n",
            "Collecting text-unidecode>=1.3 (from python-slugify->kaggle)\n",
            "  Downloading text_unidecode-1.3-py2.py3-none-any.whl.metadata (2.4 kB)\n",
            "Requirement already satisfied: charset-normalizer<4,>=2 in /Users/jtuppack/miniforge3/envs/xplainable-dev/lib/python3.10/site-packages (from requests->kaggle) (3.3.2)\n",
            "Requirement already satisfied: idna<4,>=2.5 in /Users/jtuppack/miniforge3/envs/xplainable-dev/lib/python3.10/site-packages (from requests->kaggle) (3.6)\n",
            "Downloading python_slugify-8.0.4-py2.py3-none-any.whl (10 kB)\n",
            "Downloading text_unidecode-1.3-py2.py3-none-any.whl (78 kB)\n",
            "\u001b[2K   \u001b[90m━━━━━━━━━━━━━━━━━━━━━━━━━━━━━━━━━━━━━━━━\u001b[0m \u001b[32m78.2/78.2 kB\u001b[0m \u001b[31m494.4 kB/s\u001b[0m eta \u001b[36m0:00:00\u001b[0ma \u001b[36m0:00:01\u001b[0m\n",
            "\u001b[?25hBuilding wheels for collected packages: kaggle\n",
            "  Building wheel for kaggle (setup.py) ... \u001b[?25ldone\n",
            "\u001b[?25h  Created wheel for kaggle: filename=kaggle-1.6.17-py3-none-any.whl size=105786 sha256=abe59f290d0441fc580ee9cf74b91b1c6f25262d844d97acdf0e4604e2d1ad61\n",
            "  Stored in directory: /Users/jtuppack/Library/Caches/pip/wheels/9f/af/22/bf406f913dc7506a485e60dce8143741abd0a92a19337d83a3\n",
            "Successfully built kaggle\n",
            "Installing collected packages: text-unidecode, python-slugify, kaggle\n",
            "Successfully installed kaggle-1.6.17 python-slugify-8.0.4 text-unidecode-1.3\n"
          ]
        }
      ],
      "source": [
        "!pip install xplainable\n",
        "!pip install altair==5.4.1 #Upgrade this to work in Google Colab\n",
        "!pip install xplainable-client\n",
        "!pip install kaggle"
      ]
    },
    {
      "cell_type": "code",
      "execution_count": 39,
      "metadata": {
        "id": "aRRTCJxIzk6m"
      },
      "outputs": [],
      "source": [
        "import pandas as pd\n",
        "from sklearn.model_selection import train_test_split\n",
        "import json\n",
        "import requests\n",
        "\n",
        "import xplainable_client\n",
        "import xplainable as xp\n",
        "from xplainable.core import XClassifier\n",
        "from xplainable.core.optimisation.bayesian import XParamOptimiser"
      ]
    },
    {
      "cell_type": "markdown",
      "metadata": {},
      "source": [
        "# 1. Import CSV and Perform Data Processing"
      ]
    },
    {
      "cell_type": "code",
      "execution_count": 18,
      "metadata": {},
      "outputs": [
        {
          "name": "stdout",
          "output_type": "stream",
          "text": [
            "Error downloading dataset from Kaggle: Could not find kaggle.json. Make sure it's located in /Users/jtuppack/.kaggle. Or use the environment method. See setup instructions at https://github.com/Kaggle/kaggle-api/. Falling back to local version.\n",
            "Dataset loaded from local path.\n"
          ]
        },
        {
          "data": {
            "text/html": [
              "<div>\n",
              "<style scoped>\n",
              "    .dataframe tbody tr th:only-of-type {\n",
              "        vertical-align: middle;\n",
              "    }\n",
              "\n",
              "    .dataframe tbody tr th {\n",
              "        vertical-align: top;\n",
              "    }\n",
              "\n",
              "    .dataframe thead th {\n",
              "        text-align: right;\n",
              "    }\n",
              "</style>\n",
              "<table border=\"1\" class=\"dataframe\">\n",
              "  <thead>\n",
              "    <tr style=\"text-align: right;\">\n",
              "      <th></th>\n",
              "      <th>RiskPerformance</th>\n",
              "      <th>ExternalRiskEstimate</th>\n",
              "      <th>MSinceOldestTradeOpen</th>\n",
              "      <th>MSinceMostRecentTradeOpen</th>\n",
              "      <th>AverageMInFile</th>\n",
              "      <th>NumSatisfactoryTrades</th>\n",
              "      <th>NumTrades60Ever2DerogPubRec</th>\n",
              "      <th>NumTrades90Ever2DerogPubRec</th>\n",
              "      <th>PercentTradesNeverDelq</th>\n",
              "      <th>MSinceMostRecentDelq</th>\n",
              "      <th>...</th>\n",
              "      <th>PercentInstallTrades</th>\n",
              "      <th>MSinceMostRecentInqexcl7days</th>\n",
              "      <th>NumInqLast6M</th>\n",
              "      <th>NumInqLast6Mexcl7days</th>\n",
              "      <th>NetFractionRevolvingBurden</th>\n",
              "      <th>NetFractionInstallBurden</th>\n",
              "      <th>NumRevolvingTradesWBalance</th>\n",
              "      <th>NumInstallTradesWBalance</th>\n",
              "      <th>NumBank2NatlTradesWHighUtilization</th>\n",
              "      <th>PercentTradesWBalance</th>\n",
              "    </tr>\n",
              "  </thead>\n",
              "  <tbody>\n",
              "    <tr>\n",
              "      <th>0</th>\n",
              "      <td>Bad</td>\n",
              "      <td>55</td>\n",
              "      <td>144</td>\n",
              "      <td>4</td>\n",
              "      <td>84</td>\n",
              "      <td>20</td>\n",
              "      <td>3</td>\n",
              "      <td>0</td>\n",
              "      <td>83</td>\n",
              "      <td>2</td>\n",
              "      <td>...</td>\n",
              "      <td>43</td>\n",
              "      <td>0</td>\n",
              "      <td>0</td>\n",
              "      <td>0</td>\n",
              "      <td>33</td>\n",
              "      <td>-8</td>\n",
              "      <td>8</td>\n",
              "      <td>1</td>\n",
              "      <td>1</td>\n",
              "      <td>69</td>\n",
              "    </tr>\n",
              "    <tr>\n",
              "      <th>1</th>\n",
              "      <td>Bad</td>\n",
              "      <td>61</td>\n",
              "      <td>58</td>\n",
              "      <td>15</td>\n",
              "      <td>41</td>\n",
              "      <td>2</td>\n",
              "      <td>4</td>\n",
              "      <td>4</td>\n",
              "      <td>100</td>\n",
              "      <td>-7</td>\n",
              "      <td>...</td>\n",
              "      <td>67</td>\n",
              "      <td>0</td>\n",
              "      <td>0</td>\n",
              "      <td>0</td>\n",
              "      <td>0</td>\n",
              "      <td>-8</td>\n",
              "      <td>0</td>\n",
              "      <td>-8</td>\n",
              "      <td>-8</td>\n",
              "      <td>0</td>\n",
              "    </tr>\n",
              "    <tr>\n",
              "      <th>2</th>\n",
              "      <td>Bad</td>\n",
              "      <td>67</td>\n",
              "      <td>66</td>\n",
              "      <td>5</td>\n",
              "      <td>24</td>\n",
              "      <td>9</td>\n",
              "      <td>0</td>\n",
              "      <td>0</td>\n",
              "      <td>100</td>\n",
              "      <td>-7</td>\n",
              "      <td>...</td>\n",
              "      <td>44</td>\n",
              "      <td>0</td>\n",
              "      <td>4</td>\n",
              "      <td>4</td>\n",
              "      <td>53</td>\n",
              "      <td>66</td>\n",
              "      <td>4</td>\n",
              "      <td>2</td>\n",
              "      <td>1</td>\n",
              "      <td>86</td>\n",
              "    </tr>\n",
              "    <tr>\n",
              "      <th>3</th>\n",
              "      <td>Bad</td>\n",
              "      <td>66</td>\n",
              "      <td>169</td>\n",
              "      <td>1</td>\n",
              "      <td>73</td>\n",
              "      <td>28</td>\n",
              "      <td>1</td>\n",
              "      <td>1</td>\n",
              "      <td>93</td>\n",
              "      <td>76</td>\n",
              "      <td>...</td>\n",
              "      <td>57</td>\n",
              "      <td>0</td>\n",
              "      <td>5</td>\n",
              "      <td>4</td>\n",
              "      <td>72</td>\n",
              "      <td>83</td>\n",
              "      <td>6</td>\n",
              "      <td>4</td>\n",
              "      <td>3</td>\n",
              "      <td>91</td>\n",
              "    </tr>\n",
              "    <tr>\n",
              "      <th>4</th>\n",
              "      <td>Bad</td>\n",
              "      <td>81</td>\n",
              "      <td>333</td>\n",
              "      <td>27</td>\n",
              "      <td>132</td>\n",
              "      <td>12</td>\n",
              "      <td>0</td>\n",
              "      <td>0</td>\n",
              "      <td>100</td>\n",
              "      <td>-7</td>\n",
              "      <td>...</td>\n",
              "      <td>25</td>\n",
              "      <td>0</td>\n",
              "      <td>1</td>\n",
              "      <td>1</td>\n",
              "      <td>51</td>\n",
              "      <td>89</td>\n",
              "      <td>3</td>\n",
              "      <td>1</td>\n",
              "      <td>0</td>\n",
              "      <td>80</td>\n",
              "    </tr>\n",
              "  </tbody>\n",
              "</table>\n",
              "<p>5 rows × 24 columns</p>\n",
              "</div>"
            ],
            "text/plain": [
              "  RiskPerformance  ExternalRiskEstimate  MSinceOldestTradeOpen  \\\n",
              "0             Bad                    55                    144   \n",
              "1             Bad                    61                     58   \n",
              "2             Bad                    67                     66   \n",
              "3             Bad                    66                    169   \n",
              "4             Bad                    81                    333   \n",
              "\n",
              "   MSinceMostRecentTradeOpen  AverageMInFile  NumSatisfactoryTrades  \\\n",
              "0                          4              84                     20   \n",
              "1                         15              41                      2   \n",
              "2                          5              24                      9   \n",
              "3                          1              73                     28   \n",
              "4                         27             132                     12   \n",
              "\n",
              "   NumTrades60Ever2DerogPubRec  NumTrades90Ever2DerogPubRec  \\\n",
              "0                            3                            0   \n",
              "1                            4                            4   \n",
              "2                            0                            0   \n",
              "3                            1                            1   \n",
              "4                            0                            0   \n",
              "\n",
              "   PercentTradesNeverDelq  MSinceMostRecentDelq  ...  PercentInstallTrades  \\\n",
              "0                      83                     2  ...                    43   \n",
              "1                     100                    -7  ...                    67   \n",
              "2                     100                    -7  ...                    44   \n",
              "3                      93                    76  ...                    57   \n",
              "4                     100                    -7  ...                    25   \n",
              "\n",
              "   MSinceMostRecentInqexcl7days  NumInqLast6M  NumInqLast6Mexcl7days  \\\n",
              "0                             0             0                      0   \n",
              "1                             0             0                      0   \n",
              "2                             0             4                      4   \n",
              "3                             0             5                      4   \n",
              "4                             0             1                      1   \n",
              "\n",
              "   NetFractionRevolvingBurden  NetFractionInstallBurden  \\\n",
              "0                          33                        -8   \n",
              "1                           0                        -8   \n",
              "2                          53                        66   \n",
              "3                          72                        83   \n",
              "4                          51                        89   \n",
              "\n",
              "   NumRevolvingTradesWBalance  NumInstallTradesWBalance  \\\n",
              "0                           8                         1   \n",
              "1                           0                        -8   \n",
              "2                           4                         2   \n",
              "3                           6                         4   \n",
              "4                           3                         1   \n",
              "\n",
              "   NumBank2NatlTradesWHighUtilization  PercentTradesWBalance  \n",
              "0                                   1                     69  \n",
              "1                                  -8                      0  \n",
              "2                                   1                     86  \n",
              "3                                   3                     91  \n",
              "4                                   0                     80  \n",
              "\n",
              "[5 rows x 24 columns]"
            ]
          },
          "execution_count": 18,
          "metadata": {},
          "output_type": "execute_result"
        }
      ],
      "source": [
        "import os\n",
        "import pandas as pd\n",
        "\n",
        "def load_heloc_data(\n",
        "        use_kaggle=True, \n",
        "        kaggle_dataset_path=\"./data/heloc_dataset.csv\", \n",
        "        local_path='./data/heloc_dataset.csv'):\n",
        "    # Check if using Kaggle API\n",
        "    if use_kaggle:\n",
        "        try:\n",
        "            # Import the Kaggle API\n",
        "            from kaggle.api.kaggle_api_extended import KaggleApi\n",
        "\n",
        "            # Initialize and authenticate the Kaggle API\n",
        "            api = KaggleApi()\n",
        "            api.authenticate()\n",
        "\n",
        "            # Download the dataset\n",
        "            print(\"Downloading dataset from Kaggle...\")\n",
        "            api.dataset_download_files(kaggle_dataset_path, path='./data', unzip=True)\n",
        "\n",
        "            # Load the dataset\n",
        "            data = pd.read_csv('./data/heloc_dataset.csv')\n",
        "            print(\"Dataset loaded from Kaggle.\")\n",
        "            return data\n",
        "\n",
        "        except Exception as e:\n",
        "            print(f\"Error downloading dataset from Kaggle: {e}. Falling back to local version.\")\n",
        "\n",
        "    # Load from the local path if Kaggle download fails or is not selected\n",
        "    try:\n",
        "        data = pd.read_csv(local_path)\n",
        "        print(\"Dataset loaded from local path.\")\n",
        "        return data\n",
        "    except FileNotFoundError:\n",
        "        print(\"Local file not found. Please check the file path.\")\n",
        "\n",
        "# Usage\n",
        "data = load_heloc_data(use_kaggle=True)  # Set to False to skip Kaggle and use the local file\n",
        "data.head()\n"
      ]
    },
    {
      "cell_type": "markdown",
      "metadata": {
        "id": "UCVJOniLSY9X"
      },
      "source": [
        "Where the defition of each of the fields are below:"
      ]
    },
    {
      "cell_type": "markdown",
      "metadata": {
        "id": "gKUJrwVESUZD"
      },
      "source": [
        "| Variable Names                       | Description                                                                                             |\n",
        "|--------------------------------------|---------------------------------------------------------------------------------------------------------|\n",
        "| RiskPerformance                      | Paid as negotiated flag (12-36 Months). String of Good and Bad                                          |\n",
        "| ExternalRiskEstimate                 | Consolidated version of risk markers                                                                    |\n",
        "| MSinceOldestTradeOpen                | Months Since Oldest Trade Open                                                                          |\n",
        "| MSinceMostRecentTradeOpen            | Months Since Most Recent Trade Open                                                                     |\n",
        "| AverageMInFile                       | Average Months in File                                                                                  |\n",
        "| NumSatisfactoryTrades                | Number of Satisfactory Trades                                                                           |\n",
        "| NumTrades60Ever2DerogPubRec          | Number of Trades 60+ Ever                                                                               |\n",
        "| NumTrades90Ever2DerogPubRec          | Number of Trades 90+ Ever                                                                               |\n",
        "| PercentTradesNeverDelq               | Percent of Trades Never Delinquent                                                                      |\n",
        "| MSinceMostRecentDelq                 | Months Since Most Recent Delinquency                                                                    |\n",
        "| MaxDelq2PublicRecLast12M             | Max Delinquency/Public Records in the Last 12 Months. See tab 'MaxDelq' for each category               |\n",
        "| MaxDelqEver                          | Max Delinquency Ever. See tab 'MaxDelq' for each category                                               |\n",
        "| NumTotalTrades                       | Number of Total Trades (total number of credit accounts)                                                |\n",
        "| NumTradesOpeninLast12M               | Number of Trades Open in Last 12 Months                                                                 |\n",
        "| PercentInstallTrades                 | Percent of Installment Trades                                                                           |\n",
        "| MSinceMostRecentInqexcl7days         | Months Since Most Recent Inquiry excluding the last 7 days                                              |\n",
        "| NumInqLast6M                         | Number of Inquiries in the Last 6 Months                                                                |\n",
        "| NumInqLast6Mexcl7days                | Number of Inquiries in the Last 6 Months excluding the last 7 days. Excluding the last 7 days removes inquiries that are likely due to price comparison shopping. |\n",
        "| NetFractionRevolvingBurden           | This is the revolving balance divided by the credit limit                                               |\n",
        "| NetFractionInstallBurden             | This is the installment balance divided by the original loan amount                                     |\n",
        "| NumRevolvingTradesWBalance           | Number of Revolving Trades with Balance                                                                 |\n",
        "| NumInstallTradesWBalance             | Number of Installment Trades with Balance                                                               |\n",
        "| NumBank2NatlTradesWHighUtilization   | Number of Bank/National Trades with high utilization ratio                                              |\n",
        "| PercentTradesWBalance                | Percent of Trades with Balance                                                                          |\n"
      ]
    },
    {
      "cell_type": "markdown",
      "metadata": {
        "id": "GYw6pCW4yesQ"
      },
      "source": [
        "### Seperate data into target (y) and features (x)\n"
      ]
    },
    {
      "cell_type": "code",
      "execution_count": 19,
      "metadata": {
        "id": "eON7wo-xye8Q"
      },
      "outputs": [],
      "source": [
        "y = data['RiskPerformance']\n",
        "x = data.drop('RiskPerformance',axis=1)"
      ]
    },
    {
      "cell_type": "markdown",
      "metadata": {
        "id": "4IfM3ntzyjXg"
      },
      "source": [
        "### Create test and train datasets\n"
      ]
    },
    {
      "cell_type": "code",
      "execution_count": 20,
      "metadata": {
        "id": "cwbzuUDjyjmP"
      },
      "outputs": [],
      "source": [
        "x_train, x_test, y_train, y_test = train_test_split(x,y, test_size=0.2, random_state=42, stratify=y)"
      ]
    },
    {
      "cell_type": "markdown",
      "metadata": {
        "id": "2RFrvojTzDj4"
      },
      "source": [
        "# 2. Model Optimisation\n",
        "\n",
        "Xplainable's ```XParamOptimiser ```fine-tunes the hyperparameters of our model. This produces the most optimal parameters that will result in the best model performance.\n",
        "\n"
      ]
    },
    {
      "cell_type": "code",
      "execution_count": 21,
      "metadata": {
        "colab": {
          "base_uri": "https://localhost:8080/"
        },
        "id": "AOZ2R_RKzC_x",
        "outputId": "267b5c8c-f1f7-4e7f-bef4-604c5a976f1c"
      },
      "outputs": [
        {
          "name": "stdout",
          "output_type": "stream",
          "text": [
            " 74%|███████▍  | 223/300 [00:14<00:04, 15.92trial/s, best loss: -0.7057194555537591]\n"
          ]
        }
      ],
      "source": [
        "y_train_df = pd.Series(y_train)\n",
        "\n",
        "optimiser = XParamOptimiser(metric='f1-score',n_trials=300, n_folds=2, early_stopping=150)\n",
        "params = optimiser.optimise(x_train, y_train_df)"
      ]
    },
    {
      "cell_type": "markdown",
      "metadata": {
        "id": "JM_9p6rGn0fM"
      },
      "source": [
        "## 3. Model Training\n",
        "\n",
        "The `XClassifier` is trained on the dataset, with the optimised parameters."
      ]
    },
    {
      "cell_type": "code",
      "execution_count": 22,
      "metadata": {
        "colab": {
          "base_uri": "https://localhost:8080/"
        },
        "id": "hNIVGJM8GmTz",
        "outputId": "03573ada-529f-4829-dd67-f26e2ad5b1dc"
      },
      "outputs": [
        {
          "data": {
            "text/plain": [
              "<xplainable.core.ml.classification.XClassifier at 0x108e252a0>"
            ]
          },
          "execution_count": 22,
          "metadata": {},
          "output_type": "execute_result"
        }
      ],
      "source": [
        "model = XClassifier(**params)\n",
        "model.fit(x_train, y_train)"
      ]
    },
    {
      "cell_type": "markdown",
      "metadata": {
        "id": "IaPfcrnK0INf"
      },
      "source": [
        "# 4. Explaining and Interpreting the Model\n",
        "\n",
        "Following training, the `model.explain()` method is called to generate insights into the model's decision-making process. This step is crucial for understanding the factors that influence the model's predictions and ensuring that the model's behaviour is transparent and explainable."
      ]
    },
    {
      "cell_type": "code",
      "execution_count": 13,
      "metadata": {
        "colab": {
          "base_uri": "https://localhost:8080/",
          "height": 141
        },
        "id": "kKBelQXMKtK6",
        "outputId": "a564973d-66e9-4b5e-ef37-bd7719662eb4"
      },
      "outputs": [
        {
          "data": {
            "text/html": [
              "\n",
              "    <style>\n",
              "    .vega-bind {\n",
              "      text-align:right;\n",
              "    }\n",
              "    </style>\n",
              "    "
            ],
            "text/plain": [
              "<IPython.core.display.HTML object>"
            ]
          },
          "metadata": {},
          "output_type": "display_data"
        },
        {
          "data": {
            "text/html": [
              "\n",
              "<style>\n",
              "  #altair-viz-d5f6acc88ff349979612eb2b9baf9c0a.vega-embed {\n",
              "    width: 100%;\n",
              "    display: flex;\n",
              "  }\n",
              "\n",
              "  #altair-viz-d5f6acc88ff349979612eb2b9baf9c0a.vega-embed details,\n",
              "  #altair-viz-d5f6acc88ff349979612eb2b9baf9c0a.vega-embed details summary {\n",
              "    position: relative;\n",
              "  }\n",
              "</style>\n",
              "<div id=\"altair-viz-d5f6acc88ff349979612eb2b9baf9c0a\"></div>\n",
              "<script type=\"text/javascript\">\n",
              "  var VEGA_DEBUG = (typeof VEGA_DEBUG == \"undefined\") ? {} : VEGA_DEBUG;\n",
              "  (function(spec, embedOpt){\n",
              "    let outputDiv = document.currentScript.previousElementSibling;\n",
              "    if (outputDiv.id !== \"altair-viz-d5f6acc88ff349979612eb2b9baf9c0a\") {\n",
              "      outputDiv = document.getElementById(\"altair-viz-d5f6acc88ff349979612eb2b9baf9c0a\");\n",
              "    }\n",
              "    const paths = {\n",
              "      \"vega\": \"https://cdn.jsdelivr.net/npm/vega@5?noext\",\n",
              "      \"vega-lib\": \"https://cdn.jsdelivr.net/npm/vega-lib?noext\",\n",
              "      \"vega-lite\": \"https://cdn.jsdelivr.net/npm/vega-lite@5.20.1?noext\",\n",
              "      \"vega-embed\": \"https://cdn.jsdelivr.net/npm/vega-embed@6?noext\",\n",
              "    };\n",
              "\n",
              "    function maybeLoadScript(lib, version) {\n",
              "      var key = `${lib.replace(\"-\", \"\")}_version`;\n",
              "      return (VEGA_DEBUG[key] == version) ?\n",
              "        Promise.resolve(paths[lib]) :\n",
              "        new Promise(function(resolve, reject) {\n",
              "          var s = document.createElement('script');\n",
              "          document.getElementsByTagName(\"head\")[0].appendChild(s);\n",
              "          s.async = true;\n",
              "          s.onload = () => {\n",
              "            VEGA_DEBUG[key] = version;\n",
              "            return resolve(paths[lib]);\n",
              "          };\n",
              "          s.onerror = () => reject(`Error loading script: ${paths[lib]}`);\n",
              "          s.src = paths[lib];\n",
              "        });\n",
              "    }\n",
              "\n",
              "    function showError(err) {\n",
              "      outputDiv.innerHTML = `<div class=\"error\" style=\"color:red;\">${err}</div>`;\n",
              "      throw err;\n",
              "    }\n",
              "\n",
              "    function displayChart(vegaEmbed) {\n",
              "      vegaEmbed(outputDiv, spec, embedOpt)\n",
              "        .catch(err => showError(`Javascript Error: ${err.message}<br>This usually means there's a typo in your chart specification. See the javascript console for the full traceback.`));\n",
              "    }\n",
              "\n",
              "    if(typeof define === \"function\" && define.amd) {\n",
              "      requirejs.config({paths});\n",
              "      require([\"vega-embed\"], displayChart, err => showError(`Error loading script: ${err.message}`));\n",
              "    } else {\n",
              "      maybeLoadScript(\"vega\", \"5\")\n",
              "        .then(() => maybeLoadScript(\"vega-lite\", \"5.20.1\"))\n",
              "        .then(() => maybeLoadScript(\"vega-embed\", \"6\"))\n",
              "        .catch(showError)\n",
              "        .then(() => displayChart(vegaEmbed));\n",
              "    }\n",
              "  })({\"config\": {\"view\": {\"continuousWidth\": 300, \"continuousHeight\": 300}}, \"hconcat\": [{\"mark\": {\"type\": \"bar\", \"color\": \"#0080ea\"}, \"encoding\": {\"color\": {\"condition\": {\"param\": \"param_1\", \"value\": \"lightgray\"}, \"value\": \"#0080ea\"}, \"tooltip\": {\"field\": \"importance_label\", \"type\": \"nominal\"}, \"x\": {\"field\": \"importance\", \"type\": \"quantitative\"}, \"y\": {\"field\": \"feature\", \"sort\": {\"field\": \"importance\", \"order\": \"descending\"}, \"type\": \"nominal\"}}, \"height\": 400, \"name\": \"view_1\", \"title\": \"Feature Importances\", \"transform\": [{\"filter\": {\"param\": \"param_2\"}}], \"width\": 330}, {\"mark\": {\"type\": \"bar\", \"color\": \"#0080ea\"}, \"encoding\": {\"x\": {\"axis\": {\"labels\": false, \"title\": null}, \"field\": \"importance\", \"type\": \"quantitative\"}, \"y\": {\"axis\": {\"labels\": false, \"title\": null}, \"field\": \"feature\", \"sort\": \"-x\", \"type\": \"nominal\"}}, \"height\": 400, \"name\": \"view_2\", \"width\": 25}, {\"data\": {\"name\": \"data-609bc98aa9bf5908884b84c5eca62db5\"}, \"mark\": {\"type\": \"bar\", \"color\": \"#e14067\"}, \"encoding\": {\"color\": {\"condition\": {\"test\": \"(datum.contribution < 0)\", \"value\": \"#e14067\"}, \"value\": \"#12b980\"}, \"tooltip\": {\"field\": \"score_label\", \"type\": \"nominal\"}, \"x\": {\"field\": \"val\", \"type\": \"quantitative\"}, \"y\": {\"field\": \"value\", \"sort\": {\"field\": \"index\", \"order\": \"descending\"}, \"type\": \"nominal\"}}, \"height\": 400, \"name\": \"view_3\", \"title\": \"Contributions\", \"transform\": [{\"fold\": [\"contribution\", \"mean\", \"frequency\"], \"as\": [\"column\", \"val\"]}, {\"filter\": {\"param\": \"Select\"}}, {\"filter\": {\"param\": \"param_1\"}}, {\"filter\": {\"param\": \"param_3\"}}], \"width\": 330}, {\"data\": {\"name\": \"data-609bc98aa9bf5908884b84c5eca62db5\"}, \"mark\": {\"type\": \"bar\", \"color\": \"#e14067\"}, \"encoding\": {\"color\": {\"condition\": {\"test\": \"(datum.contribution < 0)\", \"value\": \"#e14067\"}, \"value\": \"#12b980\"}, \"x\": {\"axis\": {\"labels\": false, \"title\": null}, \"field\": \"contribution\", \"type\": \"quantitative\"}, \"y\": {\"axis\": {\"labels\": false, \"title\": null}, \"field\": \"value\", \"sort\": {\"field\": \"index\", \"order\": \"descending\"}, \"type\": \"nominal\"}}, \"height\": 400, \"name\": \"view_4\", \"transform\": [{\"filter\": {\"param\": \"param_1\"}}], \"width\": 25}], \"data\": {\"name\": \"data-11da4023462776382c973124bac0b31b\"}, \"params\": [{\"name\": \"param_1\", \"select\": {\"type\": \"point\", \"fields\": [\"feature\"]}, \"value\": \"ExternalRiskEstimate\", \"views\": [\"view_1\"]}, {\"name\": \"Select\", \"select\": {\"type\": \"point\", \"fields\": [\"column\"]}, \"bind\": {\"input\": \"select\", \"options\": [\"contribution\", \"mean\", \"frequency\"]}, \"value\": \"contribution\", \"views\": [\"view_1\", \"view_3\"]}, {\"name\": \"param_2\", \"select\": {\"type\": \"interval\", \"encodings\": [\"y\"]}, \"views\": [\"view_2\"]}, {\"name\": \"param_3\", \"select\": {\"type\": \"interval\", \"encodings\": [\"y\"]}, \"views\": [\"view_4\"]}], \"$schema\": \"https://vega.github.io/schema/vega-lite/v5.20.1.json\", \"datasets\": {\"data-11da4023462776382c973124bac0b31b\": [{\"feature\": \"NumInstallTradesWBalance\", \"importance\": 0.0017463979252082453, \"importance_label\": \"0.2%\"}, {\"feature\": \"NumTradesOpeninLast12M\", \"importance\": 0.0034616787873848276, \"importance_label\": \"0.3%\"}, {\"feature\": \"MSinceMostRecentTradeOpen\", \"importance\": 0.006971140762267456, \"importance_label\": \"0.7%\"}, {\"feature\": \"NumTrades90Ever2DerogPubRec\", \"importance\": 0.008088170168829924, \"importance_label\": \"0.8%\"}, {\"feature\": \"NetFractionInstallBurden\", \"importance\": 0.009793242167802158, \"importance_label\": \"1.0%\"}, {\"feature\": \"NumInqLast6M\", \"importance\": 0.012815658737842928, \"importance_label\": \"1.3%\"}, {\"feature\": \"NumTrades60Ever2DerogPubRec\", \"importance\": 0.014707919254145467, \"importance_label\": \"1.5%\"}, {\"feature\": \"NumInqLast6Mexcl7days\", \"importance\": 0.014812459625288979, \"importance_label\": \"1.5%\"}, {\"feature\": \"MaxDelq2PublicRecLast12M\", \"importance\": 0.020078179859345915, \"importance_label\": \"2.0%\"}, {\"feature\": \"MaxDelqEver\", \"importance\": 0.02197666395184635, \"importance_label\": \"2.2%\"}, {\"feature\": \"NumTotalTrades\", \"importance\": 0.026754966647769485, \"importance_label\": \"2.7%\"}, {\"feature\": \"NumRevolvingTradesWBalance\", \"importance\": 0.02913222284369565, \"importance_label\": \"2.9%\"}, {\"feature\": \"NumBank2NatlTradesWHighUtilization\", \"importance\": 0.0340984197422879, \"importance_label\": \"3.4%\"}, {\"feature\": \"PercentInstallTrades\", \"importance\": 0.03754311654248477, \"importance_label\": \"3.8%\"}, {\"feature\": \"PercentTradesNeverDelq\", \"importance\": 0.042121994714015974, \"importance_label\": \"4.2%\"}, {\"feature\": \"MSinceMostRecentDelq\", \"importance\": 0.04572174875362317, \"importance_label\": \"4.6%\"}, {\"feature\": \"NumSatisfactoryTrades\", \"importance\": 0.049593246655010956, \"importance_label\": \"5.0%\"}, {\"feature\": \"MSinceMostRecentInqexcl7days\", \"importance\": 0.06336365703603454, \"importance_label\": \"6.3%\"}, {\"feature\": \"MSinceOldestTradeOpen\", \"importance\": 0.07436391639228818, \"importance_label\": \"7.4%\"}, {\"feature\": \"AverageMInFile\", \"importance\": 0.09703441273793359, \"importance_label\": \"9.7%\"}, {\"feature\": \"PercentTradesWBalance\", \"importance\": 0.0970357648096305, \"importance_label\": \"9.7%\"}, {\"feature\": \"NetFractionRevolvingBurden\", \"importance\": 0.12880065364487905, \"importance_label\": \"12.9%\"}, {\"feature\": \"ExternalRiskEstimate\", \"importance\": 0.1599843682403841, \"importance_label\": \"16.0%\"}], \"data-609bc98aa9bf5908884b84c5eca62db5\": [{\"index\": 0, \"value\": \"-inf - 54.5\", \"contribution\": -0.008876359051037085, \"mean\": 0.3954248366013072, \"frequency\": 0.07314449623520976, \"feature\": \"ExternalRiskEstimate\", \"score_label\": \"-0.9\"}, {\"index\": 1, \"value\": \"54.5 - 57.5\", \"contribution\": -0.033757077843488574, \"mean\": 0.16377171215881006, \"frequency\": 0.0481654117365842, \"feature\": \"ExternalRiskEstimate\", \"score_label\": \"-3.4\"}, {\"index\": 2, \"value\": \"57.5 - 61.5\", \"contribution\": -0.032454408552484396, \"mean\": 0.17590027700830962, \"frequency\": 0.08629138281343372, \"feature\": \"ExternalRiskEstimate\", \"score_label\": \"-3.2\"}, {\"index\": 3, \"value\": \"61.5 - 64.5\", \"contribution\": -0.026454828274043513, \"mean\": 0.23175965665236042, \"frequency\": 0.08354248834707781, \"feature\": \"ExternalRiskEstimate\", \"score_label\": \"-2.6\"}, {\"index\": 4, \"value\": \"64.5 - 67.5\", \"contribution\": -0.018834502005451913, \"mean\": 0.30270906949352167, \"frequency\": 0.10147006095374686, \"feature\": \"ExternalRiskEstimate\", \"score_label\": \"-1.9\"}, {\"index\": 5, \"value\": \"67.5 - 69.5\", \"contribution\": -0.010494705670801262, \"mean\": 0.38035714285714317, \"frequency\": 0.06692960439823115, \"feature\": \"ExternalRiskEstimate\", \"score_label\": \"-1.0\"}, {\"index\": 6, \"value\": \"69.5 - 71.5\", \"contribution\": -0.008086615929076248, \"mean\": 0.4027777777777777, \"frequency\": 0.06023664395840803, \"feature\": \"ExternalRiskEstimate\", \"score_label\": \"-0.8\"}, {\"index\": 7, \"value\": \"71.5 - 74.5\", \"contribution\": 0.0002461860749729635, \"mean\": 0.4795673076923077, \"frequency\": 0.0994382693916577, \"feature\": \"ExternalRiskEstimate\", \"score_label\": \"0.0\"}, {\"index\": 8, \"value\": \"74.5 - 76.5\", \"contribution\": 0.018488081428343323, \"mean\": 0.5906183368869932, \"frequency\": 0.056053543683518586, \"feature\": \"ExternalRiskEstimate\", \"score_label\": \"1.8\"}, {\"index\": 9, \"value\": \"76.5 - 78.5\", \"contribution\": 0.02258708016025729, \"mean\": 0.6155717761557178, \"frequency\": 0.04912154894227322, \"feature\": \"ExternalRiskEstimate\", \"score_label\": \"2.3\"}, {\"index\": 10, \"value\": \"78.5 - 80.5\", \"contribution\": 0.03595798148587595, \"mean\": 0.696969696969697, \"frequency\": 0.05521692362854069, \"feature\": \"ExternalRiskEstimate\", \"score_label\": \"3.6\"}, {\"index\": 11, \"value\": \"80.5 - 82.5\", \"contribution\": 0.04255014222316134, \"mean\": 0.7371007371007371, \"frequency\": 0.04864348033942871, \"feature\": \"ExternalRiskEstimate\", \"score_label\": \"4.3\"}, {\"index\": 12, \"value\": \"82.5 - 84.5\", \"contribution\": 0.04809942448035796, \"mean\": 0.7708830548926014, \"frequency\": 0.050077686147962236, \"feature\": \"ExternalRiskEstimate\", \"score_label\": \"4.8\"}, {\"index\": 13, \"value\": \"84.5 - 87.5\", \"contribution\": 0.058409628189669376, \"mean\": 0.833648393194707, \"frequency\": 0.0632245727261862, \"feature\": \"ExternalRiskEstimate\", \"score_label\": \"5.8\"}, {\"index\": 14, \"value\": \"87.5 - inf\", \"contribution\": 0.060877289984701634, \"mean\": 0.8486707566462167, \"frequency\": 0.05844388669774113, \"feature\": \"ExternalRiskEstimate\", \"score_label\": \"6.1\"}, {\"index\": 15, \"value\": \"nan - nan\", \"contribution\": 0.0, \"mean\": 0.0, \"frequency\": 0.0, \"feature\": \"ExternalRiskEstimate\", \"score_label\": \"0.0\"}, {\"index\": 0, \"value\": \"-inf - -8.5\", \"contribution\": -0.0025265052623417955, \"mean\": 0.45454545454545453, \"frequency\": 0.056531612286363095, \"feature\": \"MSinceOldestTradeOpen\", \"score_label\": \"-0.3\"}, {\"index\": 1, \"value\": \"-8.5 - 36.5\", \"contribution\": -0.013578175244786881, \"mean\": 0.3516483516483517, \"frequency\": 0.043504242858850246, \"feature\": \"MSinceOldestTradeOpen\", \"score_label\": \"-1.4\"}, {\"index\": 2, \"value\": \"36.5 - 76.5\", \"contribution\": -0.02591492313216745, \"mean\": 0.23678646934460887, \"frequency\": 0.056531612286363095, \"feature\": \"MSinceOldestTradeOpen\", \"score_label\": \"-2.6\"}, {\"index\": 3, \"value\": \"76.5 - 97.5\", \"contribution\": -0.02294931502073148, \"mean\": 0.26439790575916217, \"frequency\": 0.045655551571650535, \"feature\": \"MSinceOldestTradeOpen\", \"score_label\": \"-2.3\"}, {\"index\": 4, \"value\": \"97.5 - 118.5\", \"contribution\": -0.013109811976922438, \"mean\": 0.35600907029478457, \"frequency\": 0.052707063463607026, \"feature\": \"MSinceOldestTradeOpen\", \"score_label\": \"-1.3\"}, {\"index\": 5, \"value\": \"118.5 - 134.5\", \"contribution\": -0.010385412427220462, \"mean\": 0.38137472283813745, \"frequency\": 0.0539022349707183, \"feature\": \"MSinceOldestTradeOpen\", \"score_label\": \"-1.0\"}, {\"index\": 6, \"value\": \"134.5 - 212.5\", \"contribution\": 0.002339879609304599, \"mean\": 0.4923130677847659, \"frequency\": 0.3420580853352456, \"feature\": \"MSinceOldestTradeOpen\", \"score_label\": \"0.2\"}, {\"index\": 7, \"value\": \"212.5 - 233.5\", \"contribution\": 0.014586426774957644, \"mean\": 0.5668662674650699, \"frequency\": 0.05987809250627465, \"feature\": \"MSinceOldestTradeOpen\", \"score_label\": \"1.5\"}, {\"index\": 8, \"value\": \"233.5 - 255.5\", \"contribution\": 0.004546637114194421, \"mean\": 0.5057471264367817, \"frequency\": 0.05198996055934026, \"feature\": \"MSinceOldestTradeOpen\", \"score_label\": \"0.5\"}, {\"index\": 9, \"value\": \"255.5 - 272.5\", \"contribution\": 0.008488675981997613, \"mean\": 0.5297450424929175, \"frequency\": 0.042189554201027844, \"feature\": \"MSinceOldestTradeOpen\", \"score_label\": \"0.8\"}, {\"index\": 10, \"value\": \"272.5 - 300.5\", \"contribution\": 0.020575420944370728, \"mean\": 0.6033254156769585, \"frequency\": 0.05031672044938448, \"feature\": \"MSinceOldestTradeOpen\", \"score_label\": \"2.1\"}, {\"index\": 11, \"value\": \"300.5 - 343.5\", \"contribution\": 0.016605591083751464, \"mean\": 0.5791583166332667, \"frequency\": 0.059639058204852394, \"feature\": \"MSinceOldestTradeOpen\", \"score_label\": \"1.7\"}, {\"index\": 12, \"value\": \"343.5 - 398.5\", \"contribution\": 0.027938266666026265, \"mean\": 0.6481481481481469, \"frequency\": 0.045177482968806026, \"feature\": \"MSinceOldestTradeOpen\", \"score_label\": \"2.8\"}, {\"index\": 13, \"value\": \"398.5 - inf\", \"contribution\": 0.0331114215487871, \"mean\": 0.6796407185628742, \"frequency\": 0.03991872833751643, \"feature\": \"MSinceOldestTradeOpen\", \"score_label\": \"3.3\"}, {\"index\": 14, \"value\": \"nan - nan\", \"contribution\": 0.0, \"mean\": 0.0, \"frequency\": 0.0, \"feature\": \"MSinceOldestTradeOpen\", \"score_label\": \"0.0\"}, {\"index\": 0, \"value\": \"-inf - 0.5\", \"contribution\": -0.003996369293830994, \"mean\": 0.44086021505376344, \"frequency\": 0.0666905700968089, \"feature\": \"MSinceMostRecentTradeOpen\", \"score_label\": \"-0.4\"}, {\"index\": 1, \"value\": \"0.5 - 1.5\", \"contribution\": -0.006421847914710425, \"mean\": 0.4182776801405975, \"frequency\": 0.06800525875463129, \"feature\": \"MSinceMostRecentTradeOpen\", \"score_label\": \"-0.6\"}, {\"index\": 2, \"value\": \"1.5 - 19.5\", \"contribution\": -0.00047711791608256044, \"mean\": 0.4736263736263736, \"frequency\": 0.7613242500298792, \"feature\": \"MSinceMostRecentTradeOpen\", \"score_label\": \"-0.0\"}, {\"index\": 3, \"value\": \"19.5 - 28.5\", \"contribution\": 0.014068765077307867, \"mean\": 0.5637149028077754, \"frequency\": 0.05533644077925182, \"feature\": \"MSinceMostRecentTradeOpen\", \"score_label\": \"1.4\"}, {\"index\": 4, \"value\": \"28.5 - inf\", \"contribution\": 0.017526838199996342, \"mean\": 0.5847665847665847, \"frequency\": 0.04864348033942871, \"feature\": \"MSinceMostRecentTradeOpen\", \"score_label\": \"1.8\"}, {\"index\": 5, \"value\": \"nan - nan\", \"contribution\": 0.0, \"mean\": 0.0, \"frequency\": 0.0, \"feature\": \"MSinceMostRecentTradeOpen\", \"score_label\": \"0.0\"}, {\"index\": 0, \"value\": \"-inf - 8.5\", \"contribution\": -0.004063086229807809, \"mean\": 0.4402390438247012, \"frequency\": 0.05999760965698578, \"feature\": \"AverageMInFile\", \"score_label\": \"-0.4\"}, {\"index\": 1, \"value\": \"8.5 - 26.5\", \"contribution\": -0.03222442573748125, \"mean\": 0.17804154302670624, \"frequency\": 0.04027727978964982, \"feature\": \"AverageMInFile\", \"score_label\": \"-3.2\"}, {\"index\": 2, \"value\": \"26.5 - 41.5\", \"contribution\": -0.026097377490613714, \"mean\": 0.23508771929824562, \"frequency\": 0.06812477590534241, \"feature\": \"AverageMInFile\", \"score_label\": \"-2.6\"}, {\"index\": 3, \"value\": \"41.5 - 51.5\", \"contribution\": -0.01806902653114382, \"mean\": 0.3098360655737704, \"frequency\": 0.0729054619337875, \"feature\": \"AverageMInFile\", \"score_label\": \"-1.8\"}, {\"index\": 4, \"value\": \"51.5 - 57.5\", \"contribution\": -0.010656083639146597, \"mean\": 0.3788546255506608, \"frequency\": 0.05426078642285168, \"feature\": \"AverageMInFile\", \"score_label\": \"-1.1\"}, {\"index\": 5, \"value\": \"57.5 - 63.5\", \"contribution\": -0.005590685227637907, \"mean\": 0.42601626016260175, \"frequency\": 0.07350304768734313, \"feature\": \"AverageMInFile\", \"score_label\": \"-0.6\"}, {\"index\": 6, \"value\": \"63.5 - 69.5\", \"contribution\": -0.003389378931325654, \"mean\": 0.44651162790697674, \"frequency\": 0.07708856220867695, \"feature\": \"AverageMInFile\", \"score_label\": \"-0.3\"}, {\"index\": 7, \"value\": \"69.5 - 75.5\", \"contribution\": 0.0020254337303166397, \"mean\": 0.49039881831610044, \"frequency\": 0.080913111031433, \"feature\": \"AverageMInFile\", \"score_label\": \"0.2\"}, {\"index\": 8, \"value\": \"75.5 - 80.5\", \"contribution\": 0.010434340693937387, \"mean\": 0.5415896487985212, \"frequency\": 0.06465877853471973, \"feature\": \"AverageMInFile\", \"score_label\": \"1.0\"}, {\"index\": 9, \"value\": \"80.5 - 84.5\", \"contribution\": 0.014658937816448218, \"mean\": 0.5673076923076928, \"frequency\": 0.04971913469582885, \"feature\": \"AverageMInFile\", \"score_label\": \"1.5\"}, {\"index\": 10, \"value\": \"84.5 - 90.5\", \"contribution\": 0.01574123000937673, \"mean\": 0.5738963531669866, \"frequency\": 0.06226843552049719, \"feature\": \"AverageMInFile\", \"score_label\": \"1.6\"}, {\"index\": 11, \"value\": \"90.5 - 97.5\", \"contribution\": 0.008550347872215057, \"mean\": 0.5301204819277109, \"frequency\": 0.06943946456316481, \"feature\": \"AverageMInFile\", \"score_label\": \"0.9\"}, {\"index\": 12, \"value\": \"97.5 - 104.5\", \"contribution\": 0.02672009014679581, \"mean\": 0.6407322654462243, \"frequency\": 0.05222899486076252, \"feature\": \"AverageMInFile\", \"score_label\": \"2.7\"}, {\"index\": 13, \"value\": \"104.5 - 116.5\", \"contribution\": 0.019782615682445315, \"mean\": 0.5984990619136961, \"frequency\": 0.06370264132903071, \"feature\": \"AverageMInFile\", \"score_label\": \"2.0\"}, {\"index\": 14, \"value\": \"116.5 - 132.5\", \"contribution\": 0.03294984236218147, \"mean\": 0.6786570743405276, \"frequency\": 0.04983865184653998, \"feature\": \"AverageMInFile\", \"score_label\": \"3.3\"}, {\"index\": 15, \"value\": \"132.5 - inf\", \"contribution\": 0.025622566570599248, \"mean\": 0.6340508806262231, \"frequency\": 0.06107326401338592, \"feature\": \"AverageMInFile\", \"score_label\": \"2.6\"}, {\"index\": 16, \"value\": \"nan - nan\", \"contribution\": 0.0, \"mean\": 0.0, \"frequency\": 0.0, \"feature\": \"AverageMInFile\", \"score_label\": \"0.0\"}, {\"index\": 0, \"value\": \"-inf - 1.5\", \"contribution\": -0.004811719402483816, \"mean\": 0.4332688588007737, \"frequency\": 0.06179036691765268, \"feature\": \"NumSatisfactoryTrades\", \"score_label\": \"-0.5\"}, {\"index\": 1, \"value\": \"1.5 - 5.5\", \"contribution\": -0.027508957374318365, \"mean\": 0.22194513715710723, \"frequency\": 0.04792637743516195, \"feature\": \"NumSatisfactoryTrades\", \"score_label\": \"-2.8\"}, {\"index\": 2, \"value\": \"5.5 - 8.5\", \"contribution\": -0.01235001845337829, \"mean\": 0.3630831643002027, \"frequency\": 0.05892195530058563, \"feature\": \"NumSatisfactoryTrades\", \"score_label\": \"-1.2\"}, {\"index\": 3, \"value\": \"8.5 - 10.5\", \"contribution\": -0.007518016621037647, \"mean\": 0.4080717488789239, \"frequency\": 0.053304649217162665, \"feature\": \"NumSatisfactoryTrades\", \"score_label\": \"-0.8\"}, {\"index\": 4, \"value\": \"10.5 - 13.5\", \"contribution\": -0.005217890913406499, \"mean\": 0.42948717948717946, \"frequency\": 0.09322337755467909, \"feature\": \"NumSatisfactoryTrades\", \"score_label\": \"-0.5\"}, {\"index\": 5, \"value\": \"13.5 - 21.5\", \"contribution\": 0.0011310700855539449, \"mean\": 0.48495420846053205, \"frequency\": 0.2740528265806143, \"feature\": \"NumSatisfactoryTrades\", \"score_label\": \"0.1\"}, {\"index\": 6, \"value\": \"21.5 - 24.5\", \"contribution\": 0.007396486474618123, \"mean\": 0.5230961298377027, \"frequency\": 0.09573323771961277, \"feature\": \"NumSatisfactoryTrades\", \"score_label\": \"0.7\"}, {\"index\": 7, \"value\": \"24.5 - 26.5\", \"contribution\": 0.01024150167891105, \"mean\": 0.5404157043879911, \"frequency\": 0.05175092625791801, \"feature\": \"NumSatisfactoryTrades\", \"score_label\": \"1.0\"}, {\"index\": 8, \"value\": \"26.5 - 28.5\", \"contribution\": 0.020965601188698092, \"mean\": 0.6057007125890737, \"frequency\": 0.05031672044938448, \"feature\": \"NumSatisfactoryTrades\", \"score_label\": \"2.1\"}, {\"index\": 9, \"value\": \"28.5 - 31.5\", \"contribution\": 0.0023500082246000567, \"mean\": 0.4923747276688453, \"frequency\": 0.054858372176407315, \"feature\": \"NumSatisfactoryTrades\", \"score_label\": \"0.2\"}, {\"index\": 10, \"value\": \"31.5 - 34.5\", \"contribution\": 0.017987445764483263, \"mean\": 0.5875706214689266, \"frequency\": 0.042309071351738975, \"feature\": \"NumSatisfactoryTrades\", \"score_label\": \"1.8\"}, {\"index\": 11, \"value\": \"34.5 - 38.5\", \"contribution\": 0.006418566879482598, \"mean\": 0.5171428571428571, \"frequency\": 0.041831002748894466, \"feature\": \"NumSatisfactoryTrades\", \"score_label\": \"0.6\"}, {\"index\": 12, \"value\": \"38.5 - inf\", \"contribution\": 0.01594242450526783, \"mean\": 0.5751211631663974, \"frequency\": 0.07398111629018764, \"feature\": \"NumSatisfactoryTrades\", \"score_label\": \"1.6\"}, {\"index\": 13, \"value\": \"nan - nan\", \"contribution\": 0.0, \"mean\": 0.0, \"frequency\": 0.0, \"feature\": \"NumSatisfactoryTrades\", \"score_label\": \"0.0\"}, {\"index\": 0, \"value\": \"-inf - -4.5\", \"contribution\": -0.0025265052623417955, \"mean\": 0.45454545454545453, \"frequency\": 0.056531612286363095, \"feature\": \"NumTrades60Ever2DerogPubRec\", \"score_label\": \"-0.3\"}, {\"index\": 1, \"value\": \"-4.5 - 0.5\", \"contribution\": 0.011256220898831106, \"mean\": 0.5465930018416206, \"frequency\": 0.6489781283614199, \"feature\": \"NumTrades60Ever2DerogPubRec\", \"score_label\": \"1.1\"}, {\"index\": 2, \"value\": \"0.5 - 1.5\", \"contribution\": -0.012061492801719755, \"mean\": 0.3657694962042788, \"frequency\": 0.1731803513804231, \"feature\": \"NumTrades60Ever2DerogPubRec\", \"score_label\": \"-1.2\"}, {\"index\": 3, \"value\": \"1.5 - 2.5\", \"contribution\": -0.021627198964509615, \"mean\": 0.276707530647986, \"frequency\": 0.06824429305605355, \"feature\": \"NumTrades60Ever2DerogPubRec\", \"score_label\": \"-2.2\"}, {\"index\": 4, \"value\": \"2.5 - inf\", \"contribution\": -0.02014146364357168, \"mean\": 0.2905405405405405, \"frequency\": 0.05306561491574041, \"feature\": \"NumTrades60Ever2DerogPubRec\", \"score_label\": \"-2.0\"}, {\"index\": 5, \"value\": \"nan - nan\", \"contribution\": 0.0, \"mean\": 0.0, \"frequency\": 0.0, \"feature\": \"NumTrades60Ever2DerogPubRec\", \"score_label\": \"0.0\"}, {\"index\": 0, \"value\": \"-inf - -4.5\", \"contribution\": -0.0025265052623417955, \"mean\": 0.45454545454545453, \"frequency\": 0.056531612286363095, \"feature\": \"NumTrades90Ever2DerogPubRec\", \"score_label\": \"-0.3\"}, {\"index\": 1, \"value\": \"-4.5 - 0.5\", \"contribution\": 0.007727365694721391, \"mean\": 0.5251104204155079, \"frequency\": 0.7306083422971197, \"feature\": \"NumTrades90Ever2DerogPubRec\", \"score_label\": \"0.8\"}, {\"index\": 2, \"value\": \"0.5 - 1.5\", \"contribution\": -0.014139475517112348, \"mean\": 0.34642233856893584, \"frequency\": 0.1369666547149516, \"feature\": \"NumTrades90Ever2DerogPubRec\", \"score_label\": \"-1.4\"}, {\"index\": 3, \"value\": \"1.5 - inf\", \"contribution\": -0.021239742714307945, \"mean\": 0.2803149606299213, \"frequency\": 0.07589339070156567, \"feature\": \"NumTrades90Ever2DerogPubRec\", \"score_label\": \"-2.1\"}, {\"index\": 4, \"value\": \"nan - nan\", \"contribution\": 0.0, \"mean\": 0.0, \"frequency\": 0.0, \"feature\": \"NumTrades90Ever2DerogPubRec\", \"score_label\": \"0.0\"}, {\"index\": 0, \"value\": \"-inf - 65.5\", \"contribution\": -0.01332504123675968, \"mean\": 0.35400516795865633, \"frequency\": 0.09250627465041233, \"feature\": \"PercentTradesNeverDelq\", \"score_label\": \"-1.3\"}, {\"index\": 1, \"value\": \"65.5 - 77.5\", \"contribution\": -0.02856409667729336, \"mean\": 0.2121212121212119, \"frequency\": 0.059160989602007885, \"feature\": \"PercentTradesNeverDelq\", \"score_label\": \"-2.9\"}, {\"index\": 2, \"value\": \"77.5 - 85.5\", \"contribution\": -0.021201089135680314, \"mean\": 0.28067484662576686, \"frequency\": 0.07792518226365483, \"feature\": \"PercentTradesNeverDelq\", \"score_label\": \"-2.1\"}, {\"index\": 3, \"value\": \"85.5 - 89.5\", \"contribution\": -0.01421032276591539, \"mean\": 0.34576271186440677, \"frequency\": 0.07051511891956495, \"feature\": \"PercentTradesNeverDelq\", \"score_label\": \"-1.4\"}, {\"index\": 4, \"value\": \"89.5 - 92.5\", \"contribution\": -0.009076659632158549, \"mean\": 0.3935599284436493, \"frequency\": 0.06681008724752002, \"feature\": \"PercentTradesNeverDelq\", \"score_label\": \"-0.9\"}, {\"index\": 5, \"value\": \"92.5 - 95.5\", \"contribution\": -0.004994618505281867, \"mean\": 0.4315659679408138, \"frequency\": 0.09692840922672404, \"feature\": \"PercentTradesNeverDelq\", \"score_label\": \"-0.5\"}, {\"index\": 6, \"value\": \"95.5 - 96.5\", \"contribution\": 0.006733748171274298, \"mean\": 0.5190615835777126, \"frequency\": 0.040755348392494326, \"feature\": \"PercentTradesNeverDelq\", \"score_label\": \"0.7\"}, {\"index\": 7, \"value\": \"96.5 - 99.5\", \"contribution\": 0.01801186828646687, \"mean\": 0.5877192982456141, \"frequency\": 0.05449982072427393, \"feature\": \"PercentTradesNeverDelq\", \"score_label\": \"1.8\"}, {\"index\": 8, \"value\": \"99.5 - inf\", \"contribution\": 0.02027852857629653, \"mean\": 0.6015180265654649, \"frequency\": 0.4408987689733477, \"feature\": \"PercentTradesNeverDelq\", \"score_label\": \"2.0\"}, {\"index\": 9, \"value\": \"nan - nan\", \"contribution\": 0.0, \"mean\": 0.0, \"frequency\": 0.0, \"feature\": \"PercentTradesNeverDelq\", \"score_label\": \"0.0\"}, {\"index\": 0, \"value\": \"-inf - -7.5\", \"contribution\": -0.003454894792301131, \"mean\": 0.4459016393442623, \"frequency\": 0.0729054619337875, \"feature\": \"MSinceMostRecentDelq\", \"score_label\": \"-0.3\"}, {\"index\": 1, \"value\": \"-7.5 - -3.5\", \"contribution\": 0.01996757989422329, \"mean\": 0.59962506695233, \"frequency\": 0.4462770407553484, \"feature\": \"MSinceMostRecentDelq\", \"score_label\": \"2.0\"}, {\"index\": 2, \"value\": \"-3.5 - 1.5\", \"contribution\": -0.02600066123931691, \"mean\": 0.2359882005899705, \"frequency\": 0.04051631409107207, \"feature\": \"MSinceMostRecentDelq\", \"score_label\": \"-2.6\"}, {\"index\": 3, \"value\": \"1.5 - 4.5\", \"contribution\": -0.020942540396283654, \"mean\": 0.2830820770519263, \"frequency\": 0.07135173897454285, \"feature\": \"MSinceMostRecentDelq\", \"score_label\": \"-2.1\"}, {\"index\": 4, \"value\": \"4.5 - 7.5\", \"contribution\": -0.020337652933002527, \"mean\": 0.288713910761155, \"frequency\": 0.045536034420939404, \"feature\": \"MSinceMostRecentDelq\", \"score_label\": \"-2.0\"}, {\"index\": 5, \"value\": \"7.5 - 11.5\", \"contribution\": -0.019727741179579057, \"mean\": 0.29439252336448596, \"frequency\": 0.05115334050436238, \"feature\": \"MSinceMostRecentDelq\", \"score_label\": \"-2.0\"}, {\"index\": 6, \"value\": \"11.5 - 15.5\", \"contribution\": -0.019030421059650676, \"mean\": 0.3008849557522124, \"frequency\": 0.04051631409107207, \"feature\": \"MSinceMostRecentDelq\", \"score_label\": \"-1.9\"}, {\"index\": 7, \"value\": \"15.5 - 22.5\", \"contribution\": -0.007466535224976605, \"mean\": 0.4085510688836104, \"frequency\": 0.05031672044938448, \"feature\": \"MSinceMostRecentDelq\", \"score_label\": \"-0.7\"}, {\"index\": 8, \"value\": \"22.5 - 31.5\", \"contribution\": -0.0070614886012018395, \"mean\": 0.41232227488151657, \"frequency\": 0.050436237600095614, \"feature\": \"MSinceMostRecentDelq\", \"score_label\": \"-0.7\"}, {\"index\": 9, \"value\": \"31.5 - inf\", \"contribution\": 0.0048016013589248655, \"mean\": 0.5072992700729927, \"frequency\": 0.13099079717939524, \"feature\": \"MSinceMostRecentDelq\", \"score_label\": \"0.5\"}, {\"index\": 10, \"value\": \"nan - nan\", \"contribution\": 0.0, \"mean\": 0.0, \"frequency\": 0.0, \"feature\": \"MSinceMostRecentDelq\", \"score_label\": \"0.0\"}, {\"index\": 0, \"value\": \"-inf - -4.5\", \"contribution\": -0.0025265052623417955, \"mean\": 0.45454545454545453, \"frequency\": 0.056531612286363095, \"feature\": \"MaxDelq2PublicRecLast12M\", \"score_label\": \"-0.3\"}, {\"index\": 1, \"value\": \"-4.5 - 3.5\", \"contribution\": -0.019987846220361295, \"mean\": 0.2919708029197081, \"frequency\": 0.06549539858969762, \"feature\": \"MaxDelq2PublicRecLast12M\", \"score_label\": \"-2.0\"}, {\"index\": 2, \"value\": \"3.5 - 4.5\", \"contribution\": -0.022440022295560493, \"mean\": 0.26913970007892624, \"frequency\": 0.15142822995099797, \"feature\": \"MaxDelq2PublicRecLast12M\", \"score_label\": \"-2.2\"}, {\"index\": 3, \"value\": \"4.5 - 6.5\", \"contribution\": -0.003371928729410296, \"mean\": 0.44667409884801207, \"frequency\": 0.32162065256364286, \"feature\": \"MaxDelq2PublicRecLast12M\", \"score_label\": \"-0.3\"}, {\"index\": 4, \"value\": \"6.5 - inf\", \"contribution\": 0.02241461176547631, \"mean\": 0.614521841794569, \"frequency\": 0.40492410660929845, \"feature\": \"MaxDelq2PublicRecLast12M\", \"score_label\": \"2.2\"}, {\"index\": 5, \"value\": \"nan - nan\", \"contribution\": 0.0, \"mean\": 0.0, \"frequency\": 0.0, \"feature\": \"MaxDelq2PublicRecLast12M\", \"score_label\": \"0.0\"}, {\"index\": 0, \"value\": \"-inf - -3.5\", \"contribution\": -0.0025265052623417955, \"mean\": 0.45454545454545453, \"frequency\": 0.056531612286363095, \"feature\": \"MaxDelqEver\", \"score_label\": \"-0.3\"}, {\"index\": 1, \"value\": \"-3.5 - 2.5\", \"contribution\": -0.01996821403571292, \"mean\": 0.2921535893155259, \"frequency\": 0.0715907732759651, \"feature\": \"MaxDelqEver\", \"score_label\": \"-2.0\"}, {\"index\": 2, \"value\": \"2.5 - 4.5\", \"contribution\": -0.01229060204294862, \"mean\": 0.36363636363636365, \"frequency\": 0.06047567825983029, \"feature\": \"MaxDelqEver\", \"score_label\": \"-1.2\"}, {\"index\": 3, \"value\": \"4.5 - 5.5\", \"contribution\": -0.01417358877841686, \"mean\": 0.34610472541507026, \"frequency\": 0.09358192900681248, \"feature\": \"MaxDelqEver\", \"score_label\": \"-1.4\"}, {\"index\": 4, \"value\": \"5.5 - 6.5\", \"contribution\": -0.008044595168283326, \"mean\": 0.40316901408450706, \"frequency\": 0.27154296641568065, \"feature\": \"MaxDelqEver\", \"score_label\": \"-0.8\"}, {\"index\": 5, \"value\": \"6.5 - inf\", \"contribution\": 0.01996757989422329, \"mean\": 0.59962506695233, \"frequency\": 0.4462770407553484, \"feature\": \"MaxDelqEver\", \"score_label\": \"2.0\"}, {\"index\": 6, \"value\": \"nan - nan\", \"contribution\": 0.0, \"mean\": 0.0, \"frequency\": 0.0, \"feature\": \"MaxDelqEver\", \"score_label\": \"0.0\"}, {\"index\": 0, \"value\": \"-inf - 3.5\", \"contribution\": -0.005375412677763065, \"mean\": 0.42802056555269924, \"frequency\": 0.09298434325325684, \"feature\": \"NumTotalTrades\", \"score_label\": \"-0.5\"}, {\"index\": 1, \"value\": \"3.5 - 8.5\", \"contribution\": -0.013329005986282996, \"mean\": 0.353968253968254, \"frequency\": 0.07529580494801004, \"feature\": \"NumTotalTrades\", \"score_label\": \"-1.3\"}, {\"index\": 2, \"value\": \"8.5 - 10.5\", \"contribution\": -0.005747908036506197, \"mean\": 0.42455242966751916, \"frequency\": 0.046731205928050676, \"feature\": \"NumTotalTrades\", \"score_label\": \"-0.6\"}, {\"index\": 3, \"value\": \"10.5 - 12.5\", \"contribution\": -0.006247289715145854, \"mean\": 0.4199029126213592, \"frequency\": 0.04924106609298434, \"feature\": \"NumTotalTrades\", \"score_label\": \"-0.6\"}, {\"index\": 4, \"value\": \"12.5 - 17.5\", \"contribution\": -0.002805888809255706, \"mean\": 0.45194424064563465, \"frequency\": 0.16290187641926618, \"feature\": \"NumTotalTrades\", \"score_label\": \"-0.3\"}, {\"index\": 5, \"value\": \"17.5 - 28.5\", \"contribution\": 0.00357119592888932, \"mean\": 0.49980894153611005, \"frequency\": 0.3127763834110195, \"feature\": \"NumTotalTrades\", \"score_label\": \"0.4\"}, {\"index\": 6, \"value\": \"28.5 - 32.5\", \"contribution\": 0.012499241161868747, \"mean\": 0.5541601255886974, \"frequency\": 0.07613242500298793, \"feature\": \"NumTotalTrades\", \"score_label\": \"1.2\"}, {\"index\": 7, \"value\": \"32.5 - 35.5\", \"contribution\": 0.012728462697346309, \"mean\": 0.5555555555555548, \"frequency\": 0.045177482968806026, \"feature\": \"NumTotalTrades\", \"score_label\": \"1.3\"}, {\"index\": 8, \"value\": \"35.5 - 41.5\", \"contribution\": 0.003602580316138411, \"mean\": 0.5, \"frequency\": 0.06023664395840803, \"feature\": \"NumTotalTrades\", \"score_label\": \"0.4\"}, {\"index\": 9, \"value\": \"41.5 - inf\", \"contribution\": 0.012978486872174044, \"mean\": 0.5570776255707762, \"frequency\": 0.07852276801721048, \"feature\": \"NumTotalTrades\", \"score_label\": \"1.3\"}, {\"index\": 10, \"value\": \"nan - nan\", \"contribution\": 0.0, \"mean\": 0.0, \"frequency\": 0.0, \"feature\": \"NumTotalTrades\", \"score_label\": \"0.0\"}, {\"index\": 0, \"value\": \"-inf - 2.5\", \"contribution\": 0.00315905436830356, \"mean\": 0.49729995090819834, \"frequency\": 0.7303693079956974, \"feature\": \"NumTradesOpeninLast12M\", \"score_label\": \"0.3\"}, {\"index\": 1, \"value\": \"2.5 - 5.5\", \"contribution\": -0.004102356325034666, \"mean\": 0.439873417721519, \"frequency\": 0.22660451774829687, \"feature\": \"NumTradesOpeninLast12M\", \"score_label\": \"-0.4\"}, {\"index\": 2, \"value\": \"5.5 - inf\", \"contribution\": -0.01345686915840999, \"mean\": 0.3527777777777778, \"frequency\": 0.04302617425600574, \"feature\": \"NumTradesOpeninLast12M\", \"score_label\": \"-1.3\"}, {\"index\": 3, \"value\": \"nan - nan\", \"contribution\": 0.0, \"mean\": 0.0, \"frequency\": 0.0, \"feature\": \"NumTradesOpeninLast12M\", \"score_label\": \"0.0\"}, {\"index\": 0, \"value\": \"-inf - 5.5\", \"contribution\": -0.001906562609604855, \"mean\": 0.4603174603174603, \"frequency\": 0.08282538544281104, \"feature\": \"PercentInstallTrades\", \"score_label\": \"-0.2\"}, {\"index\": 1, \"value\": \"5.5 - 11.5\", \"contribution\": 0.009234553442826785, \"mean\": 0.5342857142857143, \"frequency\": 0.041831002748894466, \"feature\": \"PercentInstallTrades\", \"score_label\": \"0.9\"}, {\"index\": 2, \"value\": \"11.5 - 15.5\", \"contribution\": 0.008519630024860282, \"mean\": 0.5299334811529935, \"frequency\": 0.0539022349707183, \"feature\": \"PercentInstallTrades\", \"score_label\": \"0.9\"}, {\"index\": 3, \"value\": \"15.5 - 18.5\", \"contribution\": 0.01820820731423809, \"mean\": 0.5889145496535797, \"frequency\": 0.05175092625791801, \"feature\": \"PercentInstallTrades\", \"score_label\": \"1.8\"}, {\"index\": 4, \"value\": \"18.5 - 20.5\", \"contribution\": 0.011069211355308604, \"mean\": 0.5454545454545454, \"frequency\": 0.043384725708139116, \"feature\": \"PercentInstallTrades\", \"score_label\": \"1.1\"}, {\"index\": 5, \"value\": \"20.5 - 24.5\", \"contribution\": 0.009637908280707236, \"mean\": 0.5367412140575076, \"frequency\": 0.07481773634516553, \"feature\": \"PercentInstallTrades\", \"score_label\": \"1.0\"}, {\"index\": 6, \"value\": \"24.5 - 28.5\", \"contribution\": 0.00768521190773148, \"mean\": 0.5248538011695907, \"frequency\": 0.0817497310864109, \"feature\": \"PercentInstallTrades\", \"score_label\": \"0.8\"}, {\"index\": 7, \"value\": \"28.5 - 48.5\", \"contribution\": 0.0030159164487750406, \"mean\": 0.49642857142857144, \"frequency\": 0.3681128241902713, \"feature\": \"PercentInstallTrades\", \"score_label\": \"0.3\"}, {\"index\": 8, \"value\": \"48.5 - 53.5\", \"contribution\": -0.010754478317970696, \"mean\": 0.3779385171790235, \"frequency\": 0.06609298434325325, \"feature\": \"PercentInstallTrades\", \"score_label\": \"-1.1\"}, {\"index\": 9, \"value\": \"53.5 - 62.5\", \"contribution\": -0.012358763277019178, \"mean\": 0.36300174520069806, \"frequency\": 0.0684833273574758, \"feature\": \"PercentInstallTrades\", \"score_label\": \"-1.2\"}, {\"index\": 10, \"value\": \"62.5 - inf\", \"contribution\": -0.020523075799146535, \"mean\": 0.28698752228163993, \"frequency\": 0.06704912154894227, \"feature\": \"PercentInstallTrades\", \"score_label\": \"-2.1\"}, {\"index\": 11, \"value\": \"nan - nan\", \"contribution\": 0.0, \"mean\": 0.0, \"frequency\": 0.0, \"feature\": \"PercentInstallTrades\", \"score_label\": \"0.0\"}, {\"index\": 0, \"value\": \"-inf - -8.5\", \"contribution\": -0.0025265052623417955, \"mean\": 0.45454545454545453, \"frequency\": 0.056531612286363095, \"feature\": \"MSinceMostRecentInqexcl7days\", \"score_label\": \"-0.3\"}, {\"index\": 1, \"value\": \"-8.5 - -7.5\", \"contribution\": 0.05939941552732876, \"mean\": 0.8396739130434783, \"frequency\": 0.043982311461694755, \"feature\": \"MSinceMostRecentInqexcl7days\", \"score_label\": \"5.9\"}, {\"index\": 2, \"value\": \"-7.5 - -3.5\", \"contribution\": -0.010597293564717137, \"mean\": 0.37940199335548175, \"frequency\": 0.1798733118202462, \"feature\": \"MSinceMostRecentInqexcl7days\", \"score_label\": \"-1.1\"}, {\"index\": 3, \"value\": \"-3.5 - 0.5\", \"contribution\": -0.0094064788906335, \"mean\": 0.39048913043478267, \"frequency\": 0.4398231146169475, \"feature\": \"MSinceMostRecentInqexcl7days\", \"score_label\": \"-0.9\"}, {\"index\": 4, \"value\": \"0.5 - 1.5\", \"contribution\": 0.007980668878551632, \"mean\": 0.5266524520255863, \"frequency\": 0.056053543683518586, \"feature\": \"MSinceMostRecentInqexcl7days\", \"score_label\": \"0.8\"}, {\"index\": 5, \"value\": \"1.5 - 3.5\", \"contribution\": 0.029354838390011143, \"mean\": 0.6567717996289425, \"frequency\": 0.06441974423329748, \"feature\": \"MSinceMostRecentInqexcl7days\", \"score_label\": \"2.9\"}, {\"index\": 6, \"value\": \"3.5 - 7.5\", \"contribution\": 0.02228164391914616, \"mean\": 0.61371237458194, \"frequency\": 0.07147125612525397, \"feature\": \"MSinceMostRecentInqexcl7days\", \"score_label\": \"2.2\"}, {\"index\": 7, \"value\": \"7.5 - 13.5\", \"contribution\": 0.031536118772323464, \"mean\": 0.6700507614213204, \"frequency\": 0.047089757380184054, \"feature\": \"MSinceMostRecentInqexcl7days\", \"score_label\": \"3.2\"}, {\"index\": 8, \"value\": \"13.5 - inf\", \"contribution\": 0.035155117933277004, \"mean\": 0.6920821114369502, \"frequency\": 0.040755348392494326, \"feature\": \"MSinceMostRecentInqexcl7days\", \"score_label\": \"3.5\"}, {\"index\": 9, \"value\": \"nan - nan\", \"contribution\": 0.0, \"mean\": 0.0, \"frequency\": 0.0, \"feature\": \"MSinceMostRecentInqexcl7days\", \"score_label\": \"0.0\"}, {\"index\": 0, \"value\": \"-inf - -4.5\", \"contribution\": -0.0025265052623417955, \"mean\": 0.45454545454545453, \"frequency\": 0.056531612286363095, \"feature\": \"NumInqLast6M\", \"score_label\": \"-0.3\"}, {\"index\": 1, \"value\": \"-4.5 - 0.5\", \"contribution\": 0.011828849647445355, \"mean\": 0.5500789889415482, \"frequency\": 0.3782717820007171, \"feature\": \"NumInqLast6M\", \"score_label\": \"1.2\"}, {\"index\": 2, \"value\": \"0.5 - 3.5\", \"contribution\": -0.0020458427342574474, \"mean\": 0.45902068604346696, \"frequency\": 0.4564359985657942, \"feature\": \"NumInqLast6M\", \"score_label\": \"-0.2\"}, {\"index\": 3, \"value\": \"3.5 - 4.5\", \"contribution\": -0.01388010617002415, \"mean\": 0.3488372093023256, \"frequency\": 0.04625313732520617, \"feature\": \"NumInqLast6M\", \"score_label\": \"-1.4\"}, {\"index\": 4, \"value\": \"4.5 - inf\", \"contribution\": -0.019310296860363854, \"mean\": 0.2982791586998088, \"frequency\": 0.06250746982191945, \"feature\": \"NumInqLast6M\", \"score_label\": \"-1.9\"}, {\"index\": 5, \"value\": \"nan - nan\", \"contribution\": 0.0, \"mean\": 0.0, \"frequency\": 0.0, \"feature\": \"NumInqLast6M\", \"score_label\": \"0.0\"}, {\"index\": 0, \"value\": \"-inf - -4.5\", \"contribution\": -0.0025265052623417955, \"mean\": 0.45454545454545453, \"frequency\": 0.056531612286363095, \"feature\": \"NumInqLast6Mexcl7days\", \"score_label\": \"-0.3\"}, {\"index\": 1, \"value\": \"-4.5 - 0.5\", \"contribution\": 0.011041977442703738, \"mean\": 0.5452887537993921, \"frequency\": 0.393211425839608, \"feature\": \"NumInqLast6Mexcl7days\", \"score_label\": \"1.1\"}, {\"index\": 2, \"value\": \"0.5 - 2.5\", \"contribution\": -0.0016148161747962875, \"mean\": 0.4630337794773741, \"frequency\": 0.3750448189315167, \"feature\": \"NumInqLast6Mexcl7days\", \"score_label\": \"-0.2\"}, {\"index\": 3, \"value\": \"2.5 - 3.5\", \"contribution\": -0.0054413987547578604, \"mean\": 0.4274061990212072, \"frequency\": 0.07326401338592088, \"feature\": \"NumInqLast6Mexcl7days\", \"score_label\": \"-0.5\"}, {\"index\": 4, \"value\": \"3.5 - 4.5\", \"contribution\": -0.01366620683800649, \"mean\": 0.35082872928176795, \"frequency\": 0.04326520855742799, \"feature\": \"NumInqLast6Mexcl7days\", \"score_label\": \"-1.4\"}, {\"index\": 5, \"value\": \"4.5 - inf\", \"contribution\": -0.01875359889365579, \"mean\": 0.3034623217922607, \"frequency\": 0.05868292099916338, \"feature\": \"NumInqLast6Mexcl7days\", \"score_label\": \"-1.9\"}, {\"index\": 6, \"value\": \"nan - nan\", \"contribution\": 0.0, \"mean\": 0.0, \"frequency\": 0.0, \"feature\": \"NumInqLast6Mexcl7days\", \"score_label\": \"0.0\"}, {\"index\": 0, \"value\": \"-inf - -4.0\", \"contribution\": -0.009693101937851292, \"mean\": 0.38782051282051283, \"frequency\": 0.07457870204374328, \"feature\": \"NetFractionRevolvingBurden\", \"score_label\": \"-1.0\"}, {\"index\": 1, \"value\": \"-4.0 - 0.5\", \"contribution\": 0.019043573305142378, \"mean\": 0.594, \"frequency\": 0.059758575355563524, \"feature\": \"NetFractionRevolvingBurden\", \"score_label\": \"1.9\"}, {\"index\": 2, \"value\": \"0.5 - 2.5\", \"contribution\": 0.04931134772114553, \"mean\": 0.7782608695652173, \"frequency\": 0.05497788932711844, \"feature\": \"NetFractionRevolvingBurden\", \"score_label\": \"4.9\"}, {\"index\": 3, \"value\": \"2.5 - 6.5\", \"contribution\": 0.04072481373122189, \"mean\": 0.7259887005649718, \"frequency\": 0.08461814270347795, \"feature\": \"NetFractionRevolvingBurden\", \"score_label\": \"4.1\"}, {\"index\": 4, \"value\": \"6.5 - 12.5\", \"contribution\": 0.03200590300116632, \"mean\": 0.6729106628242079, \"frequency\": 0.08294490259352218, \"feature\": \"NetFractionRevolvingBurden\", \"score_label\": \"3.2\"}, {\"index\": 5, \"value\": \"12.5 - 17.5\", \"contribution\": 0.02047921211700248, \"mean\": 0.6027397260273968, \"frequency\": 0.06107326401338592, \"feature\": \"NetFractionRevolvingBurden\", \"score_label\": \"2.0\"}, {\"index\": 6, \"value\": \"17.5 - 23.5\", \"contribution\": 0.015861228290895455, \"mean\": 0.5746268656716418, \"frequency\": 0.0640611927811641, \"feature\": \"NetFractionRevolvingBurden\", \"score_label\": \"1.6\"}, {\"index\": 7, \"value\": \"23.5 - 37.5\", \"contribution\": 0.0013473799756981676, \"mean\": 0.4862710363153233, \"frequency\": 0.13493486315286243, \"feature\": \"NetFractionRevolvingBurden\", \"score_label\": \"0.1\"}, {\"index\": 8, \"value\": \"37.5 - 42.5\", \"contribution\": -0.00766693504377547, \"mean\": 0.40668523676880225, \"frequency\": 0.04290665710529461, \"feature\": \"NetFractionRevolvingBurden\", \"score_label\": \"-0.8\"}, {\"index\": 9, \"value\": \"42.5 - 47.5\", \"contribution\": -0.006286243677862779, \"mean\": 0.4195402298850578, \"frequency\": 0.04159196844747221, \"feature\": \"NetFractionRevolvingBurden\", \"score_label\": \"-0.6\"}, {\"index\": 10, \"value\": \"47.5 - 54.5\", \"contribution\": -0.01300453600110052, \"mean\": 0.35698924731182796, \"frequency\": 0.05557547508067408, \"feature\": \"NetFractionRevolvingBurden\", \"score_label\": \"-1.3\"}, {\"index\": 11, \"value\": \"54.5 - 63.5\", \"contribution\": -0.016772787422236708, \"mean\": 0.3219047619047619, \"frequency\": 0.0627465041233417, \"feature\": \"NetFractionRevolvingBurden\", \"score_label\": \"-1.7\"}, {\"index\": 12, \"value\": \"63.5 - 70.5\", \"contribution\": -0.0212499655724068, \"mean\": 0.2802197802197777, \"frequency\": 0.043504242858850246, \"feature\": \"NetFractionRevolvingBurden\", \"score_label\": \"-2.1\"}, {\"index\": 13, \"value\": \"70.5 - 78.5\", \"contribution\": -0.024055538327778157, \"mean\": 0.2540983606557377, \"frequency\": 0.0437432771602725, \"feature\": \"NetFractionRevolvingBurden\", \"score_label\": \"-2.4\"}, {\"index\": 14, \"value\": \"78.5 - 88.5\", \"contribution\": -0.03406015818968416, \"mean\": 0.16094986807387862, \"frequency\": 0.04529700011951715, \"feature\": \"NetFractionRevolvingBurden\", \"score_label\": \"-3.4\"}, {\"index\": 15, \"value\": \"88.5 - inf\", \"contribution\": -0.031427252876117896, \"mean\": 0.18546365914786966, \"frequency\": 0.04768734313373969, \"feature\": \"NetFractionRevolvingBurden\", \"score_label\": \"-3.1\"}, {\"index\": 16, \"value\": \"nan - nan\", \"contribution\": 0.0, \"mean\": 0.0, \"frequency\": 0.0, \"feature\": \"NetFractionRevolvingBurden\", \"score_label\": \"0.0\"}, {\"index\": 0, \"value\": \"-inf - 64.5\", \"contribution\": 0.005507437075108159, \"mean\": 0.5115961800818554, \"frequency\": 0.6132425002987929, \"feature\": \"NetFractionInstallBurden\", \"score_label\": \"0.6\"}, {\"index\": 1, \"value\": \"64.5 - 72.5\", \"contribution\": -0.00318671109448238, \"mean\": 0.44839857651245635, \"frequency\": 0.0671686386996534, \"feature\": \"NetFractionInstallBurden\", \"score_label\": \"-0.3\"}, {\"index\": 2, \"value\": \"72.5 - 77.5\", \"contribution\": -0.007684495518184098, \"mean\": 0.40652173913043477, \"frequency\": 0.05497788932711844, \"feature\": \"NetFractionInstallBurden\", \"score_label\": \"-0.8\"}, {\"index\": 3, \"value\": \"77.5 - 84.5\", \"contribution\": -0.002083402004875036, \"mean\": 0.4586709886547812, \"frequency\": 0.07374208198876539, \"feature\": \"NetFractionInstallBurden\", \"score_label\": \"-0.2\"}, {\"index\": 4, \"value\": \"84.5 - 88.5\", \"contribution\": -0.006728467309717369, \"mean\": 0.4154228855721393, \"frequency\": 0.04804589458587307, \"feature\": \"NetFractionInstallBurden\", \"score_label\": \"-0.7\"}, {\"index\": 5, \"value\": \"88.5 - 94.5\", \"contribution\": -0.0072543837034777315, \"mean\": 0.4105263157894737, \"frequency\": 0.06812477590534241, \"feature\": \"NetFractionInstallBurden\", \"score_label\": \"-0.7\"}, {\"index\": 6, \"value\": \"94.5 - inf\", \"contribution\": -0.00804126712402853, \"mean\": 0.4032, \"frequency\": 0.07469821919445441, \"feature\": \"NetFractionInstallBurden\", \"score_label\": \"-0.8\"}, {\"index\": 7, \"value\": \"nan - nan\", \"contribution\": 0.0, \"mean\": 0.0, \"frequency\": 0.0, \"feature\": \"NetFractionInstallBurden\", \"score_label\": \"0.0\"}, {\"index\": 0, \"value\": \"-inf - -4.0\", \"contribution\": -0.009498527545484125, \"mean\": 0.3896321070234114, \"frequency\": 0.07147125612525397, \"feature\": \"NumRevolvingTradesWBalance\", \"score_label\": \"-0.9\"}, {\"index\": 1, \"value\": \"-4.0 - 1.5\", \"contribution\": 0.007525347668060669, \"mean\": 0.5238805970149254, \"frequency\": 0.16015298195291025, \"feature\": \"NumRevolvingTradesWBalance\", \"score_label\": \"0.8\"}, {\"index\": 2, \"value\": \"1.5 - 2.5\", \"contribution\": 0.01325109032270196, \"mean\": 0.5587371512481645, \"frequency\": 0.16278235926855503, \"feature\": \"NumRevolvingTradesWBalance\", \"score_label\": \"1.3\"}, {\"index\": 3, \"value\": \"2.5 - 3.5\", \"contribution\": 0.00939565612239116, \"mean\": 0.5352664576802508, \"frequency\": 0.1525038843073981, \"feature\": \"NumRevolvingTradesWBalance\", \"score_label\": \"0.9\"}, {\"index\": 4, \"value\": \"3.5 - 4.5\", \"contribution\": 0.00511515750639388, \"mean\": 0.509208103130755, \"frequency\": 0.12979562567228398, \"feature\": \"NumRevolvingTradesWBalance\", \"score_label\": \"0.5\"}, {\"index\": 5, \"value\": \"4.5 - 5.5\", \"contribution\": -0.0022589957615032513, \"mean\": 0.45703611457036114, \"frequency\": 0.09597227202103502, \"feature\": \"NumRevolvingTradesWBalance\", \"score_label\": \"-0.2\"}, {\"index\": 6, \"value\": \"5.5 - 6.5\", \"contribution\": -0.006096002937875028, \"mean\": 0.4213114754098368, \"frequency\": 0.0729054619337875, \"feature\": \"NumRevolvingTradesWBalance\", \"score_label\": \"-0.6\"}, {\"index\": 7, \"value\": \"6.5 - 8.5\", \"contribution\": -0.010989696932957581, \"mean\": 0.3757485029940121, \"frequency\": 0.07983745667503286, \"feature\": \"NumRevolvingTradesWBalance\", \"score_label\": \"-1.1\"}, {\"index\": 8, \"value\": \"8.5 - inf\", \"contribution\": -0.01812715348392033, \"mean\": 0.3092948717948718, \"frequency\": 0.07457870204374328, \"feature\": \"NumRevolvingTradesWBalance\", \"score_label\": \"-1.8\"}, {\"index\": 9, \"value\": \"nan - nan\", \"contribution\": 0.0, \"mean\": 0.0, \"frequency\": 0.0, \"feature\": \"NumRevolvingTradesWBalance\", \"score_label\": \"0.0\"}, {\"index\": 0, \"value\": \"-inf - 3.5\", \"contribution\": 0.001922561631456002, \"mean\": 0.4897725647260764, \"frequency\": 0.8355444006214892, \"feature\": \"NumInstallTradesWBalance\", \"score_label\": \"0.2\"}, {\"index\": 1, \"value\": \"3.5 - 4.5\", \"contribution\": -0.0051754804046558345, \"mean\": 0.42988204456094364, \"frequency\": 0.09119158599258993, \"feature\": \"NumInstallTradesWBalance\", \"score_label\": \"-0.5\"}, {\"index\": 2, \"value\": \"4.5 - inf\", \"contribution\": -0.007894369234714553, \"mean\": 0.40456769983686786, \"frequency\": 0.07326401338592088, \"feature\": \"NumInstallTradesWBalance\", \"score_label\": \"-0.8\"}, {\"index\": 3, \"value\": \"nan - nan\", \"contribution\": 0.0, \"mean\": 0.0, \"frequency\": 0.0, \"feature\": \"NumInstallTradesWBalance\", \"score_label\": \"0.0\"}, {\"index\": 0, \"value\": \"-inf - -8.5\", \"contribution\": -0.0025265052623417955, \"mean\": 0.45454545454545453, \"frequency\": 0.056531612286363095, \"feature\": \"NumBank2NatlTradesWHighUtilization\", \"score_label\": \"-0.3\"}, {\"index\": 1, \"value\": \"-8.5 - -4.0\", \"contribution\": -0.02168701317072925, \"mean\": 0.27615062761506276, \"frequency\": 0.05712919803991873, \"feature\": \"NumBank2NatlTradesWHighUtilization\", \"score_label\": \"-2.2\"}, {\"index\": 2, \"value\": \"-4.0 - 0.5\", \"contribution\": 0.025646402630966857, \"mean\": 0.634195987205583, \"frequency\": 0.4110194812955659, \"feature\": \"NumBank2NatlTradesWHighUtilization\", \"score_label\": \"2.6\"}, {\"index\": 3, \"value\": \"0.5 - 1.5\", \"contribution\": -0.005727848469098131, \"mean\": 0.4247391952309985, \"frequency\": 0.24058802438149873, \"feature\": \"NumBank2NatlTradesWHighUtilization\", \"score_label\": \"-0.6\"}, {\"index\": 4, \"value\": \"1.5 - 2.5\", \"contribution\": -0.012462790471652269, \"mean\": 0.3620331950207469, \"frequency\": 0.11521453328552647, \"feature\": \"NumBank2NatlTradesWHighUtilization\", \"score_label\": \"-1.2\"}, {\"index\": 5, \"value\": \"2.5 - 3.5\", \"contribution\": -0.019809157058816404, \"mean\": 0.29363449691991694, \"frequency\": 0.058204852396318875, \"feature\": \"NumBank2NatlTradesWHighUtilization\", \"score_label\": \"-2.0\"}, {\"index\": 6, \"value\": \"3.5 - inf\", \"contribution\": -0.0251761644610204, \"mean\": 0.24366471734892786, \"frequency\": 0.061312298314808174, \"feature\": \"NumBank2NatlTradesWHighUtilization\", \"score_label\": \"-2.5\"}, {\"index\": 7, \"value\": \"nan - nan\", \"contribution\": 0.0, \"mean\": 0.0, \"frequency\": 0.0, \"feature\": \"NumBank2NatlTradesWHighUtilization\", \"score_label\": \"0.0\"}, {\"index\": 0, \"value\": \"-inf - -4.0\", \"contribution\": -0.0033668578541153323, \"mean\": 0.44672131147540983, \"frequency\": 0.05832436954703, \"feature\": \"PercentTradesWBalance\", \"score_label\": \"-0.3\"}, {\"index\": 1, \"value\": \"-4.0 - 27.5\", \"contribution\": 0.042633686593783186, \"mean\": 0.7376093294460639, \"frequency\": 0.04099438269391658, \"feature\": \"PercentTradesWBalance\", \"score_label\": \"4.3\"}, {\"index\": 2, \"value\": \"27.5 - 34.0\", \"contribution\": 0.03338705358227888, \"mean\": 0.6813186813186813, \"frequency\": 0.043504242858850246, \"feature\": \"PercentTradesWBalance\", \"score_label\": \"3.3\"}, {\"index\": 3, \"value\": \"34.0 - 40.5\", \"contribution\": 0.03212394117855612, \"mean\": 0.673629242819843, \"frequency\": 0.04577506872236166, \"feature\": \"PercentTradesWBalance\", \"score_label\": \"3.2\"}, {\"index\": 4, \"value\": \"40.5 - 44.5\", \"contribution\": 0.03699193632809557, \"mean\": 0.7032640949554909, \"frequency\": 0.04027727978964982, \"feature\": \"PercentTradesWBalance\", \"score_label\": \"3.7\"}, {\"index\": 5, \"value\": \"44.5 - 51.0\", \"contribution\": 0.014477686054148023, \"mean\": 0.5662042875157632, \"frequency\": 0.09477710051392375, \"feature\": \"PercentTradesWBalance\", \"score_label\": \"1.4\"}, {\"index\": 6, \"value\": \"51.0 - 57.5\", \"contribution\": 0.008015268677242426, \"mean\": 0.5268630849220102, \"frequency\": 0.0689613959603203, \"feature\": \"PercentTradesWBalance\", \"score_label\": \"0.8\"}, {\"index\": 7, \"value\": \"57.5 - 60.5\", \"contribution\": 0.021495058370632786, \"mean\": 0.6089238845144351, \"frequency\": 0.045536034420939404, \"feature\": \"PercentTradesWBalance\", \"score_label\": \"2.1\"}, {\"index\": 8, \"value\": \"60.5 - 73.5\", \"contribution\": 0.0017507765968747127, \"mean\": 0.4887267904509284, \"frequency\": 0.18023186327237958, \"feature\": \"PercentTradesWBalance\", \"score_label\": \"0.2\"}, {\"index\": 9, \"value\": \"73.5 - 77.5\", \"contribution\": -0.00610154857177658, \"mean\": 0.421259842519685, \"frequency\": 0.06071471256125254, \"feature\": \"PercentTradesWBalance\", \"score_label\": \"-0.6\"}, {\"index\": 10, \"value\": \"77.5 - 80.5\", \"contribution\": -0.0055323539694501316, \"mean\": 0.42655935613682094, \"frequency\": 0.05940002390343014, \"feature\": \"PercentTradesWBalance\", \"score_label\": \"-0.6\"}, {\"index\": 11, \"value\": \"80.5 - 86.5\", \"contribution\": -0.013088322368161608, \"mean\": 0.3562091503267973, \"frequency\": 0.07314449623520976, \"feature\": \"PercentTradesWBalance\", \"score_label\": \"-1.3\"}, {\"index\": 12, \"value\": \"86.5 - 98.0\", \"contribution\": -0.021966255917933997, \"mean\": 0.27355072463768126, \"frequency\": 0.06597346719254213, \"feature\": \"PercentTradesWBalance\", \"score_label\": \"-2.2\"}, {\"index\": 13, \"value\": \"98.0 - inf\", \"contribution\": -0.023132182159696632, \"mean\": 0.2626953125, \"frequency\": 0.1223855623281941, \"feature\": \"PercentTradesWBalance\", \"score_label\": \"-2.3\"}, {\"index\": 14, \"value\": \"nan - nan\", \"contribution\": 0.0, \"mean\": 0.0, \"frequency\": 0.0, \"feature\": \"PercentTradesWBalance\", \"score_label\": \"0.0\"}]}}, {\"mode\": \"vega-lite\"});\n",
              "</script>"
            ],
            "text/plain": [
              "alt.HConcatChart(...)"
            ]
          },
          "execution_count": 13,
          "metadata": {},
          "output_type": "execute_result"
        }
      ],
      "source": [
        "model.explain()"
      ]
    },
    {
      "cell_type": "markdown",
      "metadata": {
        "id": "PSU2FZCXp65J"
      },
      "source": [
        "## Analysing Feature Importances and Contributions\n",
        "Click on the bars to see the importances and contributions of each variable.\n",
        "\n",
        "### Feature Importances\n",
        "The relative significance of each feature (or input variable) in making predictions. It indicates how much each feature contributes to the model’s predictions, with higher values implying greater influence.\n",
        "\n",
        "## Feature Significance\n",
        "The effect of each feature on individual predictions. For instance, in this model, feature contributions would show how each feature (like the net fraction of trades revolving burden) affects the predicted risk estimate for a particular applicant."
      ]
    },
    {
      "cell_type": "markdown",
      "metadata": {
        "id": "BbK4pIoG0dfg"
      },
      "source": [
        "# 5. Saving a model to Xplainable's app"
      ]
    },
    {
      "cell_type": "markdown",
      "metadata": {
        "id": "A2npUsTkS26j"
      },
      "source": [
        "In this step, we first create a unique identifier for our HELOC risk prediction model using client.create_model_id. This identifier, referred to as model_id, represents the newly created model that predicts the likelihood of applicants defaulting on their line of credit. After creating this model identifier, we generate a specific version of the model using client.create_model_version, passing in our training data. The resulting version_id represents this particular iteration of our model, allowing us to track and manage different versions systematically."
      ]
    },
    {
      "cell_type": "markdown",
      "metadata": {},
      "source": [
        "Creat an API key in the Xplainable platform"
      ]
    },
    {
      "cell_type": "markdown",
      "metadata": {
        "id": "4y-9WXpbT38H"
      },
      "source": [
        "![Heloc Deployment](images/heloc_api_key.png)"
      ]
    },
    {
      "cell_type": "code",
      "execution_count": 25,
      "metadata": {
        "colab": {
          "base_uri": "https://localhost:8080/"
        },
        "id": "Ydmbd6wh1dHU",
        "outputId": "22801648-a1d7-4374-8388-210175b669ab"
      },
      "outputs": [
        {
          "name": "stdout",
          "output_type": "stream",
          "text": [
            "get_response_content\n",
            "<Response [200]>\n"
          ]
        }
      ],
      "source": [
        "client = xplainable_client.Client(\n",
        "    api_key=\"f6eaf63f-598e-4dfc-9ebd-a343386d1905\",\n",
        "    hostname=\"https://xplainable-api-uat-45xyq.ondigitalocean.app\"\n",
        ")"
      ]
    },
    {
      "cell_type": "code",
      "execution_count": 26,
      "metadata": {
        "colab": {
          "base_uri": "https://localhost:8080/",
          "height": 118,
          "referenced_widgets": [
            "f91119262f324be0a4706010a4de11b5",
            "da7b91f237a34ec3819a2c6cc631a54f",
            "6c554ec5ef454523be2d377f16611e08",
            "6fb4e7fdd53746f0947b81f4b9ebaee1",
            "b97c62aca2fa44dcb597e02f52a2bc16",
            "59a8082125b443c0a58ed13a6bfdbf95",
            "040222389c77411e80ff10bdb429a1ba",
            "38a106bc10e24ad195c3735d61099cda",
            "50359b9f79a74a1d88b9199926c0dfd9",
            "d14d85699fd64c49996b3efc8b586447",
            "337c01bd367540b8a0080ab2f955e7ba"
          ]
        },
        "id": "2bFxW3yB3e2C",
        "outputId": "d357730c-a315-4d4a-9d1a-81fd240646c4"
      },
      "outputs": [
        {
          "name": "stdout",
          "output_type": "stream",
          "text": [
            "get_response_content\n",
            "<Response [200]>\n"
          ]
        },
        {
          "data": {
            "application/vnd.jupyter.widget-view+json": {
              "model_id": "a5c599833bc74ec5b94ffccf277e430b",
              "version_major": 2,
              "version_minor": 0
            },
            "text/plain": [
              "  0%|          | 0/23 [00:00<?, ?it/s]"
            ]
          },
          "metadata": {},
          "output_type": "display_data"
        },
        {
          "name": "stdout",
          "output_type": "stream",
          "text": [
            "get_response_content\n",
            "<Response [200]>\n"
          ]
        }
      ],
      "source": [
        "# Create a model\n",
        "model_id = client.create_model_id(\n",
        "    model,\n",
        "    model_name=\"HELOC\",\n",
        "    model_description=\"Predicting applicant risk estimates\"\n",
        ")\n",
        "# Create a version for that model\n",
        "version_id = client.create_model_version(model, model_id, x_train, y_train)"
      ]
    },
    {
      "cell_type": "markdown",
      "metadata": {
        "id": "khCJ40YC4jqL"
      },
      "source": [
        "## Xplainable App\n",
        "As you can see in the screenshot, now the model has been saved to Xplainable's webapp, allowing yourself and other members in your organisation to visually analyse the model."
      ]
    },
    {
      "cell_type": "markdown",
      "metadata": {
        "id": "iPw51tVm4TC9"
      },
      "source": [
        "![Heloc Deployment](images/heloc_model.png)"
      ]
    },
    {
      "cell_type": "markdown",
      "metadata": {
        "id": "wLV4bcF-1FBy"
      },
      "source": [
        "# 6. Deployments"
      ]
    },
    {
      "cell_type": "markdown",
      "metadata": {},
      "source": [
        "The code block illustrates the deployment of our churn prediction model using the xp.client.deploy function. The deployment process involves specifying the hostname of the server where the model will be hosted, as well as the unique model_id and version_id that we obtained in the previous steps. This step effectively activates the model's endpoint, allowing it to receive and process prediction requests. The output confirms the deployment with a deployment_id, indicating the model's current status as 'inactive', its location, and the endpoint URL where it can be accessed for xplainable deployments."
      ]
    },
    {
      "cell_type": "code",
      "execution_count": 31,
      "metadata": {
        "id": "e772z38G1IMX"
      },
      "outputs": [],
      "source": [
        "deployment = client.deploy(\n",
        "    hostname=\"https://inference.xplainable.io\",\n",
        "    model_id=model_id,\n",
        "    version_id=version_id\n",
        ")"
      ]
    },
    {
      "cell_type": "code",
      "execution_count": 32,
      "metadata": {},
      "outputs": [
        {
          "data": {
            "text/plain": [
              "{'deployment_id': 'Du526MrksjGMu4Np',\n",
              " 'status': 'inactive',\n",
              " 'location': 'syd',\n",
              " 'endpoint': 'https://inference.xplainable.io/v1/predict'}"
            ]
          },
          "execution_count": 32,
          "metadata": {},
          "output_type": "execute_result"
        }
      ],
      "source": [
        "deployment"
      ]
    },
    {
      "cell_type": "markdown",
      "metadata": {},
      "source": [
        "### Testing the Deployment programatically\n",
        "This section demonstrates the steps taken to programmatically test a deployed model. These steps are essential for validating that the model's deployment is functional and ready to process incoming prediction requests."
      ]
    },
    {
      "cell_type": "markdown",
      "metadata": {},
      "source": [
        "1. **Activating the Deployment:**\n",
        "   The model deployment is activated using `xp.client.activate_deployment`, which changes the deployment status to active, allowing it to accept prediction requests."
      ]
    },
    {
      "cell_type": "code",
      "execution_count": 33,
      "metadata": {},
      "outputs": [
        {
          "data": {
            "text/plain": [
              "{'message': 'activated deployment'}"
            ]
          },
          "execution_count": 33,
          "metadata": {},
          "output_type": "execute_result"
        }
      ],
      "source": [
        "client.activate_deployment(deployment['deployment_id'])"
      ]
    },
    {
      "cell_type": "markdown",
      "metadata": {},
      "source": [
        "2. **Creating a Deployment Key:**\n",
        "   A deployment key is generated with `xp.client.generate_deploy_key`. This key is required to authenticate and make secure requests to the deployed model."
      ]
    },
    {
      "cell_type": "code",
      "execution_count": 36,
      "metadata": {},
      "outputs": [],
      "source": [
        "deploy_key = client.generate_deploy_key('for testing', deployment['deployment_id'], 7)"
      ]
    },
    {
      "cell_type": "markdown",
      "metadata": {},
      "source": [
        "3. **Generating Example Payload:**\n",
        "   An example payload for a deployment request is generated by `xp.client.generate_example_deployment_payload`. This payload mimics the input data structure the model expects when making predictions."
      ]
    },
    {
      "cell_type": "code",
      "execution_count": 37,
      "metadata": {},
      "outputs": [],
      "source": [
        "#Set the option to highlight multiple ways of creating data\n",
        "option = 1"
      ]
    },
    {
      "cell_type": "code",
      "execution_count": 40,
      "metadata": {},
      "outputs": [],
      "source": [
        "if option == 1:\n",
        "    body = client.generate_example_deployment_payload(deployment['deployment_id'])\n",
        "else:\n",
        "    body = json.loads(df.drop(columns=[\"RiskPerformance\"]).sample(1).to_json(orient=\"records\"))\n",
        "    # body[0][\"Gender\"] = None #<- Won't require this line the next release of xplainable"
      ]
    },
    {
      "cell_type": "code",
      "execution_count": 41,
      "metadata": {},
      "outputs": [
        {
          "data": {
            "text/plain": [
              "[{'ExternalRiskEstimate': 66.0,\n",
              "  'MSinceOldestTradeOpen': 322.0,\n",
              "  'MSinceMostRecentTradeOpen': None,\n",
              "  'AverageMInFile': 94.0,\n",
              "  'NumSatisfactoryTrades': 25.5,\n",
              "  'NumTrades60Ever2DerogPubRec': 2.5,\n",
              "  'NumTrades90Ever2DerogPubRec': 1.0,\n",
              "  'PercentTradesNeverDelq': 98.0,\n",
              "  'MSinceMostRecentDelq': 27.0,\n",
              "  'MaxDelq2PublicRecLast12M': -4.5,\n",
              "  'MaxDelqEver': 3.5,\n",
              "  'NumTotalTrades': 6.0,\n",
              "  'NumTradesOpeninLast12M': 2.5,\n",
              "  'PercentInstallTrades': 5.5,\n",
              "  'MSinceMostRecentInqexcl7days': -1.5,\n",
              "  'NumInqLast6M': None,\n",
              "  'NumInqLast6Mexcl7days': -2.0,\n",
              "  'NetFractionRevolvingBurden': 20.5,\n",
              "  'NetFractionInstallBurden': 91.5,\n",
              "  'NumRevolvingTradesWBalance': 8.5,\n",
              "  'NumInstallTradesWBalance': None,\n",
              "  'NumBank2NatlTradesWHighUtilization': None,\n",
              "  'PercentTradesWBalance': None}]"
            ]
          },
          "execution_count": 41,
          "metadata": {},
          "output_type": "execute_result"
        }
      ],
      "source": [
        "body"
      ]
    },
    {
      "cell_type": "markdown",
      "metadata": {},
      "source": [
        "4. **Making a Prediction Request:**\n",
        "   A POST request is made to the model's prediction endpoint with the example payload. The model processes the input data and returns a prediction response, which includes the predicted class (e.g., 'No' for no churn) and the prediction probabilities for each class."
      ]
    },
    {
      "cell_type": "code",
      "execution_count": 45,
      "metadata": {},
      "outputs": [
        {
          "data": {
            "text/plain": [
              "'f2a38982-c4f2-4114-b8ce-d71e37019f5f'"
            ]
          },
          "execution_count": 45,
          "metadata": {},
          "output_type": "execute_result"
        }
      ],
      "source": [
        "deploy_key['deploy_key']"
      ]
    },
    {
      "cell_type": "code",
      "execution_count": 43,
      "metadata": {},
      "outputs": [
        {
          "data": {
            "text/plain": [
              "[{'index': 0,\n",
              "  'id': None,\n",
              "  'partition': '__dataset__',\n",
              "  'score': 0.4421742713512326,\n",
              "  'proba': 0.3200335966035672,\n",
              "  'pred': 'Bad',\n",
              "  'support': 918,\n",
              "  'breakdown': {'base_value': 0.4780686028445082,\n",
              "   'ExternalRiskEstimate': -0.018834502005451913,\n",
              "   'MSinceOldestTradeOpen': 0.016605591083751464,\n",
              "   'MSinceMostRecentTradeOpen': 0.0,\n",
              "   'AverageMInFile': 0.008550347872215057,\n",
              "   'NumSatisfactoryTrades': 0.01024150167891105,\n",
              "   'NumTrades60Ever2DerogPubRec': -0.021627198964509615,\n",
              "   'NumTrades90Ever2DerogPubRec': -0.014139475517112348,\n",
              "   'PercentTradesNeverDelq': 0.01801186828646687,\n",
              "   'MSinceMostRecentDelq': -0.0070614886012018395,\n",
              "   'MaxDelq2PublicRecLast12M': -0.0025265052623417955,\n",
              "   'MaxDelqEver': -0.01229060204294862,\n",
              "   'NumTotalTrades': -0.013329005986282996,\n",
              "   'NumTradesOpeninLast12M': 0.00315905436830356,\n",
              "   'PercentInstallTrades': -0.001906562609604855,\n",
              "   'MSinceMostRecentInqexcl7days': -0.0094064788906335,\n",
              "   'NumInqLast6M': 0.0,\n",
              "   'NumInqLast6Mexcl7days': 0.011041977442703738,\n",
              "   'NetFractionRevolvingBurden': 0.015861228290895455,\n",
              "   'NetFractionInstallBurden': -0.0072543837034777315,\n",
              "   'NumRevolvingTradesWBalance': -0.010989696932957581,\n",
              "   'NumInstallTradesWBalance': 0.0,\n",
              "   'NumBank2NatlTradesWHighUtilization': 0.0,\n",
              "   'PercentTradesWBalance': 0.0}}]"
            ]
          },
          "execution_count": 43,
          "metadata": {},
          "output_type": "execute_result"
        }
      ],
      "source": [
        "response = requests.post(\n",
        "    url=\"https://inference.xplainable.io/v1/predict\",\n",
        "    headers={'api_key': deploy_key['deploy_key']},\n",
        "    json=body\n",
        ")\n",
        "\n",
        "value = response.json()\n",
        "value"
      ]
    },
    {
      "cell_type": "markdown",
      "metadata": {},
      "source": [
        "## SaaS Deployment Info\n",
        "The SaaS application interface displayed above mirrors the operations performed programmatically in the earlier steps. It displays a dashboard for managing the 'Telco Customer Churn' model, facilitating a range of actions from deployment to testing, all within a user-friendly web interface. This makes it accessible even to non-technical users who prefer to manage model deployments and monitor performance through a graphical interface rather than code. Features like the deployment checklist, example payload, and prediction response are all integrated into the application, ensuring that users have full control and visibility over the deployment lifecycle and model interactions."
      ]
    },
    {
      "cell_type": "markdown",
      "metadata": {},
      "source": [
        "![Heloc Deployment](images/heloc_deployment.png)\n"
      ]
    }
  ],
  "metadata": {
    "colab": {
      "provenance": []
    },
    "kernelspec": {
      "display_name": "Python 3",
      "name": "python3"
    },
    "language_info": {
      "codemirror_mode": {
        "name": "ipython",
        "version": 3
      },
      "file_extension": ".py",
      "mimetype": "text/x-python",
      "name": "python",
      "nbconvert_exporter": "python",
      "pygments_lexer": "ipython3",
      "version": "3.10.13"
    },
    "widgets": {
      "application/vnd.jupyter.widget-state+json": {
        "040222389c77411e80ff10bdb429a1ba": {
          "model_module": "@jupyter-widgets/controls",
          "model_module_version": "1.5.0",
          "model_name": "DescriptionStyleModel",
          "state": {
            "_model_module": "@jupyter-widgets/controls",
            "_model_module_version": "1.5.0",
            "_model_name": "DescriptionStyleModel",
            "_view_count": null,
            "_view_module": "@jupyter-widgets/base",
            "_view_module_version": "1.2.0",
            "_view_name": "StyleView",
            "description_width": ""
          }
        },
        "337c01bd367540b8a0080ab2f955e7ba": {
          "model_module": "@jupyter-widgets/controls",
          "model_module_version": "1.5.0",
          "model_name": "DescriptionStyleModel",
          "state": {
            "_model_module": "@jupyter-widgets/controls",
            "_model_module_version": "1.5.0",
            "_model_name": "DescriptionStyleModel",
            "_view_count": null,
            "_view_module": "@jupyter-widgets/base",
            "_view_module_version": "1.2.0",
            "_view_name": "StyleView",
            "description_width": ""
          }
        },
        "38a106bc10e24ad195c3735d61099cda": {
          "model_module": "@jupyter-widgets/base",
          "model_module_version": "1.2.0",
          "model_name": "LayoutModel",
          "state": {
            "_model_module": "@jupyter-widgets/base",
            "_model_module_version": "1.2.0",
            "_model_name": "LayoutModel",
            "_view_count": null,
            "_view_module": "@jupyter-widgets/base",
            "_view_module_version": "1.2.0",
            "_view_name": "LayoutView",
            "align_content": null,
            "align_items": null,
            "align_self": null,
            "border": null,
            "bottom": null,
            "display": null,
            "flex": null,
            "flex_flow": null,
            "grid_area": null,
            "grid_auto_columns": null,
            "grid_auto_flow": null,
            "grid_auto_rows": null,
            "grid_column": null,
            "grid_gap": null,
            "grid_row": null,
            "grid_template_areas": null,
            "grid_template_columns": null,
            "grid_template_rows": null,
            "height": null,
            "justify_content": null,
            "justify_items": null,
            "left": null,
            "margin": null,
            "max_height": null,
            "max_width": null,
            "min_height": null,
            "min_width": null,
            "object_fit": null,
            "object_position": null,
            "order": null,
            "overflow": null,
            "overflow_x": null,
            "overflow_y": null,
            "padding": null,
            "right": null,
            "top": null,
            "visibility": null,
            "width": null
          }
        },
        "50359b9f79a74a1d88b9199926c0dfd9": {
          "model_module": "@jupyter-widgets/controls",
          "model_module_version": "1.5.0",
          "model_name": "ProgressStyleModel",
          "state": {
            "_model_module": "@jupyter-widgets/controls",
            "_model_module_version": "1.5.0",
            "_model_name": "ProgressStyleModel",
            "_view_count": null,
            "_view_module": "@jupyter-widgets/base",
            "_view_module_version": "1.2.0",
            "_view_name": "StyleView",
            "bar_color": null,
            "description_width": ""
          }
        },
        "59a8082125b443c0a58ed13a6bfdbf95": {
          "model_module": "@jupyter-widgets/base",
          "model_module_version": "1.2.0",
          "model_name": "LayoutModel",
          "state": {
            "_model_module": "@jupyter-widgets/base",
            "_model_module_version": "1.2.0",
            "_model_name": "LayoutModel",
            "_view_count": null,
            "_view_module": "@jupyter-widgets/base",
            "_view_module_version": "1.2.0",
            "_view_name": "LayoutView",
            "align_content": null,
            "align_items": null,
            "align_self": null,
            "border": null,
            "bottom": null,
            "display": null,
            "flex": null,
            "flex_flow": null,
            "grid_area": null,
            "grid_auto_columns": null,
            "grid_auto_flow": null,
            "grid_auto_rows": null,
            "grid_column": null,
            "grid_gap": null,
            "grid_row": null,
            "grid_template_areas": null,
            "grid_template_columns": null,
            "grid_template_rows": null,
            "height": null,
            "justify_content": null,
            "justify_items": null,
            "left": null,
            "margin": null,
            "max_height": null,
            "max_width": null,
            "min_height": null,
            "min_width": null,
            "object_fit": null,
            "object_position": null,
            "order": null,
            "overflow": null,
            "overflow_x": null,
            "overflow_y": null,
            "padding": null,
            "right": null,
            "top": null,
            "visibility": null,
            "width": null
          }
        },
        "6c554ec5ef454523be2d377f16611e08": {
          "model_module": "@jupyter-widgets/controls",
          "model_module_version": "1.5.0",
          "model_name": "FloatProgressModel",
          "state": {
            "_dom_classes": [],
            "_model_module": "@jupyter-widgets/controls",
            "_model_module_version": "1.5.0",
            "_model_name": "FloatProgressModel",
            "_view_count": null,
            "_view_module": "@jupyter-widgets/controls",
            "_view_module_version": "1.5.0",
            "_view_name": "ProgressView",
            "bar_style": "success",
            "description": "",
            "description_tooltip": null,
            "layout": "IPY_MODEL_38a106bc10e24ad195c3735d61099cda",
            "max": 23,
            "min": 0,
            "orientation": "horizontal",
            "style": "IPY_MODEL_50359b9f79a74a1d88b9199926c0dfd9",
            "value": 23
          }
        },
        "6fb4e7fdd53746f0947b81f4b9ebaee1": {
          "model_module": "@jupyter-widgets/controls",
          "model_module_version": "1.5.0",
          "model_name": "HTMLModel",
          "state": {
            "_dom_classes": [],
            "_model_module": "@jupyter-widgets/controls",
            "_model_module_version": "1.5.0",
            "_model_name": "HTMLModel",
            "_view_count": null,
            "_view_module": "@jupyter-widgets/controls",
            "_view_module_version": "1.5.0",
            "_view_name": "HTMLView",
            "description": "",
            "description_tooltip": null,
            "layout": "IPY_MODEL_d14d85699fd64c49996b3efc8b586447",
            "placeholder": "​",
            "style": "IPY_MODEL_337c01bd367540b8a0080ab2f955e7ba",
            "value": " 23/23 [00:00&lt;00:00, 214.84it/s]"
          }
        },
        "b97c62aca2fa44dcb597e02f52a2bc16": {
          "model_module": "@jupyter-widgets/base",
          "model_module_version": "1.2.0",
          "model_name": "LayoutModel",
          "state": {
            "_model_module": "@jupyter-widgets/base",
            "_model_module_version": "1.2.0",
            "_model_name": "LayoutModel",
            "_view_count": null,
            "_view_module": "@jupyter-widgets/base",
            "_view_module_version": "1.2.0",
            "_view_name": "LayoutView",
            "align_content": null,
            "align_items": null,
            "align_self": null,
            "border": null,
            "bottom": null,
            "display": null,
            "flex": null,
            "flex_flow": null,
            "grid_area": null,
            "grid_auto_columns": null,
            "grid_auto_flow": null,
            "grid_auto_rows": null,
            "grid_column": null,
            "grid_gap": null,
            "grid_row": null,
            "grid_template_areas": null,
            "grid_template_columns": null,
            "grid_template_rows": null,
            "height": null,
            "justify_content": null,
            "justify_items": null,
            "left": null,
            "margin": null,
            "max_height": null,
            "max_width": null,
            "min_height": null,
            "min_width": null,
            "object_fit": null,
            "object_position": null,
            "order": null,
            "overflow": null,
            "overflow_x": null,
            "overflow_y": null,
            "padding": null,
            "right": null,
            "top": null,
            "visibility": null,
            "width": null
          }
        },
        "d14d85699fd64c49996b3efc8b586447": {
          "model_module": "@jupyter-widgets/base",
          "model_module_version": "1.2.0",
          "model_name": "LayoutModel",
          "state": {
            "_model_module": "@jupyter-widgets/base",
            "_model_module_version": "1.2.0",
            "_model_name": "LayoutModel",
            "_view_count": null,
            "_view_module": "@jupyter-widgets/base",
            "_view_module_version": "1.2.0",
            "_view_name": "LayoutView",
            "align_content": null,
            "align_items": null,
            "align_self": null,
            "border": null,
            "bottom": null,
            "display": null,
            "flex": null,
            "flex_flow": null,
            "grid_area": null,
            "grid_auto_columns": null,
            "grid_auto_flow": null,
            "grid_auto_rows": null,
            "grid_column": null,
            "grid_gap": null,
            "grid_row": null,
            "grid_template_areas": null,
            "grid_template_columns": null,
            "grid_template_rows": null,
            "height": null,
            "justify_content": null,
            "justify_items": null,
            "left": null,
            "margin": null,
            "max_height": null,
            "max_width": null,
            "min_height": null,
            "min_width": null,
            "object_fit": null,
            "object_position": null,
            "order": null,
            "overflow": null,
            "overflow_x": null,
            "overflow_y": null,
            "padding": null,
            "right": null,
            "top": null,
            "visibility": null,
            "width": null
          }
        },
        "da7b91f237a34ec3819a2c6cc631a54f": {
          "model_module": "@jupyter-widgets/controls",
          "model_module_version": "1.5.0",
          "model_name": "HTMLModel",
          "state": {
            "_dom_classes": [],
            "_model_module": "@jupyter-widgets/controls",
            "_model_module_version": "1.5.0",
            "_model_name": "HTMLModel",
            "_view_count": null,
            "_view_module": "@jupyter-widgets/controls",
            "_view_module_version": "1.5.0",
            "_view_name": "HTMLView",
            "description": "",
            "description_tooltip": null,
            "layout": "IPY_MODEL_59a8082125b443c0a58ed13a6bfdbf95",
            "placeholder": "​",
            "style": "IPY_MODEL_040222389c77411e80ff10bdb429a1ba",
            "value": "100%"
          }
        },
        "f91119262f324be0a4706010a4de11b5": {
          "model_module": "@jupyter-widgets/controls",
          "model_module_version": "1.5.0",
          "model_name": "HBoxModel",
          "state": {
            "_dom_classes": [],
            "_model_module": "@jupyter-widgets/controls",
            "_model_module_version": "1.5.0",
            "_model_name": "HBoxModel",
            "_view_count": null,
            "_view_module": "@jupyter-widgets/controls",
            "_view_module_version": "1.5.0",
            "_view_name": "HBoxView",
            "box_style": "",
            "children": [
              "IPY_MODEL_da7b91f237a34ec3819a2c6cc631a54f",
              "IPY_MODEL_6c554ec5ef454523be2d377f16611e08",
              "IPY_MODEL_6fb4e7fdd53746f0947b81f4b9ebaee1"
            ],
            "layout": "IPY_MODEL_b97c62aca2fa44dcb597e02f52a2bc16"
          }
        }
      }
    }
  },
  "nbformat": 4,
  "nbformat_minor": 0
}
