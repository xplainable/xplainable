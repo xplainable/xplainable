{
 "cells": [
  {
   "cell_type": "markdown",
   "metadata": {},
   "source": [
    "# Regression - Combined Cycle Power Plant Energy Output\n",
    "\n",
    "Predicting electrical power output from a combined cycle power plant based on ambient conditions.\n",
    "\n",
    "**Dataset Source**: [UCI ML Repository - Combined Cycle Power Plant](https://archive.ics.uci.edu/ml/datasets/Combined+Cycle+Power+Plant)\n",
    "**Problem Type**: Regression\n",
    "**Target Variable**: Electrical energy output (MW)\n",
    "**Use Case**: Energy production optimization, power grid planning, efficiency analysis\n",
    "\n",
    "## Package Imports"
   ]
  },
  {
   "cell_type": "code",
   "execution_count": null,
   "metadata": {},
   "outputs": [],
   "source": [
    "import pandas as pd\n",
    "import xplainable as xp\n",
    "from xplainable.core.models import XRegressor\n",
    "from xplainable.core.optimisation.genetic import XEvolutionaryNetwork\n",
    "from xplainable.core.optimisation.layers import Evolve, Tighten\n",
    "from xplainable.preprocessing.pipeline import XPipeline\n",
    "from xplainable.preprocessing import transformers as xtf\n",
    "from sklearn.model_selection import train_test_split\n",
    "import requests\n",
    "import json\n",
    "\n",
    "# Additional imports specific to this example\n",
    "import numpy as np\n",
    "import matplotlib.pyplot as plt\n",
    "import seaborn as sns\n",
    "from ucimlrepo import fetch_ucirepo\n",
    "\n",
    "import xplainable_client"
   ]
  },
  {
   "cell_type": "code",
   "execution_count": null,
   "metadata": {},
   "outputs": [],
   "source": [
    "!pip install xplainable\n",
    "!pip install xplainable-client"
   ]
  },
  {
   "cell_type": "markdown",
   "metadata": {},
   "source": [
    "## Xplainable Cloud Setup"
   ]
  },
  {
   "cell_type": "code",
   "execution_count": null,
   "metadata": {},
   "outputs": [],
   "source": [
    "# Initialize Xplainable Cloud client\n",
    "client = xplainable_client.Client(\n",
    "    api_key=\"\", #Create api key in xplainable cloud - https://platform.xplainable.io/\n",
    ")"
   ]
  },
  {
   "cell_type": "markdown",
   "metadata": {},
   "source": [
    "## Data Loading and Exploration\n",
    "\n",
    "Load the Combined Cycle Power Plant dataset from UCI ML Repository."
   ]
  },
  {
   "cell_type": "code",
   "execution_count": null,
   "metadata": {},
   "outputs": [],
   "source": [
    "# Load dataset using ucimlrepo\n",
    "try:\n",
    "    # Fetch dataset\n",
    "    power_plant = fetch_ucirepo(id=294)\n",
    "    \n",
    "    # Data (as pandas dataframes)\n",
    "    X = power_plant.data.features\n",
    "    y = power_plant.data.targets\n",
    "    \n",
    "    # Combine features and target\n",
    "    df = pd.concat([X, y], axis=1)\n",
    "    \n",
    "    # Display basic information\n",
    "    print(f\"Dataset shape: {df.shape}\")\n",
    "    print(f\"\\\\nFeatures:\")\n",
    "    print(\"- AT: Ambient Temperature (°C)\")\n",
    "    print(\"- V: Exhaust Vacuum (cm Hg)\")\n",
    "    print(\"- AP: Ambient Pressure (millibar)\")\n",
    "    print(\"- RH: Relative Humidity (%)\")\n",
    "    print(f\"\\\\nTarget: Energy output (MW)\")\n",
    "    print(f\"\\\\nTarget variable statistics:\")\n",
    "    print(y.describe())\n",
    "    \n",
    "    df.head()\n",
    "    \n",
    "except Exception as e:\n",
    "    print(f\"Error loading dataset: {e}\")\n",
    "    print(\"Install ucimlrepo: pip install ucimlrepo\")\n",
    "    print(\"\\\\nCreating synthetic dataset for testing...\")\n",
    "    \n",
    "    # Create synthetic power plant dataset\n",
    "    import numpy as np\n",
    "    np.random.seed(42)\n",
    "    \n",
    "    n_samples = 5000\n",
    "    df = pd.DataFrame({\n",
    "        'AT': np.random.normal(20, 7, n_samples),  # Ambient Temperature\n",
    "        'V': np.random.normal(50, 15, n_samples),  # Exhaust Vacuum\n",
    "        'AP': np.random.normal(1015, 20, n_samples),  # Ambient Pressure\n",
    "        'RH': np.random.normal(70, 20, n_samples),  # Relative Humidity\n",
    "    })\n",
    "    \n",
    "    # Create realistic energy output based on power plant physics\n",
    "    df['PE'] = (\n",
    "        480 - df['AT'] * 2.5 + df['V'] * 0.8 + \n",
    "        (df['AP'] - 1000) * 0.1 - df['RH'] * 0.05 +\n",
    "        np.random.normal(0, 5, n_samples)\n",
    "    )\n",
    "    \n",
    "    print(f\"Synthetic dataset created: {df.shape}\")\n",
    "    print(f\"Target variable statistics:\")\n",
    "    print(df['PE'].describe())"
   ]
  },
  {
   "cell_type": "markdown",
   "metadata": {},
   "source": [
    "## 1. Data Preprocessing\n",
    "\n",
    "Preprocess the power plant operational data."
   ]
  },
  {
   "cell_type": "code",
   "execution_count": null,
   "metadata": {},
   "outputs": [],
   "source": [
    "# Simple data preprocessing without complex pipeline\n",
    "# The power plant dataset is typically clean, but let's ensure no missing values\n",
    "df_processed = df.copy()\n",
    "\n",
    "# Fill any potential missing values\n",
    "df_processed = df_processed.fillna(df_processed.median(numeric_only=True))\n",
    "\n",
    "print(f\"Processed dataset shape: {df_processed.shape}\")\n",
    "print(f\"Missing values: {df_processed.isnull().sum().sum()}\")\n",
    "\n",
    "# Display correlation matrix\n",
    "plt.figure(figsize=(10, 8))\n",
    "correlation_matrix = df_processed.corr()\n",
    "sns.heatmap(correlation_matrix, annot=True, cmap='coolwarm', center=0)\n",
    "plt.title('Correlation Matrix: Power Plant Variables')\n",
    "plt.show()\n",
    "\n",
    "df_processed.head()"
   ]
  },
  {
   "cell_type": "markdown",
   "metadata": {},
   "source": [
    "### Create Train/Test Split"
   ]
  },
  {
   "cell_type": "code",
   "execution_count": null,
   "metadata": {},
   "outputs": [],
   "source": [
    "# Assuming the target column is the last one\n",
    "target_col = df_processed.columns[-1]\n",
    "X, y = df_processed.drop(columns=[target_col]), df_processed[target_col]\n",
    "\n",
    "X_train, X_test, y_train, y_test = train_test_split(\n",
    "    X, y, test_size=0.2, random_state=42\n",
    ")\n",
    "\n",
    "print(f\"Training set: {X_train.shape[0]} samples\")\n",
    "print(f\"Test set: {X_test.shape[0]} samples\")\n",
    "print(f\"Features: {list(X.columns)}\")"
   ]
  },
  {
   "cell_type": "markdown",
   "metadata": {},
   "source": [
    "## 2. Model Optimization\n",
    "\n",
    "Optimize the model using genetic algorithms with evolutionary networks for power output prediction."
   ]
  },
  {
   "cell_type": "code",
   "execution_count": null,
   "metadata": {},
   "outputs": [],
   "source": [
    "# First train a base model\n",
    "model = XRegressor()\n",
    "model.fit(X_train, y_train)\n",
    "\n",
    "# Create evolutionary network for optimization\n",
    "network = XEvolutionaryNetwork(model)\n",
    "\n",
    "# Add optimization layers\n",
    "# Start with an initial Tighten layer\n",
    "network.add_layer(\n",
    "    Tighten(\n",
    "        iterations=100,\n",
    "        learning_rate=0.1,\n",
    "        early_stopping=20\n",
    "    )\n",
    ")\n",
    "\n",
    "# Add an Evolve layer with high severity for exploration\n",
    "network.add_layer(\n",
    "    Evolve(\n",
    "        mutations=100,\n",
    "        generations=50,\n",
    "        max_severity=0.5,\n",
    "        max_leaves=20,\n",
    "        early_stopping=20\n",
    "    )\n",
    ")\n",
    "\n",
    "# Add another Evolve layer with lower severity for refinement\n",
    "network.add_layer(\n",
    "    Evolve(\n",
    "        mutations=100,\n",
    "        generations=50,\n",
    "        max_severity=0.3,\n",
    "        max_leaves=15,\n",
    "        early_stopping=20\n",
    "    )\n",
    ")\n",
    "\n",
    "# Add a final Tighten layer with low learning rate for fine-tuning\n",
    "network.add_layer(\n",
    "    Tighten(\n",
    "        iterations=100,\n",
    "        learning_rate=0.025,\n",
    "        early_stopping=20\n",
    "    )\n",
    ")\n",
    "\n",
    "# Fit the network and run optimization\n",
    "network.fit(X_train, y_train)\n",
    "network.optimise()"
   ]
  },
  {
   "cell_type": "markdown",
   "metadata": {},
   "source": [
    "## 3. Model Training\n",
    "\n",
    "The model has been trained and optimized through the evolutionary network process."
   ]
  },
  {
   "cell_type": "code",
   "execution_count": null,
   "metadata": {},
   "outputs": [],
   "source": [
    "# Model is already trained through the evolutionary network\n",
    "# Let's evaluate the optimized model performance\n",
    "train_performance = model.evaluate(X_train, y_train)\n",
    "print(\"Training Performance:\")\n",
    "for metric, value in train_performance.items():\n",
    "    print(f\"{metric}: {value:.4f}\")"
   ]
  },
  {
   "cell_type": "markdown",
   "metadata": {},
   "source": [
    "## 4. Model Interpretability and Explainability\n",
    "\n",
    "Understand which ambient conditions most influence power plant energy output."
   ]
  },
  {
   "cell_type": "code",
   "execution_count": null,
   "metadata": {},
   "outputs": [],
   "source": [
    "model.explain()"
   ]
  },
  {
   "cell_type": "markdown",
   "metadata": {},
   "source": [
    "## 5. Model Persistence (Optional)\n",
    "\n",
    "Save the model to Xplainable Cloud."
   ]
  },
  {
   "cell_type": "code",
   "execution_count": null,
   "metadata": {},
   "outputs": [],
   "source": [
    "# Uncomment to save model to Xplainable Cloud\n",
    "# model_id = client.create_model(\n",
    "#     model=model,\n",
    "#     model_name=\"Power Plant Energy Output Model\",\n",
    "#     model_description=\"Predicting electrical power output from ambient conditions\",\n",
    "#     x=X_train,\n",
    "#     y=y_train\n",
    "# )"
   ]
  },
  {
   "cell_type": "markdown",
   "metadata": {},
   "source": [
    "## 6. Model Deployment (Optional)\n",
    "\n",
    "Deploy the model for real-time power output predictions."
   ]
  },
  {
   "cell_type": "code",
   "execution_count": null,
   "metadata": {},
   "outputs": [],
   "source": [
    "# Uncomment to deploy model\n",
    "# deployment = client.deploy(\n",
    "#     model_version_id=model_id[\"version_id\"]\n",
    "# )"
   ]
  },
  {
   "cell_type": "markdown",
   "metadata": {},
   "source": [
    "## 7. Model Testing\n",
    "\n",
    "Evaluate model performance on power output predictions."
   ]
  },
  {
   "cell_type": "code",
   "execution_count": null,
   "metadata": {},
   "outputs": [],
   "source": [
    "# Evaluate on test set\n",
    "test_predictions = model.predict(X_test)\n",
    "test_performance = model.evaluate(X_test, y_test)\n",
    "\n",
    "print(\"Test Set Performance:\")\n",
    "for metric, value in test_performance.items():\n",
    "    print(f\"{metric}: {value:.4f}\")\n",
    "\n",
    "# Plot predictions vs actual\n",
    "plt.figure(figsize=(12, 5))\n",
    "\n",
    "# Scatter plot\n",
    "plt.subplot(1, 2, 1)\n",
    "plt.scatter(y_test, test_predictions, alpha=0.6)\n",
    "plt.plot([y_test.min(), y_test.max()], [y_test.min(), y_test.max()], 'r--', lw=2)\n",
    "plt.xlabel('Actual Energy Output (MW)')\n",
    "plt.ylabel('Predicted Energy Output (MW)')\n",
    "plt.title('Power Plant Energy Output: Predictions vs Actual')\n",
    "plt.grid(True, alpha=0.3)\n",
    "\n",
    "# Residuals plot\n",
    "plt.subplot(1, 2, 2)\n",
    "residuals = y_test - test_predictions\n",
    "plt.scatter(test_predictions, residuals, alpha=0.6)\n",
    "plt.axhline(y=0, color='r', linestyle='--')\n",
    "plt.xlabel('Predicted Energy Output (MW)')\n",
    "plt.ylabel('Residuals (MW)')\n",
    "plt.title('Residuals Plot')\n",
    "plt.grid(True, alpha=0.3)\n",
    "\n",
    "plt.tight_layout()\n",
    "plt.show()\n",
    "\n",
    "# Feature importance insights\n",
    "print(\"\\nExpected feature importance patterns:\")\n",
    "print(\"- Ambient Temperature (AT): Lower temperatures typically increase power output\")\n",
    "print(\"- Exhaust Vacuum (V): Higher vacuum usually correlates with higher output\")\n",
    "print(\"- Ambient Pressure (AP): Higher pressure tends to improve efficiency\")\n",
    "print(\"- Relative Humidity (RH): Generally has less impact than temperature and pressure\")"
   ]
  }
 ],
 "metadata": {
  "kernelspec": {
   "display_name": "Python 3",
   "language": "python",
   "name": "python3"
  },
  "language_info": {
   "codemirror_mode": {
    "name": "ipython",
    "version": 3
   },
   "file_extension": ".py",
   "mimetype": "text/x-python",
   "name": "python",
   "nbconvert_exporter": "python",
   "pygments_lexer": "ipython3",
   "version": "3.8.5"
  }
 },
 "nbformat": 4,
 "nbformat_minor": 4
}
