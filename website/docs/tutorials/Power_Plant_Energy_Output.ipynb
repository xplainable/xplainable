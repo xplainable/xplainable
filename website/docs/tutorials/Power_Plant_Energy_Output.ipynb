{
 "cells": [
  {
   "cell_type": "markdown",
   "metadata": {},
   "source": [
    "# Regression - Combined Cycle Power Plant Energy Output\n",
    "\n",
    "Predicting electrical power output from a combined cycle power plant based on ambient conditions.\n",
    "\n",
    "**Dataset Source**: [UCI ML Repository - Combined Cycle Power Plant](https://archive.ics.uci.edu/ml/datasets/Combined+Cycle+Power+Plant)\n",
    "**Problem Type**: Regression\n",
    "**Target Variable**: Electrical energy output (MW)\n",
    "**Use Case**: Energy production optimization, power grid planning, efficiency analysis\n",
    "\n",
    "## Package Imports"
   ]
  },
  {
   "cell_type": "code",
   "execution_count": null,
   "metadata": {},
   "outputs": [],
   "source": [
    "!pip install xplainable\n",
    "!pip install xplainable-client"
   ]
  },
  {
   "cell_type": "code",
   "execution_count": 1,
   "metadata": {},
   "outputs": [],
   "source": [
    "import pandas as pd\n",
    "import xplainable as ap\n",
    "from xplainable.core.models import XRegressor\n",
    "from xplainable.core.optimisation.genetic import XEvolutionaryNetwork\n",
    "from xplainable.core.optimisation.layers import Evolve, Tighten\n",
    "from xplainable.preprocessing.pipeline import XPipeline\n",
    "from xplainable.preprocessing import transformers as xtf\n",
    "from sklearn.model_selection import train_test_split\n",
    "import requests\n",
    "import json\n",
    "\n",
    "# Additional imports specific to this example\n",
    "import numpy as np\n",
    "import matplotlib.pyplot as plt\n",
    "import seaborn as sns\n",
    "from ucimlrepo import fetch_ucirepo\n",
    "\n",
    "from xplainable_client.client.client import XplainableClient\n",
    "from xplainable_client.client.base import XplainableAPIError"
   ]
  },
  {
   "cell_type": "markdown",
   "metadata": {},
   "source": [
    "## Xplainable Cloud Setup"
   ]
  },
  {
   "cell_type": "code",
   "execution_count": null,
   "metadata": {},
   "outputs": [
    {
     "name": "stdout",
     "output_type": "stream",
     "text": [
      "Connected to Xplainable Cloud\n",
      "   User: jtuppa\n",
      "   Hostname: http://localhost:8000\n",
      "   API Key Expires: 2025-08-27T11:19:40.744423\n",
      "   Python Version: 3.10.18\n",
      "   Xplainable Version: 1.3.0\n"
     ]
    }
   ],
   "source": [
    "# Initialize Xplainable Cloud client\n",
    "client = XplainableClient(\n",
    "    api_key=\"\", #Create api key in xplainable cloud - https://platform.xplainable.io/\n",
    "    hostname=\"https://platform.xplainable.io\"\n",
    ")"
   ]
  },
  {
   "cell_type": "markdown",
   "metadata": {},
   "source": [
    "## Data Loading and Exploration\n",
    "\n",
    "Load the Combined Cycle Power Plant dataset from UCI ML Repository."
   ]
  },
  {
   "cell_type": "code",
   "execution_count": 3,
   "metadata": {},
   "outputs": [
    {
     "name": "stdout",
     "output_type": "stream",
     "text": [
      "Error loading dataset: Error connecting to server\n",
      "Install ucimlrepo: pip install ucimlrepo\n",
      "\\nCreating synthetic dataset for testing...\n",
      "Synthetic dataset created: (5000, 5)\n",
      "Target variable statistics:\n",
      "count    5000.000000\n",
      "mean      467.696309\n",
      "std        21.852907\n",
      "min       376.394588\n",
      "25%       452.931049\n",
      "50%       467.651713\n",
      "75%       482.484708\n",
      "max       544.432530\n",
      "Name: PE, dtype: float64\n"
     ]
    }
   ],
   "source": [
    "# Load dataset using ucimlrepo\n",
    "try:\n",
    "    # Fetch dataset\n",
    "    power_plant = fetch_ucirepo(id=294)\n",
    "    \n",
    "    # Data (as pandas dataframes)\n",
    "    X = power_plant.data.features\n",
    "    y = power_plant.data.targets\n",
    "    \n",
    "    # Combine features and target\n",
    "    df = pd.concat([X, y], axis=1)\n",
    "    \n",
    "    # Display basic information\n",
    "    print(f\"Dataset shape: {df.shape}\")\n",
    "    print(f\"\\\\nFeatures:\")\n",
    "    print(\"- AT: Ambient Temperature (°C)\")\n",
    "    print(\"- V: Exhaust Vacuum (cm Hg)\")\n",
    "    print(\"- AP: Ambient Pressure (millibar)\")\n",
    "    print(\"- RH: Relative Humidity (%)\")\n",
    "    print(f\"\\\\nTarget: Energy output (MW)\")\n",
    "    print(f\"\\\\nTarget variable statistics:\")\n",
    "    print(y.describe())\n",
    "    \n",
    "    df.head()\n",
    "    \n",
    "except Exception as e:\n",
    "    print(f\"Error loading dataset: {e}\")\n",
    "    print(\"Install ucimlrepo: pip install ucimlrepo\")\n",
    "    print(\"\\\\nCreating synthetic dataset for testing...\")\n",
    "    \n",
    "    # Create synthetic power plant dataset\n",
    "    import numpy as np\n",
    "    np.random.seed(42)\n",
    "    \n",
    "    n_samples = 5000\n",
    "    df = pd.DataFrame({\n",
    "        'AT': np.random.normal(20, 7, n_samples),  # Ambient Temperature\n",
    "        'V': np.random.normal(50, 15, n_samples),  # Exhaust Vacuum\n",
    "        'AP': np.random.normal(1015, 20, n_samples),  # Ambient Pressure\n",
    "        'RH': np.random.normal(70, 20, n_samples),  # Relative Humidity\n",
    "    })\n",
    "    \n",
    "    # Create realistic energy output based on power plant physics\n",
    "    df['PE'] = (\n",
    "        480 - df['AT'] * 2.5 + df['V'] * 0.8 + \n",
    "        (df['AP'] - 1000) * 0.1 - df['RH'] * 0.05 +\n",
    "        np.random.normal(0, 5, n_samples)\n",
    "    )\n",
    "    \n",
    "    print(f\"Synthetic dataset created: {df.shape}\")\n",
    "    print(f\"Target variable statistics:\")\n",
    "    print(df['PE'].describe())"
   ]
  },
  {
   "cell_type": "markdown",
   "metadata": {},
   "source": [
    "## 1. Data Preprocessing\n",
    "\n",
    "Preprocess the power plant operational data."
   ]
  },
  {
   "cell_type": "code",
   "execution_count": 4,
   "metadata": {},
   "outputs": [
    {
     "name": "stdout",
     "output_type": "stream",
     "text": [
      "Processed dataset shape: (5000, 5)\n",
      "Missing values: 0\n"
     ]
    },
    {
     "data": {
      "image/png": "[encoded data removed]",
      "text/plain": [
       "<Figure size 1000x800 with 2 Axes>"
      ]
     },
     "metadata": {},
     "output_type": "display_data"
    },
    {
     "data": {
      "text/html": [
       "<div>\n",
       "<style scoped>\n",
       "    .dataframe tbody tr th:only-of-type {\n",
       "        vertical-align: middle;\n",
       "    }\n",
       "\n",
       "    .dataframe tbody tr th {\n",
       "        vertical-align: top;\n",
       "    }\n",
       "\n",
       "    .dataframe thead th {\n",
       "        text-align: right;\n",
       "    }\n",
       "</style>\n",
       "<table border=\"1\" class=\"dataframe\">\n",
       "  <thead>\n",
       "    <tr style=\"text-align: right;\">\n",
       "      <th></th>\n",
       "      <th>AT</th>\n",
       "      <th>V</th>\n",
       "      <th>AP</th>\n",
       "      <th>RH</th>\n",
       "      <th>PE</th>\n",
       "    </tr>\n",
       "  </thead>\n",
       "  <tbody>\n",
       "    <tr>\n",
       "      <th>0</th>\n",
       "      <td>23.476999</td>\n",
       "      <td>43.643605</td>\n",
       "      <td>1001.430105</td>\n",
       "      <td>67.131536</td>\n",
       "      <td>454.750251</td>\n",
       "    </tr>\n",
       "    <tr>\n",
       "      <th>1</th>\n",
       "      <td>19.032150</td>\n",
       "      <td>43.198788</td>\n",
       "      <td>1008.890011</td>\n",
       "      <td>69.346882</td>\n",
       "      <td>465.816931</td>\n",
       "    </tr>\n",
       "    <tr>\n",
       "      <th>2</th>\n",
       "      <td>24.533820</td>\n",
       "      <td>23.065352</td>\n",
       "      <td>1003.052379</td>\n",
       "      <td>71.285898</td>\n",
       "      <td>429.176076</td>\n",
       "    </tr>\n",
       "    <tr>\n",
       "      <th>3</th>\n",
       "      <td>30.661209</td>\n",
       "      <td>45.048647</td>\n",
       "      <td>1017.208361</td>\n",
       "      <td>88.937229</td>\n",
       "      <td>439.557791</td>\n",
       "    </tr>\n",
       "    <tr>\n",
       "      <th>4</th>\n",
       "      <td>18.360926</td>\n",
       "      <td>60.992436</td>\n",
       "      <td>1038.943571</td>\n",
       "      <td>55.055654</td>\n",
       "      <td>476.582794</td>\n",
       "    </tr>\n",
       "  </tbody>\n",
       "</table>\n",
       "</div>"
      ],
      "text/plain": [
       "          AT          V           AP         RH          PE\n",
       "0  23.476999  43.643605  1001.430105  67.131536  454.750251\n",
       "1  19.032150  43.198788  1008.890011  69.346882  465.816931\n",
       "2  24.533820  23.065352  1003.052379  71.285898  429.176076\n",
       "3  30.661209  45.048647  1017.208361  88.937229  439.557791\n",
       "4  18.360926  60.992436  1038.943571  55.055654  476.582794"
      ]
     },
     "execution_count": 4,
     "metadata": {},
     "output_type": "execute_result"
    }
   ],
   "source": [
    "# Simple data preprocessing without complex pipeline\n",
    "# The power plant dataset is typically clean, but let's ensure no missing values\n",
    "df_processed = df.copy()\n",
    "\n",
    "# Fill any potential missing values\n",
    "df_processed = df_processed.fillna(df_processed.median(numeric_only=True))\n",
    "\n",
    "print(f\"Processed dataset shape: {df_processed.shape}\")\n",
    "print(f\"Missing values: {df_processed.isnull().sum().sum()}\")\n",
    "\n",
    "# Display correlation matrix\n",
    "plt.figure(figsize=(10, 8))\n",
    "correlation_matrix = df_processed.corr()\n",
    "sns.heatmap(correlation_matrix, annot=True, cmap='coolwarm', center=0)\n",
    "plt.title('Correlation Matrix: Power Plant Variables')\n",
    "plt.show()\n",
    "\n",
    "df_processed.head()"
   ]
  },
  {
   "cell_type": "markdown",
   "metadata": {},
   "source": [
    "### Create Train/Test Split"
   ]
  },
  {
   "cell_type": "code",
   "execution_count": 5,
   "metadata": {},
   "outputs": [
    {
     "name": "stdout",
     "output_type": "stream",
     "text": [
      "Training set: 4000 samples\n",
      "Test set: 1000 samples\n",
      "Features: ['AT', 'V', 'AP', 'RH']\n"
     ]
    }
   ],
   "source": [
    "# Assuming the target column is the last one\n",
    "target_col = df_processed.columns[-1]\n",
    "X, y = df_processed.drop(columns=[target_col]), df_processed[target_col]\n",
    "\n",
    "X_train, X_test, y_train, y_test = train_test_split(\n",
    "    X, y, test_size=0.2, random_state=42\n",
    ")\n",
    "\n",
    "print(f\"Training set: {X_train.shape[0]} samples\")\n",
    "print(f\"Test set: {X_test.shape[0]} samples\")\n",
    "print(f\"Features: {list(X.columns)}\")"
   ]
  },
  {
   "cell_type": "markdown",
   "metadata": {},
   "source": [
    "## 2. Model Optimization\n",
    "\n",
    "Optimize the model using genetic algorithms with evolutionary networks for power output prediction."
   ]
  },
  {
   "cell_type": "code",
   "execution_count": 6,
   "metadata": {},
   "outputs": [
    {
     "data": {
      "application/vnd.jupyter.widget-view+json": {
       "model_id": "8362204f05f645208ca0af8715161980",
       "version_major": 2,
       "version_minor": 0
      },
      "text/plain": [
       "  0%|          | 0/100 [00:00<?, ?it/s]"
      ]
     },
     "metadata": {},
     "output_type": "display_data"
    },
    {
     "data": {
      "application/vnd.jupyter.widget-view+json": {
       "model_id": "8decf1b3f5194761990fad28ad93b170",
       "version_major": 2,
       "version_minor": 0
      },
      "text/plain": [
       "  0%|          | 0/50 [00:00<?, ?it/s]"
      ]
     },
     "metadata": {},
     "output_type": "display_data"
    },
    {
     "data": {
      "application/vnd.jupyter.widget-view+json": {
       "model_id": "9d6b8a114e674a1a9cb3d1da8be49931",
       "version_major": 2,
       "version_minor": 0
      },
      "text/plain": [
       "  0%|          | 0/50 [00:00<?, ?it/s]"
      ]
     },
     "metadata": {},
     "output_type": "display_data"
    },
    {
     "data": {
      "application/vnd.jupyter.widget-view+json": {
       "model_id": "d8e67d1d23b943c7a80ba37057b74ed6",
       "version_major": 2,
       "version_minor": 0
      },
      "text/plain": [
       "  0%|          | 0/100 [00:00<?, ?it/s]"
      ]
     },
     "metadata": {},
     "output_type": "display_data"
    },
    {
     "data": {
      "text/plain": [
       "<xplainable.core.optimisation.genetic.XEvolutionaryNetwork at 0x29630d0f0>"
      ]
     },
     "execution_count": 6,
     "metadata": {},
     "output_type": "execute_result"
    }
   ],
   "source": [
    "# First train a base model\n",
    "model = XRegressor()\n",
    "model.fit(X_train, y_train)\n",
    "\n",
    "# Create evolutionary network for optimization\n",
    "network = XEvolutionaryNetwork(model)\n",
    "\n",
    "# Add optimization layers\n",
    "# Start with an initial Tighten layer\n",
    "network.add_layer(\n",
    "    Tighten(\n",
    "        iterations=100,\n",
    "        learning_rate=0.1,\n",
    "        early_stopping=20\n",
    "    )\n",
    ")\n",
    "\n",
    "# Add an Evolve layer with high severity for exploration\n",
    "network.add_layer(\n",
    "    Evolve(\n",
    "        mutations=100,\n",
    "        generations=50,\n",
    "        max_severity=0.5,\n",
    "        max_leaves=20,\n",
    "        early_stopping=20\n",
    "    )\n",
    ")\n",
    "\n",
    "# Add another Evolve layer with lower severity for refinement\n",
    "network.add_layer(\n",
    "    Evolve(\n",
    "        mutations=100,\n",
    "        generations=50,\n",
    "        max_severity=0.3,\n",
    "        max_leaves=15,\n",
    "        early_stopping=20\n",
    "    )\n",
    ")\n",
    "\n",
    "# Add a final Tighten layer with low learning rate for fine-tuning\n",
    "network.add_layer(\n",
    "    Tighten(\n",
    "        iterations=100,\n",
    "        learning_rate=0.025,\n",
    "        early_stopping=20\n",
    "    )\n",
    ")\n",
    "\n",
    "# Fit the network and run optimization\n",
    "network.fit(X_train, y_train)\n",
    "network.optimise()"
   ]
  },
  {
   "cell_type": "markdown",
   "metadata": {},
   "source": [
    "## 3. Model Training\n",
    "\n",
    "The model has been trained and optimized through the evolutionary network process."
   ]
  },
  {
   "cell_type": "code",
   "execution_count": 7,
   "metadata": {},
   "outputs": [
    {
     "name": "stdout",
     "output_type": "stream",
     "text": [
      "Training Performance:\n",
      "Explained Variance: 0.9479\n",
      "MAE: 3.8863\n",
      "MAPE: 0.0083\n",
      "MSE: 24.8965\n",
      "RMSE: 4.9896\n",
      "RMSLE: 0.0001\n",
      "R2 Score: 0.9479\n"
     ]
    }
   ],
   "source": [
    "# Model is already trained through the evolutionary network\n",
    "# Let's evaluate the optimized model performance\n",
    "train_performance = model.evaluate(X_train, y_train)\n",
    "print(\"Training Performance:\")\n",
    "for metric, value in train_performance.items():\n",
    "    print(f\"{metric}: {value:.4f}\")"
   ]
  },
  {
   "cell_type": "markdown",
   "metadata": {},
   "source": [
    "## 4. Model Interpretability and Explainability\n",
    "\n",
    "Understand which ambient conditions most influence power plant energy output."
   ]
  },
  {
   "cell_type": "code",
   "execution_count": 8,
   "metadata": {},
   "outputs": [
    {
     "data": {
      "text/html": [
       "\n",
       "    <style>\n",
       "    .vega-bind {\n",
       "      text-align:right;\n",
       "    }\n",
       "    </style>\n",
       "    "
      ],
      "text/plain": [
       "<IPython.core.display.HTML object>"
      ]
     },
     "metadata": {},
     "output_type": "display_data"
    },
    {
     "data": {
      "text/html": [
       "\n",
       "<style>\n",
       "  #altair-viz-56b367f098cb4861b19cdb0b886a42a2.vega-embed {\n",
       "    width: 100%;\n",
       "    display: flex;\n",
       "  }\n",
       "\n",
       "  #altair-viz-56b367f098cb4861b19cdb0b886a42a2.vega-embed details,\n",
       "  #altair-viz-56b367f098cb4861b19cdb0b886a42a2.vega-embed details summary {\n",
       "    position: relative;\n",
       "  }\n",
       "</style>\n",
       "<div id=\"altair-viz-56b367f098cb4861b19cdb0b886a42a2\"></div>\n",
       "<script type=\"text/javascript\">\n",
       "  var VEGA_DEBUG = (typeof VEGA_DEBUG == \"undefined\") ? {} : VEGA_DEBUG;\n",
       "  (function(spec, embedOpt){\n",
       "    let outputDiv = document.currentScript.previousElementSibling;\n",
       "    if (outputDiv.id !== \"altair-viz-56b367f098cb4861b19cdb0b886a42a2\") {\n",
       "      outputDiv = document.getElementById(\"altair-viz-56b367f098cb4861b19cdb0b886a42a2\");\n",
       "    }\n",
       "\n",
       "    const paths = {\n",
       "      \"vega\": \"https://cdn.jsdelivr.net/npm/vega@5?noext\",\n",
       "      \"vega-lib\": \"https://cdn.jsdelivr.net/npm/vega-lib?noext\",\n",
       "      \"vega-lite\": \"https://cdn.jsdelivr.net/npm/vega-lite@5.20.1?noext\",\n",
       "      \"vega-embed\": \"https://cdn.jsdelivr.net/npm/vega-embed@6?noext\",\n",
       "    };\n",
       "\n",
       "    function maybeLoadScript(lib, version) {\n",
       "      var key = `${lib.replace(\"-\", \"\")}_version`;\n",
       "      return (VEGA_DEBUG[key] == version) ?\n",
       "        Promise.resolve(paths[lib]) :\n",
       "        new Promise(function(resolve, reject) {\n",
       "          var s = document.createElement('script');\n",
       "          document.getElementsByTagName(\"head\")[0].appendChild(s);\n",
       "          s.async = true;\n",
       "          s.onload = () => {\n",
       "            VEGA_DEBUG[key] = version;\n",
       "            return resolve(paths[lib]);\n",
       "          };\n",
       "          s.onerror = () => reject(`Error loading script: ${paths[lib]}`);\n",
       "          s.src = paths[lib];\n",
       "        });\n",
       "    }\n",
       "\n",
       "    function showError(err) {\n",
       "      outputDiv.innerHTML = `<div class=\"error\" style=\"color:red;\">${err}</div>`;\n",
       "      throw err;\n",
       "    }\n",
       "\n",
       "    function displayChart(vegaEmbed) {\n",
       "      vegaEmbed(outputDiv, spec, embedOpt)\n",
       "        .catch(err => showError(`Javascript Error: ${err.message}<br>This usually means there's a typo in your chart specification. See the javascript console for the full traceback.`));\n",
       "    }\n",
       "\n",
       "    if(typeof define === \"function\" && define.amd) {\n",
       "      requirejs.config({paths});\n",
       "      let deps = [\"vega-embed\"];\n",
       "      require(deps, displayChart, err => showError(`Error loading script: ${err.message}`));\n",
       "    } else {\n",
       "      maybeLoadScript(\"vega\", \"5\")\n",
       "        .then(() => maybeLoadScript(\"vega-lite\", \"5.20.1\"))\n",
       "        .then(() => maybeLoadScript(\"vega-embed\", \"6\"))\n",
       "        .catch(showError)\n",
       "        .then(() => displayChart(vegaEmbed));\n",
       "    }\n",
       "  })({\"config\": {\"view\": {\"continuousWidth\": 300, \"continuousHeight\": 300}}, \"hconcat\": [{\"mark\": {\"type\": \"bar\", \"color\": \"#0080ea\"}, \"encoding\": {\"color\": {\"condition\": {\"param\": \"param_1\", \"value\": \"lightgray\"}, \"value\": \"#0080ea\"}, \"tooltip\": {\"field\": \"importance_label\", \"type\": \"nominal\"}, \"x\": {\"field\": \"importance\", \"type\": \"quantitative\"}, \"y\": {\"field\": \"feature\", \"sort\": {\"field\": \"importance\", \"order\": \"descending\"}, \"type\": \"nominal\"}}, \"height\": 400, \"name\": \"view_1\", \"title\": \"Feature Importances\", \"transform\": [{\"filter\": {\"param\": \"param_2\"}}], \"width\": 330}, {\"mark\": {\"type\": \"bar\", \"color\": \"#0080ea\"}, \"encoding\": {\"x\": {\"axis\": {\"labels\": false, \"title\": null}, \"field\": \"importance\", \"type\": \"quantitative\"}, \"y\": {\"axis\": {\"labels\": false, \"title\": null}, \"field\": \"feature\", \"sort\": \"-x\", \"type\": \"nominal\"}}, \"height\": 400, \"name\": \"view_2\", \"width\": 25}, {\"data\": {\"name\": \"data-08578964ce2afc68d59d737ffa58324e\"}, \"mark\": {\"type\": \"bar\", \"color\": \"#e14067\"}, \"encoding\": {\"color\": {\"condition\": {\"test\": \"(datum.contribution < 0)\", \"value\": \"#e14067\"}, \"value\": \"#12b980\"}, \"tooltip\": {\"field\": \"score_label\", \"type\": \"nominal\"}, \"x\": {\"field\": \"val\", \"type\": \"quantitative\"}, \"y\": {\"field\": \"value\", \"sort\": {\"field\": \"index\", \"order\": \"descending\"}, \"type\": \"nominal\"}}, \"height\": 400, \"name\": \"view_3\", \"title\": \"Contributions\", \"transform\": [{\"fold\": [\"contribution\", \"mean\", \"frequency\"], \"as\": [\"column\", \"val\"]}, {\"filter\": {\"param\": \"Select\"}}, {\"filter\": {\"param\": \"param_1\"}}, {\"filter\": {\"param\": \"param_3\"}}], \"width\": 330}, {\"data\": {\"name\": \"data-08578964ce2afc68d59d737ffa58324e\"}, \"mark\": {\"type\": \"bar\", \"color\": \"#e14067\"}, \"encoding\": {\"color\": {\"condition\": {\"test\": \"(datum.contribution < 0)\", \"value\": \"#e14067\"}, \"value\": \"#12b980\"}, \"x\": {\"axis\": {\"labels\": false, \"title\": null}, \"field\": \"contribution\", \"type\": \"quantitative\"}, \"y\": {\"axis\": {\"labels\": false, \"title\": null}, \"field\": \"value\", \"sort\": {\"field\": \"index\", \"order\": \"descending\"}, \"type\": \"nominal\"}}, \"height\": 400, \"name\": \"view_4\", \"transform\": [{\"filter\": {\"param\": \"param_1\"}}], \"width\": 25}], \"data\": {\"name\": \"data-54fe882020452b1f6002f73ca470e372\"}, \"params\": [{\"name\": \"param_1\", \"select\": {\"type\": \"point\", \"fields\": [\"feature\"]}, \"value\": \"AT\", \"views\": [\"view_1\"]}, {\"name\": \"Select\", \"select\": {\"type\": \"point\", \"fields\": [\"column\"]}, \"bind\": {\"input\": \"select\", \"options\": [\"contribution\", \"mean\", \"frequency\"]}, \"value\": \"contribution\", \"views\": [\"view_1\", \"view_3\"]}, {\"name\": \"param_2\", \"select\": {\"type\": \"interval\", \"encodings\": [\"y\"]}, \"views\": [\"view_2\"]}, {\"name\": \"param_3\", \"select\": {\"type\": \"interval\", \"encodings\": [\"y\"]}, \"views\": [\"view_4\"]}], \"$schema\": \"https://vega.github.io/schema/vega-lite/v5.20.1.json\", \"datasets\": {\"data-54fe882020452b1f6002f73ca470e372\": [{\"feature\": \"RH\", \"importance\": 0.037694539533542876, \"importance_label\": \"3.8%\"}, {\"feature\": \"AP\", \"importance\": 0.04190419014106104, \"importance_label\": \"4.2%\"}, {\"feature\": \"V\", \"importance\": 0.3895924025445476, \"importance_label\": \"39.0%\"}, {\"feature\": \"AT\", \"importance\": 0.5308088677808485, \"importance_label\": \"53.1%\"}], \"data-08578964ce2afc68d59d737ffa58324e\": [{\"index\": 0, \"value\": \"-inf - 3.60863\", \"contribution\": 48.842996962768744, \"mean\": 509.49206220510365, \"frequency\": 0.01075, \"feature\": \"AT\", \"score_label\": \"4884.3\"}, {\"index\": 1, \"value\": \"3.60863 - 5.4259\", \"contribution\": 42.60857974856672, \"mean\": 505.42013432599487, \"frequency\": 0.01, \"feature\": \"AT\", \"score_label\": \"4260.9\"}, {\"index\": 2, \"value\": \"5.4259 - 6.70764\", \"contribution\": 38.07325656989344, \"mean\": 502.63592505104765, \"frequency\": 0.0105, \"feature\": \"AT\", \"score_label\": \"3807.3\"}, {\"index\": 3, \"value\": \"6.70764 - 7.60262\", \"contribution\": 33.51419853886849, \"mean\": 500.2211923365432, \"frequency\": 0.0095, \"feature\": \"AT\", \"score_label\": \"3351.4\"}, {\"index\": 4, \"value\": \"7.60262 - 8.75442\", \"contribution\": 30.820144025266007, \"mean\": 497.7438832798373, \"frequency\": 0.013, \"feature\": \"AT\", \"score_label\": \"3082.0\"}, {\"index\": 5, \"value\": \"8.75442 - 9.26615\", \"contribution\": 28.597603109417385, \"mean\": 492.9973736076235, \"frequency\": 0.011, \"feature\": \"AT\", \"score_label\": \"2859.8\"}, {\"index\": 6, \"value\": \"9.26615 - 10.03326\", \"contribution\": 27.793885301017717, \"mean\": 493.21596105818145, \"frequency\": 0.012, \"feature\": \"AT\", \"score_label\": \"2779.4\"}, {\"index\": 7, \"value\": \"10.03326 - 10.48549\", \"contribution\": 27.15976249311603, \"mean\": 494.7472675099998, \"frequency\": 0.012, \"feature\": \"AT\", \"score_label\": \"2716.0\"}, {\"index\": 8, \"value\": \"10.48549 - 10.95063\", \"contribution\": 25.972234029528305, \"mean\": 489.9615826195917, \"frequency\": 0.011, \"feature\": \"AT\", \"score_label\": \"2597.2\"}, {\"index\": 9, \"value\": \"10.95063 - 11.45455\", \"contribution\": 25.49575582687124, \"mean\": 490.2787253682491, \"frequency\": 0.0115, \"feature\": \"AT\", \"score_label\": \"2549.6\"}, {\"index\": 10, \"value\": \"11.45455 - 11.89582\", \"contribution\": 23.59056814292017, \"mean\": 488.788804784439, \"frequency\": 0.011, \"feature\": \"AT\", \"score_label\": \"2359.1\"}, {\"index\": 11, \"value\": \"11.89582 - 12.28075\", \"contribution\": 22.336040053881227, \"mean\": 487.7509074503905, \"frequency\": 0.011, \"feature\": \"AT\", \"score_label\": \"2233.6\"}, {\"index\": 12, \"value\": \"12.28075 - 12.62516\", \"contribution\": 22.478650520902505, \"mean\": 487.27122079923055, \"frequency\": 0.0115, \"feature\": \"AT\", \"score_label\": \"2247.9\"}, {\"index\": 13, \"value\": \"12.62516 - 12.98339\", \"contribution\": 19.863273684445552, \"mean\": 486.96154252204377, \"frequency\": 0.0115, \"feature\": \"AT\", \"score_label\": \"1986.3\"}, {\"index\": 14, \"value\": \"12.98339 - 13.2818\", \"contribution\": 20.78137964241463, \"mean\": 488.2863799982185, \"frequency\": 0.013, \"feature\": \"AT\", \"score_label\": \"2078.1\"}, {\"index\": 15, \"value\": \"13.2818 - 13.5598\", \"contribution\": 17.689503486974555, \"mean\": 483.965498725028, \"frequency\": 0.01, \"feature\": \"AT\", \"score_label\": \"1769.0\"}, {\"index\": 16, \"value\": \"13.5598 - 13.59804\", \"contribution\": 20.098017725931246, \"mean\": 470.2497975003207, \"frequency\": 0.001, \"feature\": \"AT\", \"score_label\": \"2009.8\"}, {\"index\": 17, \"value\": \"13.59804 - 14.14706\", \"contribution\": 19.35352472238767, \"mean\": 483.5814842267922, \"frequency\": 0.02, \"feature\": \"AT\", \"score_label\": \"1935.4\"}, {\"index\": 18, \"value\": \"14.14706 - 14.36135\", \"contribution\": 15.065995162603814, \"mean\": 478.1274509160624, \"frequency\": 0.009, \"feature\": \"AT\", \"score_label\": \"1506.6\"}, {\"index\": 19, \"value\": \"14.36135 - 14.59481\", \"contribution\": 17.358661996206347, \"mean\": 484.19033550838304, \"frequency\": 0.011, \"feature\": \"AT\", \"score_label\": \"1735.9\"}, {\"index\": 20, \"value\": \"14.59481 - 14.96705\", \"contribution\": 16.218912620323845, \"mean\": 483.74074784081796, \"frequency\": 0.012, \"feature\": \"AT\", \"score_label\": \"1621.9\"}, {\"index\": 21, \"value\": \"14.96705 - 15.15485\", \"contribution\": 14.729598428228094, \"mean\": 478.5837842590667, \"frequency\": 0.009, \"feature\": \"AT\", \"score_label\": \"1473.0\"}, {\"index\": 22, \"value\": \"15.15485 - 15.4335\", \"contribution\": 14.13054500934921, \"mean\": 480.37111415951705, \"frequency\": 0.0105, \"feature\": \"AT\", \"score_label\": \"1413.1\"}, {\"index\": 23, \"value\": \"15.4335 - 15.68099\", \"contribution\": 13.084364909113923, \"mean\": 480.74882166166344, \"frequency\": 0.0105, \"feature\": \"AT\", \"score_label\": \"1308.4\"}, {\"index\": 24, \"value\": \"15.68099 - 15.98423\", \"contribution\": 13.088290446874877, \"mean\": 474.0418737894988, \"frequency\": 0.0175, \"feature\": \"AT\", \"score_label\": \"1308.8\"}, {\"index\": 25, \"value\": \"15.98423 - 16.32397\", \"contribution\": 13.629070708417515, \"mean\": 477.36210423241164, \"frequency\": 0.0205, \"feature\": \"AT\", \"score_label\": \"1362.9\"}, {\"index\": 26, \"value\": \"16.32397 - 16.33012\", \"contribution\": 11.067085780930217, \"mean\": 469.6128316982649, \"frequency\": 0.001, \"feature\": \"AT\", \"score_label\": \"1106.7\"}, {\"index\": 27, \"value\": \"16.33012 - 16.69592\", \"contribution\": 11.418522793761769, \"mean\": 474.98836691326096, \"frequency\": 0.017, \"feature\": \"AT\", \"score_label\": \"1141.9\"}, {\"index\": 28, \"value\": \"16.69592 - 16.89786\", \"contribution\": 11.912830615087111, \"mean\": 479.6941432499258, \"frequency\": 0.011, \"feature\": \"AT\", \"score_label\": \"1191.3\"}, {\"index\": 29, \"value\": \"16.89786 - 17.13916\", \"contribution\": 11.707396483662544, \"mean\": 476.054505319451, \"frequency\": 0.0095, \"feature\": \"AT\", \"score_label\": \"1170.7\"}, {\"index\": 30, \"value\": \"17.13916 - 17.16051\", \"contribution\": 0.37731488162689436, \"mean\": 467.7987385105225, \"frequency\": 0.001, \"feature\": \"AT\", \"score_label\": \"37.7\"}, {\"index\": 31, \"value\": \"17.16051 - 17.71548\", \"contribution\": 8.888168923123489, \"mean\": 475.1902861909699, \"frequency\": 0.026, \"feature\": \"AT\", \"score_label\": \"888.8\"}, {\"index\": 32, \"value\": \"17.71548 - 17.96288\", \"contribution\": 8.983742802247344, \"mean\": 473.1562344079845, \"frequency\": 0.014, \"feature\": \"AT\", \"score_label\": \"898.4\"}, {\"index\": 33, \"value\": \"17.96288 - 18.26302\", \"contribution\": 6.921690949356766, \"mean\": 472.9936497651161, \"frequency\": 0.0135, \"feature\": \"AT\", \"score_label\": \"692.2\"}, {\"index\": 34, \"value\": \"18.26302 - 18.54195\", \"contribution\": 7.1644989933587295, \"mean\": 468.909234033248, \"frequency\": 0.019, \"feature\": \"AT\", \"score_label\": \"716.4\"}, {\"index\": 35, \"value\": \"18.54195 - 19.09013\", \"contribution\": 6.060575469102615, \"mean\": 473.02439530327365, \"frequency\": 0.0275, \"feature\": \"AT\", \"score_label\": \"606.1\"}, {\"index\": 36, \"value\": \"19.09013 - 19.43101\", \"contribution\": 4.416248813634187, \"mean\": 467.3385597858053, \"frequency\": 0.018, \"feature\": \"AT\", \"score_label\": \"441.6\"}, {\"index\": 37, \"value\": \"19.43101 - 20.08113\", \"contribution\": 3.8472298067622357, \"mean\": 470.9115421660463, \"frequency\": 0.04, \"feature\": \"AT\", \"score_label\": \"384.7\"}, {\"index\": 38, \"value\": \"20.08113 - 20.61409\", \"contribution\": 1.328389661400738, \"mean\": 465.84586703115366, \"frequency\": 0.0305, \"feature\": \"AT\", \"score_label\": \"132.8\"}, {\"index\": 39, \"value\": \"20.61409 - 21.2632\", \"contribution\": 0.9345980390185189, \"mean\": 464.54602401072344, \"frequency\": 0.029, \"feature\": \"AT\", \"score_label\": \"93.5\"}, {\"index\": 40, \"value\": \"21.2632 - 21.71868\", \"contribution\": -1.05635655479684, \"mean\": 460.8843355306631, \"frequency\": 0.0315, \"feature\": \"AT\", \"score_label\": \"-105.6\"}, {\"index\": 41, \"value\": \"21.71868 - 21.8918\", \"contribution\": 0.6555541870550536, \"mean\": 469.6297290427549, \"frequency\": 0.0095, \"feature\": \"AT\", \"score_label\": \"65.6\"}, {\"index\": 42, \"value\": \"21.8918 - 22.46237\", \"contribution\": -2.8599045355889903, \"mean\": 461.8294702765337, \"frequency\": 0.0335, \"feature\": \"AT\", \"score_label\": \"-286.0\"}, {\"index\": 43, \"value\": \"22.46237 - 22.52723\", \"contribution\": -3.4962129601271386, \"mean\": 467.9111530964922, \"frequency\": 0.003, \"feature\": \"AT\", \"score_label\": \"-349.6\"}, {\"index\": 44, \"value\": \"22.52723 - 22.96681\", \"contribution\": -3.018999184588779, \"mean\": 459.34255614888883, \"frequency\": 0.0235, \"feature\": \"AT\", \"score_label\": \"-301.9\"}, {\"index\": 45, \"value\": \"22.96681 - 23.19912\", \"contribution\": -2.9097836878925447, \"mean\": 466.88097221962875, \"frequency\": 0.0125, \"feature\": \"AT\", \"score_label\": \"-291.0\"}, {\"index\": 46, \"value\": \"23.19912 - 23.47158\", \"contribution\": -5.10964285000993, \"mean\": 457.24288572683565, \"frequency\": 0.0165, \"feature\": \"AT\", \"score_label\": \"-511.0\"}, {\"index\": 47, \"value\": \"23.47158 - 23.47585\", \"contribution\": -4.311299934127232, \"mean\": 466.3623904826236, \"frequency\": 0.0005, \"feature\": \"AT\", \"score_label\": \"-431.1\"}, {\"index\": 48, \"value\": \"23.47585 - 23.50037\", \"contribution\": -0.5309016562722418, \"mean\": 468.18923456043314, \"frequency\": 0.0015, \"feature\": \"AT\", \"score_label\": \"-53.1\"}, {\"index\": 49, \"value\": \"23.50037 - 23.7548\", \"contribution\": -6.03854580539141, \"mean\": 458.1066574941325, \"frequency\": 0.0145, \"feature\": \"AT\", \"score_label\": \"-603.9\"}, {\"index\": 50, \"value\": \"23.7548 - 24.05045\", \"contribution\": -6.174507228426588, \"mean\": 458.8340311055964, \"frequency\": 0.015, \"feature\": \"AT\", \"score_label\": \"-617.5\"}, {\"index\": 51, \"value\": \"24.05045 - 24.42127\", \"contribution\": -8.121188901931948, \"mean\": 456.2667969691498, \"frequency\": 0.0165, \"feature\": \"AT\", \"score_label\": \"-812.1\"}, {\"index\": 52, \"value\": \"24.42127 - 24.44024\", \"contribution\": -1.4834281235428832, \"mean\": 467.5504430681758, \"frequency\": 0.0015, \"feature\": \"AT\", \"score_label\": \"-148.3\"}, {\"index\": 53, \"value\": \"24.44024 - 24.67948\", \"contribution\": -9.568593799485196, \"mean\": 451.41146705849945, \"frequency\": 0.011, \"feature\": \"AT\", \"score_label\": \"-956.9\"}, {\"index\": 54, \"value\": \"24.67948 - 24.84922\", \"contribution\": -8.760587726606484, \"mean\": 454.803182729604, \"frequency\": 0.009, \"feature\": \"AT\", \"score_label\": \"-876.1\"}, {\"index\": 55, \"value\": \"24.84922 - 25.29185\", \"contribution\": -9.932435908977816, \"mean\": 454.4894548694772, \"frequency\": 0.0195, \"feature\": \"AT\", \"score_label\": \"-993.2\"}, {\"index\": 56, \"value\": \"25.29185 - 25.48588\", \"contribution\": -11.589694935544179, \"mean\": 458.333174096393, \"frequency\": 0.0085, \"feature\": \"AT\", \"score_label\": \"-1159.0\"}, {\"index\": 57, \"value\": \"25.48588 - 25.80973\", \"contribution\": -10.59000575580578, \"mean\": 453.5419917354669, \"frequency\": 0.0115, \"feature\": \"AT\", \"score_label\": \"-1059.0\"}, {\"index\": 58, \"value\": \"25.80973 - 26.08274\", \"contribution\": -12.77173528874759, \"mean\": 452.97590875461043, \"frequency\": 0.011, \"feature\": \"AT\", \"score_label\": \"-1277.2\"}, {\"index\": 59, \"value\": \"26.08274 - 26.26487\", \"contribution\": -10.355752210081782, \"mean\": 454.3850562983242, \"frequency\": 0.0095, \"feature\": \"AT\", \"score_label\": \"-1035.6\"}, {\"index\": 60, \"value\": \"26.26487 - 26.68699\", \"contribution\": -12.448755512673412, \"mean\": 449.51587282829234, \"frequency\": 0.014, \"feature\": \"AT\", \"score_label\": \"-1244.9\"}, {\"index\": 61, \"value\": \"26.68699 - 27.1721\", \"contribution\": -15.146562728306511, \"mean\": 449.38995463710097, \"frequency\": 0.014, \"feature\": \"AT\", \"score_label\": \"-1514.7\"}, {\"index\": 62, \"value\": \"27.1721 - 27.56036\", \"contribution\": -15.611341845516742, \"mean\": 450.3869787055467, \"frequency\": 0.014, \"feature\": \"AT\", \"score_label\": \"-1561.1\"}, {\"index\": 63, \"value\": \"27.56036 - 28.03979\", \"contribution\": -14.6333434996835, \"mean\": 450.5414938934877, \"frequency\": 0.014, \"feature\": \"AT\", \"score_label\": \"-1463.3\"}, {\"index\": 64, \"value\": \"28.03979 - 28.40611\", \"contribution\": -16.997020994157914, \"mean\": 445.52409707179044, \"frequency\": 0.013, \"feature\": \"AT\", \"score_label\": \"-1699.7\"}, {\"index\": 65, \"value\": \"28.40611 - 28.90486\", \"contribution\": -17.66716865563841, \"mean\": 447.28855761567075, \"frequency\": 0.012, \"feature\": \"AT\", \"score_label\": \"-1766.7\"}, {\"index\": 66, \"value\": \"28.90486 - 29.54346\", \"contribution\": -20.866562612382552, \"mean\": 446.27346788594963, \"frequency\": 0.0125, \"feature\": \"AT\", \"score_label\": \"-2086.7\"}, {\"index\": 67, \"value\": \"29.54346 - 30.15675\", \"contribution\": -19.994282077890876, \"mean\": 446.4033809356403, \"frequency\": 0.0125, \"feature\": \"AT\", \"score_label\": \"-1999.4\"}, {\"index\": 68, \"value\": \"30.15675 - 30.54593\", \"contribution\": -23.441094122537073, \"mean\": 441.84996145991244, \"frequency\": 0.0095, \"feature\": \"AT\", \"score_label\": \"-2344.1\"}, {\"index\": 69, \"value\": \"30.54593 - 31.15511\", \"contribution\": -23.519727785167273, \"mean\": 439.85252103299234, \"frequency\": 0.0105, \"feature\": \"AT\", \"score_label\": \"-2352.0\"}, {\"index\": 70, \"value\": \"31.15511 - 31.61114\", \"contribution\": -22.684330616303168, \"mean\": 443.2680335060383, \"frequency\": 0.009, \"feature\": \"AT\", \"score_label\": \"-2268.4\"}, {\"index\": 71, \"value\": \"31.61114 - 32.56881\", \"contribution\": -26.62416441547716, \"mean\": 436.037068670024, \"frequency\": 0.0115, \"feature\": \"AT\", \"score_label\": \"-2662.4\"}, {\"index\": 72, \"value\": \"32.56881 - 34.45651\", \"contribution\": -30.441795789516238, \"mean\": 432.54542849547494, \"frequency\": 0.0175, \"feature\": \"AT\", \"score_label\": \"-3044.2\"}, {\"index\": 73, \"value\": \"34.45651 - inf\", \"contribution\": -38.39603923831781, \"mean\": 425.8706070586843, \"frequency\": 0.01925, \"feature\": \"AT\", \"score_label\": \"-3839.6\"}, {\"index\": 74, \"value\": \"nan - nan\", \"contribution\": 0.0, \"mean\": 0.0, \"frequency\": 0.0, \"feature\": \"AT\", \"score_label\": \"0.0\"}, {\"index\": 0, \"value\": \"-inf - 16.50977\", \"contribution\": -26.740423789967075, \"mean\": 438.0975623450579, \"frequency\": 0.01175, \"feature\": \"V\", \"score_label\": \"-2674.0\"}, {\"index\": 1, \"value\": \"16.50977 - 19.78277\", \"contribution\": -22.47576607177439, \"mean\": 440.0586264552654, \"frequency\": 0.011, \"feature\": \"V\", \"score_label\": \"-2247.6\"}, {\"index\": 2, \"value\": \"19.78277 - 22.32868\", \"contribution\": -18.079879122788952, \"mean\": 446.21055721389627, \"frequency\": 0.011, \"feature\": \"V\", \"score_label\": \"-1808.0\"}, {\"index\": 3, \"value\": \"22.32868 - 23.81258\", \"contribution\": -17.021881124573717, \"mean\": 448.2963338607695, \"frequency\": 0.0105, \"feature\": \"V\", \"score_label\": \"-1702.2\"}, {\"index\": 4, \"value\": \"23.81258 - 25.91779\", \"contribution\": -15.00777263281075, \"mean\": 447.88851823174406, \"frequency\": 0.013, \"feature\": \"V\", \"score_label\": \"-1500.8\"}, {\"index\": 5, \"value\": \"25.91779 - 27.47246\", \"contribution\": -12.697862572622324, \"mean\": 451.17985807779286, \"frequency\": 0.012, \"feature\": \"V\", \"score_label\": \"-1269.8\"}, {\"index\": 6, \"value\": \"27.47246 - 28.63906\", \"contribution\": -13.992410288744662, \"mean\": 446.37772517460417, \"frequency\": 0.012, \"feature\": \"V\", \"score_label\": \"-1399.2\"}, {\"index\": 7, \"value\": \"28.63906 - 28.6617\", \"contribution\": -0.45598393277173244, \"mean\": 467.5398649012204, \"frequency\": 0.0005, \"feature\": \"V\", \"score_label\": \"-45.6\"}, {\"index\": 8, \"value\": \"28.6617 - 30.01155\", \"contribution\": -11.752060015873434, \"mean\": 445.45545140392363, \"frequency\": 0.013, \"feature\": \"V\", \"score_label\": \"-1175.2\"}, {\"index\": 9, \"value\": \"30.01155 - 30.30923\", \"contribution\": -10.148892120895995, \"mean\": 466.6681237519442, \"frequency\": 0.003, \"feature\": \"V\", \"score_label\": \"-1014.9\"}, {\"index\": 10, \"value\": \"30.30923 - 31.21432\", \"contribution\": -11.41093174212947, \"mean\": 454.888110938834, \"frequency\": 0.0105, \"feature\": \"V\", \"score_label\": \"-1141.1\"}, {\"index\": 11, \"value\": \"31.21432 - 32.15488\", \"contribution\": -7.750618400808372, \"mean\": 454.9714917591826, \"frequency\": 0.011, \"feature\": \"V\", \"score_label\": \"-775.1\"}, {\"index\": 12, \"value\": \"32.15488 - 32.64191\", \"contribution\": -9.105281594362365, \"mean\": 465.6358643946781, \"frequency\": 0.006, \"feature\": \"V\", \"score_label\": \"-910.5\"}, {\"index\": 13, \"value\": \"32.64191 - 33.78634\", \"contribution\": -8.453852598311299, \"mean\": 453.81361956661465, \"frequency\": 0.0145, \"feature\": \"V\", \"score_label\": \"-845.4\"}, {\"index\": 14, \"value\": \"33.78634 - 33.80348\", \"contribution\": -1.8843364875768762, \"mean\": 466.9559581867943, \"frequency\": 0.0005, \"feature\": \"V\", \"score_label\": \"-188.4\"}, {\"index\": 15, \"value\": \"33.80348 - 34.73378\", \"contribution\": -8.890275079757497, \"mean\": 449.90169349339277, \"frequency\": 0.0145, \"feature\": \"V\", \"score_label\": \"-889.0\"}, {\"index\": 16, \"value\": \"34.73378 - 34.87741\", \"contribution\": -10.118195436283823, \"mean\": 467.2071739350795, \"frequency\": 0.001, \"feature\": \"V\", \"score_label\": \"-1011.8\"}, {\"index\": 17, \"value\": \"34.87741 - 35.44\", \"contribution\": -6.055739714700545, \"mean\": 453.2303105027415, \"frequency\": 0.0125, \"feature\": \"V\", \"score_label\": \"-605.6\"}, {\"index\": 18, \"value\": \"35.44 - 35.56868\", \"contribution\": -1.7084171608819112, \"mean\": 467.9031563788497, \"frequency\": 0.0015, \"feature\": \"V\", \"score_label\": \"-170.8\"}, {\"index\": 19, \"value\": \"35.56868 - 36.49543\", \"contribution\": -6.766534709674924, \"mean\": 453.6482361815419, \"frequency\": 0.0155, \"feature\": \"V\", \"score_label\": \"-676.7\"}, {\"index\": 20, \"value\": \"36.49543 - 37.24749\", \"contribution\": -5.123272016900733, \"mean\": 459.0375732932953, \"frequency\": 0.014, \"feature\": \"V\", \"score_label\": \"-512.3\"}, {\"index\": 21, \"value\": \"37.24749 - 38.08735\", \"contribution\": -6.091967062017804, \"mean\": 454.9937503977679, \"frequency\": 0.0175, \"feature\": \"V\", \"score_label\": \"-609.2\"}, {\"index\": 22, \"value\": \"38.08735 - 38.40136\", \"contribution\": -0.2483189269583544, \"mean\": 467.7519357260555, \"frequency\": 0.0055, \"feature\": \"V\", \"score_label\": \"-24.8\"}, {\"index\": 23, \"value\": \"38.40136 - 39.36824\", \"contribution\": -3.309647923097997, \"mean\": 460.6770744855587, \"frequency\": 0.0185, \"feature\": \"V\", \"score_label\": \"-331.0\"}, {\"index\": 24, \"value\": \"39.36824 - 39.40668\", \"contribution\": -0.5958344413869885, \"mean\": 467.887848114362, \"frequency\": 0.001, \"feature\": \"V\", \"score_label\": \"-59.6\"}, {\"index\": 25, \"value\": \"39.40668 - 40.21687\", \"contribution\": -4.547776188971633, \"mean\": 455.2158683411752, \"frequency\": 0.014, \"feature\": \"V\", \"score_label\": \"-454.8\"}, {\"index\": 26, \"value\": \"40.21687 - 40.60384\", \"contribution\": -3.7620596772786516, \"mean\": 462.4307388006912, \"frequency\": 0.0115, \"feature\": \"V\", \"score_label\": \"-376.2\"}, {\"index\": 27, \"value\": \"40.60384 - 41.09815\", \"contribution\": -3.6007082600073663, \"mean\": 460.57033045549906, \"frequency\": 0.012, \"feature\": \"V\", \"score_label\": \"-360.1\"}, {\"index\": 28, \"value\": \"41.09815 - 41.61241\", \"contribution\": -2.3968120558587334, \"mean\": 462.9899998623507, \"frequency\": 0.011, \"feature\": \"V\", \"score_label\": \"-239.7\"}, {\"index\": 29, \"value\": \"41.61241 - 42.2247\", \"contribution\": -2.8100660687945096, \"mean\": 459.99468396572314, \"frequency\": 0.011, \"feature\": \"V\", \"score_label\": \"-281.0\"}, {\"index\": 30, \"value\": \"42.2247 - 42.73335\", \"contribution\": -2.0639991842840324, \"mean\": 455.23222912544486, \"frequency\": 0.014, \"feature\": \"V\", \"score_label\": \"-206.4\"}, {\"index\": 31, \"value\": \"42.73335 - 42.95024\", \"contribution\": -0.37028712458260243, \"mean\": 467.6094649137449, \"frequency\": 0.004, \"feature\": \"V\", \"score_label\": \"-37.0\"}, {\"index\": 32, \"value\": \"42.95024 - 43.45957\", \"contribution\": -0.01834720067939738, \"mean\": 467.36192756729776, \"frequency\": 0.0135, \"feature\": \"V\", \"score_label\": \"-1.8\"}, {\"index\": 33, \"value\": \"43.45957 - 44.16521\", \"contribution\": -0.8773410343815157, \"mean\": 462.6394098895059, \"frequency\": 0.0165, \"feature\": \"V\", \"score_label\": \"-87.7\"}, {\"index\": 34, \"value\": \"44.16521 - 44.44568\", \"contribution\": -2.015534711225326, \"mean\": 463.6231212014733, \"frequency\": 0.01, \"feature\": \"V\", \"score_label\": \"-201.6\"}, {\"index\": 35, \"value\": \"44.44568 - 45.19123\", \"contribution\": -0.8059848390801464, \"mean\": 458.8185417083128, \"frequency\": 0.0195, \"feature\": \"V\", \"score_label\": \"-80.6\"}, {\"index\": 36, \"value\": \"45.19123 - 47.92364\", \"contribution\": 1.7345021629860657, \"mean\": 466.2391737329011, \"frequency\": 0.0735, \"feature\": \"V\", \"score_label\": \"173.5\"}, {\"index\": 37, \"value\": \"47.92364 - 48.51474\", \"contribution\": 3.916203673546124, \"mean\": 469.4116570102558, \"frequency\": 0.0155, \"feature\": \"V\", \"score_label\": \"391.6\"}, {\"index\": 38, \"value\": \"48.51474 - 49.54213\", \"contribution\": 3.749422761862196, \"mean\": 463.1410179508551, \"frequency\": 0.028, \"feature\": \"V\", \"score_label\": \"374.9\"}, {\"index\": 39, \"value\": \"49.54213 - 50.61659\", \"contribution\": 4.430305941052298, \"mean\": 466.63600226137964, \"frequency\": 0.0325, \"feature\": \"V\", \"score_label\": \"443.0\"}, {\"index\": 40, \"value\": \"50.61659 - 51.71054\", \"contribution\": 5.188836040295296, \"mean\": 470.4265775800273, \"frequency\": 0.028, \"feature\": \"V\", \"score_label\": \"518.9\"}, {\"index\": 41, \"value\": \"51.71054 - 52.78971\", \"contribution\": 6.546205218466069, \"mean\": 469.0788994899194, \"frequency\": 0.03, \"feature\": \"V\", \"score_label\": \"654.6\"}, {\"index\": 42, \"value\": \"52.78971 - 53.27106\", \"contribution\": 6.528544524427858, \"mean\": 464.31767847400624, \"frequency\": 0.013, \"feature\": \"V\", \"score_label\": \"652.9\"}, {\"index\": 43, \"value\": \"53.27106 - 53.76184\", \"contribution\": 6.89764010125892, \"mean\": 466.015550807913, \"frequency\": 0.01, \"feature\": \"V\", \"score_label\": \"689.8\"}, {\"index\": 44, \"value\": \"53.76184 - 54.37646\", \"contribution\": 7.8500942417072945, \"mean\": 477.52972587205005, \"frequency\": 0.0125, \"feature\": \"V\", \"score_label\": \"785.0\"}, {\"index\": 45, \"value\": \"54.37646 - 54.42815\", \"contribution\": 9.319759343285632, \"mean\": 466.1872664590657, \"frequency\": 0.0025, \"feature\": \"V\", \"score_label\": \"932.0\"}, {\"index\": 46, \"value\": \"54.42815 - 54.91861\", \"contribution\": 7.9437184628234725, \"mean\": 470.97231510146986, \"frequency\": 0.0125, \"feature\": \"V\", \"score_label\": \"794.4\"}, {\"index\": 47, \"value\": \"54.91861 - 55.66482\", \"contribution\": 8.665471639169812, \"mean\": 477.2806998553411, \"frequency\": 0.0165, \"feature\": \"V\", \"score_label\": \"866.5\"}, {\"index\": 48, \"value\": \"55.66482 - 55.98527\", \"contribution\": 7.34314109590857, \"mean\": 472.9622769696261, \"frequency\": 0.0105, \"feature\": \"V\", \"score_label\": \"734.3\"}, {\"index\": 49, \"value\": \"55.98527 - 56.53965\", \"contribution\": 8.433319736463183, \"mean\": 471.5991635673136, \"frequency\": 0.015, \"feature\": \"V\", \"score_label\": \"843.3\"}, {\"index\": 50, \"value\": \"56.53965 - 57.19674\", \"contribution\": 9.606314479426826, \"mean\": 472.9473887957248, \"frequency\": 0.0165, \"feature\": \"V\", \"score_label\": \"960.6\"}, {\"index\": 51, \"value\": \"57.19674 - 58.59439\", \"contribution\": 11.145473667135052, \"mean\": 475.37039618670457, \"frequency\": 0.0245, \"feature\": \"V\", \"score_label\": \"1114.5\"}, {\"index\": 52, \"value\": \"58.59439 - 58.87103\", \"contribution\": 8.84801491748573, \"mean\": 467.05503938388495, \"frequency\": 0.0045, \"feature\": \"V\", \"score_label\": \"884.8\"}, {\"index\": 53, \"value\": \"58.87103 - 58.96728\", \"contribution\": 0.3661316489789079, \"mean\": 467.6401191227099, \"frequency\": 0.0015, \"feature\": \"V\", \"score_label\": \"36.6\"}, {\"index\": 54, \"value\": \"58.96728 - 59.45461\", \"contribution\": 12.299602306511057, \"mean\": 477.5015293720877, \"frequency\": 0.01, \"feature\": \"V\", \"score_label\": \"1230.0\"}, {\"index\": 55, \"value\": \"59.45461 - 60.09325\", \"contribution\": 12.39209576873175, \"mean\": 479.7429350122281, \"frequency\": 0.012, \"feature\": \"V\", \"score_label\": \"1239.2\"}, {\"index\": 56, \"value\": \"60.09325 - 60.73047\", \"contribution\": 12.073229668178264, \"mean\": 473.6956507434902, \"frequency\": 0.0145, \"feature\": \"V\", \"score_label\": \"1207.3\"}, {\"index\": 57, \"value\": \"60.73047 - 61.20194\", \"contribution\": 12.300949288090873, \"mean\": 471.55158442509656, \"frequency\": 0.011, \"feature\": \"V\", \"score_label\": \"1230.1\"}, {\"index\": 58, \"value\": \"61.20194 - 61.8296\", \"contribution\": 13.014099139968993, \"mean\": 479.1771986689789, \"frequency\": 0.011, \"feature\": \"V\", \"score_label\": \"1301.4\"}, {\"index\": 59, \"value\": \"61.8296 - 62.43855\", \"contribution\": 14.903768646437008, \"mean\": 480.8021430807785, \"frequency\": 0.012, \"feature\": \"V\", \"score_label\": \"1490.4\"}, {\"index\": 60, \"value\": \"62.43855 - 62.52566\", \"contribution\": 3.755350894238408, \"mean\": 467.82850140884693, \"frequency\": 0.002, \"feature\": \"V\", \"score_label\": \"375.5\"}, {\"index\": 61, \"value\": \"62.52566 - 63.1499\", \"contribution\": 14.740186742335629, \"mean\": 479.3095517483043, \"frequency\": 0.011, \"feature\": \"V\", \"score_label\": \"1474.0\"}, {\"index\": 62, \"value\": \"63.1499 - 64.15485\", \"contribution\": 15.636458717372145, \"mean\": 485.1303384049284, \"frequency\": 0.014, \"feature\": \"V\", \"score_label\": \"1563.6\"}, {\"index\": 63, \"value\": \"64.15485 - 64.57602\", \"contribution\": 17.728133196942927, \"mean\": 475.8966525521889, \"frequency\": 0.0095, \"feature\": \"V\", \"score_label\": \"1772.8\"}, {\"index\": 64, \"value\": \"64.57602 - 65.49386\", \"contribution\": 15.222779429542966, \"mean\": 479.6603469669145, \"frequency\": 0.014, \"feature\": \"V\", \"score_label\": \"1522.3\"}, {\"index\": 65, \"value\": \"65.49386 - 66.34581\", \"contribution\": 17.032359187356313, \"mean\": 481.2183550444024, \"frequency\": 0.012, \"feature\": \"V\", \"score_label\": \"1703.2\"}, {\"index\": 66, \"value\": \"66.34581 - 67.33025\", \"contribution\": 18.29096489803575, \"mean\": 482.55740078852864, \"frequency\": 0.0125, \"feature\": \"V\", \"score_label\": \"1829.1\"}, {\"index\": 67, \"value\": \"67.33025 - 68.1602\", \"contribution\": 18.54616980189771, \"mean\": 481.2712958440847, \"frequency\": 0.013, \"feature\": \"V\", \"score_label\": \"1854.6\"}, {\"index\": 68, \"value\": \"68.1602 - 69.03477\", \"contribution\": 19.061248332964002, \"mean\": 476.9542142024584, \"frequency\": 0.011, \"feature\": \"V\", \"score_label\": \"1906.1\"}, {\"index\": 69, \"value\": \"69.03477 - 70.29892\", \"contribution\": 20.78443264312883, \"mean\": 486.4371264091139, \"frequency\": 0.0145, \"feature\": \"V\", \"score_label\": \"2078.4\"}, {\"index\": 70, \"value\": \"70.29892 - 71.66062\", \"contribution\": 21.10355938777545, \"mean\": 485.6362736579696, \"frequency\": 0.014, \"feature\": \"V\", \"score_label\": \"2110.4\"}, {\"index\": 71, \"value\": \"71.66062 - 73.13963\", \"contribution\": 21.570316550062383, \"mean\": 486.4096410497247, \"frequency\": 0.0135, \"feature\": \"V\", \"score_label\": \"2157.0\"}, {\"index\": 72, \"value\": \"73.13963 - 74.96471\", \"contribution\": 23.40308385398466, \"mean\": 487.81199126426156, \"frequency\": 0.0145, \"feature\": \"V\", \"score_label\": \"2340.3\"}, {\"index\": 73, \"value\": \"74.96471 - 76.88009\", \"contribution\": 25.271517357910902, \"mean\": 488.0173945911322, \"frequency\": 0.0125, \"feature\": \"V\", \"score_label\": \"2527.2\"}, {\"index\": 74, \"value\": \"76.88009 - 79.54446\", \"contribution\": 26.1306597604247, \"mean\": 484.7661740170173, \"frequency\": 0.01, \"feature\": \"V\", \"score_label\": \"2613.1\"}, {\"index\": 75, \"value\": \"79.54446 - 79.75503\", \"contribution\": 28.893488464313865, \"mean\": 470.4390442051772, \"frequency\": 0.001, \"feature\": \"V\", \"score_label\": \"2889.3\"}, {\"index\": 76, \"value\": \"79.75503 - 82.62774\", \"contribution\": 30.908291964611422, \"mean\": 489.08876839929604, \"frequency\": 0.0095, \"feature\": \"V\", \"score_label\": \"3090.8\"}, {\"index\": 77, \"value\": \"82.62774 - inf\", \"contribution\": 34.85695688249705, \"mean\": 503.1181631130343, \"frequency\": 0.01525, \"feature\": \"V\", \"score_label\": \"3485.7\"}, {\"index\": 78, \"value\": \"nan - nan\", \"contribution\": 0.0, \"mean\": 0.0, \"frequency\": 0.0, \"feature\": \"V\", \"score_label\": \"0.0\"}, {\"index\": 0, \"value\": \"-inf - 971.09906\", \"contribution\": -5.688126998668851, \"mean\": 459.96677600031273, \"frequency\": 0.01675, \"feature\": \"AP\", \"score_label\": \"-568.8\"}, {\"index\": 1, \"value\": \"971.09906 - 976.0307\", \"contribution\": -4.604150706106157, \"mean\": 463.0098190072035, \"frequency\": 0.011, \"feature\": \"AP\", \"score_label\": \"-460.4\"}, {\"index\": 2, \"value\": \"976.0307 - 980.68409\", \"contribution\": -2.4905072904626264, \"mean\": 467.9002419516095, \"frequency\": 0.015, \"feature\": \"AP\", \"score_label\": \"-249.1\"}, {\"index\": 3, \"value\": \"980.68409 - 982.86938\", \"contribution\": -1.0718774756739997, \"mean\": 467.63413812560975, \"frequency\": 0.009, \"feature\": \"AP\", \"score_label\": \"-107.2\"}, {\"index\": 4, \"value\": \"982.86938 - 985.18427\", \"contribution\": -3.5046136289152616, \"mean\": 461.7390246609478, \"frequency\": 0.012, \"feature\": \"AP\", \"score_label\": \"-350.5\"}, {\"index\": 5, \"value\": \"985.18427 - 987.26224\", \"contribution\": -2.39671764176967, \"mean\": 458.2730132878787, \"frequency\": 0.016, \"feature\": \"AP\", \"score_label\": \"-239.7\"}, {\"index\": 6, \"value\": \"987.26224 - 1011.7781\", \"contribution\": -1.4874161466855331, \"mean\": 466.92118862905437, \"frequency\": 0.354, \"feature\": \"AP\", \"score_label\": \"-148.7\"}, {\"index\": 7, \"value\": \"1011.7781 - 1014.00453\", \"contribution\": -0.5925876590677404, \"mean\": 471.16738539319516, \"frequency\": 0.0475, \"feature\": \"AP\", \"score_label\": \"-59.3\"}, {\"index\": 8, \"value\": \"1014.00453 - 1015.73407\", \"contribution\": -0.720532102377532, \"mean\": 462.74504940362544, \"frequency\": 0.036, \"feature\": \"AP\", \"score_label\": \"-72.1\"}, {\"index\": 9, \"value\": \"1015.73407 - 1018.05798\", \"contribution\": -0.5199301530101986, \"mean\": 466.4121559499488, \"frequency\": 0.0455, \"feature\": \"AP\", \"score_label\": \"-52.0\"}, {\"index\": 10, \"value\": \"1018.05798 - 1018.08298\", \"contribution\": -0.0015686756665424955, \"mean\": 467.8085723768454, \"frequency\": 0.0005, \"feature\": \"AP\", \"score_label\": \"-0.2\"}, {\"index\": 11, \"value\": \"1018.08298 - 1018.74077\", \"contribution\": -0.15215187259750576, \"mean\": 474.13217554539284, \"frequency\": 0.0145, \"feature\": \"AP\", \"score_label\": \"-15.2\"}, {\"index\": 12, \"value\": \"1018.74077 - 1018.98091\", \"contribution\": 1.5368031803638071, \"mean\": 469.9284662831633, \"frequency\": 0.004, \"feature\": \"AP\", \"score_label\": \"153.7\"}, {\"index\": 13, \"value\": \"1018.98091 - 1019.6207\", \"contribution\": 0.19312062655435833, \"mean\": 461.852165392694, \"frequency\": 0.013, \"feature\": \"AP\", \"score_label\": \"19.3\"}, {\"index\": 14, \"value\": \"1019.6207 - 1020.09012\", \"contribution\": 0.8093328292331126, \"mean\": 464.47925046067684, \"frequency\": 0.01, \"feature\": \"AP\", \"score_label\": \"80.9\"}, {\"index\": 15, \"value\": \"1020.09012 - 1020.60713\", \"contribution\": -0.0863436927126739, \"mean\": 466.49657520171314, \"frequency\": 0.01, \"feature\": \"AP\", \"score_label\": \"-8.6\"}, {\"index\": 16, \"value\": \"1020.60713 - 1020.9071\", \"contribution\": 0.6780513608578689, \"mean\": 467.5726187705295, \"frequency\": 0.0075, \"feature\": \"AP\", \"score_label\": \"67.8\"}, {\"index\": 17, \"value\": \"1020.9071 - 1021.58525\", \"contribution\": 1.2099686046459246, \"mean\": 475.6292794514871, \"frequency\": 0.011, \"feature\": \"AP\", \"score_label\": \"121.0\"}, {\"index\": 18, \"value\": \"1021.58525 - 1021.59973\", \"contribution\": -0.07246963963646548, \"mean\": 467.8271320981439, \"frequency\": 0.0005, \"feature\": \"AP\", \"score_label\": \"-7.2\"}, {\"index\": 19, \"value\": \"1021.59973 - 1022.42261\", \"contribution\": 0.1512388568363851, \"mean\": 459.1185463674724, \"frequency\": 0.0145, \"feature\": \"AP\", \"score_label\": \"15.1\"}, {\"index\": 20, \"value\": \"1022.42261 - 1023.13729\", \"contribution\": -0.2926573532021642, \"mean\": 464.7317706671336, \"frequency\": 0.0115, \"feature\": \"AP\", \"score_label\": \"-29.3\"}, {\"index\": 21, \"value\": \"1023.13729 - 1023.48785\", \"contribution\": 0.6289708729447504, \"mean\": 468.0518604473982, \"frequency\": 0.004, \"feature\": \"AP\", \"score_label\": \"62.9\"}, {\"index\": 22, \"value\": \"1023.48785 - 1023.75958\", \"contribution\": -0.4501435334368141, \"mean\": 468.13041583007936, \"frequency\": 0.007, \"feature\": \"AP\", \"score_label\": \"-45.0\"}, {\"index\": 23, \"value\": \"1023.75958 - 1024.10222\", \"contribution\": 1.294247355987872, \"mean\": 466.0082830664127, \"frequency\": 0.0085, \"feature\": \"AP\", \"score_label\": \"129.4\"}, {\"index\": 24, \"value\": \"1024.10222 - 1025.02942\", \"contribution\": 0.7298771928057924, \"mean\": 460.87501146101204, \"frequency\": 0.016, \"feature\": \"AP\", \"score_label\": \"73.0\"}, {\"index\": 25, \"value\": \"1025.02942 - 1025.49023\", \"contribution\": 1.7294779239068683, \"mean\": 471.591814431372, \"frequency\": 0.0115, \"feature\": \"AP\", \"score_label\": \"172.9\"}, {\"index\": 26, \"value\": \"1025.49023 - 1026.00941\", \"contribution\": 0.025196406254052596, \"mean\": 467.98854646215995, \"frequency\": 0.007, \"feature\": \"AP\", \"score_label\": \"2.5\"}, {\"index\": 27, \"value\": \"1026.00941 - 1026.30986\", \"contribution\": -0.027384561745025376, \"mean\": 467.650853229609, \"frequency\": 0.0045, \"feature\": \"AP\", \"score_label\": \"-2.7\"}, {\"index\": 28, \"value\": \"1026.30986 - 1027.10677\", \"contribution\": 0.5008551075789148, \"mean\": 470.31989389469015, \"frequency\": 0.0135, \"feature\": \"AP\", \"score_label\": \"50.1\"}, {\"index\": 29, \"value\": \"1027.10677 - 1027.92403\", \"contribution\": 1.2763548145723336, \"mean\": 465.6042791411666, \"frequency\": 0.0145, \"feature\": \"AP\", \"score_label\": \"127.6\"}, {\"index\": 30, \"value\": \"1027.92403 - 1028.73603\", \"contribution\": 1.5669251781209648, \"mean\": 470.0065195189423, \"frequency\": 0.0105, \"feature\": \"AP\", \"score_label\": \"156.7\"}, {\"index\": 31, \"value\": \"1028.73603 - 1029.02104\", \"contribution\": 0.6043923938050786, \"mean\": 469.67090476675656, \"frequency\": 0.005, \"feature\": \"AP\", \"score_label\": \"60.4\"}, {\"index\": 32, \"value\": \"1029.02104 - 1029.95995\", \"contribution\": 1.8666351748346948, \"mean\": 475.17125691340885, \"frequency\": 0.0125, \"feature\": \"AP\", \"score_label\": \"186.7\"}, {\"index\": 33, \"value\": \"1029.95995 - 1030.5341\", \"contribution\": 0.7095094740418592, \"mean\": 466.7756670629938, \"frequency\": 0.0105, \"feature\": \"AP\", \"score_label\": \"71.0\"}, {\"index\": 34, \"value\": \"1030.5341 - 1030.71457\", \"contribution\": 0.013564137185854431, \"mean\": 467.725459300587, \"frequency\": 0.0025, \"feature\": \"AP\", \"score_label\": \"1.4\"}, {\"index\": 35, \"value\": \"1030.71457 - 1031.4678\", \"contribution\": 0.7197313024535668, \"mean\": 470.7407390250895, \"frequency\": 0.0115, \"feature\": \"AP\", \"score_label\": \"72.0\"}, {\"index\": 36, \"value\": \"1031.4678 - 1031.80266\", \"contribution\": 0.3203195110815955, \"mean\": 467.4782845797373, \"frequency\": 0.0045, \"feature\": \"AP\", \"score_label\": \"32.0\"}, {\"index\": 37, \"value\": \"1031.80266 - 1032.42908\", \"contribution\": 2.2920180260213368, \"mean\": 468.3702123932178, \"frequency\": 0.009, \"feature\": \"AP\", \"score_label\": \"229.2\"}, {\"index\": 38, \"value\": \"1032.42908 - 1033.43873\", \"contribution\": 3.1457934676878696, \"mean\": 475.4236461658287, \"frequency\": 0.0125, \"feature\": \"AP\", \"score_label\": \"314.6\"}, {\"index\": 39, \"value\": \"1033.43873 - 1033.82686\", \"contribution\": 1.398100778608708, \"mean\": 467.2921203306275, \"frequency\": 0.006, \"feature\": \"AP\", \"score_label\": \"139.8\"}, {\"index\": 40, \"value\": \"1033.82686 - 1035.06679\", \"contribution\": 0.8968155164273397, \"mean\": 465.2655092613194, \"frequency\": 0.014, \"feature\": \"AP\", \"score_label\": \"89.7\"}, {\"index\": 41, \"value\": \"1035.06679 - 1036.79874\", \"contribution\": 2.7760486212029845, \"mean\": 474.1778712462606, \"frequency\": 0.017, \"feature\": \"AP\", \"score_label\": \"277.6\"}, {\"index\": 42, \"value\": \"1036.79874 - 1037.35566\", \"contribution\": 1.0778176599718527, \"mean\": 466.8032617331628, \"frequency\": 0.0065, \"feature\": \"AP\", \"score_label\": \"107.8\"}, {\"index\": 43, \"value\": \"1037.35566 - 1038.69751\", \"contribution\": 3.020974824252967, \"mean\": 475.305847819853, \"frequency\": 0.014, \"feature\": \"AP\", \"score_label\": \"302.1\"}, {\"index\": 44, \"value\": \"1038.69751 - 1039.17692\", \"contribution\": 0.9183875080586251, \"mean\": 467.40759948511067, \"frequency\": 0.0045, \"feature\": \"AP\", \"score_label\": \"91.8\"}, {\"index\": 45, \"value\": \"1039.17692 - 1039.50743\", \"contribution\": 0.9594075377597541, \"mean\": 467.5943694653979, \"frequency\": 0.0045, \"feature\": \"AP\", \"score_label\": \"95.9\"}, {\"index\": 46, \"value\": \"1039.50743 - 1040.94173\", \"contribution\": 4.025999401742775, \"mean\": 475.74533184664324, \"frequency\": 0.012, \"feature\": \"AP\", \"score_label\": \"402.6\"}, {\"index\": 47, \"value\": \"1040.94173 - 1041.33886\", \"contribution\": 6.071430153444952, \"mean\": 466.7972374487112, \"frequency\": 0.0045, \"feature\": \"AP\", \"score_label\": \"607.1\"}, {\"index\": 48, \"value\": \"1041.33886 - 1042.25368\", \"contribution\": 2.6205691610489374, \"mean\": 473.16581690068415, \"frequency\": 0.008, \"feature\": \"AP\", \"score_label\": \"262.1\"}, {\"index\": 49, \"value\": \"1042.25368 - 1044.27637\", \"contribution\": 4.506846438295859, \"mean\": 480.58039470437683, \"frequency\": 0.0125, \"feature\": \"AP\", \"score_label\": \"450.7\"}, {\"index\": 50, \"value\": \"1044.27637 - 1045.35684\", \"contribution\": 3.871587584336461, \"mean\": 468.3415607352702, \"frequency\": 0.009, \"feature\": \"AP\", \"score_label\": \"387.2\"}, {\"index\": 51, \"value\": \"1045.35684 - 1047.32142\", \"contribution\": 1.983406661509402, \"mean\": 465.6179903581167, \"frequency\": 0.013, \"feature\": \"AP\", \"score_label\": \"198.3\"}, {\"index\": 52, \"value\": \"1047.32142 - 1050.81312\", \"contribution\": 4.556490273586166, \"mean\": 472.7799118646391, \"frequency\": 0.0155, \"feature\": \"AP\", \"score_label\": \"455.6\"}, {\"index\": 53, \"value\": \"1050.81312 - 1053.86161\", \"contribution\": 3.3321542473272805, \"mean\": 470.0117868198887, \"frequency\": 0.0095, \"feature\": \"AP\", \"score_label\": \"333.2\"}, {\"index\": 54, \"value\": \"1053.86161 - 1059.28368\", \"contribution\": 3.447479123226928, \"mean\": 473.9042912606895, \"frequency\": 0.0125, \"feature\": \"AP\", \"score_label\": \"344.7\"}, {\"index\": 55, \"value\": \"1059.28368 - 1077.37012\", \"contribution\": 3.9335022124371313, \"mean\": 470.5458394362189, \"frequency\": 0.011, \"feature\": \"AP\", \"score_label\": \"393.4\"}, {\"index\": 56, \"value\": \"1077.37012 - inf\", \"contribution\": 5.561676005080083, \"mean\": 467.0035891156561, \"frequency\": 0.00125, \"feature\": \"AP\", \"score_label\": \"556.2\"}, {\"index\": 57, \"value\": \"nan - nan\", \"contribution\": 0.0, \"mean\": 0.0, \"frequency\": 0.0, \"feature\": \"AP\", \"score_label\": \"0.0\"}, {\"index\": 0, \"value\": \"-inf - 21.27172\", \"contribution\": 1.671370785420295, \"mean\": 465.5973000344257, \"frequency\": 0.00925, \"feature\": \"RH\", \"score_label\": \"167.1\"}, {\"index\": 1, \"value\": \"21.27172 - 30.53063\", \"contribution\": 3.845527454338902, \"mean\": 471.7586493633409, \"frequency\": 0.015, \"feature\": \"RH\", \"score_label\": \"384.6\"}, {\"index\": 2, \"value\": \"30.53063 - 36.09644\", \"contribution\": 2.1666715200913966, \"mean\": 474.9558835446304, \"frequency\": 0.018, \"feature\": \"RH\", \"score_label\": \"216.7\"}, {\"index\": 3, \"value\": \"36.09644 - 38.90861\", \"contribution\": 1.7832239766393874, \"mean\": 465.8592807619274, \"frequency\": 0.0125, \"feature\": \"RH\", \"score_label\": \"178.3\"}, {\"index\": 4, \"value\": \"38.90861 - 40.79625\", \"contribution\": 1.7484918225924289, \"mean\": 472.151158438432, \"frequency\": 0.0135, \"feature\": \"RH\", \"score_label\": \"174.8\"}, {\"index\": 5, \"value\": \"40.79625 - 41.47797\", \"contribution\": 0.4842716606773243, \"mean\": 467.8462416026076, \"frequency\": 0.0035, \"feature\": \"RH\", \"score_label\": \"48.4\"}, {\"index\": 6, \"value\": \"41.47797 - 43.844\", \"contribution\": 2.1092666814032937, \"mean\": 474.5925973810085, \"frequency\": 0.018, \"feature\": \"RH\", \"score_label\": \"210.9\"}, {\"index\": 7, \"value\": \"43.844 - 44.2949\", \"contribution\": 1.3571633319652254, \"mean\": 468.8991874621882, \"frequency\": 0.0035, \"feature\": \"RH\", \"score_label\": \"135.7\"}, {\"index\": 8, \"value\": \"44.2949 - 44.95891\", \"contribution\": 3.05672185694594, \"mean\": 466.7828363073815, \"frequency\": 0.005, \"feature\": \"RH\", \"score_label\": \"305.7\"}, {\"index\": 9, \"value\": \"44.95891 - 45.70745\", \"contribution\": 1.44524621605012, \"mean\": 467.5348453654442, \"frequency\": 0.0075, \"feature\": \"RH\", \"score_label\": \"144.5\"}, {\"index\": 10, \"value\": \"45.70745 - 46.62167\", \"contribution\": 0.8403417664081322, \"mean\": 461.6483904770893, \"frequency\": 0.011, \"feature\": \"RH\", \"score_label\": \"84.0\"}, {\"index\": 11, \"value\": \"46.62167 - 47.56892\", \"contribution\": 1.4205013031048936, \"mean\": 470.99967673648297, \"frequency\": 0.0115, \"feature\": \"RH\", \"score_label\": \"142.1\"}, {\"index\": 12, \"value\": \"47.56892 - 48.96313\", \"contribution\": 1.7937244791547855, \"mean\": 477.1880596093378, \"frequency\": 0.0115, \"feature\": \"RH\", \"score_label\": \"179.4\"}, {\"index\": 13, \"value\": \"48.96313 - 49.91894\", \"contribution\": 2.981775472320701, \"mean\": 472.27829117966377, \"frequency\": 0.0095, \"feature\": \"RH\", \"score_label\": \"298.2\"}, {\"index\": 14, \"value\": \"49.91894 - 51.01778\", \"contribution\": 1.2247762687152275, \"mean\": 467.93262858091475, \"frequency\": 0.014, \"feature\": \"RH\", \"score_label\": \"122.5\"}, {\"index\": 15, \"value\": \"51.01778 - 51.97331\", \"contribution\": 0.7475039652223064, \"mean\": 466.39927535821334, \"frequency\": 0.012, \"feature\": \"RH\", \"score_label\": \"74.8\"}, {\"index\": 16, \"value\": \"51.97331 - 51.9957\", \"contribution\": 0.00563754115296267, \"mean\": 467.74098354019225, \"frequency\": 0.0005, \"feature\": \"RH\", \"score_label\": \"0.6\"}, {\"index\": 17, \"value\": \"51.9957 - 53.1449\", \"contribution\": 1.3650027425857856, \"mean\": 462.33054337973226, \"frequency\": 0.016, \"feature\": \"RH\", \"score_label\": \"136.5\"}, {\"index\": 18, \"value\": \"53.1449 - 54.07644\", \"contribution\": 1.4006385027477333, \"mean\": 470.90022795852474, \"frequency\": 0.016, \"feature\": \"RH\", \"score_label\": \"140.1\"}, {\"index\": 19, \"value\": \"54.07644 - 54.33203\", \"contribution\": 1.6347946127014197, \"mean\": 467.32622571487445, \"frequency\": 0.0025, \"feature\": \"RH\", \"score_label\": \"163.5\"}, {\"index\": 20, \"value\": \"54.33203 - 54.3974\", \"contribution\": -0.04648738034265185, \"mean\": 467.5623320561911, \"frequency\": 0.0015, \"feature\": \"RH\", \"score_label\": \"-4.6\"}, {\"index\": 21, \"value\": \"54.3974 - 55.52055\", \"contribution\": 2.3055479036669744, \"mean\": 469.0481882310776, \"frequency\": 0.0165, \"feature\": \"RH\", \"score_label\": \"230.6\"}, {\"index\": 22, \"value\": \"55.52055 - 56.17104\", \"contribution\": 1.1974801923326683, \"mean\": 461.1003462364662, \"frequency\": 0.0105, \"feature\": \"RH\", \"score_label\": \"119.7\"}, {\"index\": 23, \"value\": \"56.17104 - 56.43347\", \"contribution\": 0.0011997423123890532, \"mean\": 467.71409965599224, \"frequency\": 0.0035, \"feature\": \"RH\", \"score_label\": \"0.1\"}, {\"index\": 24, \"value\": \"56.43347 - 56.4857\", \"contribution\": 1.2397311685694528, \"mean\": 468.2897798778722, \"frequency\": 0.001, \"feature\": \"RH\", \"score_label\": \"124.0\"}, {\"index\": 25, \"value\": \"56.4857 - 57.11175\", \"contribution\": 0.31537576135719236, \"mean\": 464.4912702902489, \"frequency\": 0.013, \"feature\": \"RH\", \"score_label\": \"31.5\"}, {\"index\": 26, \"value\": \"57.11175 - 57.93922\", \"contribution\": 0.6269573057749669, \"mean\": 470.91343014495015, \"frequency\": 0.0145, \"feature\": \"RH\", \"score_label\": \"62.7\"}, {\"index\": 27, \"value\": \"57.93922 - 58.51142\", \"contribution\": 1.1547782804282372, \"mean\": 466.114539788156, \"frequency\": 0.0085, \"feature\": \"RH\", \"score_label\": \"115.5\"}, {\"index\": 28, \"value\": \"58.51142 - 59.19575\", \"contribution\": -0.11715152137887454, \"mean\": 466.43021270224295, \"frequency\": 0.0095, \"feature\": \"RH\", \"score_label\": \"-11.7\"}, {\"index\": 29, \"value\": \"59.19575 - 60.10209\", \"contribution\": 1.3697572179816877, \"mean\": 472.6710143295312, \"frequency\": 0.0155, \"feature\": \"RH\", \"score_label\": \"137.0\"}, {\"index\": 30, \"value\": \"60.10209 - 60.65535\", \"contribution\": 0.8759935338909394, \"mean\": 463.81119931423535, \"frequency\": 0.0105, \"feature\": \"RH\", \"score_label\": \"87.6\"}, {\"index\": 31, \"value\": \"60.65535 - 61.16834\", \"contribution\": 1.4009862513690665, \"mean\": 467.9020813654809, \"frequency\": 0.007, \"feature\": \"RH\", \"score_label\": \"140.1\"}, {\"index\": 32, \"value\": \"61.16834 - 61.37956\", \"contribution\": -0.12931640914748543, \"mean\": 467.783957330704, \"frequency\": 0.003, \"feature\": \"RH\", \"score_label\": \"-12.9\"}, {\"index\": 33, \"value\": \"61.37956 - 62.16703\", \"contribution\": 0.7837537616511752, \"mean\": 473.0361859170254, \"frequency\": 0.015, \"feature\": \"RH\", \"score_label\": \"78.4\"}, {\"index\": 34, \"value\": \"62.16703 - 62.19428\", \"contribution\": 2.6660392237137427, \"mean\": 467.3970143079059, \"frequency\": 0.001, \"feature\": \"RH\", \"score_label\": \"266.6\"}, {\"index\": 35, \"value\": \"62.19428 - 62.27083\", \"contribution\": 2.426807710118692, \"mean\": 467.31029121158645, \"frequency\": 0.0025, \"feature\": \"RH\", \"score_label\": \"242.7\"}, {\"index\": 36, \"value\": \"62.27083 - 63.08642\", \"contribution\": 0.9671203491193187, \"mean\": 473.1385619393009, \"frequency\": 0.014, \"feature\": \"RH\", \"score_label\": \"96.7\"}, {\"index\": 37, \"value\": \"63.08642 - 63.35624\", \"contribution\": -0.8303750622511848, \"mean\": 468.95038517268324, \"frequency\": 0.0045, \"feature\": \"RH\", \"score_label\": \"-83.0\"}, {\"index\": 38, \"value\": \"63.35624 - 64.23077\", \"contribution\": -0.5233490599306968, \"mean\": 460.30909648094183, \"frequency\": 0.019, \"feature\": \"RH\", \"score_label\": \"-52.3\"}, {\"index\": 39, \"value\": \"64.23077 - 64.34128\", \"contribution\": -2.0297681899757336, \"mean\": 466.65382672293345, \"frequency\": 0.002, \"feature\": \"RH\", \"score_label\": \"-203.0\"}, {\"index\": 40, \"value\": \"64.34128 - 65.00471\", \"contribution\": -0.230153234449416, \"mean\": 468.73624179363037, \"frequency\": 0.011, \"feature\": \"RH\", \"score_label\": \"-23.0\"}, {\"index\": 41, \"value\": \"65.00471 - 65.23569\", \"contribution\": 0.4710581782108508, \"mean\": 467.8326219663852, \"frequency\": 0.0045, \"feature\": \"RH\", \"score_label\": \"47.1\"}, {\"index\": 42, \"value\": \"65.23569 - 65.82249\", \"contribution\": 0.5876110429929624, \"mean\": 469.29250947867035, \"frequency\": 0.011, \"feature\": \"RH\", \"score_label\": \"58.8\"}, {\"index\": 43, \"value\": \"65.82249 - 66.39314\", \"contribution\": 0.3878655445621024, \"mean\": 466.88047715251423, \"frequency\": 0.0115, \"feature\": \"RH\", \"score_label\": \"38.8\"}, {\"index\": 44, \"value\": \"66.39314 - 67.29074\", \"contribution\": 0.27761237980290226, \"mean\": 462.4272497814593, \"frequency\": 0.0165, \"feature\": \"RH\", \"score_label\": \"27.8\"}, {\"index\": 45, \"value\": \"67.29074 - 67.89406\", \"contribution\": -0.8399002951079296, \"mean\": 466.78659675352674, \"frequency\": 0.0135, \"feature\": \"RH\", \"score_label\": \"-84.0\"}, {\"index\": 46, \"value\": \"67.89406 - 69.54971\", \"contribution\": 0.7903950217604416, \"mean\": 469.86904491116144, \"frequency\": 0.031, \"feature\": \"RH\", \"score_label\": \"79.0\"}, {\"index\": 47, \"value\": \"69.54971 - 69.89082\", \"contribution\": 0.41441617805627984, \"mean\": 467.38691660195553, \"frequency\": 0.007, \"feature\": \"RH\", \"score_label\": \"41.4\"}, {\"index\": 48, \"value\": \"69.89082 - 70.83599\", \"contribution\": 1.0009653503209768, \"mean\": 474.85195648356495, \"frequency\": 0.0235, \"feature\": \"RH\", \"score_label\": \"100.1\"}, {\"index\": 49, \"value\": \"70.83599 - 72.29195\", \"contribution\": 0.5570508137036244, \"mean\": 464.0328375727029, \"frequency\": 0.0295, \"feature\": \"RH\", \"score_label\": \"55.7\"}, {\"index\": 50, \"value\": \"72.29195 - 74.72512\", \"contribution\": 0.10591132235309525, \"mean\": 466.39397120540093, \"frequency\": 0.049, \"feature\": \"RH\", \"score_label\": \"10.6\"}, {\"index\": 51, \"value\": \"74.72512 - 76.77736\", \"contribution\": 0.21694495552780232, \"mean\": 471.3404617559313, \"frequency\": 0.0455, \"feature\": \"RH\", \"score_label\": \"21.7\"}, {\"index\": 52, \"value\": \"76.77736 - 88.78349\", \"contribution\": -0.7306309717961305, \"mean\": 467.35566805516817, \"frequency\": 0.1925, \"feature\": \"RH\", \"score_label\": \"-73.1\"}, {\"index\": 53, \"value\": \"88.78349 - 89.39833\", \"contribution\": -0.36009625711218196, \"mean\": 462.3024653309581, \"frequency\": 0.009, \"feature\": \"RH\", \"score_label\": \"-36.0\"}, {\"index\": 54, \"value\": \"89.39833 - 90.84532\", \"contribution\": -2.8818498263955497, \"mean\": 458.3173245952076, \"frequency\": 0.0155, \"feature\": \"RH\", \"score_label\": \"-288.2\"}, {\"index\": 55, \"value\": \"90.84532 - 92.09577\", \"contribution\": -0.4603087025683551, \"mean\": 465.1257541617675, \"frequency\": 0.0145, \"feature\": \"RH\", \"score_label\": \"-46.0\"}, {\"index\": 56, \"value\": \"92.09577 - 92.82418\", \"contribution\": -0.04977403769373788, \"mean\": 467.6818623399595, \"frequency\": 0.009, \"feature\": \"RH\", \"score_label\": \"-5.0\"}, {\"index\": 57, \"value\": \"92.82418 - 93.6968\", \"contribution\": 0.3357205221134542, \"mean\": 468.795367464478, \"frequency\": 0.0085, \"feature\": \"RH\", \"score_label\": \"33.6\"}, {\"index\": 58, \"value\": \"93.6968 - 95.0829\", \"contribution\": -1.1461399801677785, \"mean\": 470.81399633887264, \"frequency\": 0.0115, \"feature\": \"RH\", \"score_label\": \"-114.6\"}, {\"index\": 59, \"value\": \"95.0829 - 96.4907\", \"contribution\": -0.06634765859774512, \"mean\": 463.30771274477326, \"frequency\": 0.011, \"feature\": \"RH\", \"score_label\": \"-6.6\"}, {\"index\": 60, \"value\": \"96.4907 - 97.37738\", \"contribution\": 0.5860409344432824, \"mean\": 467.29096594255145, \"frequency\": 0.0075, \"feature\": \"RH\", \"score_label\": \"58.6\"}, {\"index\": 61, \"value\": \"97.37738 - 98.32572\", \"contribution\": -0.54865276396327, \"mean\": 467.41363843625214, \"frequency\": 0.007, \"feature\": \"RH\", \"score_label\": \"-54.9\"}, {\"index\": 62, \"value\": \"98.32572 - 98.56709\", \"contribution\": 0.00992828605777648, \"mean\": 467.76770612465526, \"frequency\": 0.0015, \"feature\": \"RH\", \"score_label\": \"1.0\"}, {\"index\": 63, \"value\": \"98.56709 - 100.73729\", \"contribution\": -2.8471454290353457, \"mean\": 459.0429912395467, \"frequency\": 0.013, \"feature\": \"RH\", \"score_label\": \"-284.7\"}, {\"index\": 64, \"value\": \"100.73729 - 101.71889\", \"contribution\": -1.4108432027382145, \"mean\": 467.8816734304419, \"frequency\": 0.0055, \"feature\": \"RH\", \"score_label\": \"-141.1\"}, {\"index\": 65, \"value\": \"101.71889 - 102.23435\", \"contribution\": -0.05450608027080159, \"mean\": 467.65912052839604, \"frequency\": 0.003, \"feature\": \"RH\", \"score_label\": \"-5.5\"}, {\"index\": 66, \"value\": \"102.23435 - 106.08568\", \"contribution\": -2.4080909622230666, \"mean\": 461.7447183866816, \"frequency\": 0.0195, \"feature\": \"RH\", \"score_label\": \"-240.8\"}, {\"index\": 67, \"value\": \"106.08568 - 109.29758\", \"contribution\": -2.0274973971761763, \"mean\": 471.03577131215326, \"frequency\": 0.012, \"feature\": \"RH\", \"score_label\": \"-202.7\"}, {\"index\": 68, \"value\": \"109.29758 - 110.3221\", \"contribution\": -0.4576790544635622, \"mean\": 468.05787967082387, \"frequency\": 0.003, \"feature\": \"RH\", \"score_label\": \"-45.8\"}, {\"index\": 69, \"value\": \"110.3221 - 119.52243\", \"contribution\": -3.729852332678753, \"mean\": 464.2504295653646, \"frequency\": 0.013, \"feature\": \"RH\", \"score_label\": \"-373.0\"}, {\"index\": 70, \"value\": \"119.52243 - inf\", \"contribution\": -2.7005268642407136, \"mean\": 467.4153126430467, \"frequency\": 0.00725, \"feature\": \"RH\", \"score_label\": \"-270.1\"}, {\"index\": 71, \"value\": \"nan - nan\", \"contribution\": 0.0, \"mean\": 0.0, \"frequency\": 0.0, \"feature\": \"RH\", \"score_label\": \"0.0\"}]}}, {\"mode\": \"vega-lite\"});\n",
       "</script>"
      ],
      "text/plain": [
       "alt.HConcatChart(...)"
      ]
     },
     "execution_count": 8,
     "metadata": {},
     "output_type": "execute_result"
    }
   ],
   "source": [
    "model.explain()"
   ]
  },
  {
   "cell_type": "markdown",
   "metadata": {},
   "source": [
    "## 5. Model Persistence (Optional)\n",
    "\n",
    "Save the model to Xplainable Cloud."
   ]
  },
  {
   "cell_type": "code",
   "execution_count": 10,
   "metadata": {},
   "outputs": [
    {
     "data": {
      "application/vnd.jupyter.widget-view+json": {
       "model_id": "07c6b454845b42509f3375d396db8247",
       "version_major": 2,
       "version_minor": 0
      },
      "text/plain": [
       "  0%|          | 0/4 [00:00<?, ?it/s]"
      ]
     },
     "metadata": {},
     "output_type": "display_data"
    }
   ],
   "source": [
    "model_id, version_id = client.models.create_model(\n",
    "    model=model,\n",
    "    model_name=\"Power Plant Energy Output Model\",\n",
    "    model_description=\"Predicting electrical power output from ambient conditions\",\n",
    "    x=X_train,\n",
    "    y=y_train\n",
    ")"
   ]
  },
  {
   "cell_type": "markdown",
   "metadata": {},
   "source": [
    "## 6. Model Deployment (Optional)\n",
    "\n",
    "Deploy the model for real-time power output predictions."
   ]
  },
  {
   "cell_type": "code",
   "execution_count": null,
   "metadata": {},
   "outputs": [
    {
     "ename": "",
     "evalue": "",
     "output_type": "error",
     "traceback": [
      "\u001b[1;31mThe Kernel crashed while executing code in the current cell or a previous cell. \n",
      "\u001b[1;31mPlease review the code in the cell(s) to identify a possible cause of the failure. \n",
      "\u001b[1;31mClick <a href='https://aka.ms/vscodeJupyterKernelCrash'>here</a> for more info. \n",
      "\u001b[1;31mView Jupyter <a href='command:jupyter.viewOutput'>log</a> for further details."
     ]
    }
   ],
   "source": [
    "try:\n",
    "    deployment_response = client.deployments.deploy(\n",
    "        model_version_id=version_id\n",
    "    )\n",
    "    deployment_id = deployment_response.deployment_id\n",
    "except XplainableAPIError as e:\n",
    "    print(f\"Error deploying model: {e}\")\n",
    "\n",
    "# Activate deployment\n",
    "try:\n",
    "    client.deployments.activate_deployment(deployment_id=deployment_id)\n",
    "except XplainableAPIError as e:\n",
    "    print(f\"Error activating deployment: {e}\")\n",
    "\n",
    "# Generate deploy key for inference\n",
    "try:\n",
    "    deploy_key = client.deployments.generate_deploy_key(\n",
    "        deployment_id=deployment_id,\n",
    "        description=\"API key for Power Plant Energy Output\",\n",
    "        days_until_expiry=30\n",
    "    )\n",
    "except XplainableAPIError as e:\n",
    "    print(f\"Error generating deploy key: {e}\")"
   ]
  },
  {
   "cell_type": "markdown",
   "metadata": {},
   "source": [
    "## 7. Model Testing\n",
    "\n",
    "Evaluate model performance on power output predictions."
   ]
  },
  {
   "cell_type": "code",
   "execution_count": null,
   "metadata": {},
   "outputs": [],
   "source": [
    "# Evaluate on test set\n",
    "test_predictions = model.predict(X_test)\n",
    "test_performance = model.evaluate(X_test, y_test)\n",
    "\n",
    "print(\"Test Set Performance:\")\n",
    "for metric, value in test_performance.items():\n",
    "    print(f\"{metric}: {value:.4f}\")\n",
    "\n",
    "# Plot predictions vs actual\n",
    "plt.figure(figsize=(12, 5))\n",
    "\n",
    "# Scatter plot\n",
    "plt.subplot(1, 2, 1)\n",
    "plt.scatter(y_test, test_predictions, alpha=0.6)\n",
    "plt.plot([y_test.min(), y_test.max()], [y_test.min(), y_test.max()], 'r--', lw=2)\n",
    "plt.xlabel('Actual Energy Output (MW)')\n",
    "plt.ylabel('Predicted Energy Output (MW)')\n",
    "plt.title('Power Plant Energy Output: Predictions vs Actual')\n",
    "plt.grid(True, alpha=0.3)\n",
    "\n",
    "# Residuals plot\n",
    "plt.subplot(1, 2, 2)\n",
    "residuals = y_test - test_predictions\n",
    "plt.scatter(test_predictions, residuals, alpha=0.6)\n",
    "plt.axhline(y=0, color='r', linestyle='--')\n",
    "plt.xlabel('Predicted Energy Output (MW)')\n",
    "plt.ylabel('Residuals (MW)')\n",
    "plt.title('Residuals Plot')\n",
    "plt.grid(True, alpha=0.3)\n",
    "\n",
    "plt.tight_layout()\n",
    "plt.show()\n",
    "\n",
    "# Feature importance insights\n",
    "print(\"\\nExpected feature importance patterns:\")\n",
    "print(\"- Ambient Temperature (AT): Lower temperatures typically increase power output\")\n",
    "print(\"- Exhaust Vacuum (V): Higher vacuum usually correlates with higher output\")\n",
    "print(\"- Ambient Pressure (AP): Higher pressure tends to improve efficiency\")\n",
    "print(\"- Relative Humidity (RH): Generally has less impact than temperature and pressure\")"
   ]
  }
 ],
 "metadata": {
  "kernelspec": {
   "display_name": "xplainable-jupyter",
   "language": "python",
   "name": "python3"
  },
  "language_info": {
   "codemirror_mode": {
    "name": "ipython",
    "version": 3
   },
   "file_extension": ".py",
   "mimetype": "text/x-python",
   "name": "python",
   "nbconvert_exporter": "python",
   "pygments_lexer": "ipython3",
   "version": "3.10.18"
  }
 },
 "nbformat": 4,
 "nbformat_minor": 4
}
