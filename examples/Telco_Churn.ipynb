{
 "cells": [
  {
   "cell_type": "markdown",
   "id": "935ce6d1",
   "metadata": {},
   "source": [
    "## Package Imports"
   ]
  },
  {
   "cell_type": "code",
   "execution_count": 1,
   "id": "a92f2053",
   "metadata": {},
   "outputs": [
    {
     "name": "stderr",
     "output_type": "stream",
     "text": [
      "/Users/jtuppack/miniforge3/envs/xplainable-jupyter/lib/python3.10/site-packages/hyperopt/atpe.py:19: UserWarning: pkg_resources is deprecated as an API. See https://setuptools.pypa.io/en/latest/pkg_resources.html. The pkg_resources package is slated for removal as early as 2025-11-30. Refrain from using this package or pin to Setuptools<81.\n",
      "  import pkg_resources\n"
     ]
    }
   ],
   "source": [
    "import pandas as pd\n",
    "import xplainable as xp\n",
    "from xplainable.core.models import XClassifier\n",
    "from xplainable.core.optimisation.bayesian import XParamOptimiser\n",
    "from xplainable.preprocessing.pipeline import XPipeline\n",
    "from xplainable.preprocessing import transformers as xtf\n",
    "from sklearn.model_selection import train_test_split\n",
    "import requests\n",
    "\n",
    "import xplainable_client\n",
    "import json\n",
    "from xplainable.visualisation import create_waterfall_plot"
   ]
  },
  {
   "cell_type": "markdown",
   "id": "0429f4ed",
   "metadata": {},
   "source": [
    "## Instantiate Xplainable Cloud\n",
    "\n",
    "Initialise the xplainable cloud using an API key from:\n",
    "https://platform.xplainable.io/\n",
    "\n",
    "This allows you to save and collaborate on models, create deployments, create shareable reports."
   ]
  },
  {
   "cell_type": "code",
   "execution_count": 3,
   "id": "cacd5212",
   "metadata": {},
   "outputs": [],
   "source": [
    "client = xplainable_client.Client(\n",
    "    api_key=\"167af6b8-731b-455c-9201-0a245faf6b3c\",#<- Add your own token here\n",
    "    hostname=\"https://xplainable-api-uat-itdcj.ondigitalocean.app/\"\n",
    ")"
   ]
  },
  {
   "cell_type": "markdown",
   "id": "5d23d171",
   "metadata": {},
   "source": [
    "## Read IBM Telco Churn Dataset"
   ]
  },
  {
   "cell_type": "code",
   "execution_count": 4,
   "id": "ff39f4f3",
   "metadata": {},
   "outputs": [],
   "source": [
    "df = pd.read_csv('https://xplainable-public-storage.syd1.digitaloceanspaces.com/example_data/telco_customer_churn.csv')"
   ]
  },
  {
   "cell_type": "markdown",
   "id": "fc374a7d",
   "metadata": {},
   "source": [
    "### Sample of the IBM Telco Churn Dataset"
   ]
  },
  {
   "cell_type": "code",
   "execution_count": 5,
   "id": "205c3e7a",
   "metadata": {},
   "outputs": [
    {
     "data": {
      "text/html": [
       "<div>\n",
       "<style scoped>\n",
       "    .dataframe tbody tr th:only-of-type {\n",
       "        vertical-align: middle;\n",
       "    }\n",
       "\n",
       "    .dataframe tbody tr th {\n",
       "        vertical-align: top;\n",
       "    }\n",
       "\n",
       "    .dataframe thead th {\n",
       "        text-align: right;\n",
       "    }\n",
       "</style>\n",
       "<table border=\"1\" class=\"dataframe\">\n",
       "  <thead>\n",
       "    <tr style=\"text-align: right;\">\n",
       "      <th></th>\n",
       "      <th>CustomerID</th>\n",
       "      <th>Count</th>\n",
       "      <th>Country</th>\n",
       "      <th>State</th>\n",
       "      <th>City</th>\n",
       "      <th>Zip Code</th>\n",
       "      <th>Lat Long</th>\n",
       "      <th>Latitude</th>\n",
       "      <th>Longitude</th>\n",
       "      <th>Gender</th>\n",
       "      <th>...</th>\n",
       "      <th>Streaming Movies</th>\n",
       "      <th>Contract</th>\n",
       "      <th>Paperless Billing</th>\n",
       "      <th>Payment Method</th>\n",
       "      <th>Monthly Charges</th>\n",
       "      <th>Churn Label</th>\n",
       "      <th>Churn Value</th>\n",
       "      <th>Churn Score</th>\n",
       "      <th>CLTV</th>\n",
       "      <th>Churn Reason</th>\n",
       "    </tr>\n",
       "  </thead>\n",
       "  <tbody>\n",
       "    <tr>\n",
       "      <th>0</th>\n",
       "      <td>3668-QPYBK</td>\n",
       "      <td>1</td>\n",
       "      <td>United States</td>\n",
       "      <td>California</td>\n",
       "      <td>Los Angeles</td>\n",
       "      <td>90003</td>\n",
       "      <td>33.964131, -118.272783</td>\n",
       "      <td>33.964131</td>\n",
       "      <td>-118.272783</td>\n",
       "      <td>Male</td>\n",
       "      <td>...</td>\n",
       "      <td>No</td>\n",
       "      <td>Month-to-month</td>\n",
       "      <td>Yes</td>\n",
       "      <td>Mailed check</td>\n",
       "      <td>53.85</td>\n",
       "      <td>Yes</td>\n",
       "      <td>1</td>\n",
       "      <td>86</td>\n",
       "      <td>3239</td>\n",
       "      <td>Competitor made better offer</td>\n",
       "    </tr>\n",
       "    <tr>\n",
       "      <th>1</th>\n",
       "      <td>9237-HQITU</td>\n",
       "      <td>1</td>\n",
       "      <td>United States</td>\n",
       "      <td>California</td>\n",
       "      <td>Los Angeles</td>\n",
       "      <td>90005</td>\n",
       "      <td>34.059281, -118.30742</td>\n",
       "      <td>34.059281</td>\n",
       "      <td>-118.307420</td>\n",
       "      <td>Female</td>\n",
       "      <td>...</td>\n",
       "      <td>No</td>\n",
       "      <td>Month-to-month</td>\n",
       "      <td>Yes</td>\n",
       "      <td>Electronic check</td>\n",
       "      <td>70.70</td>\n",
       "      <td>Yes</td>\n",
       "      <td>1</td>\n",
       "      <td>67</td>\n",
       "      <td>2701</td>\n",
       "      <td>Moved</td>\n",
       "    </tr>\n",
       "    <tr>\n",
       "      <th>2</th>\n",
       "      <td>9305-CDSKC</td>\n",
       "      <td>1</td>\n",
       "      <td>United States</td>\n",
       "      <td>California</td>\n",
       "      <td>Los Angeles</td>\n",
       "      <td>90006</td>\n",
       "      <td>34.048013, -118.293953</td>\n",
       "      <td>34.048013</td>\n",
       "      <td>-118.293953</td>\n",
       "      <td>Female</td>\n",
       "      <td>...</td>\n",
       "      <td>Yes</td>\n",
       "      <td>Month-to-month</td>\n",
       "      <td>Yes</td>\n",
       "      <td>Electronic check</td>\n",
       "      <td>99.65</td>\n",
       "      <td>Yes</td>\n",
       "      <td>1</td>\n",
       "      <td>86</td>\n",
       "      <td>5372</td>\n",
       "      <td>Moved</td>\n",
       "    </tr>\n",
       "    <tr>\n",
       "      <th>3</th>\n",
       "      <td>7892-POOKP</td>\n",
       "      <td>1</td>\n",
       "      <td>United States</td>\n",
       "      <td>California</td>\n",
       "      <td>Los Angeles</td>\n",
       "      <td>90010</td>\n",
       "      <td>34.062125, -118.315709</td>\n",
       "      <td>34.062125</td>\n",
       "      <td>-118.315709</td>\n",
       "      <td>Female</td>\n",
       "      <td>...</td>\n",
       "      <td>Yes</td>\n",
       "      <td>Month-to-month</td>\n",
       "      <td>Yes</td>\n",
       "      <td>Electronic check</td>\n",
       "      <td>104.80</td>\n",
       "      <td>Yes</td>\n",
       "      <td>1</td>\n",
       "      <td>84</td>\n",
       "      <td>5003</td>\n",
       "      <td>Moved</td>\n",
       "    </tr>\n",
       "    <tr>\n",
       "      <th>4</th>\n",
       "      <td>0280-XJGEX</td>\n",
       "      <td>1</td>\n",
       "      <td>United States</td>\n",
       "      <td>California</td>\n",
       "      <td>Los Angeles</td>\n",
       "      <td>90015</td>\n",
       "      <td>34.039224, -118.266293</td>\n",
       "      <td>34.039224</td>\n",
       "      <td>-118.266293</td>\n",
       "      <td>Male</td>\n",
       "      <td>...</td>\n",
       "      <td>Yes</td>\n",
       "      <td>Month-to-month</td>\n",
       "      <td>Yes</td>\n",
       "      <td>Bank transfer (automatic)</td>\n",
       "      <td>103.70</td>\n",
       "      <td>Yes</td>\n",
       "      <td>1</td>\n",
       "      <td>89</td>\n",
       "      <td>5340</td>\n",
       "      <td>Competitor had better devices</td>\n",
       "    </tr>\n",
       "  </tbody>\n",
       "</table>\n",
       "<p>5 rows × 32 columns</p>\n",
       "</div>"
      ],
      "text/plain": [
       "   CustomerID  Count        Country       State         City  Zip Code  \\\n",
       "0  3668-QPYBK      1  United States  California  Los Angeles     90003   \n",
       "1  9237-HQITU      1  United States  California  Los Angeles     90005   \n",
       "2  9305-CDSKC      1  United States  California  Los Angeles     90006   \n",
       "3  7892-POOKP      1  United States  California  Los Angeles     90010   \n",
       "4  0280-XJGEX      1  United States  California  Los Angeles     90015   \n",
       "\n",
       "                 Lat Long   Latitude   Longitude  Gender  ...  \\\n",
       "0  33.964131, -118.272783  33.964131 -118.272783    Male  ...   \n",
       "1   34.059281, -118.30742  34.059281 -118.307420  Female  ...   \n",
       "2  34.048013, -118.293953  34.048013 -118.293953  Female  ...   \n",
       "3  34.062125, -118.315709  34.062125 -118.315709  Female  ...   \n",
       "4  34.039224, -118.266293  34.039224 -118.266293    Male  ...   \n",
       "\n",
       "  Streaming Movies        Contract Paperless Billing  \\\n",
       "0               No  Month-to-month               Yes   \n",
       "1               No  Month-to-month               Yes   \n",
       "2              Yes  Month-to-month               Yes   \n",
       "3              Yes  Month-to-month               Yes   \n",
       "4              Yes  Month-to-month               Yes   \n",
       "\n",
       "              Payment Method Monthly Charges Churn Label Churn Value  \\\n",
       "0               Mailed check           53.85         Yes           1   \n",
       "1           Electronic check           70.70         Yes           1   \n",
       "2           Electronic check           99.65         Yes           1   \n",
       "3           Electronic check          104.80         Yes           1   \n",
       "4  Bank transfer (automatic)          103.70         Yes           1   \n",
       "\n",
       "  Churn Score  CLTV                   Churn Reason  \n",
       "0          86  3239   Competitor made better offer  \n",
       "1          67  2701                          Moved  \n",
       "2          86  5372                          Moved  \n",
       "3          84  5003                          Moved  \n",
       "4          89  5340  Competitor had better devices  \n",
       "\n",
       "[5 rows x 32 columns]"
      ]
     },
     "execution_count": 5,
     "metadata": {},
     "output_type": "execute_result"
    }
   ],
   "source": [
    "df.head()"
   ]
  },
  {
   "cell_type": "markdown",
   "id": "ccf3a5eb",
   "metadata": {},
   "source": [
    "## 1. Data Preprocessing"
   ]
  },
  {
   "cell_type": "markdown",
   "id": "1eed188b",
   "metadata": {},
   "source": [
    "### Turn Label into Binary input"
   ]
  },
  {
   "cell_type": "code",
   "execution_count": 6,
   "id": "6799f20e",
   "metadata": {},
   "outputs": [],
   "source": [
    "df[\"Churn Label\"] = df[\"Churn Label\"].map({\"Yes\":1,\"No\":0})"
   ]
  },
  {
   "cell_type": "code",
   "execution_count": 7,
   "id": "28d00a38",
   "metadata": {},
   "outputs": [
    {
     "data": {
      "text/plain": [
       "<xplainable.preprocessing.pipeline.XPipeline at 0x28c703b50>"
      ]
     },
     "execution_count": 7,
     "metadata": {},
     "output_type": "execute_result"
    }
   ],
   "source": [
    "#Instantiate a Pipeline\n",
    "pipeline = XPipeline()\n",
    "\n",
    "# Add stages for specific features\n",
    "pipeline.add_stages([\n",
    "    {\"transformer\": xtf.ChangeCases(\n",
    "        columns=['City', 'Gender', 'Senior Citizen', 'Partner', 'Dependents',\n",
    "       'Phone Service', 'Multiple Lines', 'Internet Service',\n",
    "       'Online Security', 'Online Backup', 'Device Protection', 'Tech Support',\n",
    "       'Streaming TV', 'Streaming Movies', 'Contract', 'Paperless Billing',\n",
    "       'Payment Method'], case=\"lower\")},\n",
    "    {\"feature\":\"City\",\"transformer\": xtf.Condense(pct=0.25)}, #-> Automatically condense extremely long tail values, to check if latent information\n",
    "    {\"feature\":\"Monthly Charges\", \"transformer\": xtf.SetDType(to_type=\"float\")}, #-> Turn values into float\n",
    "    {\"transformer\": xtf.DropCols(\n",
    "        columns=['CustomerID', #-> Highly Cardinal, \n",
    "                 \"Total Charges\", #-> Reduce Multicollinearity between Tenure and Monthly Costs\n",
    "                 'Count', #-> Only one value\n",
    "                 \"Country\", #-> Only one value\n",
    "                 \"State\", #-> Only one value,\n",
    "                 \"Zip Code\", #-> Highly Cardinal and Data Leakage if you keep City\n",
    "                 \"Lat Long\", #-> Highly Cardinal\n",
    "                 \"Latitude\", #-> Highly Cardinal\n",
    "                 \"Longitude\", #-> Highly Cardinal\n",
    "                 \"Churn Value\", #-> Data Leakage\n",
    "                 \"Churn Score\", #-> Data Leakage\n",
    "                 \"CLTV\", #-> Data Leakage\n",
    "                 \"Churn Reason\", #-> Data Leakage\n",
    "                ]\n",
    "    )},\n",
    "])"
   ]
  },
  {
   "cell_type": "markdown",
   "id": "21a9ec1e",
   "metadata": {},
   "source": [
    "### Preprocessed data"
   ]
  },
  {
   "cell_type": "code",
   "execution_count": 8,
   "id": "b8d1b32d",
   "metadata": {},
   "outputs": [
    {
     "data": {
      "text/html": [
       "<div>\n",
       "<style scoped>\n",
       "    .dataframe tbody tr th:only-of-type {\n",
       "        vertical-align: middle;\n",
       "    }\n",
       "\n",
       "    .dataframe tbody tr th {\n",
       "        vertical-align: top;\n",
       "    }\n",
       "\n",
       "    .dataframe thead th {\n",
       "        text-align: right;\n",
       "    }\n",
       "</style>\n",
       "<table border=\"1\" class=\"dataframe\">\n",
       "  <thead>\n",
       "    <tr style=\"text-align: right;\">\n",
       "      <th></th>\n",
       "      <th>City</th>\n",
       "      <th>Gender</th>\n",
       "      <th>Senior Citizen</th>\n",
       "      <th>Partner</th>\n",
       "      <th>Dependents</th>\n",
       "      <th>Tenure Months</th>\n",
       "      <th>Phone Service</th>\n",
       "      <th>Multiple Lines</th>\n",
       "      <th>Internet Service</th>\n",
       "      <th>Online Security</th>\n",
       "      <th>Online Backup</th>\n",
       "      <th>Device Protection</th>\n",
       "      <th>Tech Support</th>\n",
       "      <th>Streaming TV</th>\n",
       "      <th>Streaming Movies</th>\n",
       "      <th>Contract</th>\n",
       "      <th>Paperless Billing</th>\n",
       "      <th>Payment Method</th>\n",
       "      <th>Monthly Charges</th>\n",
       "      <th>Churn Label</th>\n",
       "    </tr>\n",
       "  </thead>\n",
       "  <tbody>\n",
       "    <tr>\n",
       "      <th>0</th>\n",
       "      <td>los angeles</td>\n",
       "      <td>male</td>\n",
       "      <td>no</td>\n",
       "      <td>no</td>\n",
       "      <td>no</td>\n",
       "      <td>2</td>\n",
       "      <td>yes</td>\n",
       "      <td>no</td>\n",
       "      <td>dsl</td>\n",
       "      <td>yes</td>\n",
       "      <td>yes</td>\n",
       "      <td>no</td>\n",
       "      <td>no</td>\n",
       "      <td>no</td>\n",
       "      <td>no</td>\n",
       "      <td>month-to-month</td>\n",
       "      <td>yes</td>\n",
       "      <td>mailed check</td>\n",
       "      <td>53.85</td>\n",
       "      <td>1</td>\n",
       "    </tr>\n",
       "    <tr>\n",
       "      <th>1</th>\n",
       "      <td>los angeles</td>\n",
       "      <td>female</td>\n",
       "      <td>no</td>\n",
       "      <td>no</td>\n",
       "      <td>yes</td>\n",
       "      <td>2</td>\n",
       "      <td>yes</td>\n",
       "      <td>no</td>\n",
       "      <td>fiber optic</td>\n",
       "      <td>no</td>\n",
       "      <td>no</td>\n",
       "      <td>no</td>\n",
       "      <td>no</td>\n",
       "      <td>no</td>\n",
       "      <td>no</td>\n",
       "      <td>month-to-month</td>\n",
       "      <td>yes</td>\n",
       "      <td>electronic check</td>\n",
       "      <td>70.70</td>\n",
       "      <td>1</td>\n",
       "    </tr>\n",
       "    <tr>\n",
       "      <th>2</th>\n",
       "      <td>los angeles</td>\n",
       "      <td>female</td>\n",
       "      <td>no</td>\n",
       "      <td>no</td>\n",
       "      <td>yes</td>\n",
       "      <td>8</td>\n",
       "      <td>yes</td>\n",
       "      <td>yes</td>\n",
       "      <td>fiber optic</td>\n",
       "      <td>no</td>\n",
       "      <td>no</td>\n",
       "      <td>yes</td>\n",
       "      <td>no</td>\n",
       "      <td>yes</td>\n",
       "      <td>yes</td>\n",
       "      <td>month-to-month</td>\n",
       "      <td>yes</td>\n",
       "      <td>electronic check</td>\n",
       "      <td>99.65</td>\n",
       "      <td>1</td>\n",
       "    </tr>\n",
       "    <tr>\n",
       "      <th>3</th>\n",
       "      <td>los angeles</td>\n",
       "      <td>female</td>\n",
       "      <td>no</td>\n",
       "      <td>yes</td>\n",
       "      <td>yes</td>\n",
       "      <td>28</td>\n",
       "      <td>yes</td>\n",
       "      <td>yes</td>\n",
       "      <td>fiber optic</td>\n",
       "      <td>no</td>\n",
       "      <td>no</td>\n",
       "      <td>yes</td>\n",
       "      <td>yes</td>\n",
       "      <td>yes</td>\n",
       "      <td>yes</td>\n",
       "      <td>month-to-month</td>\n",
       "      <td>yes</td>\n",
       "      <td>electronic check</td>\n",
       "      <td>104.80</td>\n",
       "      <td>1</td>\n",
       "    </tr>\n",
       "    <tr>\n",
       "      <th>4</th>\n",
       "      <td>los angeles</td>\n",
       "      <td>male</td>\n",
       "      <td>no</td>\n",
       "      <td>no</td>\n",
       "      <td>yes</td>\n",
       "      <td>49</td>\n",
       "      <td>yes</td>\n",
       "      <td>yes</td>\n",
       "      <td>fiber optic</td>\n",
       "      <td>no</td>\n",
       "      <td>yes</td>\n",
       "      <td>yes</td>\n",
       "      <td>no</td>\n",
       "      <td>yes</td>\n",
       "      <td>yes</td>\n",
       "      <td>month-to-month</td>\n",
       "      <td>yes</td>\n",
       "      <td>bank transfer (automatic)</td>\n",
       "      <td>103.70</td>\n",
       "      <td>1</td>\n",
       "    </tr>\n",
       "  </tbody>\n",
       "</table>\n",
       "</div>"
      ],
      "text/plain": [
       "          City  Gender Senior Citizen Partner Dependents  Tenure Months  \\\n",
       "0  los angeles    male             no      no         no              2   \n",
       "1  los angeles  female             no      no        yes              2   \n",
       "2  los angeles  female             no      no        yes              8   \n",
       "3  los angeles  female             no     yes        yes             28   \n",
       "4  los angeles    male             no      no        yes             49   \n",
       "\n",
       "  Phone Service Multiple Lines Internet Service Online Security Online Backup  \\\n",
       "0           yes             no              dsl             yes           yes   \n",
       "1           yes             no      fiber optic              no            no   \n",
       "2           yes            yes      fiber optic              no            no   \n",
       "3           yes            yes      fiber optic              no            no   \n",
       "4           yes            yes      fiber optic              no           yes   \n",
       "\n",
       "  Device Protection Tech Support Streaming TV Streaming Movies  \\\n",
       "0                no           no           no               no   \n",
       "1                no           no           no               no   \n",
       "2               yes           no          yes              yes   \n",
       "3               yes          yes          yes              yes   \n",
       "4               yes           no          yes              yes   \n",
       "\n",
       "         Contract Paperless Billing             Payment Method  \\\n",
       "0  month-to-month               yes               mailed check   \n",
       "1  month-to-month               yes           electronic check   \n",
       "2  month-to-month               yes           electronic check   \n",
       "3  month-to-month               yes           electronic check   \n",
       "4  month-to-month               yes  bank transfer (automatic)   \n",
       "\n",
       "   Monthly Charges  Churn Label  \n",
       "0            53.85            1  \n",
       "1            70.70            1  \n",
       "2            99.65            1  \n",
       "3           104.80            1  \n",
       "4           103.70            1  "
      ]
     },
     "execution_count": 8,
     "metadata": {},
     "output_type": "execute_result"
    }
   ],
   "source": [
    "df_transformed = pipeline.fit_transform(df)\n",
    "df_transformed.head()"
   ]
  },
  {
   "cell_type": "markdown",
   "id": "20586081",
   "metadata": {},
   "source": [
    "### Create Preprocessor to Persist to Xplainable Cloud"
   ]
  },
  {
   "cell_type": "code",
   "execution_count": 9,
   "id": "3bb7070a",
   "metadata": {},
   "outputs": [
    {
     "name": "stdout",
     "output_type": "stream",
     "text": [
      "<Response [200]>\n"
     ]
    }
   ],
   "source": [
    "preprocessor_id, version_id = client.create_preprocessor(\n",
    "    preprocessor_name=\"Telco Churn Preprocessing - 5\",\n",
    "    preprocessor_description=\"Handling all preprocessing steps in the IBM Telco Churn Dataset\",\n",
    "    pipeline=pipeline,\n",
    "    df=df\n",
    ")"
   ]
  },
  {
   "cell_type": "markdown",
   "id": "3c2f9a1b",
   "metadata": {},
   "source": [
    "### Loading the Preprocessor steps\n",
    "Use the api to load pre-existing preprocessor steps from the xplainable cloud and transform data inplace."
   ]
  },
  {
   "cell_type": "code",
   "execution_count": 10,
   "id": "c757996b",
   "metadata": {},
   "outputs": [
    {
     "name": "stdout",
     "output_type": "stream",
     "text": [
      "<Response [200]>\n"
     ]
    }
   ],
   "source": [
    "pp_cloud = client.load_preprocessor(\n",
    "    preprocessor_id,\n",
    "    version_id\n",
    ")"
   ]
  },
  {
   "cell_type": "code",
   "execution_count": 11,
   "id": "d7ee43a3",
   "metadata": {},
   "outputs": [
    {
     "data": {
      "text/plain": [
       "[{'feature': '__dataset__',\n",
       "  'name': 'ChangeCases',\n",
       "  'transformer': <xplainable.preprocessing.transformers.dataset.ChangeCases at 0x28d263e80>},\n",
       " {'feature': 'City',\n",
       "  'name': 'Condense',\n",
       "  'transformer': <xplainable.preprocessing.transformers.categorical.Condense at 0x28d0a1c90>},\n",
       " {'feature': 'Monthly Charges',\n",
       "  'name': 'SetDType',\n",
       "  'transformer': <xplainable.preprocessing.transformers.mixed.SetDType at 0x28d0727a0>},\n",
       " {'feature': '__dataset__',\n",
       "  'name': 'DropCols',\n",
       "  'transformer': <xplainable.preprocessing.transformers.dataset.DropCols at 0x28d071db0>}]"
      ]
     },
     "execution_count": 11,
     "metadata": {},
     "output_type": "execute_result"
    }
   ],
   "source": [
    "pp_cloud.stages"
   ]
  },
  {
   "cell_type": "code",
   "execution_count": 12,
   "id": "a348f2fb",
   "metadata": {},
   "outputs": [],
   "source": [
    "df_transformed_cloud = pp_cloud.transform(df)"
   ]
  },
  {
   "cell_type": "markdown",
   "id": "9f856119",
   "metadata": {},
   "source": [
    "### Create Train/Test split for model training validation"
   ]
  },
  {
   "cell_type": "code",
   "execution_count": 13,
   "id": "f151560f",
   "metadata": {},
   "outputs": [],
   "source": [
    "X, y = df_transformed_cloud.drop(columns=['Churn Label']), df['Churn Label']\n",
    "\n",
    "X_train, X_test, y_train, y_test = train_test_split(\n",
    "     X, y, test_size=0.33, random_state=42)"
   ]
  },
  {
   "cell_type": "markdown",
   "id": "83392be4",
   "metadata": {},
   "source": [
    "## 2. Model Optimisation\n",
    "The `XParamOptimiser` is utilised to fine-tune the hyperparameters of our model. This process searches for the optimal parameters that will yield the best model performance, balancing accuracy and computational efficiency."
   ]
  },
  {
   "cell_type": "code",
   "execution_count": 14,
   "id": "17ec10cb",
   "metadata": {},
   "outputs": [
    {
     "name": "stdout",
     "output_type": "stream",
     "text": [
      "100%|██████████| 30/30 [00:02<00:00, 11.47trial/s, best loss: -0.7956806571954382]\n"
     ]
    }
   ],
   "source": [
    "opt = XParamOptimiser()\n",
    "params = opt.optimise(X_train, y_train)"
   ]
  },
  {
   "cell_type": "markdown",
   "id": "c5e4ae0a",
   "metadata": {},
   "source": [
    "## 3. Model Training\n",
    "With the optimised parameters obtained, the `XClassifier` is trained on the dataset. This classifier undergoes a fitting process with the training data, ensuring that it learns the underlying patterns and can make accurate predictions."
   ]
  },
  {
   "cell_type": "code",
   "execution_count": 15,
   "id": "138c9bf7",
   "metadata": {},
   "outputs": [
    {
     "data": {
      "text/plain": [
       "<xplainable.core.ml.classification.XClassifier at 0x28fbae620>"
      ]
     },
     "execution_count": 15,
     "metadata": {},
     "output_type": "execute_result"
    }
   ],
   "source": [
    "model = XClassifier(**params)\n",
    "model.fit(X_train, y_train)"
   ]
  },
  {
   "cell_type": "markdown",
   "id": "1a7d5b35",
   "metadata": {},
   "source": [
    "## 4. Model Interpretability and Explainability\n",
    "Following training, the `model.explain()` method is called to generate insights into the model's decision-making process. This step is crucial for understanding the factors that influence the model's predictions and ensuring that the model's behaviour is transparent and explainable."
   ]
  },
  {
   "cell_type": "code",
   "execution_count": 16,
   "id": "08fb8e82",
   "metadata": {},
   "outputs": [
    {
     "data": {
      "text/html": [
       "\n",
       "    <style>\n",
       "    .vega-bind {\n",
       "      text-align:right;\n",
       "    }\n",
       "    </style>\n",
       "    "
      ],
      "text/plain": [
       "<IPython.core.display.HTML object>"
      ]
     },
     "metadata": {},
     "output_type": "display_data"
    },
    {
     "data": {
      "text/html": [
       "\n",
       "<style>\n",
       "  #altair-viz-c92d2fd61ef54901a7d308a3f8be6b5a.vega-embed {\n",
       "    width: 100%;\n",
       "    display: flex;\n",
       "  }\n",
       "\n",
       "  #altair-viz-c92d2fd61ef54901a7d308a3f8be6b5a.vega-embed details,\n",
       "  #altair-viz-c92d2fd61ef54901a7d308a3f8be6b5a.vega-embed details summary {\n",
       "    position: relative;\n",
       "  }\n",
       "</style>\n",
       "<div id=\"altair-viz-c92d2fd61ef54901a7d308a3f8be6b5a\"></div>\n",
       "<script type=\"text/javascript\">\n",
       "  var VEGA_DEBUG = (typeof VEGA_DEBUG == \"undefined\") ? {} : VEGA_DEBUG;\n",
       "  (function(spec, embedOpt){\n",
       "    let outputDiv = document.currentScript.previousElementSibling;\n",
       "    if (outputDiv.id !== \"altair-viz-c92d2fd61ef54901a7d308a3f8be6b5a\") {\n",
       "      outputDiv = document.getElementById(\"altair-viz-c92d2fd61ef54901a7d308a3f8be6b5a\");\n",
       "    }\n",
       "\n",
       "    const paths = {\n",
       "      \"vega\": \"https://cdn.jsdelivr.net/npm/vega@5?noext\",\n",
       "      \"vega-lib\": \"https://cdn.jsdelivr.net/npm/vega-lib?noext\",\n",
       "      \"vega-lite\": \"https://cdn.jsdelivr.net/npm/vega-lite@5.20.1?noext\",\n",
       "      \"vega-embed\": \"https://cdn.jsdelivr.net/npm/vega-embed@6?noext\",\n",
       "    };\n",
       "\n",
       "    function maybeLoadScript(lib, version) {\n",
       "      var key = `${lib.replace(\"-\", \"\")}_version`;\n",
       "      return (VEGA_DEBUG[key] == version) ?\n",
       "        Promise.resolve(paths[lib]) :\n",
       "        new Promise(function(resolve, reject) {\n",
       "          var s = document.createElement('script');\n",
       "          document.getElementsByTagName(\"head\")[0].appendChild(s);\n",
       "          s.async = true;\n",
       "          s.onload = () => {\n",
       "            VEGA_DEBUG[key] = version;\n",
       "            return resolve(paths[lib]);\n",
       "          };\n",
       "          s.onerror = () => reject(`Error loading script: ${paths[lib]}`);\n",
       "          s.src = paths[lib];\n",
       "        });\n",
       "    }\n",
       "\n",
       "    function showError(err) {\n",
       "      outputDiv.innerHTML = `<div class=\"error\" style=\"color:red;\">${err}</div>`;\n",
       "      throw err;\n",
       "    }\n",
       "\n",
       "    function displayChart(vegaEmbed) {\n",
       "      vegaEmbed(outputDiv, spec, embedOpt)\n",
       "        .catch(err => showError(`Javascript Error: ${err.message}<br>This usually means there's a typo in your chart specification. See the javascript console for the full traceback.`));\n",
       "    }\n",
       "\n",
       "    if(typeof define === \"function\" && define.amd) {\n",
       "      requirejs.config({paths});\n",
       "      let deps = [\"vega-embed\"];\n",
       "      require(deps, displayChart, err => showError(`Error loading script: ${err.message}`));\n",
       "    } else {\n",
       "      maybeLoadScript(\"vega\", \"5\")\n",
       "        .then(() => maybeLoadScript(\"vega-lite\", \"5.20.1\"))\n",
       "        .then(() => maybeLoadScript(\"vega-embed\", \"6\"))\n",
       "        .catch(showError)\n",
       "        .then(() => displayChart(vegaEmbed));\n",
       "    }\n",
       "  })({\"config\": {\"view\": {\"continuousWidth\": 300, \"continuousHeight\": 300}}, \"hconcat\": [{\"mark\": {\"type\": \"bar\", \"color\": \"#0080ea\"}, \"encoding\": {\"color\": {\"condition\": {\"param\": \"param_1\", \"value\": \"lightgray\"}, \"value\": \"#0080ea\"}, \"tooltip\": {\"field\": \"importance_label\", \"type\": \"nominal\"}, \"x\": {\"field\": \"importance\", \"type\": \"quantitative\"}, \"y\": {\"field\": \"feature\", \"sort\": {\"field\": \"importance\", \"order\": \"descending\"}, \"type\": \"nominal\"}}, \"height\": 400, \"name\": \"view_1\", \"title\": \"Feature Importances\", \"transform\": [{\"filter\": {\"param\": \"param_2\"}}], \"width\": 330}, {\"mark\": {\"type\": \"bar\", \"color\": \"#0080ea\"}, \"encoding\": {\"x\": {\"axis\": {\"labels\": false, \"title\": null}, \"field\": \"importance\", \"type\": \"quantitative\"}, \"y\": {\"axis\": {\"labels\": false, \"title\": null}, \"field\": \"feature\", \"sort\": \"-x\", \"type\": \"nominal\"}}, \"height\": 400, \"name\": \"view_2\", \"width\": 25}, {\"data\": {\"name\": \"data-8274f1a1928e386553c206c91ca52a2e\"}, \"mark\": {\"type\": \"bar\", \"color\": \"#e14067\"}, \"encoding\": {\"color\": {\"condition\": {\"test\": \"(datum.contribution < 0)\", \"value\": \"#e14067\"}, \"value\": \"#12b980\"}, \"tooltip\": {\"field\": \"score_label\", \"type\": \"nominal\"}, \"x\": {\"field\": \"val\", \"type\": \"quantitative\"}, \"y\": {\"field\": \"value\", \"sort\": {\"field\": \"index\", \"order\": \"descending\"}, \"type\": \"nominal\"}}, \"height\": 400, \"name\": \"view_3\", \"title\": \"Contributions\", \"transform\": [{\"fold\": [\"contribution\", \"mean\", \"frequency\"], \"as\": [\"column\", \"val\"]}, {\"filter\": {\"param\": \"Select\"}}, {\"filter\": {\"param\": \"param_1\"}}, {\"filter\": {\"param\": \"param_3\"}}], \"width\": 330}, {\"data\": {\"name\": \"data-8274f1a1928e386553c206c91ca52a2e\"}, \"mark\": {\"type\": \"bar\", \"color\": \"#e14067\"}, \"encoding\": {\"color\": {\"condition\": {\"test\": \"(datum.contribution < 0)\", \"value\": \"#e14067\"}, \"value\": \"#12b980\"}, \"x\": {\"axis\": {\"labels\": false, \"title\": null}, \"field\": \"contribution\", \"type\": \"quantitative\"}, \"y\": {\"axis\": {\"labels\": false, \"title\": null}, \"field\": \"value\", \"sort\": {\"field\": \"index\", \"order\": \"descending\"}, \"type\": \"nominal\"}}, \"height\": 400, \"name\": \"view_4\", \"transform\": [{\"filter\": {\"param\": \"param_1\"}}], \"width\": 25}], \"data\": {\"name\": \"data-cf25f15acf4d9e14bb59e67cca3635f7\"}, \"params\": [{\"name\": \"param_1\", \"select\": {\"type\": \"point\", \"fields\": [\"feature\"]}, \"value\": \"Tenure Months\", \"views\": [\"view_1\"]}, {\"name\": \"Select\", \"select\": {\"type\": \"point\", \"fields\": [\"column\"]}, \"bind\": {\"input\": \"select\", \"options\": [\"contribution\", \"mean\", \"frequency\"]}, \"value\": \"contribution\", \"views\": [\"view_1\", \"view_3\"]}, {\"name\": \"param_2\", \"select\": {\"type\": \"interval\", \"encodings\": [\"y\"]}, \"views\": [\"view_2\"]}, {\"name\": \"param_3\", \"select\": {\"type\": \"interval\", \"encodings\": [\"y\"]}, \"views\": [\"view_4\"]}], \"$schema\": \"https://vega.github.io/schema/vega-lite/v5.20.1.json\", \"datasets\": {\"data-cf25f15acf4d9e14bb59e67cca3635f7\": [{\"feature\": \"City\", \"importance\": 0.0, \"importance_label\": \"0.0%\"}, {\"feature\": \"Gender\", \"importance\": 0.0, \"importance_label\": \"0.0%\"}, {\"feature\": \"Senior Citizen\", \"importance\": 0.0, \"importance_label\": \"0.0%\"}, {\"feature\": \"Partner\", \"importance\": 0.0, \"importance_label\": \"0.0%\"}, {\"feature\": \"Dependents\", \"importance\": 0.0, \"importance_label\": \"0.0%\"}, {\"feature\": \"Phone Service\", \"importance\": 0.0, \"importance_label\": \"0.0%\"}, {\"feature\": \"Multiple Lines\", \"importance\": 0.0, \"importance_label\": \"0.0%\"}, {\"feature\": \"Internet Service\", \"importance\": 0.0, \"importance_label\": \"0.0%\"}, {\"feature\": \"Online Security\", \"importance\": 0.0, \"importance_label\": \"0.0%\"}, {\"feature\": \"Online Backup\", \"importance\": 0.0, \"importance_label\": \"0.0%\"}, {\"feature\": \"Device Protection\", \"importance\": 0.0, \"importance_label\": \"0.0%\"}, {\"feature\": \"Tech Support\", \"importance\": 0.0, \"importance_label\": \"0.0%\"}, {\"feature\": \"Streaming TV\", \"importance\": 0.0, \"importance_label\": \"0.0%\"}, {\"feature\": \"Streaming Movies\", \"importance\": 0.0, \"importance_label\": \"0.0%\"}, {\"feature\": \"Contract\", \"importance\": 0.0, \"importance_label\": \"0.0%\"}, {\"feature\": \"Paperless Billing\", \"importance\": 0.0, \"importance_label\": \"0.0%\"}, {\"feature\": \"Payment Method\", \"importance\": 0.0, \"importance_label\": \"0.0%\"}, {\"feature\": \"Monthly Charges\", \"importance\": 0.45183585718609115, \"importance_label\": \"45.2%\"}, {\"feature\": \"Tenure Months\", \"importance\": 0.5481641428139089, \"importance_label\": \"54.8%\"}], \"data-8274f1a1928e386553c206c91ca52a2e\": [{\"index\": 0, \"value\": \"-inf - 1.5\", \"contribution\": 0.49360270180768856, \"mean\": 0.6009280742459396, \"frequency\": 0.09135226791013142, \"feature\": \"Tenure Months\", \"score_label\": \"49.4\"}, {\"index\": 1, \"value\": \"1.5 - 2.5\", \"contribution\": 0.22894043545948706, \"mean\": 0.5, \"frequency\": 0.03221704111911827, \"feature\": \"Tenure Months\", \"score_label\": \"22.9\"}, {\"index\": 2, \"value\": \"2.5 - 4.5\", \"contribution\": 0.23958241392787893, \"mean\": 0.4645669291338583, \"frequency\": 0.05383637134378974, \"feature\": \"Tenure Months\", \"score_label\": \"24.0\"}, {\"index\": 3, \"value\": \"4.5 - 7.5\", \"contribution\": 0.18175879515920979, \"mean\": 0.41700404858299595, \"frequency\": 0.052352691818567186, \"feature\": \"Tenure Months\", \"score_label\": \"18.2\"}, {\"index\": 4, \"value\": \"7.5 - 16.5\", \"contribution\": 0.14495230885897883, \"mean\": 0.3467741935483871, \"frequency\": 0.13141161509114033, \"feature\": \"Tenure Months\", \"score_label\": \"14.5\"}, {\"index\": 5, \"value\": \"16.5 - 49.5\", \"contribution\": -0.07111246968751012, \"mean\": 0.20909090909090908, \"frequency\": 0.3264094955489614, \"feature\": \"Tenure Months\", \"score_label\": \"-7.1\"}, {\"index\": 6, \"value\": \"49.5 - 59.5\", \"contribution\": -0.0939361638747209, \"mean\": 0.1524008350730689, \"frequency\": 0.10152607036880033, \"feature\": \"Tenure Months\", \"score_label\": \"-9.4\"}, {\"index\": 7, \"value\": \"59.5 - 63.5\", \"contribution\": -0.11647353680076666, \"mean\": 0.07281553398058252, \"frequency\": 0.043662568885120816, \"feature\": \"Tenure Months\", \"score_label\": \"-11.6\"}, {\"index\": 8, \"value\": \"63.5 - 67.5\", \"contribution\": -0.09786773317904089, \"mean\": 0.10426540284360192, \"frequency\": 0.04472233997456549, \"feature\": \"Tenure Months\", \"score_label\": \"-9.8\"}, {\"index\": 9, \"value\": \"67.5 - 69.5\", \"contribution\": -0.09381209068568454, \"mean\": 0.08148148148148149, \"frequency\": 0.028613819415006358, \"feature\": \"Tenure Months\", \"score_label\": \"-9.4\"}, {\"index\": 10, \"value\": \"69.5 - 71.5\", \"contribution\": -0.13000375470533146, \"mean\": 0.0427807486631016, \"frequency\": 0.03963543874523103, \"feature\": \"Tenure Months\", \"score_label\": \"-13.0\"}, {\"index\": 11, \"value\": \"71.5 - inf\", \"contribution\": -0.16051556259427716, \"mean\": 0.0234375, \"frequency\": 0.05426027977956761, \"feature\": \"Tenure Months\", \"score_label\": \"-16.1\"}, {\"index\": 12, \"value\": \"nan - nan\", \"contribution\": 0.0, \"mean\": 0.0, \"frequency\": 0.0, \"feature\": \"Tenure Months\", \"score_label\": \"0.0\"}, {\"index\": 0, \"value\": \"-inf - 19.425\", \"contribution\": -0.09172188053320951, \"mean\": 0.08, \"frequency\": 0.026494277236116998, \"feature\": \"Monthly Charges\", \"score_label\": \"-9.2\"}, {\"index\": 1, \"value\": \"19.425 - 19.675\", \"contribution\": -0.08931150970431509, \"mean\": 0.08955223880597014, \"frequency\": 0.02840186519711742, \"feature\": \"Monthly Charges\", \"score_label\": \"-8.9\"}, {\"index\": 2, \"value\": \"19.675 - 19.925\", \"contribution\": -0.08019178313768913, \"mean\": 0.10606060606060606, \"frequency\": 0.027977956761339552, \"feature\": \"Monthly Charges\", \"score_label\": \"-8.0\"}, {\"index\": 3, \"value\": \"19.925 - 20.125\", \"contribution\": -0.09869401867557917, \"mean\": 0.06504065040650407, \"frequency\": 0.02607036880033913, \"feature\": \"Monthly Charges\", \"score_label\": \"-9.9\"}, {\"index\": 4, \"value\": \"20.125 - 20.425\", \"contribution\": -0.08283243413317443, \"mean\": 0.10810810810810811, \"frequency\": 0.03136922424756253, \"feature\": \"Monthly Charges\", \"score_label\": \"-8.3\"}, {\"index\": 5, \"value\": \"20.425 - 23.575\", \"contribution\": -0.09058384348900932, \"mean\": 0.09937888198757763, \"frequency\": 0.03412462908011869, \"feature\": \"Monthly Charges\", \"score_label\": \"-9.1\"}, {\"index\": 6, \"value\": \"23.575 - 25.025\", \"contribution\": -0.09976421697333625, \"mean\": 0.07894736842105263, \"frequency\": 0.03221704111911827, \"feature\": \"Monthly Charges\", \"score_label\": \"-10.0\"}, {\"index\": 7, \"value\": \"25.025 - 29.475\", \"contribution\": -0.08405166235029728, \"mean\": 0.10416666666666667, \"frequency\": 0.03052140737600678, \"feature\": \"Monthly Charges\", \"score_label\": \"-8.4\"}, {\"index\": 8, \"value\": \"29.475 - 50.875\", \"contribution\": 0.06416278538876183, \"mean\": 0.30177514792899407, \"frequency\": 0.10746078846969055, \"feature\": \"Monthly Charges\", \"score_label\": \"6.4\"}, {\"index\": 9, \"value\": \"50.875 - 56.0\", \"contribution\": -0.013681113675595847, \"mean\": 0.2394957983193282, \"frequency\": 0.050445103857566766, \"feature\": \"Monthly Charges\", \"score_label\": \"-1.4\"}, {\"index\": 10, \"value\": \"56.0 - 61.425\", \"contribution\": -0.095496212164883, \"mean\": 0.09659090909090909, \"frequency\": 0.03730394234845273, \"feature\": \"Monthly Charges\", \"score_label\": \"-9.5\"}, {\"index\": 11, \"value\": \"61.425 - 68.825\", \"contribution\": -0.08636544674658286, \"mean\": 0.116402116402117, \"frequency\": 0.040059347181008904, \"feature\": \"Monthly Charges\", \"score_label\": \"-8.6\"}, {\"index\": 12, \"value\": \"68.825 - 74.425\", \"contribution\": 0.19557444983875788, \"mean\": 0.40437158469945356, \"frequency\": 0.07757524374735057, \"feature\": \"Monthly Charges\", \"score_label\": \"19.6\"}, {\"index\": 13, \"value\": \"74.425 - 80.525\", \"contribution\": 0.16291745073634567, \"mean\": 0.3732394366197183, \"frequency\": 0.09029249682068673, \"feature\": \"Monthly Charges\", \"score_label\": \"16.3\"}, {\"index\": 14, \"value\": \"80.525 - 106.775\", \"contribution\": 0.24611751862469802, \"mean\": 0.36482758620689654, \"frequency\": 0.3073336159389572, \"feature\": \"Monthly Charges\", \"score_label\": \"24.6\"}, {\"index\": 15, \"value\": \"106.775 - inf\", \"contribution\": -0.06569847321050085, \"mean\": 0.16194331983805668, \"frequency\": 0.052352691818567186, \"feature\": \"Monthly Charges\", \"score_label\": \"-6.6\"}, {\"index\": 16, \"value\": \"nan - nan\", \"contribution\": 0.0, \"mean\": 0.0, \"frequency\": 0.0, \"feature\": \"Monthly Charges\", \"score_label\": \"0.0\"}]}}, {\"mode\": \"vega-lite\"});\n",
       "</script>"
      ],
      "text/plain": [
       "alt.HConcatChart(...)"
      ]
     },
     "execution_count": 16,
     "metadata": {},
     "output_type": "execute_result"
    }
   ],
   "source": [
    "model.explain()"
   ]
  },
  {
   "cell_type": "markdown",
   "id": "fd7d5f3b",
   "metadata": {},
   "source": [
    "The image displays two graphs related to a churn prediction model.\n",
    "\n",
    "On the left is the 'Feature Importances' bar chart, which ranks the features by their ability to predict customer churn. 'Tenure Months' has the highest importance, confirming that the length of customer engagement is the most significant indicator of churn likelihood. 'Monthly Charges' and 'Contract' follow, suggesting that financial and contractual commitments are also influential in churn prediction.\n",
    "\n",
    "The right graph is a 'Contributions' histogram, which quantifies the impact of a specific feature's values on the prediction outcome. The red bars indicate that higher values within the selected feature correspond to a decrease in the likelihood of churn, whereas the green bars show that lower values increase this likelihood.\n",
    "\n",
    "The placement of 'Gender' at the bottom of the 'Feature Importances' chart conclusively indicates that the model does not consider gender a determinant in predicting churn, thereby ensuring the model's impartiality regarding gender.\n"
   ]
  },
  {
   "cell_type": "markdown",
   "id": "68ff786c",
   "metadata": {},
   "source": [
    "## 5. Model Persisting\n",
    "In this step, we first create a unique identifier for our churn prediction model using `client.create_model_id`. This identifier, shown as `model_id`, represents the newly instantiated model which predicts the likelihood of customers leaving within the next month. Following this, we generate a specific version of the model with `client.create_model_version`, passing in our training data. The output `version_id` represents this particular iteration of our model, allowing us to track and manage different versions systematically.\n"
   ]
  },
  {
   "cell_type": "code",
   "execution_count": 17,
   "id": "33a3d962",
   "metadata": {},
   "outputs": [
    {
     "data": {
      "application/vnd.jupyter.widget-view+json": {
       "model_id": "bac58f85542043d1a2492d8c1e958a43",
       "version_major": 2,
       "version_minor": 0
      },
      "text/plain": [
       "  0%|          | 0/19 [00:00<?, ?it/s]"
      ]
     },
     "metadata": {},
     "output_type": "display_data"
    },
    {
     "name": "stdout",
     "output_type": "stream",
     "text": [
      "<Response [200]>\n"
     ]
    }
   ],
   "source": [
    "# Create a model\n",
    "model_id = client.create_model(\n",
    "    model=model,\n",
    "    model_name=\"Autotrain Telco Churn\",\n",
    "    model_description=\"Predicting customers who are likely to leave the business within the next month.\",\n",
    "    x=X_train,\n",
    "    y=y_train\n",
    ")"
   ]
  },
  {
   "cell_type": "markdown",
   "id": "ddd297a2",
   "metadata": {},
   "source": [
    "### SaaS Models View"
   ]
  },
  {
   "cell_type": "markdown",
   "id": "421d363a",
   "metadata": {},
   "source": [
    "![Model Image](https://xplainable-public-storage.syd1.digitaloceanspaces.com/documentation_content/models.png)"
   ]
  },
  {
   "cell_type": "markdown",
   "id": "21cc4c90",
   "metadata": {},
   "source": [
    "### SaaS Explainer View"
   ]
  },
  {
   "cell_type": "markdown",
   "id": "afa77adb",
   "metadata": {},
   "source": [
    "![Model Image](https://xplainable-public-storage.syd1.digitaloceanspaces.com/documentation_content/model_explainer.png)"
   ]
  },
  {
   "cell_type": "markdown",
   "id": "e6ef7bff",
   "metadata": {},
   "source": [
    "## 6. Model Deployment"
   ]
  },
  {
   "cell_type": "markdown",
   "id": "92ca6d22",
   "metadata": {},
   "source": [
    "The code block illustrates the deployment of our churn prediction model using the `xp.client.deploy` function. The deployment process involves specifying the `hostname` of the server where the model will be hosted, as well as the unique `model_id` and `version_id` that we obtained in the previous steps. This step effectively activates the model's endpoint, allowing it to receive and process prediction requests. The output confirms the deployment with a `deployment_id`, indicating the model's current `status` as 'inactive', its `location`, and the `endpoint` URL where it can be accessed for xplainable deployments.\n"
   ]
  },
  {
   "cell_type": "code",
   "execution_count": 18,
   "id": "eecdc556",
   "metadata": {},
   "outputs": [
    {
     "name": "stdout",
     "output_type": "stream",
     "text": [
      "<Response [200]>\n"
     ]
    }
   ],
   "source": [
    "deployment = client.deploy(\n",
    "    model_version_id=model_id[\"version_id\"] #<- Use version id produced above\n",
    ")"
   ]
  },
  {
   "cell_type": "markdown",
   "id": "5470fa5d",
   "metadata": {},
   "source": [
    "### SaaS Deployment View"
   ]
  },
  {
   "cell_type": "markdown",
   "id": "7cf63875",
   "metadata": {},
   "source": [
    "![Model Image](https://xplainable-public-storage.syd1.digitaloceanspaces.com/documentation_content/deployments.png)\n"
   ]
  },
  {
   "cell_type": "markdown",
   "id": "d6ba1d6e",
   "metadata": {},
   "source": [
    "### Testing the Deployment programatically\n",
    "This section demonstrates the steps taken to programmatically test a deployed model. These steps are essential for validating that the model's deployment is functional and ready to process incoming prediction requests.\n"
   ]
  },
  {
   "cell_type": "markdown",
   "id": "8d11366a",
   "metadata": {},
   "source": [
    "1. **Activating the Deployment:**\n",
    "   The model deployment is activated using `client.activate_deployment`, which changes the deployment status to active, allowing it to accept prediction requests."
   ]
  },
  {
   "cell_type": "code",
   "execution_count": 19,
   "id": "71fbf0b4",
   "metadata": {},
   "outputs": [
    {
     "data": {
      "text/plain": [
       "{'message': 'activated deployment'}"
      ]
     },
     "execution_count": 19,
     "metadata": {},
     "output_type": "execute_result"
    }
   ],
   "source": [
    "client.activate_deployment(deployment['deployment_id'])"
   ]
  },
  {
   "cell_type": "markdown",
   "id": "284654f9",
   "metadata": {},
   "source": [
    "2. **Creating a Deployment Key:**\n",
    "   A deployment key is generated with `client.generate_deploy_key`. This key is required to authenticate and make secure requests to the deployed model."
   ]
  },
  {
   "cell_type": "code",
   "execution_count": 20,
   "id": "8348ea26",
   "metadata": {},
   "outputs": [
    {
     "name": "stdout",
     "output_type": "stream",
     "text": [
      "<Response [200]>\n"
     ]
    }
   ],
   "source": [
    "deploy_key = client.generate_deploy_key(deployment['deployment_id'], 'Deployment API for Telco Churn', 7)"
   ]
  },
  {
   "cell_type": "markdown",
   "id": "23224654",
   "metadata": {},
   "source": [
    "3. **Generating Example Payload:**\n",
    "   An example payload for a deployment request is generated by `client.generate_example_deployment_payload`. This payload mimics the input data structure the model expects when making predictions."
   ]
  },
  {
   "cell_type": "code",
   "execution_count": 21,
   "id": "58b99aed",
   "metadata": {},
   "outputs": [],
   "source": [
    "#Set the option to highlight multiple ways of creating data\n",
    "option = 2"
   ]
  },
  {
   "cell_type": "code",
   "execution_count": 22,
   "id": "319cc84f",
   "metadata": {},
   "outputs": [],
   "source": [
    "if option == 1:\n",
    "    body = client.generate_example_deployment_payload(deployment['deployment_id'])\n",
    "else:\n",
    "    body = json.loads(df_transformed.drop(columns=[\"Churn Label\"]).sample(1).to_json(orient=\"records\"))\n",
    "    body[0][\"Gender\"] = None #<- Won't require this line the next release of xplainable"
   ]
  },
  {
   "cell_type": "code",
   "execution_count": 23,
   "id": "d7859827",
   "metadata": {},
   "outputs": [
    {
     "data": {
      "text/plain": [
       "[{'City': 'other',\n",
       "  'Gender': None,\n",
       "  'Senior Citizen': 'no',\n",
       "  'Partner': 'yes',\n",
       "  'Dependents': 'no',\n",
       "  'Tenure Months': 58,\n",
       "  'Phone Service': 'yes',\n",
       "  'Multiple Lines': 'yes',\n",
       "  'Internet Service': 'dsl',\n",
       "  'Online Security': 'yes',\n",
       "  'Online Backup': 'no',\n",
       "  'Device Protection': 'yes',\n",
       "  'Tech Support': 'yes',\n",
       "  'Streaming TV': 'yes',\n",
       "  'Streaming Movies': 'yes',\n",
       "  'Contract': 'two year',\n",
       "  'Paperless Billing': 'yes',\n",
       "  'Payment Method': 'electronic check',\n",
       "  'Monthly Charges': 84.3}]"
      ]
     },
     "execution_count": 23,
     "metadata": {},
     "output_type": "execute_result"
    }
   ],
   "source": [
    "body"
   ]
  },
  {
   "cell_type": "markdown",
   "id": "3cc76f6b",
   "metadata": {},
   "source": [
    "4. **Making a Prediction Request:**\n",
    "   A POST request is made to the model's prediction endpoint with the example payload. The model processes the input data and returns a prediction response, which includes the predicted class (e.g., 'No' for no churn) and the prediction probabilities for each class."
   ]
  },
  {
   "cell_type": "code",
   "execution_count": 24,
   "id": "b56be646",
   "metadata": {},
   "outputs": [
    {
     "data": {
      "text/plain": [
       "[{'index': 0,\n",
       "  'id': None,\n",
       "  'partition': '__dataset__',\n",
       "  'score': 0.4124611343175905,\n",
       "  'proba': None,\n",
       "  'pred': 0,\n",
       "  'support': None,\n",
       "  'breakdown': [{'feature': 'base_value',\n",
       "    'value': None,\n",
       "    'score': 0.2602797795676134},\n",
       "   {'feature': 'City', 'value': 'other', 'score': 0.0},\n",
       "   {'feature': 'Gender', 'value': 'nan', 'score': 0.0},\n",
       "   {'feature': 'Senior Citizen', 'value': 'no', 'score': 0.0},\n",
       "   {'feature': 'Partner', 'value': 'yes', 'score': 0.0},\n",
       "   {'feature': 'Dependents', 'value': 'no', 'score': 0.0},\n",
       "   {'feature': 'Tenure Months', 'value': '58', 'score': -0.0939361638747209},\n",
       "   {'feature': 'Phone Service', 'value': 'yes', 'score': 0.0},\n",
       "   {'feature': 'Multiple Lines', 'value': 'yes', 'score': 0.0},\n",
       "   {'feature': 'Internet Service', 'value': 'dsl', 'score': 0.0},\n",
       "   {'feature': 'Online Security', 'value': 'yes', 'score': 0.0},\n",
       "   {'feature': 'Online Backup', 'value': 'no', 'score': 0.0},\n",
       "   {'feature': 'Device Protection', 'value': 'yes', 'score': 0.0},\n",
       "   {'feature': 'Tech Support', 'value': 'yes', 'score': 0.0},\n",
       "   {'feature': 'Streaming TV', 'value': 'yes', 'score': 0.0},\n",
       "   {'feature': 'Streaming Movies', 'value': 'yes', 'score': 0.0},\n",
       "   {'feature': 'Contract', 'value': 'two year', 'score': 0.0},\n",
       "   {'feature': 'Paperless Billing', 'value': 'yes', 'score': 0.0},\n",
       "   {'feature': 'Payment Method', 'value': 'electronic check', 'score': 0.0},\n",
       "   {'feature': 'Monthly Charges',\n",
       "    'value': '84.3',\n",
       "    'score': 0.24611751862469802}]}]"
      ]
     },
     "execution_count": 24,
     "metadata": {},
     "output_type": "execute_result"
    }
   ],
   "source": [
    "response = requests.post(\n",
    "    url=\"https://inference.xplainable.io/v1/predict\",\n",
    "    headers={'api_key': deploy_key['deploy_key']},\n",
    "    json=body\n",
    ")\n",
    "\n",
    "value = response.json()\n",
    "value"
   ]
  },
  {
   "cell_type": "code",
   "execution_count": 2,
   "id": "434dde41",
   "metadata": {},
   "outputs": [],
   "source": [
    "value = [{'index': 0,\n",
    "  'id': None,\n",
    "  'partition': '__dataset__',\n",
    "  'score': 0.4124611343175905,\n",
    "  'proba': None,\n",
    "  'pred': 0,\n",
    "  'support': None,\n",
    "  'breakdown': [{'feature': 'base_value',\n",
    "    'value': None,\n",
    "    'score': 0.2602797795676134},\n",
    "   {'feature': 'City', 'value': 'other', 'score': 0.0},\n",
    "   {'feature': 'Gender', 'value': 'nan', 'score': 0.0},\n",
    "   {'feature': 'Senior Citizen', 'value': 'no', 'score': 0.0},\n",
    "   {'feature': 'Partner', 'value': 'yes', 'score': 0.0},\n",
    "   {'feature': 'Dependents', 'value': 'no', 'score': 0.0},\n",
    "   {'feature': 'Tenure Months', 'value': '58', 'score': -0.0939361638747209},\n",
    "   {'feature': 'Phone Service', 'value': 'yes', 'score': 0.0},\n",
    "   {'feature': 'Multiple Lines', 'value': 'yes', 'score': 0.0},\n",
    "   {'feature': 'Internet Service', 'value': 'dsl', 'score': 0.0},\n",
    "   {'feature': 'Online Security', 'value': 'yes', 'score': 0.0},\n",
    "   {'feature': 'Online Backup', 'value': 'no', 'score': 0.0},\n",
    "   {'feature': 'Device Protection', 'value': 'yes', 'score': 0.0},\n",
    "   {'feature': 'Tech Support', 'value': 'yes', 'score': 0.0},\n",
    "   {'feature': 'Streaming TV', 'value': 'yes', 'score': 0.0},\n",
    "   {'feature': 'Streaming Movies', 'value': 'yes', 'score': 0.0},\n",
    "   {'feature': 'Contract', 'value': 'two year', 'score': 0.0},\n",
    "   {'feature': 'Paperless Billing', 'value': 'yes', 'score': 0.0},\n",
    "   {'feature': 'Payment Method', 'value': 'electronic check', 'score': 0.0},\n",
    "   {'feature': 'Monthly Charges',\n",
    "    'value': '84.3',\n",
    "    'score': 0.24611751862469802}]}]"
   ]
  },
  {
   "cell_type": "code",
   "execution_count": null,
   "id": "decbefc6",
   "metadata": {},
   "outputs": [
    {
     "data": {
      "image/png": "[encoded data removed]",
      "text/plain": [
       "<Figure size 1000x800 with 1 Axes>"
      ]
     },
     "metadata": {},
     "output_type": "display_data"
    }
   ],
   "source": [
    "# Use your API response data (the 'value' variable from your screenshot)\n",
    "fig = create_waterfall_plot(value, title=\"Telco Churn Prediction Breakdown\")"
   ]
  },
  {
   "cell_type": "markdown",
   "id": "fcb9a408",
   "metadata": {},
   "source": [
    "## SaaS Deployment Info\n",
    "The SaaS application interface displayed above mirrors the operations performed programmatically in the earlier steps. It displays a dashboard for managing the 'Telco Customer Churn' model, facilitating a range of actions from deployment to testing, all within a user-friendly web interface. This makes it accessible even to non-technical users who prefer to manage model deployments and monitor performance through a graphical interface rather than code. Features like the deployment checklist, example payload, and prediction response are all integrated into the application, ensuring that users have full control and visibility over the deployment lifecycle and model interactions."
   ]
  },
  {
   "cell_type": "markdown",
   "id": "d2273ddb",
   "metadata": {},
   "source": [
    "![Model Image](https://xplainable-public-storage.syd1.digitaloceanspaces.com/documentation_content/deployment_info.png)\n",
    "\n"
   ]
  },
  {
   "cell_type": "markdown",
   "id": "75ef5763",
   "metadata": {},
   "source": [
    "## 7. Batch Optimisation (Beta)\n",
    "The concept of Batch Optimization within the Xplainable platform represents a significant leap forward from traditional machine learning approaches. Moving away from the prediction -> monitor model approach, this feature offers a dynamic and cost-effective utilisation of model insights.\n",
    "\n",
    "This optimisation approach allows for the association of monetary costs with various predictive scores. It provides a detailed understanding of the financial impact of different predictive outcomes. For example, within our Telco model, the choice to provide tech support carries a different cost implication than opting against it, influencing the decision-making process.\n",
    "\n",
    "Features may be fixed or adjustable to align with business requirements. Certain attributes like 'Senior Citizen', 'Tenure', and 'Monthly Charges' may be set due to regulatory standards or business limitations, ensuring that optimisation adheres to these rules.\n",
    "\n",
    "Conversely, features such as 'Streaming Movies' or 'Device Protection' are modifiable, enabling the exploration of various combinations to discover the most cost-effective approach. The model could assess if altering the contract type for specific customer segments improves retention without markedly raising costs.\n",
    "\n",
    "Employing the Xplainable model's output in this manner allows organisations to extend past simple predictions to genuine cost optimisation, facilitating strategic decision-making that evaluates each recommended action not only for its impact on outcomes like churn but also for cost-efficiency. Thus, Xplainable's strategy provides businesses the capability to optimise their resources with foresight rarely seen in traditional machine learning.\n",
    "\n"
   ]
  }
 ],
 "metadata": {
  "kernelspec": {
   "display_name": "xplainable-jupyter",
   "language": "python",
   "name": "python3"
  },
  "language_info": {
   "codemirror_mode": {
    "name": "ipython",
    "version": 3
   },
   "file_extension": ".py",
   "mimetype": "text/x-python",
   "name": "python",
   "nbconvert_exporter": "python",
   "pygments_lexer": "ipython3",
   "version": "3.10.18"
  }
 },
 "nbformat": 4,
 "nbformat_minor": 5
}
