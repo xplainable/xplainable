{
 "cells": [
  {
   "cell_type": "markdown",
   "id": "fa5cc1d8",
   "metadata": {},
   "source": [
    "# Lead Scoring Prediction"
   ]
  },
  {
   "cell_type": "markdown",
   "id": "64fdb913",
   "metadata": {},
   "source": [
    "An education company named X Education sells online courses to industry professionals. On any given day, many professionals who are interested in the courses land on their website and browse for courses.\n",
    "\n",
    "The company markets its courses on several websites and search engines like Google. Once these people land on the website, they might browse the courses or fill up a form for the course or watch some videos. When these people fill up a form providing their email address or phone number, they are classified to be a lead. Moreover, the company also gets leads through past referrals. Once these leads are acquired, employees from the sales team start making calls, writing emails, etc. Through this process, some of the leads get converted while most do not. The typical lead conversion rate at X education is around 30%.\n",
    "\n",
    "Now, although X Education gets a lot of leads, its lead conversion rate is very poor. For example, if, say, they acquire 100 leads in a day, only about 30 of them are converted. To make this process more efficient, the company wishes to identify the most potential leads, also known as ‘Hot Leads’. If they successfully identify this set of leads, the lead conversion rate should go up as the sales team will now be focusing more on communicating with the potential leads rather than making calls to everyone.\n",
    "\n",
    "There are a lot of leads generated in the initial stage (top) but only a few of them come out as paying customers from the bottom. In the middle stage, you need to nurture the potential leads well (i.e. educating the leads about the product, constantly communicating, etc. ) in order to get a higher lead conversion.\n",
    "\n",
    "X Education wants to select the most promising leads, i.e. the leads that are most likely to convert into paying customers. The company requires you to build a model wherein you need to assign a lead score to each of the leads such that the customers with higher lead score h have a higher conversion chance and the customers with lower lead score have a lower conversion chance. The CEO, in particular, has given a ballpark of the target lead conversion rate to be around 80%.\n",
    "\n",
    "**Note**: The overview is taken directly from Kaggle: https://www.kaggle.com/datasets/amritachatterjee09/lead-scoring-dataset/data"
   ]
  },
  {
   "cell_type": "code",
   "execution_count": null,
   "id": "rgcme7a1lv",
   "metadata": {},
   "outputs": [],
   "source": [
    "!pip install xplainable\n",
    "!pip install xplainable-client"
   ]
  },
  {
   "cell_type": "markdown",
   "id": "8509e171",
   "metadata": {},
   "source": [
    "## Install Packages"
   ]
  },
  {
   "cell_type": "code",
   "execution_count": 3,
   "id": "bb018880",
   "metadata": {},
   "outputs": [
    {
     "name": "stdout",
     "output_type": "stream",
     "text": [
      "Requirement already satisfied: xplainable in /Users/jtuppack/miniforge3/envs/xplainable-api/lib/python3.10/site-packages (1.2.3)\n",
      "Requirement already satisfied: hyperopt>=0.2.7 in /Users/jtuppack/miniforge3/envs/xplainable-api/lib/python3.10/site-packages (from xplainable) (0.2.7)\n",
      "Requirement already satisfied: numba>=0.56.4 in /Users/jtuppack/miniforge3/envs/xplainable-api/lib/python3.10/site-packages (from xplainable) (0.60.0)\n",
      "Requirement already satisfied: numpy<=1.23.5,>=1.20.3 in /Users/jtuppack/miniforge3/envs/xplainable-api/lib/python3.10/site-packages (from xplainable) (1.23.5)\n",
      "Requirement already satisfied: pandas<=1.9.0,>=1.5.2 in /Users/jtuppack/miniforge3/envs/xplainable-api/lib/python3.10/site-packages (from xplainable) (1.5.3)\n",
      "Requirement already satisfied: pyperclip>=1.8.2 in /Users/jtuppack/miniforge3/envs/xplainable-api/lib/python3.10/site-packages (from xplainable) (1.9.0)\n",
      "Requirement already satisfied: scikit-learn>=1.2.2 in /Users/jtuppack/miniforge3/envs/xplainable-api/lib/python3.10/site-packages (from xplainable) (1.6.1)\n",
      "Requirement already satisfied: scipy>=1.6.2 in /Users/jtuppack/miniforge3/envs/xplainable-api/lib/python3.10/site-packages (from xplainable) (1.15.3)\n",
      "Requirement already satisfied: urllib3>=1.26.5 in /Users/jtuppack/miniforge3/envs/xplainable-api/lib/python3.10/site-packages (from xplainable) (2.4.0)\n",
      "Requirement already satisfied: psutil>=5.9.4 in /Users/jtuppack/miniforge3/envs/xplainable-api/lib/python3.10/site-packages (from xplainable) (7.0.0)\n",
      "Requirement already satisfied: joblib>=1.2.0 in /Users/jtuppack/miniforge3/envs/xplainable-api/lib/python3.10/site-packages (from xplainable) (1.5.1)\n",
      "Requirement already satisfied: networkx>=2.6.3 in /Users/jtuppack/miniforge3/envs/xplainable-api/lib/python3.10/site-packages (from xplainable) (3.4.2)\n",
      "Requirement already satisfied: tqdm>=4.62.3 in /Users/jtuppack/miniforge3/envs/xplainable-api/lib/python3.10/site-packages (from xplainable) (4.67.1)\n",
      "Requirement already satisfied: ipython in /Users/jtuppack/miniforge3/envs/xplainable-api/lib/python3.10/site-packages (from xplainable) (8.36.0)\n",
      "Requirement already satisfied: packaging in /Users/jtuppack/miniforge3/envs/xplainable-api/lib/python3.10/site-packages (from xplainable) (25.0)\n",
      "Requirement already satisfied: requests in /Users/jtuppack/miniforge3/envs/xplainable-api/lib/python3.10/site-packages (from xplainable) (2.32.3)\n",
      "Requirement already satisfied: python-dateutil>=2.8.1 in /Users/jtuppack/miniforge3/envs/xplainable-api/lib/python3.10/site-packages (from pandas<=1.9.0,>=1.5.2->xplainable) (2.9.0.post0)\n",
      "Requirement already satisfied: pytz>=2020.1 in /Users/jtuppack/miniforge3/envs/xplainable-api/lib/python3.10/site-packages (from pandas<=1.9.0,>=1.5.2->xplainable) (2025.2)\n",
      "Requirement already satisfied: six in /Users/jtuppack/miniforge3/envs/xplainable-api/lib/python3.10/site-packages (from hyperopt>=0.2.7->xplainable) (1.17.0)\n",
      "Requirement already satisfied: future in /Users/jtuppack/miniforge3/envs/xplainable-api/lib/python3.10/site-packages (from hyperopt>=0.2.7->xplainable) (1.0.0)\n",
      "Requirement already satisfied: cloudpickle in /Users/jtuppack/miniforge3/envs/xplainable-api/lib/python3.10/site-packages (from hyperopt>=0.2.7->xplainable) (3.1.1)\n",
      "Requirement already satisfied: py4j in /Users/jtuppack/miniforge3/envs/xplainable-api/lib/python3.10/site-packages (from hyperopt>=0.2.7->xplainable) (0.10.9.9)\n",
      "Requirement already satisfied: llvmlite<0.44,>=0.43.0dev0 in /Users/jtuppack/miniforge3/envs/xplainable-api/lib/python3.10/site-packages (from numba>=0.56.4->xplainable) (0.43.0)\n",
      "Requirement already satisfied: threadpoolctl>=3.1.0 in /Users/jtuppack/miniforge3/envs/xplainable-api/lib/python3.10/site-packages (from scikit-learn>=1.2.2->xplainable) (3.6.0)\n",
      "Requirement already satisfied: decorator in /Users/jtuppack/miniforge3/envs/xplainable-api/lib/python3.10/site-packages (from ipython->xplainable) (5.2.1)\n",
      "Requirement already satisfied: exceptiongroup in /Users/jtuppack/miniforge3/envs/xplainable-api/lib/python3.10/site-packages (from ipython->xplainable) (1.3.0)\n",
      "Requirement already satisfied: jedi>=0.16 in /Users/jtuppack/miniforge3/envs/xplainable-api/lib/python3.10/site-packages (from ipython->xplainable) (0.19.2)\n",
      "Requirement already satisfied: matplotlib-inline in /Users/jtuppack/miniforge3/envs/xplainable-api/lib/python3.10/site-packages (from ipython->xplainable) (0.1.7)\n",
      "Requirement already satisfied: pexpect>4.3 in /Users/jtuppack/miniforge3/envs/xplainable-api/lib/python3.10/site-packages (from ipython->xplainable) (4.9.0)\n",
      "Requirement already satisfied: prompt_toolkit<3.1.0,>=3.0.41 in /Users/jtuppack/miniforge3/envs/xplainable-api/lib/python3.10/site-packages (from ipython->xplainable) (3.0.51)\n",
      "Requirement already satisfied: pygments>=2.4.0 in /Users/jtuppack/miniforge3/envs/xplainable-api/lib/python3.10/site-packages (from ipython->xplainable) (2.19.1)\n",
      "Requirement already satisfied: stack_data in /Users/jtuppack/miniforge3/envs/xplainable-api/lib/python3.10/site-packages (from ipython->xplainable) (0.6.3)\n",
      "Requirement already satisfied: traitlets>=5.13.0 in /Users/jtuppack/miniforge3/envs/xplainable-api/lib/python3.10/site-packages (from ipython->xplainable) (5.14.3)\n",
      "Requirement already satisfied: typing_extensions>=4.6 in /Users/jtuppack/miniforge3/envs/xplainable-api/lib/python3.10/site-packages (from ipython->xplainable) (4.13.2)\n",
      "Requirement already satisfied: wcwidth in /Users/jtuppack/miniforge3/envs/xplainable-api/lib/python3.10/site-packages (from prompt_toolkit<3.1.0,>=3.0.41->ipython->xplainable) (0.2.13)\n",
      "Requirement already satisfied: parso<0.9.0,>=0.8.4 in /Users/jtuppack/miniforge3/envs/xplainable-api/lib/python3.10/site-packages (from jedi>=0.16->ipython->xplainable) (0.8.4)\n",
      "Requirement already satisfied: ptyprocess>=0.5 in /Users/jtuppack/miniforge3/envs/xplainable-api/lib/python3.10/site-packages (from pexpect>4.3->ipython->xplainable) (0.7.0)\n",
      "Requirement already satisfied: charset-normalizer<4,>=2 in /Users/jtuppack/miniforge3/envs/xplainable-api/lib/python3.10/site-packages (from requests->xplainable) (3.4.2)\n",
      "Requirement already satisfied: idna<4,>=2.5 in /Users/jtuppack/miniforge3/envs/xplainable-api/lib/python3.10/site-packages (from requests->xplainable) (3.10)\n",
      "Requirement already satisfied: certifi>=2017.4.17 in /Users/jtuppack/miniforge3/envs/xplainable-api/lib/python3.10/site-packages (from requests->xplainable) (2025.4.26)\n",
      "Requirement already satisfied: executing>=1.2.0 in /Users/jtuppack/miniforge3/envs/xplainable-api/lib/python3.10/site-packages (from stack_data->ipython->xplainable) (2.2.0)\n",
      "Requirement already satisfied: asttokens>=2.1.0 in /Users/jtuppack/miniforge3/envs/xplainable-api/lib/python3.10/site-packages (from stack_data->ipython->xplainable) (3.0.0)\n",
      "Requirement already satisfied: pure_eval in /Users/jtuppack/miniforge3/envs/xplainable-api/lib/python3.10/site-packages (from stack_data->ipython->xplainable) (0.2.3)\n",
      "Requirement already satisfied: altair==5.4.1 in /Users/jtuppack/miniforge3/envs/xplainable-api/lib/python3.10/site-packages (5.4.1)\n",
      "Requirement already satisfied: jinja2 in /Users/jtuppack/miniforge3/envs/xplainable-api/lib/python3.10/site-packages (from altair==5.4.1) (3.1.6)\n",
      "Requirement already satisfied: jsonschema>=3.0 in /Users/jtuppack/miniforge3/envs/xplainable-api/lib/python3.10/site-packages (from altair==5.4.1) (4.23.0)\n",
      "Requirement already satisfied: narwhals>=1.5.2 in /Users/jtuppack/miniforge3/envs/xplainable-api/lib/python3.10/site-packages (from altair==5.4.1) (1.40.0)\n",
      "Requirement already satisfied: packaging in /Users/jtuppack/miniforge3/envs/xplainable-api/lib/python3.10/site-packages (from altair==5.4.1) (25.0)\n",
      "Requirement already satisfied: typing-extensions>=4.10.0 in /Users/jtuppack/miniforge3/envs/xplainable-api/lib/python3.10/site-packages (from altair==5.4.1) (4.13.2)\n",
      "Requirement already satisfied: attrs>=22.2.0 in /Users/jtuppack/miniforge3/envs/xplainable-api/lib/python3.10/site-packages (from jsonschema>=3.0->altair==5.4.1) (25.3.0)\n",
      "Requirement already satisfied: jsonschema-specifications>=2023.03.6 in /Users/jtuppack/miniforge3/envs/xplainable-api/lib/python3.10/site-packages (from jsonschema>=3.0->altair==5.4.1) (2025.4.1)\n",
      "Requirement already satisfied: referencing>=0.28.4 in /Users/jtuppack/miniforge3/envs/xplainable-api/lib/python3.10/site-packages (from jsonschema>=3.0->altair==5.4.1) (0.36.2)\n",
      "Requirement already satisfied: rpds-py>=0.7.1 in /Users/jtuppack/miniforge3/envs/xplainable-api/lib/python3.10/site-packages (from jsonschema>=3.0->altair==5.4.1) (0.25.1)\n",
      "Requirement already satisfied: MarkupSafe>=2.0 in /Users/jtuppack/miniforge3/envs/xplainable-api/lib/python3.10/site-packages (from jinja2->altair==5.4.1) (3.0.2)\n",
      "Requirement already satisfied: xplainable-client in /Users/jtuppack/miniforge3/envs/xplainable-api/lib/python3.10/site-packages (1.2.6)\n",
      "Requirement already satisfied: ipywidgets in /Users/jtuppack/miniforge3/envs/xplainable-api/lib/python3.10/site-packages (from xplainable-client) (8.1.7)\n",
      "Requirement already satisfied: numpy in /Users/jtuppack/miniforge3/envs/xplainable-api/lib/python3.10/site-packages (from xplainable-client) (1.23.5)\n",
      "Requirement already satisfied: pandas>=1.5.2 in /Users/jtuppack/miniforge3/envs/xplainable-api/lib/python3.10/site-packages (from xplainable-client) (1.5.3)\n",
      "Requirement already satisfied: pyperclip in /Users/jtuppack/miniforge3/envs/xplainable-api/lib/python3.10/site-packages (from xplainable-client) (1.9.0)\n",
      "Requirement already satisfied: Requests in /Users/jtuppack/miniforge3/envs/xplainable-api/lib/python3.10/site-packages (from xplainable-client) (2.32.3)\n",
      "Requirement already satisfied: scikit_learn in /Users/jtuppack/miniforge3/envs/xplainable-api/lib/python3.10/site-packages (from xplainable-client) (1.6.1)\n",
      "Requirement already satisfied: setuptools>=65.5.1 in /Users/jtuppack/miniforge3/envs/xplainable-api/lib/python3.10/site-packages (from xplainable-client) (80.8.0)\n",
      "Requirement already satisfied: urllib3 in /Users/jtuppack/miniforge3/envs/xplainable-api/lib/python3.10/site-packages (from xplainable-client) (2.4.0)\n",
      "Requirement already satisfied: xplainable==1.2.3 in /Users/jtuppack/miniforge3/envs/xplainable-api/lib/python3.10/site-packages (from xplainable-client) (1.2.3)\n",
      "Requirement already satisfied: hyperopt>=0.2.7 in /Users/jtuppack/miniforge3/envs/xplainable-api/lib/python3.10/site-packages (from xplainable==1.2.3->xplainable-client) (0.2.7)\n",
      "Requirement already satisfied: numba>=0.56.4 in /Users/jtuppack/miniforge3/envs/xplainable-api/lib/python3.10/site-packages (from xplainable==1.2.3->xplainable-client) (0.60.0)\n",
      "Requirement already satisfied: scipy>=1.6.2 in /Users/jtuppack/miniforge3/envs/xplainable-api/lib/python3.10/site-packages (from xplainable==1.2.3->xplainable-client) (1.15.3)\n",
      "Requirement already satisfied: psutil>=5.9.4 in /Users/jtuppack/miniforge3/envs/xplainable-api/lib/python3.10/site-packages (from xplainable==1.2.3->xplainable-client) (7.0.0)\n",
      "Requirement already satisfied: joblib>=1.2.0 in /Users/jtuppack/miniforge3/envs/xplainable-api/lib/python3.10/site-packages (from xplainable==1.2.3->xplainable-client) (1.5.1)\n",
      "Requirement already satisfied: networkx>=2.6.3 in /Users/jtuppack/miniforge3/envs/xplainable-api/lib/python3.10/site-packages (from xplainable==1.2.3->xplainable-client) (3.4.2)\n",
      "Requirement already satisfied: tqdm>=4.62.3 in /Users/jtuppack/miniforge3/envs/xplainable-api/lib/python3.10/site-packages (from xplainable==1.2.3->xplainable-client) (4.67.1)\n",
      "Requirement already satisfied: ipython in /Users/jtuppack/miniforge3/envs/xplainable-api/lib/python3.10/site-packages (from xplainable==1.2.3->xplainable-client) (8.36.0)\n",
      "Requirement already satisfied: packaging in /Users/jtuppack/miniforge3/envs/xplainable-api/lib/python3.10/site-packages (from xplainable==1.2.3->xplainable-client) (25.0)\n",
      "Requirement already satisfied: python-dateutil>=2.8.1 in /Users/jtuppack/miniforge3/envs/xplainable-api/lib/python3.10/site-packages (from pandas>=1.5.2->xplainable-client) (2.9.0.post0)\n",
      "Requirement already satisfied: pytz>=2020.1 in /Users/jtuppack/miniforge3/envs/xplainable-api/lib/python3.10/site-packages (from pandas>=1.5.2->xplainable-client) (2025.2)\n",
      "Requirement already satisfied: six in /Users/jtuppack/miniforge3/envs/xplainable-api/lib/python3.10/site-packages (from hyperopt>=0.2.7->xplainable==1.2.3->xplainable-client) (1.17.0)\n",
      "Requirement already satisfied: future in /Users/jtuppack/miniforge3/envs/xplainable-api/lib/python3.10/site-packages (from hyperopt>=0.2.7->xplainable==1.2.3->xplainable-client) (1.0.0)\n",
      "Requirement already satisfied: cloudpickle in /Users/jtuppack/miniforge3/envs/xplainable-api/lib/python3.10/site-packages (from hyperopt>=0.2.7->xplainable==1.2.3->xplainable-client) (3.1.1)\n",
      "Requirement already satisfied: py4j in /Users/jtuppack/miniforge3/envs/xplainable-api/lib/python3.10/site-packages (from hyperopt>=0.2.7->xplainable==1.2.3->xplainable-client) (0.10.9.9)\n",
      "Requirement already satisfied: llvmlite<0.44,>=0.43.0dev0 in /Users/jtuppack/miniforge3/envs/xplainable-api/lib/python3.10/site-packages (from numba>=0.56.4->xplainable==1.2.3->xplainable-client) (0.43.0)\n",
      "Requirement already satisfied: threadpoolctl>=3.1.0 in /Users/jtuppack/miniforge3/envs/xplainable-api/lib/python3.10/site-packages (from scikit_learn->xplainable-client) (3.6.0)\n",
      "Requirement already satisfied: decorator in /Users/jtuppack/miniforge3/envs/xplainable-api/lib/python3.10/site-packages (from ipython->xplainable==1.2.3->xplainable-client) (5.2.1)\n",
      "Requirement already satisfied: exceptiongroup in /Users/jtuppack/miniforge3/envs/xplainable-api/lib/python3.10/site-packages (from ipython->xplainable==1.2.3->xplainable-client) (1.3.0)\n",
      "Requirement already satisfied: jedi>=0.16 in /Users/jtuppack/miniforge3/envs/xplainable-api/lib/python3.10/site-packages (from ipython->xplainable==1.2.3->xplainable-client) (0.19.2)\n",
      "Requirement already satisfied: matplotlib-inline in /Users/jtuppack/miniforge3/envs/xplainable-api/lib/python3.10/site-packages (from ipython->xplainable==1.2.3->xplainable-client) (0.1.7)\n",
      "Requirement already satisfied: pexpect>4.3 in /Users/jtuppack/miniforge3/envs/xplainable-api/lib/python3.10/site-packages (from ipython->xplainable==1.2.3->xplainable-client) (4.9.0)\n",
      "Requirement already satisfied: prompt_toolkit<3.1.0,>=3.0.41 in /Users/jtuppack/miniforge3/envs/xplainable-api/lib/python3.10/site-packages (from ipython->xplainable==1.2.3->xplainable-client) (3.0.51)\n",
      "Requirement already satisfied: pygments>=2.4.0 in /Users/jtuppack/miniforge3/envs/xplainable-api/lib/python3.10/site-packages (from ipython->xplainable==1.2.3->xplainable-client) (2.19.1)\n",
      "Requirement already satisfied: stack_data in /Users/jtuppack/miniforge3/envs/xplainable-api/lib/python3.10/site-packages (from ipython->xplainable==1.2.3->xplainable-client) (0.6.3)\n",
      "Requirement already satisfied: traitlets>=5.13.0 in /Users/jtuppack/miniforge3/envs/xplainable-api/lib/python3.10/site-packages (from ipython->xplainable==1.2.3->xplainable-client) (5.14.3)\n",
      "Requirement already satisfied: typing_extensions>=4.6 in /Users/jtuppack/miniforge3/envs/xplainable-api/lib/python3.10/site-packages (from ipython->xplainable==1.2.3->xplainable-client) (4.13.2)\n",
      "Requirement already satisfied: wcwidth in /Users/jtuppack/miniforge3/envs/xplainable-api/lib/python3.10/site-packages (from prompt_toolkit<3.1.0,>=3.0.41->ipython->xplainable==1.2.3->xplainable-client) (0.2.13)\n",
      "Requirement already satisfied: parso<0.9.0,>=0.8.4 in /Users/jtuppack/miniforge3/envs/xplainable-api/lib/python3.10/site-packages (from jedi>=0.16->ipython->xplainable==1.2.3->xplainable-client) (0.8.4)\n",
      "Requirement already satisfied: ptyprocess>=0.5 in /Users/jtuppack/miniforge3/envs/xplainable-api/lib/python3.10/site-packages (from pexpect>4.3->ipython->xplainable==1.2.3->xplainable-client) (0.7.0)\n",
      "Requirement already satisfied: comm>=0.1.3 in /Users/jtuppack/miniforge3/envs/xplainable-api/lib/python3.10/site-packages (from ipywidgets->xplainable-client) (0.2.2)\n",
      "Requirement already satisfied: widgetsnbextension~=4.0.14 in /Users/jtuppack/miniforge3/envs/xplainable-api/lib/python3.10/site-packages (from ipywidgets->xplainable-client) (4.0.14)\n",
      "Requirement already satisfied: jupyterlab_widgets~=3.0.15 in /Users/jtuppack/miniforge3/envs/xplainable-api/lib/python3.10/site-packages (from ipywidgets->xplainable-client) (3.0.15)\n",
      "Requirement already satisfied: charset-normalizer<4,>=2 in /Users/jtuppack/miniforge3/envs/xplainable-api/lib/python3.10/site-packages (from Requests->xplainable-client) (3.4.2)\n",
      "Requirement already satisfied: idna<4,>=2.5 in /Users/jtuppack/miniforge3/envs/xplainable-api/lib/python3.10/site-packages (from Requests->xplainable-client) (3.10)\n",
      "Requirement already satisfied: certifi>=2017.4.17 in /Users/jtuppack/miniforge3/envs/xplainable-api/lib/python3.10/site-packages (from Requests->xplainable-client) (2025.4.26)\n",
      "Requirement already satisfied: executing>=1.2.0 in /Users/jtuppack/miniforge3/envs/xplainable-api/lib/python3.10/site-packages (from stack_data->ipython->xplainable==1.2.3->xplainable-client) (2.2.0)\n",
      "Requirement already satisfied: asttokens>=2.1.0 in /Users/jtuppack/miniforge3/envs/xplainable-api/lib/python3.10/site-packages (from stack_data->ipython->xplainable==1.2.3->xplainable-client) (3.0.0)\n",
      "Requirement already satisfied: pure_eval in /Users/jtuppack/miniforge3/envs/xplainable-api/lib/python3.10/site-packages (from stack_data->ipython->xplainable==1.2.3->xplainable-client) (0.2.3)\n",
      "Collecting kaggle\n",
      "  Using cached kaggle-1.7.4.5-py3-none-any.whl.metadata (16 kB)\n",
      "Requirement already satisfied: bleach in /Users/jtuppack/miniforge3/envs/xplainable-api/lib/python3.10/site-packages (from kaggle) (6.2.0)\n",
      "Requirement already satisfied: certifi>=14.05.14 in /Users/jtuppack/miniforge3/envs/xplainable-api/lib/python3.10/site-packages (from kaggle) (2025.4.26)\n",
      "Requirement already satisfied: charset-normalizer in /Users/jtuppack/miniforge3/envs/xplainable-api/lib/python3.10/site-packages (from kaggle) (3.4.2)\n",
      "Requirement already satisfied: idna in /Users/jtuppack/miniforge3/envs/xplainable-api/lib/python3.10/site-packages (from kaggle) (3.10)\n",
      "Collecting protobuf (from kaggle)\n",
      "  Downloading protobuf-6.31.1-cp39-abi3-macosx_10_9_universal2.whl.metadata (593 bytes)\n",
      "Requirement already satisfied: python-dateutil>=2.5.3 in /Users/jtuppack/miniforge3/envs/xplainable-api/lib/python3.10/site-packages (from kaggle) (2.9.0.post0)\n",
      "Collecting python-slugify (from kaggle)\n",
      "  Using cached python_slugify-8.0.4-py2.py3-none-any.whl.metadata (8.5 kB)\n",
      "Requirement already satisfied: requests in /Users/jtuppack/miniforge3/envs/xplainable-api/lib/python3.10/site-packages (from kaggle) (2.32.3)\n",
      "Requirement already satisfied: setuptools>=21.0.0 in /Users/jtuppack/miniforge3/envs/xplainable-api/lib/python3.10/site-packages (from kaggle) (80.8.0)\n",
      "Requirement already satisfied: six>=1.10 in /Users/jtuppack/miniforge3/envs/xplainable-api/lib/python3.10/site-packages (from kaggle) (1.17.0)\n",
      "Collecting text-unidecode (from kaggle)\n",
      "  Using cached text_unidecode-1.3-py2.py3-none-any.whl.metadata (2.4 kB)\n",
      "Requirement already satisfied: tqdm in /Users/jtuppack/miniforge3/envs/xplainable-api/lib/python3.10/site-packages (from kaggle) (4.67.1)\n",
      "Requirement already satisfied: urllib3>=1.15.1 in /Users/jtuppack/miniforge3/envs/xplainable-api/lib/python3.10/site-packages (from kaggle) (2.4.0)\n",
      "Requirement already satisfied: webencodings in /Users/jtuppack/miniforge3/envs/xplainable-api/lib/python3.10/site-packages (from kaggle) (0.5.1)\n",
      "Downloading kaggle-1.7.4.5-py3-none-any.whl (181 kB)\n",
      "Downloading protobuf-6.31.1-cp39-abi3-macosx_10_9_universal2.whl (425 kB)\n",
      "Using cached python_slugify-8.0.4-py2.py3-none-any.whl (10 kB)\n",
      "Using cached text_unidecode-1.3-py2.py3-none-any.whl (78 kB)\n",
      "Installing collected packages: text-unidecode, python-slugify, protobuf, kaggle\n",
      "\u001b[2K   \u001b[90m━━━━━━━━━━━━━━━━━━━━━━━━━━━━━━━━━━━━━━━━\u001b[0m \u001b[32m4/4\u001b[0m [kaggle]2m3/4\u001b[0m [kaggle]\n",
      "\u001b[1A\u001b[2KSuccessfully installed kaggle-1.7.4.5 protobuf-6.31.1 python-slugify-8.0.4 text-unidecode-1.3\n"
     ]
    }
   ],
   "source": [
    "!pip install xplainable\n",
    "!pip install altair==5.4.1 #Upgrade this to work in Google Colab\n",
    "!pip install xplainable-client\n",
    "!pip install kaggle"
   ]
  },
  {
   "cell_type": "markdown",
   "id": "935ce6d1",
   "metadata": {},
   "source": [
    "## Package Imports"
   ]
  },
  {
   "cell_type": "code",
   "execution_count": 4,
   "id": "a92f2053",
   "metadata": {},
   "outputs": [],
   "source": [
    "import pandas as pd\n",
    "from sklearn.model_selection import train_test_split\n",
    "import requests\n",
    "import json\n",
    "\n",
    "import xplainable as xp\n",
    "from xplainable.core.models import XClassifier\n",
    "from xplainable.core.optimisation.bayesian import XParamOptimiser\n",
    "from xplainable.preprocessing.pipeline import XPipeline\n",
    "from xplainable.preprocessing import transformers as xtf\n",
    "\n",
    "import xplainable_client"
   ]
  },
  {
   "cell_type": "markdown",
   "id": "0429f4ed",
   "metadata": {},
   "source": [
    "## Instantiate Xplainable Cloud\n",
    "\n",
    "Initialise the xplainable cloud using an API key from:\n",
    "https://platform.xplainable.io/\n",
    "\n",
    "This allows you to save and collaborate on models, create deployments, create shareable reports with a free trial of 14 days."
   ]
  },
  {
   "cell_type": "code",
   "execution_count": null,
   "id": "86831221",
   "metadata": {},
   "outputs": [],
   "source": [
    "# Initialize Xplainable Cloud client\n",
    "client = xplainable_client.Client(\n",
    "    api_key=\"\", #Create api key in xplainable cloud - https://platform.xplainable.io/\n",
    ")"
   ]
  },
  {
   "cell_type": "markdown",
   "id": "5d23d171",
   "metadata": {},
   "source": [
    "## Read Lead Scoring Dataset"
   ]
  },
  {
   "cell_type": "markdown",
   "id": "db93d3db",
   "metadata": {},
   "source": [
    "**Note**: You can download the dataset to run this notebook from https://www.kaggle.com/datasets/amritachatterjee09/lead-scoring-dataset."
   ]
  },
  {
   "cell_type": "code",
   "execution_count": 5,
   "id": "ff39f4f3",
   "metadata": {},
   "outputs": [
    {
     "name": "stderr",
     "output_type": "stream",
     "text": [
      "/var/folders/jf/r9n3ygln3t95z_nyt_3dz8bh0000gn/T/ipykernel_22355/4215568484.py:1: DtypeWarning: Columns (13,39,40,41) have mixed types. Specify dtype option on import or set low_memory=False.\n",
      "  df = pd.read_csv('https://xplainable-public-storage.syd1.digitaloceanspaces.com/example_data/TrainAndValid.csv')\n"
     ]
    }
   ],
   "source": [
    "df = pd.read_csv('https://xplainable-public-storage.syd1.digitaloceanspaces.com/example_data/TrainAndValid.csv')"
   ]
  },
  {
   "cell_type": "markdown",
   "id": "fc374a7d",
   "metadata": {},
   "source": [
    "### Sample of the Lead Scoring Dataset"
   ]
  },
  {
   "cell_type": "code",
   "execution_count": 4,
   "id": "205c3e7a",
   "metadata": {},
   "outputs": [
    {
     "data": {
      "text/html": [
       "<div>\n",
       "<style scoped>\n",
       "    .dataframe tbody tr th:only-of-type {\n",
       "        vertical-align: middle;\n",
       "    }\n",
       "\n",
       "    .dataframe tbody tr th {\n",
       "        vertical-align: top;\n",
       "    }\n",
       "\n",
       "    .dataframe thead th {\n",
       "        text-align: right;\n",
       "    }\n",
       "</style>\n",
       "<table border=\"1\" class=\"dataframe\">\n",
       "  <thead>\n",
       "    <tr style=\"text-align: right;\">\n",
       "      <th></th>\n",
       "      <th>Prospect ID</th>\n",
       "      <th>Lead Number</th>\n",
       "      <th>Lead Origin</th>\n",
       "      <th>Lead Source</th>\n",
       "      <th>Do Not Email</th>\n",
       "      <th>Do Not Call</th>\n",
       "      <th>Converted</th>\n",
       "      <th>TotalVisits</th>\n",
       "      <th>Total Time Spent on Website</th>\n",
       "      <th>Page Views Per Visit</th>\n",
       "      <th>...</th>\n",
       "      <th>Get updates on DM Content</th>\n",
       "      <th>Lead Profile</th>\n",
       "      <th>City</th>\n",
       "      <th>Asymmetrique Activity Index</th>\n",
       "      <th>Asymmetrique Profile Index</th>\n",
       "      <th>Asymmetrique Activity Score</th>\n",
       "      <th>Asymmetrique Profile Score</th>\n",
       "      <th>I agree to pay the amount through cheque</th>\n",
       "      <th>A free copy of Mastering The Interview</th>\n",
       "      <th>Last Notable Activity</th>\n",
       "    </tr>\n",
       "  </thead>\n",
       "  <tbody>\n",
       "    <tr>\n",
       "      <th>0</th>\n",
       "      <td>7927b2df-8bba-4d29-b9a2-b6e0beafe620</td>\n",
       "      <td>660737</td>\n",
       "      <td>API</td>\n",
       "      <td>Olark Chat</td>\n",
       "      <td>No</td>\n",
       "      <td>No</td>\n",
       "      <td>0</td>\n",
       "      <td>0.0</td>\n",
       "      <td>0</td>\n",
       "      <td>0.0</td>\n",
       "      <td>...</td>\n",
       "      <td>No</td>\n",
       "      <td>Select</td>\n",
       "      <td>Select</td>\n",
       "      <td>02.Medium</td>\n",
       "      <td>02.Medium</td>\n",
       "      <td>15.0</td>\n",
       "      <td>15.0</td>\n",
       "      <td>No</td>\n",
       "      <td>No</td>\n",
       "      <td>Modified</td>\n",
       "    </tr>\n",
       "    <tr>\n",
       "      <th>1</th>\n",
       "      <td>2a272436-5132-4136-86fa-dcc88c88f482</td>\n",
       "      <td>660728</td>\n",
       "      <td>API</td>\n",
       "      <td>Organic Search</td>\n",
       "      <td>No</td>\n",
       "      <td>No</td>\n",
       "      <td>0</td>\n",
       "      <td>5.0</td>\n",
       "      <td>674</td>\n",
       "      <td>2.5</td>\n",
       "      <td>...</td>\n",
       "      <td>No</td>\n",
       "      <td>Select</td>\n",
       "      <td>Select</td>\n",
       "      <td>02.Medium</td>\n",
       "      <td>02.Medium</td>\n",
       "      <td>15.0</td>\n",
       "      <td>15.0</td>\n",
       "      <td>No</td>\n",
       "      <td>No</td>\n",
       "      <td>Email Opened</td>\n",
       "    </tr>\n",
       "    <tr>\n",
       "      <th>2</th>\n",
       "      <td>8cc8c611-a219-4f35-ad23-fdfd2656bd8a</td>\n",
       "      <td>660727</td>\n",
       "      <td>Landing Page Submission</td>\n",
       "      <td>Direct Traffic</td>\n",
       "      <td>No</td>\n",
       "      <td>No</td>\n",
       "      <td>1</td>\n",
       "      <td>2.0</td>\n",
       "      <td>1532</td>\n",
       "      <td>2.0</td>\n",
       "      <td>...</td>\n",
       "      <td>No</td>\n",
       "      <td>Potential Lead</td>\n",
       "      <td>Mumbai</td>\n",
       "      <td>02.Medium</td>\n",
       "      <td>01.High</td>\n",
       "      <td>14.0</td>\n",
       "      <td>20.0</td>\n",
       "      <td>No</td>\n",
       "      <td>Yes</td>\n",
       "      <td>Email Opened</td>\n",
       "    </tr>\n",
       "    <tr>\n",
       "      <th>3</th>\n",
       "      <td>0cc2df48-7cf4-4e39-9de9-19797f9b38cc</td>\n",
       "      <td>660719</td>\n",
       "      <td>Landing Page Submission</td>\n",
       "      <td>Direct Traffic</td>\n",
       "      <td>No</td>\n",
       "      <td>No</td>\n",
       "      <td>0</td>\n",
       "      <td>1.0</td>\n",
       "      <td>305</td>\n",
       "      <td>1.0</td>\n",
       "      <td>...</td>\n",
       "      <td>No</td>\n",
       "      <td>Select</td>\n",
       "      <td>Mumbai</td>\n",
       "      <td>02.Medium</td>\n",
       "      <td>01.High</td>\n",
       "      <td>13.0</td>\n",
       "      <td>17.0</td>\n",
       "      <td>No</td>\n",
       "      <td>No</td>\n",
       "      <td>Modified</td>\n",
       "    </tr>\n",
       "    <tr>\n",
       "      <th>4</th>\n",
       "      <td>3256f628-e534-4826-9d63-4a8b88782852</td>\n",
       "      <td>660681</td>\n",
       "      <td>Landing Page Submission</td>\n",
       "      <td>Google</td>\n",
       "      <td>No</td>\n",
       "      <td>No</td>\n",
       "      <td>1</td>\n",
       "      <td>2.0</td>\n",
       "      <td>1428</td>\n",
       "      <td>1.0</td>\n",
       "      <td>...</td>\n",
       "      <td>No</td>\n",
       "      <td>Select</td>\n",
       "      <td>Mumbai</td>\n",
       "      <td>02.Medium</td>\n",
       "      <td>01.High</td>\n",
       "      <td>15.0</td>\n",
       "      <td>18.0</td>\n",
       "      <td>No</td>\n",
       "      <td>No</td>\n",
       "      <td>Modified</td>\n",
       "    </tr>\n",
       "  </tbody>\n",
       "</table>\n",
       "<p>5 rows × 37 columns</p>\n",
       "</div>"
      ],
      "text/plain": [
       "                            Prospect ID  Lead Number              Lead Origin  \\\n",
       "0  7927b2df-8bba-4d29-b9a2-b6e0beafe620       660737                      API   \n",
       "1  2a272436-5132-4136-86fa-dcc88c88f482       660728                      API   \n",
       "2  8cc8c611-a219-4f35-ad23-fdfd2656bd8a       660727  Landing Page Submission   \n",
       "3  0cc2df48-7cf4-4e39-9de9-19797f9b38cc       660719  Landing Page Submission   \n",
       "4  3256f628-e534-4826-9d63-4a8b88782852       660681  Landing Page Submission   \n",
       "\n",
       "      Lead Source Do Not Email Do Not Call  Converted  TotalVisits  \\\n",
       "0      Olark Chat           No          No          0          0.0   \n",
       "1  Organic Search           No          No          0          5.0   \n",
       "2  Direct Traffic           No          No          1          2.0   \n",
       "3  Direct Traffic           No          No          0          1.0   \n",
       "4          Google           No          No          1          2.0   \n",
       "\n",
       "   Total Time Spent on Website  Page Views Per Visit  ...  \\\n",
       "0                            0                   0.0  ...   \n",
       "1                          674                   2.5  ...   \n",
       "2                         1532                   2.0  ...   \n",
       "3                          305                   1.0  ...   \n",
       "4                         1428                   1.0  ...   \n",
       "\n",
       "  Get updates on DM Content    Lead Profile    City  \\\n",
       "0                        No          Select  Select   \n",
       "1                        No          Select  Select   \n",
       "2                        No  Potential Lead  Mumbai   \n",
       "3                        No          Select  Mumbai   \n",
       "4                        No          Select  Mumbai   \n",
       "\n",
       "  Asymmetrique Activity Index Asymmetrique Profile Index  \\\n",
       "0                   02.Medium                  02.Medium   \n",
       "1                   02.Medium                  02.Medium   \n",
       "2                   02.Medium                    01.High   \n",
       "3                   02.Medium                    01.High   \n",
       "4                   02.Medium                    01.High   \n",
       "\n",
       "  Asymmetrique Activity Score Asymmetrique Profile Score  \\\n",
       "0                        15.0                       15.0   \n",
       "1                        15.0                       15.0   \n",
       "2                        14.0                       20.0   \n",
       "3                        13.0                       17.0   \n",
       "4                        15.0                       18.0   \n",
       "\n",
       "  I agree to pay the amount through cheque  \\\n",
       "0                                       No   \n",
       "1                                       No   \n",
       "2                                       No   \n",
       "3                                       No   \n",
       "4                                       No   \n",
       "\n",
       "  A free copy of Mastering The Interview Last Notable Activity  \n",
       "0                                     No              Modified  \n",
       "1                                     No          Email Opened  \n",
       "2                                    Yes          Email Opened  \n",
       "3                                     No              Modified  \n",
       "4                                     No              Modified  \n",
       "\n",
       "[5 rows x 37 columns]"
      ]
     },
     "execution_count": 4,
     "metadata": {},
     "output_type": "execute_result"
    }
   ],
   "source": [
    "df.head()"
   ]
  },
  {
   "cell_type": "markdown",
   "id": "ccf3a5eb",
   "metadata": {},
   "source": [
    "## 1. Data Preprocessing"
   ]
  },
  {
   "cell_type": "code",
   "execution_count": 5,
   "id": "28d00a38",
   "metadata": {},
   "outputs": [
    {
     "data": {
      "text/plain": [
       "<xplainable.preprocessing.pipeline.XPipeline at 0x28bd758d0>"
      ]
     },
     "execution_count": 5,
     "metadata": {},
     "output_type": "execute_result"
    }
   ],
   "source": [
    "#Instantiate a Pipeline\n",
    "pipeline = XPipeline()\n",
    "\n",
    "# Add stages for specific features\n",
    "pipeline.add_stages([\n",
    "    {\"feature\":\"Country\",\"transformer\": xtf.Condense(pct=0.5)}, #-> Automatically condense extremely long tail values, to check if latent information\n",
    "    {\"transformer\": xtf.DropCols(\n",
    "        columns=['Prospect ID', #-> Highly Cardinal, \n",
    "                 \"Lead Number\", #-> Reduce Multicollinearity between Tenure and Monthly Costs\n",
    "                ]\n",
    "    )},\n",
    "])"
   ]
  },
  {
   "cell_type": "markdown",
   "id": "21a9ec1e",
   "metadata": {},
   "source": [
    "### Preprocessed data"
   ]
  },
  {
   "cell_type": "code",
   "execution_count": 6,
   "id": "b8d1b32d",
   "metadata": {},
   "outputs": [
    {
     "data": {
      "text/html": [
       "<div>\n",
       "<style scoped>\n",
       "    .dataframe tbody tr th:only-of-type {\n",
       "        vertical-align: middle;\n",
       "    }\n",
       "\n",
       "    .dataframe tbody tr th {\n",
       "        vertical-align: top;\n",
       "    }\n",
       "\n",
       "    .dataframe thead th {\n",
       "        text-align: right;\n",
       "    }\n",
       "</style>\n",
       "<table border=\"1\" class=\"dataframe\">\n",
       "  <thead>\n",
       "    <tr style=\"text-align: right;\">\n",
       "      <th></th>\n",
       "      <th>Lead Origin</th>\n",
       "      <th>Lead Source</th>\n",
       "      <th>Do Not Email</th>\n",
       "      <th>Do Not Call</th>\n",
       "      <th>Converted</th>\n",
       "      <th>TotalVisits</th>\n",
       "      <th>Total Time Spent on Website</th>\n",
       "      <th>Page Views Per Visit</th>\n",
       "      <th>Last Activity</th>\n",
       "      <th>Country</th>\n",
       "      <th>...</th>\n",
       "      <th>Get updates on DM Content</th>\n",
       "      <th>Lead Profile</th>\n",
       "      <th>City</th>\n",
       "      <th>Asymmetrique Activity Index</th>\n",
       "      <th>Asymmetrique Profile Index</th>\n",
       "      <th>Asymmetrique Activity Score</th>\n",
       "      <th>Asymmetrique Profile Score</th>\n",
       "      <th>I agree to pay the amount through cheque</th>\n",
       "      <th>A free copy of Mastering The Interview</th>\n",
       "      <th>Last Notable Activity</th>\n",
       "    </tr>\n",
       "  </thead>\n",
       "  <tbody>\n",
       "    <tr>\n",
       "      <th>0</th>\n",
       "      <td>API</td>\n",
       "      <td>Olark Chat</td>\n",
       "      <td>No</td>\n",
       "      <td>No</td>\n",
       "      <td>0</td>\n",
       "      <td>0.0</td>\n",
       "      <td>0</td>\n",
       "      <td>0.0</td>\n",
       "      <td>Page Visited on Website</td>\n",
       "      <td>NaN</td>\n",
       "      <td>...</td>\n",
       "      <td>No</td>\n",
       "      <td>Select</td>\n",
       "      <td>Select</td>\n",
       "      <td>02.Medium</td>\n",
       "      <td>02.Medium</td>\n",
       "      <td>15.0</td>\n",
       "      <td>15.0</td>\n",
       "      <td>No</td>\n",
       "      <td>No</td>\n",
       "      <td>Modified</td>\n",
       "    </tr>\n",
       "    <tr>\n",
       "      <th>1</th>\n",
       "      <td>API</td>\n",
       "      <td>Organic Search</td>\n",
       "      <td>No</td>\n",
       "      <td>No</td>\n",
       "      <td>0</td>\n",
       "      <td>5.0</td>\n",
       "      <td>674</td>\n",
       "      <td>2.5</td>\n",
       "      <td>Email Opened</td>\n",
       "      <td>India</td>\n",
       "      <td>...</td>\n",
       "      <td>No</td>\n",
       "      <td>Select</td>\n",
       "      <td>Select</td>\n",
       "      <td>02.Medium</td>\n",
       "      <td>02.Medium</td>\n",
       "      <td>15.0</td>\n",
       "      <td>15.0</td>\n",
       "      <td>No</td>\n",
       "      <td>No</td>\n",
       "      <td>Email Opened</td>\n",
       "    </tr>\n",
       "    <tr>\n",
       "      <th>2</th>\n",
       "      <td>Landing Page Submission</td>\n",
       "      <td>Direct Traffic</td>\n",
       "      <td>No</td>\n",
       "      <td>No</td>\n",
       "      <td>1</td>\n",
       "      <td>2.0</td>\n",
       "      <td>1532</td>\n",
       "      <td>2.0</td>\n",
       "      <td>Email Opened</td>\n",
       "      <td>India</td>\n",
       "      <td>...</td>\n",
       "      <td>No</td>\n",
       "      <td>Potential Lead</td>\n",
       "      <td>Mumbai</td>\n",
       "      <td>02.Medium</td>\n",
       "      <td>01.High</td>\n",
       "      <td>14.0</td>\n",
       "      <td>20.0</td>\n",
       "      <td>No</td>\n",
       "      <td>Yes</td>\n",
       "      <td>Email Opened</td>\n",
       "    </tr>\n",
       "    <tr>\n",
       "      <th>3</th>\n",
       "      <td>Landing Page Submission</td>\n",
       "      <td>Direct Traffic</td>\n",
       "      <td>No</td>\n",
       "      <td>No</td>\n",
       "      <td>0</td>\n",
       "      <td>1.0</td>\n",
       "      <td>305</td>\n",
       "      <td>1.0</td>\n",
       "      <td>Unreachable</td>\n",
       "      <td>India</td>\n",
       "      <td>...</td>\n",
       "      <td>No</td>\n",
       "      <td>Select</td>\n",
       "      <td>Mumbai</td>\n",
       "      <td>02.Medium</td>\n",
       "      <td>01.High</td>\n",
       "      <td>13.0</td>\n",
       "      <td>17.0</td>\n",
       "      <td>No</td>\n",
       "      <td>No</td>\n",
       "      <td>Modified</td>\n",
       "    </tr>\n",
       "    <tr>\n",
       "      <th>4</th>\n",
       "      <td>Landing Page Submission</td>\n",
       "      <td>Google</td>\n",
       "      <td>No</td>\n",
       "      <td>No</td>\n",
       "      <td>1</td>\n",
       "      <td>2.0</td>\n",
       "      <td>1428</td>\n",
       "      <td>1.0</td>\n",
       "      <td>Converted to Lead</td>\n",
       "      <td>India</td>\n",
       "      <td>...</td>\n",
       "      <td>No</td>\n",
       "      <td>Select</td>\n",
       "      <td>Mumbai</td>\n",
       "      <td>02.Medium</td>\n",
       "      <td>01.High</td>\n",
       "      <td>15.0</td>\n",
       "      <td>18.0</td>\n",
       "      <td>No</td>\n",
       "      <td>No</td>\n",
       "      <td>Modified</td>\n",
       "    </tr>\n",
       "  </tbody>\n",
       "</table>\n",
       "<p>5 rows × 35 columns</p>\n",
       "</div>"
      ],
      "text/plain": [
       "               Lead Origin     Lead Source Do Not Email Do Not Call  \\\n",
       "0                      API      Olark Chat           No          No   \n",
       "1                      API  Organic Search           No          No   \n",
       "2  Landing Page Submission  Direct Traffic           No          No   \n",
       "3  Landing Page Submission  Direct Traffic           No          No   \n",
       "4  Landing Page Submission          Google           No          No   \n",
       "\n",
       "   Converted  TotalVisits  Total Time Spent on Website  Page Views Per Visit  \\\n",
       "0          0          0.0                            0                   0.0   \n",
       "1          0          5.0                          674                   2.5   \n",
       "2          1          2.0                         1532                   2.0   \n",
       "3          0          1.0                          305                   1.0   \n",
       "4          1          2.0                         1428                   1.0   \n",
       "\n",
       "             Last Activity Country  ... Get updates on DM Content  \\\n",
       "0  Page Visited on Website     NaN  ...                        No   \n",
       "1             Email Opened   India  ...                        No   \n",
       "2             Email Opened   India  ...                        No   \n",
       "3              Unreachable   India  ...                        No   \n",
       "4        Converted to Lead   India  ...                        No   \n",
       "\n",
       "     Lead Profile    City Asymmetrique Activity Index  \\\n",
       "0          Select  Select                   02.Medium   \n",
       "1          Select  Select                   02.Medium   \n",
       "2  Potential Lead  Mumbai                   02.Medium   \n",
       "3          Select  Mumbai                   02.Medium   \n",
       "4          Select  Mumbai                   02.Medium   \n",
       "\n",
       "  Asymmetrique Profile Index Asymmetrique Activity Score  \\\n",
       "0                  02.Medium                        15.0   \n",
       "1                  02.Medium                        15.0   \n",
       "2                    01.High                        14.0   \n",
       "3                    01.High                        13.0   \n",
       "4                    01.High                        15.0   \n",
       "\n",
       "  Asymmetrique Profile Score I agree to pay the amount through cheque  \\\n",
       "0                       15.0                                       No   \n",
       "1                       15.0                                       No   \n",
       "2                       20.0                                       No   \n",
       "3                       17.0                                       No   \n",
       "4                       18.0                                       No   \n",
       "\n",
       "  A free copy of Mastering The Interview Last Notable Activity  \n",
       "0                                     No              Modified  \n",
       "1                                     No          Email Opened  \n",
       "2                                    Yes          Email Opened  \n",
       "3                                     No              Modified  \n",
       "4                                     No              Modified  \n",
       "\n",
       "[5 rows x 35 columns]"
      ]
     },
     "execution_count": 6,
     "metadata": {},
     "output_type": "execute_result"
    }
   ],
   "source": [
    "df_transformed = pipeline.fit_transform(df)\n",
    "df_transformed.head()"
   ]
  },
  {
   "cell_type": "markdown",
   "id": "20586081",
   "metadata": {},
   "source": [
    "### Create Preprocessor ID to persist to Xplainable Cloud"
   ]
  },
  {
   "cell_type": "code",
   "execution_count": 7,
   "id": "7b56420c",
   "metadata": {},
   "outputs": [
    {
     "name": "stdout",
     "output_type": "stream",
     "text": [
      "<Response [200]>\n"
     ]
    }
   ],
   "source": [
    "preprocessor_id, version_id = client.create_preprocessor(\n",
    "    preprocessor_name=\"Lead Scoring Preprocessing 4\",\n",
    "    preprocessor_description=\"Predicting the Likelihood of a Lead Converting\",\n",
    "    pipeline=pipeline,\n",
    "    df=df\n",
    ")"
   ]
  },
  {
   "cell_type": "code",
   "execution_count": 8,
   "id": "82297d75",
   "metadata": {},
   "outputs": [
    {
     "data": {
      "text/plain": [
       "('ltFoyTkHympieMLs', 'RHVxWMtBMpG8Vmvd')"
      ]
     },
     "execution_count": 8,
     "metadata": {},
     "output_type": "execute_result"
    }
   ],
   "source": [
    "preprocessor_id, version_id"
   ]
  },
  {
   "cell_type": "markdown",
   "id": "3c2f9a1b",
   "metadata": {},
   "source": [
    "### Loading the Preprocessor steps\n",
    "Use the api to load pre-existing preprocessor steps from the xplainable cloud and transform data inplace."
   ]
  },
  {
   "cell_type": "code",
   "execution_count": 9,
   "id": "c757996b",
   "metadata": {},
   "outputs": [
    {
     "name": "stdout",
     "output_type": "stream",
     "text": [
      "<Response [200]>\n"
     ]
    }
   ],
   "source": [
    "pp_cloud = client.load_preprocessor(\n",
    "    preprocessor_id,\n",
    "    version_id\n",
    ")"
   ]
  },
  {
   "cell_type": "code",
   "execution_count": 10,
   "id": "d7ee43a3",
   "metadata": {},
   "outputs": [
    {
     "data": {
      "text/plain": [
       "[{'feature': 'Country',\n",
       "  'name': 'Condense',\n",
       "  'transformer': <xplainable.preprocessing.transformers.categorical.Condense at 0x28bd75870>},\n",
       " {'feature': '__dataset__',\n",
       "  'name': 'DropCols',\n",
       "  'transformer': <xplainable.preprocessing.transformers.dataset.DropCols at 0x28bd75990>}]"
      ]
     },
     "execution_count": 10,
     "metadata": {},
     "output_type": "execute_result"
    }
   ],
   "source": [
    "pp_cloud.stages"
   ]
  },
  {
   "cell_type": "code",
   "execution_count": 11,
   "id": "a348f2fb",
   "metadata": {},
   "outputs": [],
   "source": [
    "df_transformed_cloud = pp_cloud.transform(df)"
   ]
  },
  {
   "cell_type": "code",
   "execution_count": 12,
   "id": "64952fd9",
   "metadata": {},
   "outputs": [
    {
     "data": {
      "text/html": [
       "<div>\n",
       "<style scoped>\n",
       "    .dataframe tbody tr th:only-of-type {\n",
       "        vertical-align: middle;\n",
       "    }\n",
       "\n",
       "    .dataframe tbody tr th {\n",
       "        vertical-align: top;\n",
       "    }\n",
       "\n",
       "    .dataframe thead th {\n",
       "        text-align: right;\n",
       "    }\n",
       "</style>\n",
       "<table border=\"1\" class=\"dataframe\">\n",
       "  <thead>\n",
       "    <tr style=\"text-align: right;\">\n",
       "      <th></th>\n",
       "      <th>Lead Origin</th>\n",
       "      <th>Lead Source</th>\n",
       "      <th>Do Not Email</th>\n",
       "      <th>Do Not Call</th>\n",
       "      <th>Converted</th>\n",
       "      <th>TotalVisits</th>\n",
       "      <th>Total Time Spent on Website</th>\n",
       "      <th>Page Views Per Visit</th>\n",
       "      <th>Last Activity</th>\n",
       "      <th>Country</th>\n",
       "      <th>...</th>\n",
       "      <th>Get updates on DM Content</th>\n",
       "      <th>Lead Profile</th>\n",
       "      <th>City</th>\n",
       "      <th>Asymmetrique Activity Index</th>\n",
       "      <th>Asymmetrique Profile Index</th>\n",
       "      <th>Asymmetrique Activity Score</th>\n",
       "      <th>Asymmetrique Profile Score</th>\n",
       "      <th>I agree to pay the amount through cheque</th>\n",
       "      <th>A free copy of Mastering The Interview</th>\n",
       "      <th>Last Notable Activity</th>\n",
       "    </tr>\n",
       "  </thead>\n",
       "  <tbody>\n",
       "    <tr>\n",
       "      <th>0</th>\n",
       "      <td>API</td>\n",
       "      <td>Olark Chat</td>\n",
       "      <td>No</td>\n",
       "      <td>No</td>\n",
       "      <td>0</td>\n",
       "      <td>0.0</td>\n",
       "      <td>0</td>\n",
       "      <td>0.00</td>\n",
       "      <td>Page Visited on Website</td>\n",
       "      <td>NaN</td>\n",
       "      <td>...</td>\n",
       "      <td>No</td>\n",
       "      <td>Select</td>\n",
       "      <td>Select</td>\n",
       "      <td>02.Medium</td>\n",
       "      <td>02.Medium</td>\n",
       "      <td>15.0</td>\n",
       "      <td>15.0</td>\n",
       "      <td>No</td>\n",
       "      <td>No</td>\n",
       "      <td>Modified</td>\n",
       "    </tr>\n",
       "    <tr>\n",
       "      <th>1</th>\n",
       "      <td>API</td>\n",
       "      <td>Organic Search</td>\n",
       "      <td>No</td>\n",
       "      <td>No</td>\n",
       "      <td>0</td>\n",
       "      <td>5.0</td>\n",
       "      <td>674</td>\n",
       "      <td>2.50</td>\n",
       "      <td>Email Opened</td>\n",
       "      <td>India</td>\n",
       "      <td>...</td>\n",
       "      <td>No</td>\n",
       "      <td>Select</td>\n",
       "      <td>Select</td>\n",
       "      <td>02.Medium</td>\n",
       "      <td>02.Medium</td>\n",
       "      <td>15.0</td>\n",
       "      <td>15.0</td>\n",
       "      <td>No</td>\n",
       "      <td>No</td>\n",
       "      <td>Email Opened</td>\n",
       "    </tr>\n",
       "    <tr>\n",
       "      <th>2</th>\n",
       "      <td>Landing Page Submission</td>\n",
       "      <td>Direct Traffic</td>\n",
       "      <td>No</td>\n",
       "      <td>No</td>\n",
       "      <td>1</td>\n",
       "      <td>2.0</td>\n",
       "      <td>1532</td>\n",
       "      <td>2.00</td>\n",
       "      <td>Email Opened</td>\n",
       "      <td>India</td>\n",
       "      <td>...</td>\n",
       "      <td>No</td>\n",
       "      <td>Potential Lead</td>\n",
       "      <td>Mumbai</td>\n",
       "      <td>02.Medium</td>\n",
       "      <td>01.High</td>\n",
       "      <td>14.0</td>\n",
       "      <td>20.0</td>\n",
       "      <td>No</td>\n",
       "      <td>Yes</td>\n",
       "      <td>Email Opened</td>\n",
       "    </tr>\n",
       "    <tr>\n",
       "      <th>3</th>\n",
       "      <td>Landing Page Submission</td>\n",
       "      <td>Direct Traffic</td>\n",
       "      <td>No</td>\n",
       "      <td>No</td>\n",
       "      <td>0</td>\n",
       "      <td>1.0</td>\n",
       "      <td>305</td>\n",
       "      <td>1.00</td>\n",
       "      <td>Unreachable</td>\n",
       "      <td>India</td>\n",
       "      <td>...</td>\n",
       "      <td>No</td>\n",
       "      <td>Select</td>\n",
       "      <td>Mumbai</td>\n",
       "      <td>02.Medium</td>\n",
       "      <td>01.High</td>\n",
       "      <td>13.0</td>\n",
       "      <td>17.0</td>\n",
       "      <td>No</td>\n",
       "      <td>No</td>\n",
       "      <td>Modified</td>\n",
       "    </tr>\n",
       "    <tr>\n",
       "      <th>4</th>\n",
       "      <td>Landing Page Submission</td>\n",
       "      <td>Google</td>\n",
       "      <td>No</td>\n",
       "      <td>No</td>\n",
       "      <td>1</td>\n",
       "      <td>2.0</td>\n",
       "      <td>1428</td>\n",
       "      <td>1.00</td>\n",
       "      <td>Converted to Lead</td>\n",
       "      <td>India</td>\n",
       "      <td>...</td>\n",
       "      <td>No</td>\n",
       "      <td>Select</td>\n",
       "      <td>Mumbai</td>\n",
       "      <td>02.Medium</td>\n",
       "      <td>01.High</td>\n",
       "      <td>15.0</td>\n",
       "      <td>18.0</td>\n",
       "      <td>No</td>\n",
       "      <td>No</td>\n",
       "      <td>Modified</td>\n",
       "    </tr>\n",
       "    <tr>\n",
       "      <th>...</th>\n",
       "      <td>...</td>\n",
       "      <td>...</td>\n",
       "      <td>...</td>\n",
       "      <td>...</td>\n",
       "      <td>...</td>\n",
       "      <td>...</td>\n",
       "      <td>...</td>\n",
       "      <td>...</td>\n",
       "      <td>...</td>\n",
       "      <td>...</td>\n",
       "      <td>...</td>\n",
       "      <td>...</td>\n",
       "      <td>...</td>\n",
       "      <td>...</td>\n",
       "      <td>...</td>\n",
       "      <td>...</td>\n",
       "      <td>...</td>\n",
       "      <td>...</td>\n",
       "      <td>...</td>\n",
       "      <td>...</td>\n",
       "      <td>...</td>\n",
       "    </tr>\n",
       "    <tr>\n",
       "      <th>9235</th>\n",
       "      <td>Landing Page Submission</td>\n",
       "      <td>Direct Traffic</td>\n",
       "      <td>Yes</td>\n",
       "      <td>No</td>\n",
       "      <td>1</td>\n",
       "      <td>8.0</td>\n",
       "      <td>1845</td>\n",
       "      <td>2.67</td>\n",
       "      <td>Email Marked Spam</td>\n",
       "      <td>other</td>\n",
       "      <td>...</td>\n",
       "      <td>No</td>\n",
       "      <td>Potential Lead</td>\n",
       "      <td>Mumbai</td>\n",
       "      <td>02.Medium</td>\n",
       "      <td>01.High</td>\n",
       "      <td>15.0</td>\n",
       "      <td>17.0</td>\n",
       "      <td>No</td>\n",
       "      <td>No</td>\n",
       "      <td>Email Marked Spam</td>\n",
       "    </tr>\n",
       "    <tr>\n",
       "      <th>9236</th>\n",
       "      <td>Landing Page Submission</td>\n",
       "      <td>Direct Traffic</td>\n",
       "      <td>No</td>\n",
       "      <td>No</td>\n",
       "      <td>0</td>\n",
       "      <td>2.0</td>\n",
       "      <td>238</td>\n",
       "      <td>2.00</td>\n",
       "      <td>SMS Sent</td>\n",
       "      <td>India</td>\n",
       "      <td>...</td>\n",
       "      <td>No</td>\n",
       "      <td>Potential Lead</td>\n",
       "      <td>Mumbai</td>\n",
       "      <td>02.Medium</td>\n",
       "      <td>01.High</td>\n",
       "      <td>14.0</td>\n",
       "      <td>19.0</td>\n",
       "      <td>No</td>\n",
       "      <td>Yes</td>\n",
       "      <td>SMS Sent</td>\n",
       "    </tr>\n",
       "    <tr>\n",
       "      <th>9237</th>\n",
       "      <td>Landing Page Submission</td>\n",
       "      <td>Direct Traffic</td>\n",
       "      <td>Yes</td>\n",
       "      <td>No</td>\n",
       "      <td>0</td>\n",
       "      <td>2.0</td>\n",
       "      <td>199</td>\n",
       "      <td>2.00</td>\n",
       "      <td>SMS Sent</td>\n",
       "      <td>India</td>\n",
       "      <td>...</td>\n",
       "      <td>No</td>\n",
       "      <td>Potential Lead</td>\n",
       "      <td>Mumbai</td>\n",
       "      <td>02.Medium</td>\n",
       "      <td>01.High</td>\n",
       "      <td>13.0</td>\n",
       "      <td>20.0</td>\n",
       "      <td>No</td>\n",
       "      <td>Yes</td>\n",
       "      <td>SMS Sent</td>\n",
       "    </tr>\n",
       "    <tr>\n",
       "      <th>9238</th>\n",
       "      <td>Landing Page Submission</td>\n",
       "      <td>Google</td>\n",
       "      <td>No</td>\n",
       "      <td>No</td>\n",
       "      <td>1</td>\n",
       "      <td>3.0</td>\n",
       "      <td>499</td>\n",
       "      <td>3.00</td>\n",
       "      <td>SMS Sent</td>\n",
       "      <td>India</td>\n",
       "      <td>...</td>\n",
       "      <td>No</td>\n",
       "      <td>NaN</td>\n",
       "      <td>Other Metro Cities</td>\n",
       "      <td>02.Medium</td>\n",
       "      <td>02.Medium</td>\n",
       "      <td>15.0</td>\n",
       "      <td>16.0</td>\n",
       "      <td>No</td>\n",
       "      <td>No</td>\n",
       "      <td>SMS Sent</td>\n",
       "    </tr>\n",
       "    <tr>\n",
       "      <th>9239</th>\n",
       "      <td>Landing Page Submission</td>\n",
       "      <td>Direct Traffic</td>\n",
       "      <td>No</td>\n",
       "      <td>No</td>\n",
       "      <td>1</td>\n",
       "      <td>6.0</td>\n",
       "      <td>1279</td>\n",
       "      <td>3.00</td>\n",
       "      <td>SMS Sent</td>\n",
       "      <td>other</td>\n",
       "      <td>...</td>\n",
       "      <td>No</td>\n",
       "      <td>Potential Lead</td>\n",
       "      <td>Other Cities</td>\n",
       "      <td>02.Medium</td>\n",
       "      <td>01.High</td>\n",
       "      <td>15.0</td>\n",
       "      <td>18.0</td>\n",
       "      <td>No</td>\n",
       "      <td>Yes</td>\n",
       "      <td>Modified</td>\n",
       "    </tr>\n",
       "  </tbody>\n",
       "</table>\n",
       "<p>9240 rows × 35 columns</p>\n",
       "</div>"
      ],
      "text/plain": [
       "                  Lead Origin     Lead Source Do Not Email Do Not Call  \\\n",
       "0                         API      Olark Chat           No          No   \n",
       "1                         API  Organic Search           No          No   \n",
       "2     Landing Page Submission  Direct Traffic           No          No   \n",
       "3     Landing Page Submission  Direct Traffic           No          No   \n",
       "4     Landing Page Submission          Google           No          No   \n",
       "...                       ...             ...          ...         ...   \n",
       "9235  Landing Page Submission  Direct Traffic          Yes          No   \n",
       "9236  Landing Page Submission  Direct Traffic           No          No   \n",
       "9237  Landing Page Submission  Direct Traffic          Yes          No   \n",
       "9238  Landing Page Submission          Google           No          No   \n",
       "9239  Landing Page Submission  Direct Traffic           No          No   \n",
       "\n",
       "      Converted  TotalVisits  Total Time Spent on Website  \\\n",
       "0             0          0.0                            0   \n",
       "1             0          5.0                          674   \n",
       "2             1          2.0                         1532   \n",
       "3             0          1.0                          305   \n",
       "4             1          2.0                         1428   \n",
       "...         ...          ...                          ...   \n",
       "9235          1          8.0                         1845   \n",
       "9236          0          2.0                          238   \n",
       "9237          0          2.0                          199   \n",
       "9238          1          3.0                          499   \n",
       "9239          1          6.0                         1279   \n",
       "\n",
       "      Page Views Per Visit            Last Activity Country  ...  \\\n",
       "0                     0.00  Page Visited on Website     NaN  ...   \n",
       "1                     2.50             Email Opened   India  ...   \n",
       "2                     2.00             Email Opened   India  ...   \n",
       "3                     1.00              Unreachable   India  ...   \n",
       "4                     1.00        Converted to Lead   India  ...   \n",
       "...                    ...                      ...     ...  ...   \n",
       "9235                  2.67        Email Marked Spam   other  ...   \n",
       "9236                  2.00                 SMS Sent   India  ...   \n",
       "9237                  2.00                 SMS Sent   India  ...   \n",
       "9238                  3.00                 SMS Sent   India  ...   \n",
       "9239                  3.00                 SMS Sent   other  ...   \n",
       "\n",
       "     Get updates on DM Content    Lead Profile                City  \\\n",
       "0                           No          Select              Select   \n",
       "1                           No          Select              Select   \n",
       "2                           No  Potential Lead              Mumbai   \n",
       "3                           No          Select              Mumbai   \n",
       "4                           No          Select              Mumbai   \n",
       "...                        ...             ...                 ...   \n",
       "9235                        No  Potential Lead              Mumbai   \n",
       "9236                        No  Potential Lead              Mumbai   \n",
       "9237                        No  Potential Lead              Mumbai   \n",
       "9238                        No             NaN  Other Metro Cities   \n",
       "9239                        No  Potential Lead        Other Cities   \n",
       "\n",
       "     Asymmetrique Activity Index Asymmetrique Profile Index  \\\n",
       "0                      02.Medium                  02.Medium   \n",
       "1                      02.Medium                  02.Medium   \n",
       "2                      02.Medium                    01.High   \n",
       "3                      02.Medium                    01.High   \n",
       "4                      02.Medium                    01.High   \n",
       "...                          ...                        ...   \n",
       "9235                   02.Medium                    01.High   \n",
       "9236                   02.Medium                    01.High   \n",
       "9237                   02.Medium                    01.High   \n",
       "9238                   02.Medium                  02.Medium   \n",
       "9239                   02.Medium                    01.High   \n",
       "\n",
       "     Asymmetrique Activity Score Asymmetrique Profile Score  \\\n",
       "0                           15.0                       15.0   \n",
       "1                           15.0                       15.0   \n",
       "2                           14.0                       20.0   \n",
       "3                           13.0                       17.0   \n",
       "4                           15.0                       18.0   \n",
       "...                          ...                        ...   \n",
       "9235                        15.0                       17.0   \n",
       "9236                        14.0                       19.0   \n",
       "9237                        13.0                       20.0   \n",
       "9238                        15.0                       16.0   \n",
       "9239                        15.0                       18.0   \n",
       "\n",
       "     I agree to pay the amount through cheque  \\\n",
       "0                                          No   \n",
       "1                                          No   \n",
       "2                                          No   \n",
       "3                                          No   \n",
       "4                                          No   \n",
       "...                                       ...   \n",
       "9235                                       No   \n",
       "9236                                       No   \n",
       "9237                                       No   \n",
       "9238                                       No   \n",
       "9239                                       No   \n",
       "\n",
       "     A free copy of Mastering The Interview Last Notable Activity  \n",
       "0                                        No              Modified  \n",
       "1                                        No          Email Opened  \n",
       "2                                       Yes          Email Opened  \n",
       "3                                        No              Modified  \n",
       "4                                        No              Modified  \n",
       "...                                     ...                   ...  \n",
       "9235                                     No     Email Marked Spam  \n",
       "9236                                    Yes              SMS Sent  \n",
       "9237                                    Yes              SMS Sent  \n",
       "9238                                     No              SMS Sent  \n",
       "9239                                    Yes              Modified  \n",
       "\n",
       "[9240 rows x 35 columns]"
      ]
     },
     "execution_count": 12,
     "metadata": {},
     "output_type": "execute_result"
    }
   ],
   "source": [
    "df_transformed_cloud"
   ]
  },
  {
   "cell_type": "markdown",
   "id": "9f856119",
   "metadata": {},
   "source": [
    "### Create Train/Test split for model training validation"
   ]
  },
  {
   "cell_type": "code",
   "execution_count": 13,
   "id": "f151560f",
   "metadata": {},
   "outputs": [],
   "source": [
    "X, y = df_transformed.drop(columns=['Converted']), df['Converted']\n",
    "\n",
    "#Optional if you want to use the cloud preprocessor\n",
    "# X, y = df_transformed_cloud.drop(columns=['Converted']), df_transformed_cloud['Converted']\n",
    "\n",
    "X_train, X_test, y_train, y_test = train_test_split(\n",
    "     X, y, test_size=0.33, random_state=42)"
   ]
  },
  {
   "cell_type": "markdown",
   "id": "83392be4",
   "metadata": {},
   "source": [
    "## 2. Model Optimisation\n",
    "The `XParamOptimiser` is utilised to fine-tune the hyperparameters of our model. This process searches for the optimal parameters that will yield the best model performance, balancing accuracy and computational efficiency."
   ]
  },
  {
   "cell_type": "code",
   "execution_count": 14,
   "id": "17ec10cb",
   "metadata": {},
   "outputs": [
    {
     "name": "stdout",
     "output_type": "stream",
     "text": [
      "100%|██████████| 30/30 [00:04<00:00,  7.11trial/s, best loss: -0.8900913015726906]\n"
     ]
    }
   ],
   "source": [
    "opt = XParamOptimiser()\n",
    "params = opt.optimise(X_train, y_train)"
   ]
  },
  {
   "cell_type": "markdown",
   "id": "c5e4ae0a",
   "metadata": {},
   "source": [
    "## 3. Model Training\n",
    "With the optimised parameters obtained, the `XClassifier` is trained on the dataset. This classifier undergoes a fitting process with the training data, ensuring that it learns the underlying patterns and can make accurate predictions."
   ]
  },
  {
   "cell_type": "code",
   "execution_count": 15,
   "id": "138c9bf7",
   "metadata": {},
   "outputs": [
    {
     "data": {
      "text/plain": [
       "<xplainable.core.ml.classification.XClassifier at 0x28d890e80>"
      ]
     },
     "execution_count": 15,
     "metadata": {},
     "output_type": "execute_result"
    }
   ],
   "source": [
    "model = XClassifier(**params)\n",
    "model.fit(X_train, y_train)"
   ]
  },
  {
   "cell_type": "markdown",
   "id": "1a7d5b35",
   "metadata": {},
   "source": [
    "## 4. Model Interpretability and Explainability\n",
    "Following training, the `model.explain()` method is called to generate insights into the model's decision-making process. This step is crucial for understanding the factors that influence the model's predictions and ensuring that the model's behaviour is transparent and explainable."
   ]
  },
  {
   "cell_type": "code",
   "execution_count": 16,
   "id": "08fb8e82",
   "metadata": {},
   "outputs": [
    {
     "data": {
      "text/html": [
       "\n",
       "    <style>\n",
       "    .vega-bind {\n",
       "      text-align:right;\n",
       "    }\n",
       "    </style>\n",
       "    "
      ],
      "text/plain": [
       "<IPython.core.display.HTML object>"
      ]
     },
     "metadata": {},
     "output_type": "display_data"
    },
    {
     "data": {
      "text/html": [
       "\n",
       "<style>\n",
       "  #altair-viz-6f42d3176d614ff0bf4372b8609cf4bf.vega-embed {\n",
       "    width: 100%;\n",
       "    display: flex;\n",
       "  }\n",
       "\n",
       "  #altair-viz-6f42d3176d614ff0bf4372b8609cf4bf.vega-embed details,\n",
       "  #altair-viz-6f42d3176d614ff0bf4372b8609cf4bf.vega-embed details summary {\n",
       "    position: relative;\n",
       "  }\n",
       "</style>\n",
       "<div id=\"altair-viz-6f42d3176d614ff0bf4372b8609cf4bf\"></div>\n",
       "<script type=\"text/javascript\">\n",
       "  var VEGA_DEBUG = (typeof VEGA_DEBUG == \"undefined\") ? {} : VEGA_DEBUG;\n",
       "  (function(spec, embedOpt){\n",
       "    let outputDiv = document.currentScript.previousElementSibling;\n",
       "    if (outputDiv.id !== \"altair-viz-6f42d3176d614ff0bf4372b8609cf4bf\") {\n",
       "      outputDiv = document.getElementById(\"altair-viz-6f42d3176d614ff0bf4372b8609cf4bf\");\n",
       "    }\n",
       "    const paths = {\n",
       "      \"vega\": \"https://cdn.jsdelivr.net/npm/vega@5?noext\",\n",
       "      \"vega-lib\": \"https://cdn.jsdelivr.net/npm/vega-lib?noext\",\n",
       "      \"vega-lite\": \"https://cdn.jsdelivr.net/npm/vega-lite@5.20.1?noext\",\n",
       "      \"vega-embed\": \"https://cdn.jsdelivr.net/npm/vega-embed@6?noext\",\n",
       "    };\n",
       "\n",
       "    function maybeLoadScript(lib, version) {\n",
       "      var key = `${lib.replace(\"-\", \"\")}_version`;\n",
       "      return (VEGA_DEBUG[key] == version) ?\n",
       "        Promise.resolve(paths[lib]) :\n",
       "        new Promise(function(resolve, reject) {\n",
       "          var s = document.createElement('script');\n",
       "          document.getElementsByTagName(\"head\")[0].appendChild(s);\n",
       "          s.async = true;\n",
       "          s.onload = () => {\n",
       "            VEGA_DEBUG[key] = version;\n",
       "            return resolve(paths[lib]);\n",
       "          };\n",
       "          s.onerror = () => reject(`Error loading script: ${paths[lib]}`);\n",
       "          s.src = paths[lib];\n",
       "        });\n",
       "    }\n",
       "\n",
       "    function showError(err) {\n",
       "      outputDiv.innerHTML = `<div class=\"error\" style=\"color:red;\">${err}</div>`;\n",
       "      throw err;\n",
       "    }\n",
       "\n",
       "    function displayChart(vegaEmbed) {\n",
       "      vegaEmbed(outputDiv, spec, embedOpt)\n",
       "        .catch(err => showError(`Javascript Error: ${err.message}<br>This usually means there's a typo in your chart specification. See the javascript console for the full traceback.`));\n",
       "    }\n",
       "\n",
       "    if(typeof define === \"function\" && define.amd) {\n",
       "      requirejs.config({paths});\n",
       "      require([\"vega-embed\"], displayChart, err => showError(`Error loading script: ${err.message}`));\n",
       "    } else {\n",
       "      maybeLoadScript(\"vega\", \"5\")\n",
       "        .then(() => maybeLoadScript(\"vega-lite\", \"5.20.1\"))\n",
       "        .then(() => maybeLoadScript(\"vega-embed\", \"6\"))\n",
       "        .catch(showError)\n",
       "        .then(() => displayChart(vegaEmbed));\n",
       "    }\n",
       "  })({\"config\": {\"view\": {\"continuousWidth\": 300, \"continuousHeight\": 300}}, \"hconcat\": [{\"mark\": {\"type\": \"bar\", \"color\": \"#0080ea\"}, \"encoding\": {\"color\": {\"condition\": {\"param\": \"param_1\", \"value\": \"lightgray\"}, \"value\": \"#0080ea\"}, \"tooltip\": {\"field\": \"importance_label\", \"type\": \"nominal\"}, \"x\": {\"field\": \"importance\", \"type\": \"quantitative\"}, \"y\": {\"field\": \"feature\", \"sort\": {\"field\": \"importance\", \"order\": \"descending\"}, \"type\": \"nominal\"}}, \"height\": 400, \"name\": \"view_1\", \"title\": \"Feature Importances\", \"transform\": [{\"filter\": {\"param\": \"param_2\"}}], \"width\": 330}, {\"mark\": {\"type\": \"bar\", \"color\": \"#0080ea\"}, \"encoding\": {\"x\": {\"axis\": {\"labels\": false, \"title\": null}, \"field\": \"importance\", \"type\": \"quantitative\"}, \"y\": {\"axis\": {\"labels\": false, \"title\": null}, \"field\": \"feature\", \"sort\": \"-x\", \"type\": \"nominal\"}}, \"height\": 400, \"name\": \"view_2\", \"width\": 25}, {\"data\": {\"name\": \"data-4f0189624d30781af6fa7bd8631a7c3f\"}, \"mark\": {\"type\": \"bar\", \"color\": \"#e14067\"}, \"encoding\": {\"color\": {\"condition\": {\"test\": \"(datum.contribution < 0)\", \"value\": \"#e14067\"}, \"value\": \"#12b980\"}, \"tooltip\": {\"field\": \"score_label\", \"type\": \"nominal\"}, \"x\": {\"field\": \"val\", \"type\": \"quantitative\"}, \"y\": {\"field\": \"value\", \"sort\": {\"field\": \"index\", \"order\": \"descending\"}, \"type\": \"nominal\"}}, \"height\": 400, \"name\": \"view_3\", \"title\": \"Contributions\", \"transform\": [{\"fold\": [\"contribution\", \"mean\", \"frequency\"], \"as\": [\"column\", \"val\"]}, {\"filter\": {\"param\": \"Select\"}}, {\"filter\": {\"param\": \"param_1\"}}, {\"filter\": {\"param\": \"param_3\"}}], \"width\": 330}, {\"data\": {\"name\": \"data-4f0189624d30781af6fa7bd8631a7c3f\"}, \"mark\": {\"type\": \"bar\", \"color\": \"#e14067\"}, \"encoding\": {\"color\": {\"condition\": {\"test\": \"(datum.contribution < 0)\", \"value\": \"#e14067\"}, \"value\": \"#12b980\"}, \"x\": {\"axis\": {\"labels\": false, \"title\": null}, \"field\": \"contribution\", \"type\": \"quantitative\"}, \"y\": {\"axis\": {\"labels\": false, \"title\": null}, \"field\": \"value\", \"sort\": {\"field\": \"index\", \"order\": \"descending\"}, \"type\": \"nominal\"}}, \"height\": 400, \"name\": \"view_4\", \"transform\": [{\"filter\": {\"param\": \"param_1\"}}], \"width\": 25}], \"data\": {\"name\": \"data-05cd502080a7090c93aa4134e4340554\"}, \"params\": [{\"name\": \"param_1\", \"select\": {\"type\": \"point\", \"fields\": [\"feature\"]}, \"value\": \"Tags\", \"views\": [\"view_1\"]}, {\"name\": \"Select\", \"select\": {\"type\": \"point\", \"fields\": [\"column\"]}, \"bind\": {\"input\": \"select\", \"options\": [\"contribution\", \"mean\", \"frequency\"]}, \"value\": \"contribution\", \"views\": [\"view_1\", \"view_3\"]}, {\"name\": \"param_2\", \"select\": {\"type\": \"interval\", \"encodings\": [\"y\"]}, \"views\": [\"view_2\"]}, {\"name\": \"param_3\", \"select\": {\"type\": \"interval\", \"encodings\": [\"y\"]}, \"views\": [\"view_4\"]}], \"$schema\": \"https://vega.github.io/schema/vega-lite/v5.20.1.json\", \"datasets\": {\"data-05cd502080a7090c93aa4134e4340554\": [{\"feature\": \"Magazine\", \"importance\": 0.0, \"importance_label\": \"0.0%\"}, {\"feature\": \"Receive More Updates About Our Courses\", \"importance\": 0.0, \"importance_label\": \"0.0%\"}, {\"feature\": \"Update me on Supply Chain Content\", \"importance\": 0.0, \"importance_label\": \"0.0%\"}, {\"feature\": \"Get updates on DM Content\", \"importance\": 0.0, \"importance_label\": \"0.0%\"}, {\"feature\": \"I agree to pay the amount through cheque\", \"importance\": 0.0, \"importance_label\": \"0.0%\"}, {\"feature\": \"Newspaper Article\", \"importance\": 4.097308502691016e-06, \"importance_label\": \"0.0%\"}, {\"feature\": \"X Education Forums\", \"importance\": 4.097308502691016e-06, \"importance_label\": \"0.0%\"}, {\"feature\": \"Newspaper\", \"importance\": 4.097308502691016e-06, \"importance_label\": \"0.0%\"}, {\"feature\": \"Do Not Call\", \"importance\": 4.7981835734180155e-06, \"importance_label\": \"0.0%\"}, {\"feature\": \"Digital Advertisement\", \"importance\": 8.19424766160742e-06, \"importance_label\": \"0.0%\"}, {\"feature\": \"Through Recommendations\", \"importance\": 1.8088581231372985e-05, \"importance_label\": \"0.0%\"}, {\"feature\": \"Search\", \"importance\": 1.9462567515313004e-05, \"importance_label\": \"0.0%\"}, {\"feature\": \"A free copy of Mastering The Interview\", \"importance\": 0.0004848840691446312, \"importance_label\": \"0.0%\"}, {\"feature\": \"Do Not Email\", \"importance\": 0.001090629774120314, \"importance_label\": \"0.1%\"}, {\"feature\": \"Country\", \"importance\": 0.0018927862365994807, \"importance_label\": \"0.2%\"}, {\"feature\": \"Asymmetrique Profile Index\", \"importance\": 0.004040951473781635, \"importance_label\": \"0.4%\"}, {\"feature\": \"Asymmetrique Activity Index\", \"importance\": 0.008816231980219375, \"importance_label\": \"0.9%\"}, {\"feature\": \"What matters most to you in choosing a course\", \"importance\": 0.01052782359360514, \"importance_label\": \"1.1%\"}, {\"feature\": \"City\", \"importance\": 0.013058120137048289, \"importance_label\": \"1.3%\"}, {\"feature\": \"Page Views Per Visit\", \"importance\": 0.013528261308710769, \"importance_label\": \"1.4%\"}, {\"feature\": \"How did you hear about X Education\", \"importance\": 0.019610853468545627, \"importance_label\": \"2.0%\"}, {\"feature\": \"Lead Origin\", \"importance\": 0.020389212026137513, \"importance_label\": \"2.0%\"}, {\"feature\": \"TotalVisits\", \"importance\": 0.02322077182053404, \"importance_label\": \"2.3%\"}, {\"feature\": \"What is your current occupation\", \"importance\": 0.027242409526777697, \"importance_label\": \"2.7%\"}, {\"feature\": \"Specialization\", \"importance\": 0.034837855108611926, \"importance_label\": \"3.5%\"}, {\"feature\": \"Lead Quality\", \"importance\": 0.03776859511978045, \"importance_label\": \"3.8%\"}, {\"feature\": \"Lead Profile\", \"importance\": 0.0393037578938988, \"importance_label\": \"3.9%\"}, {\"feature\": \"Asymmetrique Profile Score\", \"importance\": 0.042879037649939736, \"importance_label\": \"4.3%\"}, {\"feature\": \"Asymmetrique Activity Score\", \"importance\": 0.0724806685644864, \"importance_label\": \"7.2%\"}, {\"feature\": \"Last Notable Activity\", \"importance\": 0.08330253591897994, \"importance_label\": \"8.3%\"}, {\"feature\": \"Total Time Spent on Website\", \"importance\": 0.09186925446751999, \"importance_label\": \"9.2%\"}, {\"feature\": \"Last Activity\", \"importance\": 0.10209448525379182, \"importance_label\": \"10.2%\"}, {\"feature\": \"Lead Source\", \"importance\": 0.1385508270353977, \"importance_label\": \"13.9%\"}, {\"feature\": \"Tags\", \"importance\": 0.21294721206687875, \"importance_label\": \"21.3%\"}], \"data-4f0189624d30781af6fa7bd8631a7c3f\": [{\"index\": 0, \"value\": \"Lead Import\", \"contribution\": -0.008787128229150577, \"mean\": 0.21621621621621623, \"frequency\": 0.005977382875605816, \"feature\": \"Lead Origin\", \"score_label\": \"-0.9\"}, {\"index\": 1, \"value\": \"API\", \"contribution\": -0.00391036035717797, \"mean\": 0.30772425249169433, \"frequency\": 0.3890145395799677, \"feature\": \"Lead Origin\", \"score_label\": \"-0.4\"}, {\"index\": 2, \"value\": \"Landing Page Submission\", \"contribution\": -0.0010175011236546589, \"mean\": 0.3620060790273556, \"frequency\": 0.531502423263328, \"feature\": \"Lead Origin\", \"score_label\": \"-0.1\"}, {\"index\": 3, \"value\": \"Lead Add Form\", \"contribution\": 0.020734669796111698, \"mean\": 0.920704845814978, \"frequency\": 0.07334410339256867, \"feature\": \"Lead Origin\", \"score_label\": \"2.1\"}, {\"index\": 4, \"value\": \"Quick Add Form\", \"contribution\": 0.02378162984670772, \"mean\": 1.0, \"frequency\": 0.00016155088852988692, \"feature\": \"Lead Origin\", \"score_label\": \"2.4\"}, {\"index\": 5, \"value\": \"Null\", \"contribution\": 0.0, \"mean\": 0.0, \"frequency\": 0.0, \"feature\": \"Lead Origin\", \"score_label\": \"0.0\"}, {\"index\": 0, \"value\": \"Pay per Click Ads\", \"contribution\": -0.02031001014815957, \"mean\": 0.0, \"frequency\": 0.00016155088852988692, \"feature\": \"Lead Source\", \"score_label\": \"-2.0\"}, {\"index\": 1, \"value\": \"blog\", \"contribution\": -0.02031001014815957, \"mean\": 0.0, \"frequency\": 0.00016155088852988692, \"feature\": \"Lead Source\", \"score_label\": \"-2.0\"}, {\"index\": 2, \"value\": \"bing\", \"contribution\": -0.02031001014815957, \"mean\": 0.0, \"frequency\": 0.0006462035541195477, \"feature\": \"Lead Source\", \"score_label\": \"-2.0\"}, {\"index\": 3, \"value\": \"google\", \"contribution\": -0.02031001014815957, \"mean\": 0.0, \"frequency\": 0.0006462035541195477, \"feature\": \"Lead Source\", \"score_label\": \"-2.0\"}, {\"index\": 4, \"value\": \"youtubechannel\", \"contribution\": -0.02031001014815957, \"mean\": 0.0, \"frequency\": 0.00016155088852988692, \"feature\": \"Lead Source\", \"score_label\": \"-2.0\"}, {\"index\": 5, \"value\": \"Facebook\", \"contribution\": -0.008787128229150577, \"mean\": 0.21621621621621623, \"frequency\": 0.005977382875605816, \"feature\": \"Lead Source\", \"score_label\": \"-0.9\"}, {\"index\": 6, \"value\": \"Referral Sites\", \"contribution\": -0.008110332453787098, \"mean\": 0.2289156626506024, \"frequency\": 0.013408723747980614, \"feature\": \"Lead Source\", \"score_label\": \"-0.8\"}, {\"index\": 7, \"value\": \"Olark Chat\", \"contribution\": -0.007143423014233118, \"mean\": 0.24705882352941178, \"frequency\": 0.19224555735056542, \"feature\": \"Lead Source\", \"score_label\": \"-0.7\"}, {\"index\": 8, \"value\": \"Direct Traffic\", \"contribution\": -0.0028646272891732576, \"mean\": 0.32734646581691773, \"frequency\": 0.2788368336025848, \"feature\": \"Lead Source\", \"score_label\": \"-0.3\"}, {\"index\": 9, \"value\": \"Organic Search\", \"contribution\": -0.0005132957879779009, \"mean\": 0.3714670255720054, \"frequency\": 0.12003231017770598, \"feature\": \"Lead Source\", \"score_label\": \"-0.1\"}, {\"index\": 10, \"value\": \"Google\", \"contribution\": 0.0006985833039217374, \"mean\": 0.39927872230808864, \"frequency\": 0.3135702746365105, \"feature\": \"Lead Source\", \"score_label\": \"0.1\"}, {\"index\": 11, \"value\": \"Social Media\", \"contribution\": 0.004568853972116127, \"mean\": 0.5, \"frequency\": 0.00032310177705977385, \"feature\": \"Lead Source\", \"score_label\": \"0.5\"}, {\"index\": 12, \"value\": \"Reference\", \"contribution\": 0.020506724868084154, \"mean\": 0.9147727272727273, \"frequency\": 0.05686591276252019, \"feature\": \"Lead Source\", \"score_label\": \"2.1\"}, {\"index\": 13, \"value\": \"NC_EDM\", \"contribution\": 0.02378162984670772, \"mean\": 1.0, \"frequency\": 0.00016155088852988692, \"feature\": \"Lead Source\", \"score_label\": \"2.4\"}, {\"index\": 14, \"value\": \"WeLearn\", \"contribution\": 0.02378162984670772, \"mean\": 1.0, \"frequency\": 0.00016155088852988692, \"feature\": \"Lead Source\", \"score_label\": \"2.4\"}, {\"index\": 15, \"value\": \"Welingak Website\", \"contribution\": 0.02378162984670772, \"mean\": 1.0, \"frequency\": 0.011954765751211632, \"feature\": \"Lead Source\", \"score_label\": \"2.4\"}, {\"index\": 16, \"value\": \"Live Chat\", \"contribution\": 0.02378162984670772, \"mean\": 1.0, \"frequency\": 0.00032310177705977385, \"feature\": \"Lead Source\", \"score_label\": \"2.4\"}, {\"index\": 17, \"value\": \"Click2call\", \"contribution\": 0.02378162984670772, \"mean\": 1.0, \"frequency\": 0.00016155088852988692, \"feature\": \"Lead Source\", \"score_label\": \"2.4\"}, {\"index\": 18, \"value\": \"Null\", \"contribution\": 0.014914194827665449, \"mean\": 0.7692307692307693, \"frequency\": 0.00420032310177706, \"feature\": \"Lead Source\", \"score_label\": \"1.5\"}, {\"index\": 0, \"value\": \"Yes\", \"contribution\": -0.011464644359708684, \"mean\": 0.16597510373443983, \"frequency\": 0.07786752827140549, \"feature\": \"Do Not Email\", \"score_label\": \"-1.1\"}, {\"index\": 1, \"value\": \"No\", \"contribution\": 0.0006980249153921718, \"mean\": 0.3992641906096706, \"frequency\": 0.9221324717285945, \"feature\": \"Do Not Email\", \"score_label\": \"0.1\"}, {\"index\": 2, \"value\": \"Null\", \"contribution\": 0.0, \"mean\": 0.0, \"frequency\": 0.0, \"feature\": \"Do Not Email\", \"score_label\": \"0.0\"}, {\"index\": 0, \"value\": \"No\", \"contribution\": -5.329345407536799e-06, \"mean\": 0.3809985458070771, \"frequency\": 0.9998384491114701, \"feature\": \"Do Not Call\", \"score_label\": \"-0.0\"}, {\"index\": 1, \"value\": \"Yes\", \"contribution\": 0.02378162984670772, \"mean\": 1.0, \"frequency\": 0.00016155088852988692, \"feature\": \"Do Not Call\", \"score_label\": \"2.4\"}, {\"index\": 2, \"value\": \"Null\", \"contribution\": 0.0, \"mean\": 0.0, \"frequency\": 0.0, \"feature\": \"Do Not Call\", \"score_label\": \"0.0\"}, {\"index\": 0, \"value\": \"-inf - 0.5\", \"contribution\": 0.0017254694374255314, \"mean\": 0.4260027662517289, \"frequency\": 0.23360258481421647, \"feature\": \"TotalVisits\", \"score_label\": \"0.2\"}, {\"index\": 1, \"value\": \"0.5 - 1.5\", \"contribution\": -0.011926789875622129, \"mean\": 0.15730337078651685, \"frequency\": 0.04313408723747981, \"feature\": \"TotalVisits\", \"score_label\": \"-1.2\"}, {\"index\": 2, \"value\": \"1.5 - 2.5\", \"contribution\": -0.00306945156647878, \"mean\": 0.323503127792672, \"frequency\": 0.18077544426494346, \"feature\": \"TotalVisits\", \"score_label\": \"-0.3\"}, {\"index\": 3, \"value\": \"2.5 - 7.5\", \"contribution\": 0.00024022707222685295, \"mean\": 0.3873502994011976, \"frequency\": 0.4316639741518578, \"feature\": \"TotalVisits\", \"score_label\": \"0.0\"}, {\"index\": 4, \"value\": \"7.5 - 8.5\", \"contribution\": 0.0038392548882708773, \"mean\": 0.4810126582278481, \"frequency\": 0.02552504038772213, \"feature\": \"TotalVisits\", \"score_label\": \"0.4\"}, {\"index\": 5, \"value\": \"8.5 - 9.5\", \"contribution\": 0.002581325433365273, \"mean\": 0.4482758620689655, \"frequency\": 0.018739903069466882, \"feature\": \"TotalVisits\", \"score_label\": \"0.3\"}, {\"index\": 6, \"value\": \"9.5 - 12.5\", \"contribution\": 0.003763528037253006, \"mean\": 0.47904191616766467, \"frequency\": 0.026978998384491113, \"feature\": \"TotalVisits\", \"score_label\": \"0.4\"}, {\"index\": 7, \"value\": \"12.5 - 17.5\", \"contribution\": 0.0017073767141982305, \"mean\": 0.425531914893617, \"frequency\": 0.01518578352180937, \"feature\": \"TotalVisits\", \"score_label\": \"0.2\"}, {\"index\": 8, \"value\": \"17.5 - inf\", \"contribution\": 0.00902214639337908, \"mean\": 0.6158940397350994, \"frequency\": 0.024394184168012926, \"feature\": \"TotalVisits\", \"score_label\": \"0.9\"}, {\"index\": 9, \"value\": \"nan - nan\", \"contribution\": 0.013647418396373694, \"mean\": 0.7362637362637363, \"frequency\": 0.01470113085621971, \"feature\": \"TotalVisits\", \"score_label\": \"1.4\"}, {\"index\": 0, \"value\": \"-inf - 0.5\", \"contribution\": 0.0006997984166811305, \"mean\": 0.3993103448275862, \"frequency\": 0.23424878836833601, \"feature\": \"Total Time Spent on Website\", \"score_label\": \"0.1\"}, {\"index\": 1, \"value\": \"0.5 - 77.5\", \"contribution\": -0.013729442582673348, \"mean\": 0.12347826086956522, \"frequency\": 0.09289176090468497, \"feature\": \"Total Time Spent on Website\", \"score_label\": \"-1.4\"}, {\"index\": 2, \"value\": \"77.5 - 189.5\", \"contribution\": -0.012032844627999502, \"mean\": 0.1553133514986376, \"frequency\": 0.118578352180937, \"feature\": \"Total Time Spent on Website\", \"score_label\": \"-1.2\"}, {\"index\": 3, \"value\": \"189.5 - 238.5\", \"contribution\": -0.013828389068716992, \"mean\": 0.121621621621622, \"frequency\": 0.04781906300484653, \"feature\": \"Total Time Spent on Website\", \"score_label\": \"-1.4\"}, {\"index\": 4, \"value\": \"238.5 - 296.5\", \"contribution\": -0.011400791035247982, \"mean\": 0.16717325227963525, \"frequency\": 0.053150242326332794, \"feature\": \"Total Time Spent on Website\", \"score_label\": \"-1.1\"}, {\"index\": 5, \"value\": \"296.5 - 368.5\", \"contribution\": -0.011878528266377262, \"mean\": 0.15820895522388026, \"frequency\": 0.05411954765751212, \"feature\": \"Total Time Spent on Website\", \"score_label\": \"-1.2\"}, {\"index\": 6, \"value\": \"368.5 - 663.5\", \"contribution\": -0.006608711057848587, \"mean\": 0.2570921985815599, \"frequency\": 0.09111470113085622, \"feature\": \"Total Time Spent on Website\", \"score_label\": \"-0.7\"}, {\"index\": 7, \"value\": \"663.5 - 865.5\", \"contribution\": 0.010510154142170556, \"mean\": 0.6546184738955824, \"frequency\": 0.040226171243941844, \"feature\": \"Total Time Spent on Website\", \"score_label\": \"1.1\"}, {\"index\": 8, \"value\": \"865.5 - 994.5\", \"contribution\": 0.012237472668841528, \"mean\": 0.6995708154506438, \"frequency\": 0.03764135702746365, \"feature\": \"Total Time Spent on Website\", \"score_label\": \"1.2\"}, {\"index\": 9, \"value\": \"994.5 - 1104.5\", \"contribution\": 0.012459815492037675, \"mean\": 0.7053571428571429, \"frequency\": 0.03618739903069467, \"feature\": \"Total Time Spent on Website\", \"score_label\": \"1.2\"}, {\"index\": 10, \"value\": \"1104.5 - 1205.5\", \"contribution\": 0.012925980697835321, \"mean\": 0.7174887892376677, \"frequency\": 0.03602584814216478, \"feature\": \"Total Time Spent on Website\", \"score_label\": \"1.3\"}, {\"index\": 11, \"value\": \"1205.5 - 1341.5\", \"contribution\": 0.009796358362022672, \"mean\": 0.6360424028268551, \"frequency\": 0.045718901453957995, \"feature\": \"Total Time Spent on Website\", \"score_label\": \"1.0\"}, {\"index\": 12, \"value\": \"1341.5 - 1493.5\", \"contribution\": 0.0105508537865494, \"mean\": 0.6556776556776555, \"frequency\": 0.044103392568659125, \"feature\": \"Total Time Spent on Website\", \"score_label\": \"1.1\"}, {\"index\": 13, \"value\": \"1493.5 - 1639.5\", \"contribution\": 0.013301933915112314, \"mean\": 0.7272727272727275, \"frequency\": 0.03376413570274636, \"feature\": \"Total Time Spent on Website\", \"score_label\": \"1.3\"}, {\"index\": 14, \"value\": \"1639.5 - inf\", \"contribution\": 0.012596727459621534, \"mean\": 0.7089201877934272, \"frequency\": 0.034410339256865916, \"feature\": \"Total Time Spent on Website\", \"score_label\": \"1.3\"}, {\"index\": 15, \"value\": \"nan - nan\", \"contribution\": 0.0, \"mean\": 0.0, \"frequency\": 0.0, \"feature\": \"Total Time Spent on Website\", \"score_label\": \"0.0\"}, {\"index\": 0, \"value\": \"-inf - 0.5\", \"contribution\": 0.0017254694374255314, \"mean\": 0.4260027662517289, \"frequency\": 0.23360258481421647, \"feature\": \"Page Views Per Visit\", \"score_label\": \"0.2\"}, {\"index\": 1, \"value\": \"0.5 - 1.07\", \"contribution\": -0.0052754242498195695, \"mean\": 0.28211009174311924, \"frequency\": 0.0704361873990307, \"feature\": \"Page Views Per Visit\", \"score_label\": \"-0.5\"}, {\"index\": 2, \"value\": \"1.07 - 2.155\", \"contribution\": -0.0014692705207480828, \"mean\": 0.35352904434728294, \"frequency\": 0.25864297253634894, \"feature\": \"Page Views Per Visit\", \"score_label\": \"-0.1\"}, {\"index\": 3, \"value\": \"2.155 - 9.5\", \"contribution\": 0.0004266843586076873, \"mean\": 0.39220272904483433, \"frequency\": 0.41437802907915994, \"feature\": \"Page Views Per Visit\", \"score_label\": \"0.0\"}, {\"index\": 4, \"value\": \"9.5 - inf\", \"contribution\": 0.00835728865161306, \"mean\": 0.5985915492957746, \"frequency\": 0.02294022617124394, \"feature\": \"Page Views Per Visit\", \"score_label\": \"0.8\"}, {\"index\": 5, \"value\": \"nan - nan\", \"contribution\": 0.013647418396373694, \"mean\": 0.7362637362637363, \"frequency\": 0.01470113085621971, \"feature\": \"Page Views Per Visit\", \"score_label\": \"1.4\"}, {\"index\": 0, \"value\": \"Visited Booth in Tradeshow\", \"contribution\": -0.02031001014815957, \"mean\": 0.0, \"frequency\": 0.00016155088852988692, \"feature\": \"Last Activity\", \"score_label\": \"-2.0\"}, {\"index\": 1, \"value\": \"Olark Chat Conversation\", \"contribution\": -0.01571028831069802, \"mean\": 0.08630952380952381, \"frequency\": 0.108562197092084, \"feature\": \"Last Activity\", \"score_label\": \"-1.6\"}, {\"index\": 2, \"value\": \"Email Bounced\", \"contribution\": -0.015556145131103628, \"mean\": 0.0892018779342723, \"frequency\": 0.034410339256865916, \"feature\": \"Last Activity\", \"score_label\": \"-1.6\"}, {\"index\": 3, \"value\": \"Converted to Lead\", \"contribution\": -0.013601758961044194, \"mean\": 0.1258741258741259, \"frequency\": 0.04620355411954766, \"feature\": \"Last Activity\", \"score_label\": \"-1.4\"}, {\"index\": 4, \"value\": \"View in browser link Clicked\", \"contribution\": -0.009651344373076251, \"mean\": 0.2, \"frequency\": 0.0008077544426494346, \"feature\": \"Last Activity\", \"score_label\": \"-1.0\"}, {\"index\": 5, \"value\": \"Form Submitted on Website\", \"contribution\": -0.007519611218059588, \"mean\": 0.24, \"frequency\": 0.012116316639741519, \"feature\": \"Last Activity\", \"score_label\": \"-0.8\"}, {\"index\": 6, \"value\": \"Page Visited on Website\", \"contribution\": -0.0071419615215997595, \"mean\": 0.24708624708624707, \"frequency\": 0.06930533117932149, \"feature\": \"Last Activity\", \"score_label\": \"-0.7\"}, {\"index\": 7, \"value\": \"Unsubscribed\", \"contribution\": -0.00660601129448102, \"mean\": 0.2571428571428571, \"frequency\": 0.005654281098546042, \"feature\": \"Last Activity\", \"score_label\": \"-0.7\"}, {\"index\": 8, \"value\": \"Email Link Clicked\", \"contribution\": -0.0062854499177867834, \"mean\": 0.2631578947368421, \"frequency\": 0.027625201938610663, \"feature\": \"Last Activity\", \"score_label\": \"-0.6\"}, {\"index\": 9, \"value\": \"Unreachable\", \"contribution\": -0.0019904283472351163, \"mean\": 0.34375, \"frequency\": 0.010339256865912763, \"feature\": \"Last Activity\", \"score_label\": \"-0.2\"}, {\"index\": 10, \"value\": \"Email Opened\", \"contribution\": -0.0012668335801766593, \"mean\": 0.35732758620689653, \"frequency\": 0.37479806138933763, \"feature\": \"Last Activity\", \"score_label\": \"-0.1\"}, {\"index\": 11, \"value\": \"SMS Sent\", \"contribution\": 0.00932720757971679, \"mean\": 0.6238330587589237, \"frequency\": 0.2941841680129241, \"feature\": \"Last Activity\", \"score_label\": \"0.9\"}, {\"index\": 12, \"value\": \"Had a Phone Conversation\", \"contribution\": 0.01504854990371154, \"mean\": 0.7727272727272727, \"frequency\": 0.003554119547657512, \"feature\": \"Last Activity\", \"score_label\": \"1.5\"}, {\"index\": 13, \"value\": \"Approached upfront\", \"contribution\": 0.02378162984670772, \"mean\": 1.0, \"frequency\": 0.0012924071082390954, \"feature\": \"Last Activity\", \"score_label\": \"2.4\"}, {\"index\": 14, \"value\": \"Email Marked Spam\", \"contribution\": 0.02378162984670772, \"mean\": 1.0, \"frequency\": 0.00032310177705977385, \"feature\": \"Last Activity\", \"score_label\": \"2.4\"}, {\"index\": 15, \"value\": \"Email Received\", \"contribution\": 0.02378162984670772, \"mean\": 1.0, \"frequency\": 0.00016155088852988692, \"feature\": \"Last Activity\", \"score_label\": \"2.4\"}, {\"index\": 16, \"value\": \"Null\", \"contribution\": 0.016096519496871083, \"mean\": 0.8, \"frequency\": 0.01050080775444265, \"feature\": \"Last Activity\", \"score_label\": \"1.6\"}, {\"index\": 0, \"value\": \"other\", \"contribution\": -0.00477728112919393, \"mean\": 0.2914572864321608, \"frequency\": 0.0321486268174475, \"feature\": \"Country\", \"score_label\": \"-0.5\"}, {\"index\": 1, \"value\": \"India\", \"contribution\": -0.0006111895277724107, \"mean\": 0.36963014013324147, \"frequency\": 0.7032310177705977, \"feature\": \"Country\", \"score_label\": \"-0.1\"}, {\"index\": 2, \"value\": \"Null\", \"contribution\": 0.0015895834763003367, \"mean\": 0.42246642246642246, \"frequency\": 0.2646203554119548, \"feature\": \"Country\", \"score_label\": \"0.2\"}, {\"index\": 0, \"value\": \"Services Excellence\", \"contribution\": -0.005608402182527407, \"mean\": 0.27586206896551724, \"frequency\": 0.004684975767366721, \"feature\": \"Specialization\", \"score_label\": \"-0.6\"}, {\"index\": 1, \"value\": \"E-Business\", \"contribution\": -0.003912062801877541, \"mean\": 0.3076923076923077, \"frequency\": 0.006300484652665589, \"feature\": \"Specialization\", \"score_label\": \"-0.4\"}, {\"index\": 2, \"value\": \"International Business\", \"contribution\": -0.0023999570015031746, \"mean\": 0.3360655737704918, \"frequency\": 0.019709208400646203, \"feature\": \"Specialization\", \"score_label\": \"-0.2\"}, {\"index\": 3, \"value\": \"E-COMMERCE\", \"contribution\": -0.0012766784069393577, \"mean\": 0.35714285714285715, \"frequency\": 0.011308562197092083, \"feature\": \"Specialization\", \"score_label\": \"-0.1\"}, {\"index\": 4, \"value\": \"Travel and Tourism\", \"contribution\": -0.00103369970385995, \"mean\": 0.3617021276595745, \"frequency\": 0.022778675282714055, \"feature\": \"Specialization\", \"score_label\": \"-0.1\"}, {\"index\": 5, \"value\": \"IT Projects Management\", \"contribution\": 0.0002993482222068847, \"mean\": 0.3888888888888889, \"frequency\": 0.040710823909531506, \"feature\": \"Specialization\", \"score_label\": \"0.0\"}, {\"index\": 6, \"value\": \"Hospitality Management\", \"contribution\": 0.0007262987971978095, \"mean\": 0.4, \"frequency\": 0.012116316639741519, \"feature\": \"Specialization\", \"score_label\": \"0.1\"}, {\"index\": 7, \"value\": \"Media and Advertising\", \"contribution\": 0.0010007670239776886, \"mean\": 0.40714285714285714, \"frequency\": 0.022617124394184167, \"feature\": \"Specialization\", \"score_label\": \"0.1\"}, {\"index\": 8, \"value\": \"Select\", \"contribution\": 0.0010399767706605288, \"mean\": 0.40816326530612246, \"frequency\": 0.20581583198707593, \"feature\": \"Specialization\", \"score_label\": \"0.1\"}, {\"index\": 9, \"value\": \"Retail Management\", \"contribution\": 0.0010510217697261178, \"mean\": 0.4084507042253521, \"frequency\": 0.01147011308562197, \"feature\": \"Specialization\", \"score_label\": \"0.1\"}, {\"index\": 10, \"value\": \"Rural and Agribusiness\", \"contribution\": 0.0013667246596841957, \"mean\": 0.4166666666666667, \"frequency\": 0.0077544426494345715, \"feature\": \"Specialization\", \"score_label\": \"0.1\"}, {\"index\": 11, \"value\": \"Human Resource Management\", \"contribution\": 0.0015970936749670672, \"mean\": 0.4226618705035971, \"frequency\": 0.08982229402261713, \"feature\": \"Specialization\", \"score_label\": \"0.2\"}, {\"index\": 12, \"value\": \"Supply Chain Management\", \"contribution\": 0.002105677577937718, \"mean\": 0.4358974358974359, \"frequency\": 0.037802907915993535, \"feature\": \"Specialization\", \"score_label\": \"0.2\"}, {\"index\": 13, \"value\": \"Business Administration\", \"contribution\": 0.002338157147725344, \"mean\": 0.4419475655430712, \"frequency\": 0.04313408723747981, \"feature\": \"Specialization\", \"score_label\": \"0.2\"}, {\"index\": 14, \"value\": \"Finance Management\", \"contribution\": 0.002349749159853269, \"mean\": 0.44224924012158057, \"frequency\": 0.10630048465266559, \"feature\": \"Specialization\", \"score_label\": \"0.2\"}, {\"index\": 15, \"value\": \"Operations Management\", \"contribution\": 0.0039562727123465405, \"mean\": 0.48405797101449277, \"frequency\": 0.05573505654281099, \"feature\": \"Specialization\", \"score_label\": \"0.4\"}, {\"index\": 16, \"value\": \"Banking, Investment And Insurance\", \"contribution\": 0.004730305870221938, \"mean\": 0.5042016806722689, \"frequency\": 0.03844911147011309, \"feature\": \"Specialization\", \"score_label\": \"0.5\"}, {\"index\": 17, \"value\": \"Marketing Management\", \"contribution\": 0.004738878537378, \"mean\": 0.504424778761062, \"frequency\": 0.0912762520193861, \"feature\": \"Specialization\", \"score_label\": \"0.5\"}, {\"index\": 18, \"value\": \"Healthcare Management\", \"contribution\": 0.005927333074359977, \"mean\": 0.5353535353535354, \"frequency\": 0.015993537964458803, \"feature\": \"Specialization\", \"score_label\": \"0.6\"}, {\"index\": 19, \"value\": \"Null\", \"contribution\": -0.014964143652900615, \"mean\": 0.10031023784901758, \"frequency\": 0.15621970920840064, \"feature\": \"Specialization\", \"score_label\": \"-1.5\"}, {\"index\": 0, \"value\": \"SMS\", \"contribution\": -0.012696677451671487, \"mean\": 0.14285714285714285, \"frequency\": 0.002261712439418417, \"feature\": \"How did you hear about X Education\", \"score_label\": \"-1.3\"}, {\"index\": 1, \"value\": \"Multiple Sources\", \"contribution\": 4.820082515339858e-05, \"mean\": 0.38235294117647056, \"frequency\": 0.016478190630048465, \"feature\": \"How did you hear about X Education\", \"score_label\": \"0.0\"}, {\"index\": 2, \"value\": \"Advertisements\", \"contribution\": 0.0005661923315762115, \"mean\": 0.3958333333333333, \"frequency\": 0.0077544426494345715, \"feature\": \"How did you hear about X Education\", \"score_label\": \"0.1\"}, {\"index\": 3, \"value\": \"Online Search\", \"contribution\": 0.0013785406350068229, \"mean\": 0.41697416974169743, \"frequency\": 0.08756058158319871, \"feature\": \"How did you hear about X Education\", \"score_label\": \"0.1\"}, {\"index\": 4, \"value\": \"Other\", \"contribution\": 0.0015875611639898461, \"mean\": 0.4224137931034483, \"frequency\": 0.018739903069466882, \"feature\": \"How did you hear about X Education\", \"score_label\": \"0.2\"}, {\"index\": 5, \"value\": \"Student of SomeSchool\", \"contribution\": 0.0029062099060457006, \"mean\": 0.4567307692307692, \"frequency\": 0.03360258481421648, \"feature\": \"How did you hear about X Education\", \"score_label\": \"0.3\"}, {\"index\": 6, \"value\": \"Word Of Mouth\", \"contribution\": 0.0031157868891638226, \"mean\": 0.46218487394957986, \"frequency\": 0.03844911147011309, \"feature\": \"How did you hear about X Education\", \"score_label\": \"0.3\"}, {\"index\": 7, \"value\": \"Select\", \"contribution\": 0.0034802629925708897, \"mean\": 0.47167012755858795, \"frequency\": 0.5445880452342488, \"feature\": \"How did you hear about X Education\", \"score_label\": \"0.3\"}, {\"index\": 8, \"value\": \"Social Media\", \"contribution\": 0.004568853972116127, \"mean\": 0.5, \"frequency\": 0.008077544426494346, \"feature\": \"How did you hear about X Education\", \"score_label\": \"0.5\"}, {\"index\": 9, \"value\": \"Email\", \"contribution\": 0.0058497056970889, \"mean\": 0.5333333333333333, \"frequency\": 0.0024232633279483036, \"feature\": \"How did you hear about X Education\", \"score_label\": \"0.6\"}, {\"index\": 10, \"value\": \"Null\", \"contribution\": -0.013280742005776225, \"mean\": 0.13189771197846567, \"frequency\": 0.24006462035541196, \"feature\": \"How did you hear about X Education\", \"score_label\": \"-1.3\"}, {\"index\": 0, \"value\": \"Student\", \"contribution\": 0.00037960208968638065, \"mean\": 0.39097744360902253, \"frequency\": 0.021486268174474958, \"feature\": \"What is your current occupation\", \"score_label\": \"0.0\"}, {\"index\": 1, \"value\": \"Unemployed\", \"contribution\": 0.0018970135904054074, \"mean\": 0.4304670912951168, \"frequency\": 0.6087237479806139, \"feature\": \"What is your current occupation\", \"score_label\": \"0.2\"}, {\"index\": 2, \"value\": \"Businessman\", \"contribution\": 0.010973112596979988, \"mean\": 0.6666666666666666, \"frequency\": 0.0009693053311793214, \"feature\": \"What is your current occupation\", \"score_label\": \"1.1\"}, {\"index\": 3, \"value\": \"Other\", \"contribution\": 0.010973112596979988, \"mean\": 0.6666666666666666, \"frequency\": 0.0014539579967689823, \"feature\": \"What is your current occupation\", \"score_label\": \"1.1\"}, {\"index\": 4, \"value\": \"Working Professional\", \"contribution\": 0.0201818504889411, \"mean\": 0.906318082788671, \"frequency\": 0.07415185783521809, \"feature\": \"What is your current occupation\", \"score_label\": \"2.0\"}, {\"index\": 5, \"value\": \"Housewife\", \"contribution\": 0.02378162984670772, \"mean\": 1.0, \"frequency\": 0.0011308562197092085, \"feature\": \"What is your current occupation\", \"score_label\": \"2.4\"}, {\"index\": 6, \"value\": \"Null\", \"contribution\": -0.01288195767216124, \"mean\": 0.13938053097345132, \"frequency\": 0.29208400646203553, \"feature\": \"What is your current occupation\", \"score_label\": \"-1.3\"}, {\"index\": 0, \"value\": \"Better Career Prospects\", \"contribution\": 0.003878442937025516, \"mean\": 0.48203250171663997, \"frequency\": 0.705815831987076, \"feature\": \"What matters most to you in choosing a course\", \"score_label\": \"0.4\"}, {\"index\": 1, \"value\": \"Flexibility & Convenience\", \"contribution\": 0.02378162984670772, \"mean\": 1.0, \"frequency\": 0.00016155088852988692, \"feature\": \"What matters most to you in choosing a course\", \"score_label\": \"2.4\"}, {\"index\": 2, \"value\": \"Null\", \"contribution\": -0.012930933842332657, \"mean\": 0.13846153846153847, \"frequency\": 0.2940226171243942, \"feature\": \"What matters most to you in choosing a course\", \"score_label\": \"-1.3\"}, {\"index\": 0, \"value\": \"Yes\", \"contribution\": -0.009651344373076251, \"mean\": 0.2, \"frequency\": 0.0016155088852988692, \"feature\": \"Search\", \"score_label\": \"-1.0\"}, {\"index\": 1, \"value\": \"No\", \"contribution\": 1.1260212868347917e-05, \"mean\": 0.3813915857605178, \"frequency\": 0.9983844911147012, \"feature\": \"Search\", \"score_label\": \"0.0\"}, {\"index\": 2, \"value\": \"Null\", \"contribution\": 0.0, \"mean\": 0.0, \"frequency\": 0.0, \"feature\": \"Search\", \"score_label\": \"0.0\"}, {\"index\": 0, \"value\": \"No\", \"contribution\": 0.0, \"mean\": 0.3810985460420032, \"frequency\": 1.0, \"feature\": \"Magazine\", \"score_label\": \"0.0\"}, {\"index\": 1, \"value\": \"Null\", \"contribution\": 0.0, \"mean\": 0.0, \"frequency\": 0.0, \"feature\": \"Magazine\", \"score_label\": \"0.0\"}, {\"index\": 0, \"value\": \"Yes\", \"contribution\": -0.02031001014815957, \"mean\": 0.0, \"frequency\": 0.00016155088852988692, \"feature\": \"Newspaper Article\", \"score_label\": \"-2.0\"}, {\"index\": 1, \"value\": \"No\", \"contribution\": 2.366120843831501e-06, \"mean\": 0.38116012279851347, \"frequency\": 0.9998384491114701, \"feature\": \"Newspaper Article\", \"score_label\": \"0.0\"}, {\"index\": 2, \"value\": \"Null\", \"contribution\": 0.0, \"mean\": 0.0, \"frequency\": 0.0, \"feature\": \"Newspaper Article\", \"score_label\": \"0.0\"}, {\"index\": 0, \"value\": \"Yes\", \"contribution\": -0.02031001014815957, \"mean\": 0.0, \"frequency\": 0.00016155088852988692, \"feature\": \"X Education Forums\", \"score_label\": \"-2.0\"}, {\"index\": 1, \"value\": \"No\", \"contribution\": 2.366120843831501e-06, \"mean\": 0.38116012279851347, \"frequency\": 0.9998384491114701, \"feature\": \"X Education Forums\", \"score_label\": \"0.0\"}, {\"index\": 2, \"value\": \"Null\", \"contribution\": 0.0, \"mean\": 0.0, \"frequency\": 0.0, \"feature\": \"X Education Forums\", \"score_label\": \"0.0\"}, {\"index\": 0, \"value\": \"Yes\", \"contribution\": -0.02031001014815957, \"mean\": 0.0, \"frequency\": 0.00016155088852988692, \"feature\": \"Newspaper\", \"score_label\": \"-2.0\"}, {\"index\": 1, \"value\": \"No\", \"contribution\": 2.366120843831501e-06, \"mean\": 0.38116012279851347, \"frequency\": 0.9998384491114701, \"feature\": \"Newspaper\", \"score_label\": \"0.0\"}, {\"index\": 2, \"value\": \"Null\", \"contribution\": 0.0, \"mean\": 0.0, \"frequency\": 0.0, \"feature\": \"Newspaper\", \"score_label\": \"0.0\"}, {\"index\": 0, \"value\": \"Yes\", \"contribution\": -0.02031001014815957, \"mean\": 0.0, \"frequency\": 0.00032310177705977385, \"feature\": \"Digital Advertisement\", \"score_label\": \"-2.0\"}, {\"index\": 1, \"value\": \"No\", \"contribution\": 4.733006432603277e-06, \"mean\": 0.38122171945701355, \"frequency\": 0.9996768982229403, \"feature\": \"Digital Advertisement\", \"score_label\": \"0.0\"}, {\"index\": 2, \"value\": \"Null\", \"contribution\": 0.0, \"mean\": 0.0, \"frequency\": 0.0, \"feature\": \"Digital Advertisement\", \"score_label\": \"0.0\"}, {\"index\": 0, \"value\": \"No\", \"contribution\": -2.010295541645848e-05, \"mean\": 0.3807213326863982, \"frequency\": 0.9988691437802908, \"feature\": \"Through Recommendations\", \"score_label\": \"-0.0\"}, {\"index\": 1, \"value\": \"Yes\", \"contribution\": 0.012802900775512523, \"mean\": 0.7142857142857143, \"frequency\": 0.0011308562197092085, \"feature\": \"Through Recommendations\", \"score_label\": \"1.3\"}, {\"index\": 2, \"value\": \"Null\", \"contribution\": 0.0, \"mean\": 0.0, \"frequency\": 0.0, \"feature\": \"Through Recommendations\", \"score_label\": \"0.0\"}, {\"index\": 0, \"value\": \"No\", \"contribution\": 0.0, \"mean\": 0.3810985460420032, \"frequency\": 1.0, \"feature\": \"Receive More Updates About Our Courses\", \"score_label\": \"0.0\"}, {\"index\": 1, \"value\": \"Null\", \"contribution\": 0.0, \"mean\": 0.0, \"frequency\": 0.0, \"feature\": \"Receive More Updates About Our Courses\", \"score_label\": \"0.0\"}, {\"index\": 0, \"value\": \"wrong number given\", \"contribution\": -0.02031001014815957, \"mean\": 0.0, \"frequency\": 0.005654281098546042, \"feature\": \"Tags\", \"score_label\": \"-2.0\"}, {\"index\": 1, \"value\": \"number not provided\", \"contribution\": -0.02031001014815957, \"mean\": 0.0, \"frequency\": 0.003554119547657512, \"feature\": \"Tags\", \"score_label\": \"-2.0\"}, {\"index\": 2, \"value\": \"University not recognized\", \"contribution\": -0.02031001014815957, \"mean\": 0.0, \"frequency\": 0.00016155088852988692, \"feature\": \"Tags\", \"score_label\": \"-2.0\"}, {\"index\": 3, \"value\": \"Diploma holder (Not Eligible)\", \"contribution\": -0.02031001014815957, \"mean\": 0.0, \"frequency\": 0.006462035541195477, \"feature\": \"Tags\", \"score_label\": \"-2.0\"}, {\"index\": 4, \"value\": \"Still Thinking\", \"contribution\": -0.02031001014815957, \"mean\": 0.0, \"frequency\": 0.0004846526655896607, \"feature\": \"Tags\", \"score_label\": \"-2.0\"}, {\"index\": 5, \"value\": \"Shall take in the next coming month\", \"contribution\": -0.02031001014815957, \"mean\": 0.0, \"frequency\": 0.00016155088852988692, \"feature\": \"Tags\", \"score_label\": \"-2.0\"}, {\"index\": 6, \"value\": \"Lost to Others\", \"contribution\": -0.02031001014815957, \"mean\": 0.0, \"frequency\": 0.0009693053311793214, \"feature\": \"Tags\", \"score_label\": \"-2.0\"}, {\"index\": 7, \"value\": \"Already a student\", \"contribution\": -0.01981655339931312, \"mean\": 0.009259259259259259, \"frequency\": 0.05234248788368336, \"feature\": \"Tags\", \"score_label\": \"-2.0\"}, {\"index\": 8, \"value\": \"Not doing further education\", \"contribution\": -0.019777076859405402, \"mean\": 0.01, \"frequency\": 0.01615508885298869, \"feature\": \"Tags\", \"score_label\": \"-2.0\"}, {\"index\": 9, \"value\": \"switched off\", \"contribution\": -0.019594663451845257, \"mean\": 0.013422818791946308, \"frequency\": 0.02407108239095315, \"feature\": \"Tags\", \"score_label\": \"-2.0\"}, {\"index\": 10, \"value\": \"invalid number\", \"contribution\": -0.019391159650307563, \"mean\": 0.017241379310344827, \"frequency\": 0.009369951534733441, \"feature\": \"Tags\", \"score_label\": \"-1.9\"}, {\"index\": 11, \"value\": \"Interested in other courses\", \"contribution\": -0.0189435145359694, \"mean\": 0.02564102564102564, \"frequency\": 0.056704361873990305, \"feature\": \"Tags\", \"score_label\": \"-1.9\"}, {\"index\": 12, \"value\": \"Ringing\", \"contribution\": -0.018719164510087434, \"mean\": 0.029850746268656716, \"frequency\": 0.12988691437802907, \"feature\": \"Tags\", \"score_label\": \"-1.9\"}, {\"index\": 13, \"value\": \"Interested  in full time MBA\", \"contribution\": -0.018260266729874318, \"mean\": 0.038461538461538464, \"frequency\": 0.012600969305331179, \"feature\": \"Tags\", \"score_label\": \"-1.8\"}, {\"index\": 14, \"value\": \"opp hangup\", \"contribution\": -0.01817827699314291, \"mean\": 0.04, \"frequency\": 0.004038772213247173, \"feature\": \"Tags\", \"score_label\": \"-1.8\"}, {\"index\": 15, \"value\": \"Graduation in progress\", \"contribution\": -0.01650334379991553, \"mean\": 0.07142857142857142, \"frequency\": 0.011308562197092083, \"feature\": \"Tags\", \"score_label\": \"-1.7\"}, {\"index\": 16, \"value\": \"In confusion whether part time or DLP\", \"contribution\": -0.006986677929305423, \"mean\": 0.25, \"frequency\": 0.0006462035541195477, \"feature\": \"Tags\", \"score_label\": \"-0.7\"}, {\"index\": 17, \"value\": \"in touch with EINS\", \"contribution\": -0.0057754659094095915, \"mean\": 0.2727272727272727, \"frequency\": 0.001777059773828756, \"feature\": \"Tags\", \"score_label\": \"-0.6\"}, {\"index\": 18, \"value\": \"Want to take admission but has financial problems\", \"contribution\": 0.0007262987971978095, \"mean\": 0.4, \"frequency\": 0.0008077544426494346, \"feature\": \"Tags\", \"score_label\": \"0.1\"}, {\"index\": 19, \"value\": \"Busy\", \"contribution\": 0.005045203787188645, \"mean\": 0.512396694214876, \"frequency\": 0.019547657512116318, \"feature\": \"Tags\", \"score_label\": \"0.5\"}, {\"index\": 20, \"value\": \"Will revert after reading the email\", \"contribution\": 0.02255912494651679, \"mean\": 0.9681851048445409, \"frequency\": 0.2234248788368336, \"feature\": \"Tags\", \"score_label\": \"2.3\"}, {\"index\": 21, \"value\": \"Lost to EINS\", \"contribution\": 0.02285941660472732, \"mean\": 0.976, \"frequency\": 0.020193861066235864, \"feature\": \"Tags\", \"score_label\": \"2.3\"}, {\"index\": 22, \"value\": \"Closed by Horizzon\", \"contribution\": 0.023454603874374244, \"mean\": 0.9914893617021276, \"frequency\": 0.03796445880452343, \"feature\": \"Tags\", \"score_label\": \"2.3\"}, {\"index\": 23, \"value\": \"Interested in Next batch\", \"contribution\": 0.02378162984670772, \"mean\": 1.0, \"frequency\": 0.0006462035541195477, \"feature\": \"Tags\", \"score_label\": \"2.4\"}, {\"index\": 24, \"value\": \"Null\", \"contribution\": -0.007338390054993295, \"mean\": 0.24340044742729305, \"frequency\": 0.36106623586429726, \"feature\": \"Tags\", \"score_label\": \"-0.7\"}, {\"index\": 0, \"value\": \"Worst\", \"contribution\": -0.0190957317687197, \"mean\": 0.02278481012658228, \"frequency\": 0.06381260096930533, \"feature\": \"Lead Quality\", \"score_label\": \"-1.9\"}, {\"index\": 1, \"value\": \"Not Sure\", \"contribution\": -0.007928000314333161, \"mean\": 0.23233695652173914, \"frequency\": 0.11890145395799677, \"feature\": \"Lead Quality\", \"score_label\": \"-0.8\"}, {\"index\": 2, \"value\": \"Might be\", \"contribution\": 0.014604265060009596, \"mean\": 0.7611650485436893, \"frequency\": 0.16639741518578352, \"feature\": \"Lead Quality\", \"score_label\": \"1.5\"}, {\"index\": 3, \"value\": \"Low in Relevance\", \"contribution\": 0.017006343644080962, \"mean\": 0.8236775818639799, \"frequency\": 0.06413570274636511, \"feature\": \"Lead Quality\", \"score_label\": \"1.7\"}, {\"index\": 4, \"value\": \"High in Relevance\", \"contribution\": 0.021521303273226353, \"mean\": 0.9411764705882353, \"frequency\": 0.06865912762520193, \"feature\": \"Lead Quality\", \"score_label\": \"2.2\"}, {\"index\": 5, \"value\": \"Null\", \"contribution\": -0.00920931052584018, \"mean\": 0.2082943560960399, \"frequency\": 0.5180936995153473, \"feature\": \"Lead Quality\", \"score_label\": \"-0.9\"}, {\"index\": 0, \"value\": \"No\", \"contribution\": 0.0, \"mean\": 0.3810985460420032, \"frequency\": 1.0, \"feature\": \"Update me on Supply Chain Content\", \"score_label\": \"0.0\"}, {\"index\": 1, \"value\": \"Null\", \"contribution\": 0.0, \"mean\": 0.0, \"frequency\": 0.0, \"feature\": \"Update me on Supply Chain Content\", \"score_label\": \"0.0\"}, {\"index\": 0, \"value\": \"No\", \"contribution\": 0.0, \"mean\": 0.3810985460420032, \"frequency\": 1.0, \"feature\": \"Get updates on DM Content\", \"score_label\": \"0.0\"}, {\"index\": 1, \"value\": \"Null\", \"contribution\": 0.0, \"mean\": 0.0, \"frequency\": 0.0, \"feature\": \"Get updates on DM Content\", \"score_label\": \"0.0\"}, {\"index\": 0, \"value\": \"Student of SomeSchool\", \"contribution\": -0.01837207091632624, \"mean\": 0.03636363636363636, \"frequency\": 0.02665589660743134, \"feature\": \"Lead Profile\", \"score_label\": \"-1.8\"}, {\"index\": 1, \"value\": \"Other Leads\", \"contribution\": -0.0009614767347917637, \"mean\": 0.3630573248407643, \"frequency\": 0.05072697899838449, \"feature\": \"Lead Profile\", \"score_label\": \"-0.1\"}, {\"index\": 2, \"value\": \"Select\", \"contribution\": 0.0006790656533267955, \"mean\": 0.3987707881417209, \"frequency\": 0.4468497576736672, \"feature\": \"Lead Profile\", \"score_label\": \"0.1\"}, {\"index\": 3, \"value\": \"Potential Lead\", \"contribution\": 0.015382602141968226, \"mean\": 0.7814207650273224, \"frequency\": 0.17738287560581584, \"feature\": \"Lead Profile\", \"score_label\": \"1.5\"}, {\"index\": 4, \"value\": \"Lateral Student\", \"contribution\": 0.020579500534275784, \"mean\": 0.9166666666666666, \"frequency\": 0.0019386106623586429, \"feature\": \"Lead Profile\", \"score_label\": \"2.1\"}, {\"index\": 5, \"value\": \"Dual Specialization Student\", \"contribution\": 0.02378162984670772, \"mean\": 1.0, \"frequency\": 0.0024232633279483036, \"feature\": \"Lead Profile\", \"score_label\": \"2.4\"}, {\"index\": 6, \"value\": \"Null\", \"contribution\": -0.012930933842332657, \"mean\": 0.13846153846153847, \"frequency\": 0.2940226171243942, \"feature\": \"Lead Profile\", \"score_label\": \"-1.3\"}, {\"index\": 0, \"value\": \"Tier II Cities\", \"contribution\": -0.0011244117530095972, \"mean\": 0.36, \"frequency\": 0.008077544426494346, \"feature\": \"City\", \"score_label\": \"-0.1\"}, {\"index\": 1, \"value\": \"Other Cities\", \"contribution\": 0.0004366161454301304, \"mean\": 0.3924611973392461, \"frequency\": 0.072859450726979, \"feature\": \"City\", \"score_label\": \"0.0\"}, {\"index\": 2, \"value\": \"Other Metro Cities\", \"contribution\": 0.0008478025181438426, \"mean\": 0.4031620553359684, \"frequency\": 0.04087237479806139, \"feature\": \"City\", \"score_label\": \"0.1\"}, {\"index\": 3, \"value\": \"Mumbai\", \"contribution\": 0.0010225502165792655, \"mean\": 0.4077097505668934, \"frequency\": 0.3562197092084006, \"feature\": \"City\", \"score_label\": \"0.1\"}, {\"index\": 4, \"value\": \"Other Cities of Maharashtra\", \"contribution\": 0.002143940512216216, \"mean\": 0.4368932038834951, \"frequency\": 0.04991922455573505, \"feature\": \"City\", \"score_label\": \"0.2\"}, {\"index\": 5, \"value\": \"Thane & Outskirts\", \"contribution\": 0.0026852484942149913, \"mean\": 0.45098039215686275, \"frequency\": 0.08239095315024232, \"feature\": \"City\", \"score_label\": \"0.3\"}, {\"index\": 6, \"value\": \"Select\", \"contribution\": 0.0038288846124344706, \"mean\": 0.48074277854195324, \"frequency\": 0.23489499192245558, \"feature\": \"City\", \"score_label\": \"0.4\"}, {\"index\": 7, \"value\": \"Null\", \"contribution\": -0.014802661965835726, \"mean\": 0.10334029227557412, \"frequency\": 0.15476575121163166, \"feature\": \"City\", \"score_label\": \"-1.5\"}, {\"index\": 0, \"value\": \"03.Low\", \"contribution\": -0.016019445535308235, \"mean\": 0.08050847457627118, \"frequency\": 0.03812600969305331, \"feature\": \"Asymmetrique Activity Index\", \"score_label\": \"-1.6\"}, {\"index\": 1, \"value\": \"01.High\", \"contribution\": -0.005318238867416244, \"mean\": 0.2813067150635209, \"frequency\": 0.08901453957996769, \"feature\": \"Asymmetrique Activity Index\", \"score_label\": \"-0.5\"}, {\"index\": 2, \"value\": \"02.Medium\", \"contribution\": 0.0016026181983743216, \"mean\": 0.42280564263322884, \"frequency\": 0.4122778675282714, \"feature\": \"Asymmetrique Activity Index\", \"score_label\": \"0.2\"}, {\"index\": 3, \"value\": \"Null\", \"contribution\": 0.0002626583271269899, \"mean\": 0.3879340582251841, \"frequency\": 0.46058158319870757, \"feature\": \"Asymmetrique Activity Index\", \"score_label\": \"0.0\"}, {\"index\": 0, \"value\": \"02.Medium\", \"contribution\": -0.004269706146398414, \"mean\": 0.3009814612868048, \"frequency\": 0.2962843295638126, \"feature\": \"Asymmetrique Profile Index\", \"score_label\": \"-0.4\"}, {\"index\": 1, \"value\": \"03.Low\", \"contribution\": 0.0022633208671651362, \"mean\": 0.44, \"frequency\": 0.004038772213247173, \"feature\": \"Asymmetrique Profile Index\", \"score_label\": \"0.2\"}, {\"index\": 2, \"value\": \"01.High\", \"contribution\": 0.003270693440049128, \"mean\": 0.46621621621621623, \"frequency\": 0.23909531502423265, \"feature\": \"Asymmetrique Profile Index\", \"score_label\": \"0.3\"}, {\"index\": 3, \"value\": \"Null\", \"contribution\": 0.0002626583271269899, \"mean\": 0.3879340582251841, \"frequency\": 0.46058158319870757, \"feature\": \"Asymmetrique Profile Index\", \"score_label\": \"0.0\"}, {\"index\": 0, \"value\": \"-inf - 11.5\", \"contribution\": 0.18110888889525018, \"mean\": 5.09433962264151, \"frequency\": 0.017124394184168012, \"feature\": \"Asymmetrique Activity Score\", \"score_label\": \"18.1\"}, {\"index\": 1, \"value\": \"11.5 - 12.5\", \"contribution\": -0.014160779893303808, \"mean\": 0.11538461538461539, \"frequency\": 0.0210016155088853, \"feature\": \"Asymmetrique Activity Score\", \"score_label\": \"-1.4\"}, {\"index\": 2, \"value\": \"12.5 - 13.5\", \"contribution\": -0.013308729688055822, \"mean\": 0.13137254901960785, \"frequency\": 0.08239095315024232, \"feature\": \"Asymmetrique Activity Score\", \"score_label\": \"-1.3\"}, {\"index\": 3, \"value\": \"13.5 - 14.5\", \"contribution\": 0.0008497282956313637, \"mean\": 0.40321217244294166, \"frequency\": 0.1911147011308562, \"feature\": \"Asymmetrique Activity Score\", \"score_label\": \"0.1\"}, {\"index\": 4, \"value\": \"14.5 - 16.5\", \"contribution\": 0.007547325189471894, \"mean\": 0.5775127768313458, \"frequency\": 0.18966074313408723, \"feature\": \"Asymmetrique Activity Score\", \"score_label\": \"0.8\"}, {\"index\": 5, \"value\": \"16.5 - 17.5\", \"contribution\": -0.01756528934770888, \"mean\": 0.05150214592274776, \"frequency\": 0.03764135702746365, \"feature\": \"Asymmetrique Activity Score\", \"score_label\": \"-1.8\"}, {\"index\": 6, \"value\": \"17.5 - inf\", \"contribution\": 0.0002469891818260771, \"mean\": 0.3875262789067975, \"frequency\": 0.46106623586429724, \"feature\": \"Asymmetrique Activity Score\", \"score_label\": \"0.0\"}, {\"index\": 7, \"value\": \"nan - nan\", \"contribution\": 0.0002626583271269899, \"mean\": 0.3879340582251841, \"frequency\": 0.46058158319870757, \"feature\": \"Asymmetrique Activity Score\", \"score_label\": \"0.0\"}, {\"index\": 0, \"value\": \"-inf - 13.5\", \"contribution\": 0.12559710454518036, \"mean\": 3.6496815286624202, \"frequency\": 0.025363489499192246, \"feature\": \"Asymmetrique Profile Score\", \"score_label\": \"12.6\"}, {\"index\": 1, \"value\": \"13.5 - 14.5\", \"contribution\": -0.007356770490940259, \"mean\": 0.24305555555555555, \"frequency\": 0.023263327948303717, \"feature\": \"Asymmetrique Profile Score\", \"score_label\": \"-0.7\"}, {\"index\": 2, \"value\": \"14.5 - 15.5\", \"contribution\": -0.005598830823174781, \"mean\": 0.2760416666666667, \"frequency\": 0.18610662358642974, \"feature\": \"Asymmetrique Profile Score\", \"score_label\": \"-0.6\"}, {\"index\": 3, \"value\": \"15.5 - 18.5\", \"contribution\": 0.0004077982345708897, \"mean\": 0.3917112299465241, \"frequency\": 0.24168012924071083, \"feature\": \"Asymmetrique Profile Score\", \"score_label\": \"0.0\"}, {\"index\": 4, \"value\": \"18.5 - 19.5\", \"contribution\": 0.013281624426872779, \"mean\": 0.7267441860465116, \"frequency\": 0.02778675282714055, \"feature\": \"Asymmetrique Profile Score\", \"score_label\": \"1.3\"}, {\"index\": 5, \"value\": \"19.5 - inf\", \"contribution\": 0.0011069233567205091, \"mean\": 0.4099055066797002, \"frequency\": 0.49579967689822296, \"feature\": \"Asymmetrique Profile Score\", \"score_label\": \"0.1\"}, {\"index\": 6, \"value\": \"nan - nan\", \"contribution\": 0.0002626583271269899, \"mean\": 0.3879340582251841, \"frequency\": 0.46058158319870757, \"feature\": \"Asymmetrique Profile Score\", \"score_label\": \"0.0\"}, {\"index\": 0, \"value\": \"No\", \"contribution\": 0.0, \"mean\": 0.3810985460420032, \"frequency\": 1.0, \"feature\": \"I agree to pay the amount through cheque\", \"score_label\": \"0.0\"}, {\"index\": 1, \"value\": \"Null\", \"contribution\": 0.0, \"mean\": 0.0, \"frequency\": 0.0, \"feature\": \"I agree to pay the amount through cheque\", \"score_label\": \"0.0\"}, {\"index\": 0, \"value\": \"Yes\", \"contribution\": -0.0013425779262063113, \"mean\": 0.3559063136456212, \"frequency\": 0.3172859450726979, \"feature\": \"A free copy of Mastering The Interview\", \"score_label\": \"-0.1\"}, {\"index\": 1, \"value\": \"No\", \"contribution\": 0.00044988214476639107, \"mean\": 0.39280643634642687, \"frequency\": 0.6827140549273021, \"feature\": \"A free copy of Mastering The Interview\", \"score_label\": \"0.0\"}, {\"index\": 2, \"value\": \"Null\", \"contribution\": 0.0, \"mean\": 0.0, \"frequency\": 0.0, \"feature\": \"A free copy of Mastering The Interview\", \"score_label\": \"0.0\"}, {\"index\": 0, \"value\": \"View in browser link Clicked\", \"contribution\": -0.02031001014815957, \"mean\": 0.0, \"frequency\": 0.00016155088852988692, \"feature\": \"Last Notable Activity\", \"score_label\": \"-2.0\"}, {\"index\": 1, \"value\": \"Olark Chat Conversation\", \"contribution\": -0.0139870728239576, \"mean\": 0.11864406779661017, \"frequency\": 0.019063004846526656, \"feature\": \"Last Notable Activity\", \"score_label\": \"-1.4\"}, {\"index\": 2, \"value\": \"Email Bounced\", \"contribution\": -0.011427788668923472, \"mean\": 0.16666666666666666, \"frequency\": 0.00678513731825525, \"feature\": \"Last Notable Activity\", \"score_label\": \"-1.1\"}, {\"index\": 3, \"value\": \"Modified\", \"contribution\": -0.00816071991790239, \"mean\": 0.22797018851380974, \"frequency\": 0.36849757673667205, \"feature\": \"Last Notable Activity\", \"score_label\": \"-0.8\"}, {\"index\": 4, \"value\": \"Email Link Clicked\", \"contribution\": -0.0063865278293570365, \"mean\": 0.26126126126126126, \"frequency\": 0.017932148626817447, \"feature\": \"Last Notable Activity\", \"score_label\": \"-0.6\"}, {\"index\": 5, \"value\": \"Page Visited on Website\", \"contribution\": -0.0046075114616528955, \"mean\": 0.29464285714285715, \"frequency\": 0.03618739903069467, \"feature\": \"Last Notable Activity\", \"score_label\": \"-0.5\"}, {\"index\": 6, \"value\": \"Unsubscribed\", \"contribution\": -0.003912062801877541, \"mean\": 0.3076923076923077, \"frequency\": 0.00420032310177706, \"feature\": \"Last Notable Activity\", \"score_label\": \"-0.4\"}, {\"index\": 7, \"value\": \"Email Opened\", \"contribution\": -0.0010165462777687957, \"mean\": 0.3620239958268127, \"frequency\": 0.3096930533117932, \"feature\": \"Last Notable Activity\", \"score_label\": \"-0.1\"}, {\"index\": 8, \"value\": \"SMS Sent\", \"contribution\": 0.011921229097309, \"mean\": 0.6913407821229051, \"frequency\": 0.23134087237479806, \"feature\": \"Last Notable Activity\", \"score_label\": \"1.2\"}, {\"index\": 9, \"value\": \"Unreachable\", \"contribution\": 0.014175241909411922, \"mean\": 0.75, \"frequency\": 0.0038772213247172858, \"feature\": \"Last Notable Activity\", \"score_label\": \"1.4\"}, {\"index\": 10, \"value\": \"Had a Phone Conversation\", \"contribution\": 0.019939074671789403, \"mean\": 0.9, \"frequency\": 0.0016155088852988692, \"feature\": \"Last Notable Activity\", \"score_label\": \"2.0\"}, {\"index\": 11, \"value\": \"Approached upfront\", \"contribution\": 0.02378162984670772, \"mean\": 1.0, \"frequency\": 0.00016155088852988692, \"feature\": \"Last Notable Activity\", \"score_label\": \"2.4\"}, {\"index\": 12, \"value\": \"Email Marked Spam\", \"contribution\": 0.02378162984670772, \"mean\": 1.0, \"frequency\": 0.00032310177705977385, \"feature\": \"Last Notable Activity\", \"score_label\": \"2.4\"}, {\"index\": 13, \"value\": \"Email Received\", \"contribution\": 0.02378162984670772, \"mean\": 1.0, \"frequency\": 0.00016155088852988692, \"feature\": \"Last Notable Activity\", \"score_label\": \"2.4\"}, {\"index\": 14, \"value\": \"Null\", \"contribution\": 0.0, \"mean\": 0.0, \"frequency\": 0.0, \"feature\": \"Last Notable Activity\", \"score_label\": \"0.0\"}]}}, {\"mode\": \"vega-lite\"});\n",
       "</script>"
      ],
      "text/plain": [
       "alt.HConcatChart(...)"
      ]
     },
     "execution_count": 16,
     "metadata": {},
     "output_type": "execute_result"
    }
   ],
   "source": [
    "model.explain()"
   ]
  },
  {
   "cell_type": "markdown",
   "id": "fd7d5f3b",
   "metadata": {},
   "source": [
    "The visualization displays feature importance and contribution analysis for the lead scoring prediction model.\n",
    "\n",
    "The 'Feature Importances' chart ranks features by their ability to predict lead conversion probability. Key factors influencing lead scoring typically include engagement metrics, demographic information, and behavioral patterns from the lead's interactions.\n",
    "\n",
    "The 'Contributions' chart shows how specific feature values impact individual predictions, helping understand what drives lead qualification decisions and enabling sales teams to prioritize high-quality prospects."
   ]
  },
  {
   "cell_type": "markdown",
   "id": "68ff786c",
   "metadata": {},
   "source": [
    "## 5. Model Persisting\n",
    "In this step, we first create a unique identifier for our churn prediction model using `client.create_model_id`. This identifier, shown as `model_id`, represents the newly instantiated model which predicts the likelihood of customers leaving within the next month. Following this, we generate a specific version of the model with `client.create_model_version`, passing in our training data. The output `version_id` represents this particular iteration of our model, allowing us to track and manage different versions systematically.\n"
   ]
  },
  {
   "cell_type": "code",
   "execution_count": 17,
   "id": "db8f4aee",
   "metadata": {},
   "outputs": [
    {
     "data": {
      "application/vnd.jupyter.widget-view+json": {
       "model_id": "d7d69efe6df24d7c911bad7984a03ede",
       "version_major": 2,
       "version_minor": 0
      },
      "text/plain": [
       "  0%|          | 0/34 [00:00<?, ?it/s]"
      ]
     },
     "metadata": {},
     "output_type": "display_data"
    },
    {
     "name": "stdout",
     "output_type": "stream",
     "text": [
      "<Response [200]>\n"
     ]
    }
   ],
   "source": [
    "# Create a model\n",
    "model_id = client.create_model(\n",
    "    model=model,\n",
    "    model_name=\"Lead Scoring\",\n",
    "    model_description=\"Predicting the likelihood of a lead converting\",\n",
    "    x=X_train,\n",
    "    y=y_train\n",
    ")"
   ]
  },
  {
   "cell_type": "markdown",
   "id": "ddd297a2",
   "metadata": {},
   "source": [
    "### SaaS Models View"
   ]
  },
  {
   "cell_type": "markdown",
   "id": "421d363a",
   "metadata": {},
   "source": [
    "![Model Image](https://xplainable-public-storage.syd1.digitaloceanspaces.com/documentation_content/models.png)"
   ]
  },
  {
   "cell_type": "markdown",
   "id": "21cc4c90",
   "metadata": {},
   "source": [
    "### SaaS Explainer View"
   ]
  },
  {
   "cell_type": "markdown",
   "id": "afa77adb",
   "metadata": {},
   "source": [
    "![Model Image](https://xplainable-public-storage.syd1.digitaloceanspaces.com/documentation_content/model_explainer.png)"
   ]
  },
  {
   "cell_type": "markdown",
   "id": "e6ef7bff",
   "metadata": {},
   "source": [
    "## 6. Model Deployment"
   ]
  },
  {
   "cell_type": "markdown",
   "id": "92ca6d22",
   "metadata": {},
   "source": [
    "The code block illustrates the deployment of our churn prediction model using the `client.deploy` function. The deployment process involves specifying the `hostname` of the server where the model will be hosted, as well as the unique `model_id` and `version_id` that we obtained in the previous steps. This step effectively activates the model's endpoint, allowing it to receive and process prediction requests. The output confirms the deployment with a `deployment_id`, indicating the model's current `status` as 'inactive', its `location`, and the `endpoint` URL where it can be accessed for xplainable deployments.\n"
   ]
  },
  {
   "cell_type": "code",
   "execution_count": null,
   "id": "3fb3a4bd",
   "metadata": {},
   "outputs": [
    {
     "name": "stdout",
     "output_type": "stream",
     "text": [
      "<Response [200]>\n"
     ]
    }
   ],
   "source": [
    "deployment = client.deploy(\n",
    "    model_version_id=model_id[\"version_id\"] #<- Use version id produced above\n",
    ")"
   ]
  },
  {
   "cell_type": "markdown",
   "id": "5470fa5d",
   "metadata": {},
   "source": [
    "### SaaS Deployment View"
   ]
  },
  {
   "cell_type": "markdown",
   "id": "7cf63875",
   "metadata": {},
   "source": [
    "![Model Image](https://xplainable-public-storage.syd1.digitaloceanspaces.com/documentation_content/deployments.png)\n"
   ]
  },
  {
   "cell_type": "markdown",
   "id": "d6ba1d6e",
   "metadata": {},
   "source": [
    "### Testing the Deployment programatically\n",
    "This section demonstrates the steps taken to programmatically test a deployed model. These steps are essential for validating that the model's deployment is functional and ready to process incoming prediction requests.\n"
   ]
  },
  {
   "cell_type": "markdown",
   "id": "8d11366a",
   "metadata": {},
   "source": [
    "1. **Activating the Deployment:**\n",
    "   The model deployment is activated using `client.activate_deployment`, which changes the deployment status to active, allowing it to accept prediction requests."
   ]
  },
  {
   "cell_type": "code",
   "execution_count": 24,
   "id": "71fbf0b4",
   "metadata": {},
   "outputs": [
    {
     "data": {
      "text/plain": [
       "{'message': 'activated deployment'}"
      ]
     },
     "execution_count": 24,
     "metadata": {},
     "output_type": "execute_result"
    }
   ],
   "source": [
    "client.activate_deployment(deployment['deployment_id'])"
   ]
  },
  {
   "cell_type": "markdown",
   "id": "284654f9",
   "metadata": {},
   "source": [
    "2. **Creating a Deployment Key:**\n",
    "   A deployment key is generated with `xp.client.generate_deploy_key`. This key is required to authenticate and make secure requests to the deployed model."
   ]
  },
  {
   "cell_type": "code",
   "execution_count": null,
   "id": "8348ea26",
   "metadata": {},
   "outputs": [],
   "source": [
    "deploy_key = client.generate_deploy_key(deployment['deployment_id'], 'Lead Scoring API Key', 7)"
   ]
  },
  {
   "cell_type": "markdown",
   "id": "23224654",
   "metadata": {},
   "source": [
    "3. **Generating Example Payload:**\n",
    "   An example payload for a deployment request is generated by `client.generate_example_deployment_payload`. This payload mimics the input data structure the model expects when making predictions."
   ]
  },
  {
   "cell_type": "code",
   "execution_count": 28,
   "id": "58b99aed",
   "metadata": {},
   "outputs": [],
   "source": [
    "#Set the option to highlight multiple ways of creating data\n",
    "option = 2"
   ]
  },
  {
   "cell_type": "code",
   "execution_count": 31,
   "id": "f904c09e",
   "metadata": {},
   "outputs": [
    {
     "data": {
      "text/plain": [
       "Index(['Lead Origin', 'Lead Source', 'Do Not Email', 'Do Not Call',\n",
       "       'Converted', 'TotalVisits', 'Total Time Spent on Website',\n",
       "       'Page Views Per Visit', 'Last Activity', 'Country', 'Specialization',\n",
       "       'How did you hear about X Education', 'What is your current occupation',\n",
       "       'What matters most to you in choosing a course', 'Search', 'Magazine',\n",
       "       'Newspaper Article', 'X Education Forums', 'Newspaper',\n",
       "       'Digital Advertisement', 'Through Recommendations',\n",
       "       'Receive More Updates About Our Courses', 'Tags', 'Lead Quality',\n",
       "       'Update me on Supply Chain Content', 'Get updates on DM Content',\n",
       "       'Lead Profile', 'City', 'Asymmetrique Activity Index',\n",
       "       'Asymmetrique Profile Index', 'Asymmetrique Activity Score',\n",
       "       'Asymmetrique Profile Score',\n",
       "       'I agree to pay the amount through cheque',\n",
       "       'A free copy of Mastering The Interview', 'Last Notable Activity'],\n",
       "      dtype='object')"
      ]
     },
     "execution_count": 31,
     "metadata": {},
     "output_type": "execute_result"
    }
   ],
   "source": [
    "df_transformed.columns"
   ]
  },
  {
   "cell_type": "code",
   "execution_count": 32,
   "id": "319cc84f",
   "metadata": {},
   "outputs": [],
   "source": [
    "if option == 1:\n",
    "    body = client.generate_example_deployment_payload(deployment['deployment_id'])\n",
    "else:\n",
    "    body = json.loads(df_transformed.drop(columns=[\"Converted\"]).sample(1).to_json(orient=\"records\"))\n",
    "    body[0][\"Gender\"] = None #<- Won't require this line the next release of xplainable"
   ]
  },
  {
   "cell_type": "code",
   "execution_count": 33,
   "id": "d7859827",
   "metadata": {},
   "outputs": [
    {
     "data": {
      "text/plain": [
       "[{'Lead Origin': 'Landing Page Submission',\n",
       "  'Lead Source': 'Google',\n",
       "  'Do Not Email': 'No',\n",
       "  'Do Not Call': 'No',\n",
       "  'TotalVisits': 2.0,\n",
       "  'Total Time Spent on Website': 164,\n",
       "  'Page Views Per Visit': 2.0,\n",
       "  'Last Activity': 'Converted to Lead',\n",
       "  'Country': 'India',\n",
       "  'Specialization': 'Banking, Investment And Insurance',\n",
       "  'How did you hear about X Education': 'Online Search',\n",
       "  'What is your current occupation': 'Unemployed',\n",
       "  'What matters most to you in choosing a course': 'Better Career Prospects',\n",
       "  'Search': 'No',\n",
       "  'Magazine': 'No',\n",
       "  'Newspaper Article': 'No',\n",
       "  'X Education Forums': 'No',\n",
       "  'Newspaper': 'No',\n",
       "  'Digital Advertisement': 'No',\n",
       "  'Through Recommendations': 'No',\n",
       "  'Receive More Updates About Our Courses': 'No',\n",
       "  'Tags': 'Ringing',\n",
       "  'Lead Quality': 'Not Sure',\n",
       "  'Update me on Supply Chain Content': 'No',\n",
       "  'Get updates on DM Content': 'No',\n",
       "  'Lead Profile': 'Other Leads',\n",
       "  'City': 'Mumbai',\n",
       "  'Asymmetrique Activity Index': '02.Medium',\n",
       "  'Asymmetrique Profile Index': '01.High',\n",
       "  'Asymmetrique Activity Score': 14.0,\n",
       "  'Asymmetrique Profile Score': 18.0,\n",
       "  'I agree to pay the amount through cheque': 'No',\n",
       "  'A free copy of Mastering The Interview': 'No',\n",
       "  'Last Notable Activity': 'Modified',\n",
       "  'Gender': None}]"
      ]
     },
     "execution_count": 33,
     "metadata": {},
     "output_type": "execute_result"
    }
   ],
   "source": [
    "body"
   ]
  },
  {
   "cell_type": "markdown",
   "id": "3cc76f6b",
   "metadata": {},
   "source": [
    "4. **Making a Prediction Request:**\n",
    "   A POST request is made to the model's prediction endpoint with the example payload. The model processes the input data and returns a prediction response, which includes the predicted class (e.g., 'No' for no churn) and the prediction probabilities for each class."
   ]
  },
  {
   "cell_type": "code",
   "execution_count": 2,
   "id": "b56be646",
   "metadata": {},
   "outputs": [
    {
     "ename": "NameError",
     "evalue": "name 'requests' is not defined",
     "output_type": "error",
     "traceback": [
      "\u001b[0;31m---------------------------------------------------------------------------\u001b[0m",
      "\u001b[0;31mNameError\u001b[0m                                 Traceback (most recent call last)",
      "Cell \u001b[0;32mIn[2], line 1\u001b[0m\n\u001b[0;32m----> 1\u001b[0m response \u001b[38;5;241m=\u001b[39m \u001b[43mrequests\u001b[49m\u001b[38;5;241m.\u001b[39mpost(\n\u001b[1;32m      2\u001b[0m     url\u001b[38;5;241m=\u001b[39m\u001b[38;5;124m\"\u001b[39m\u001b[38;5;124mhttps://inference.xplainable.io/v1/predict\u001b[39m\u001b[38;5;124m\"\u001b[39m,\n\u001b[1;32m      3\u001b[0m     headers\u001b[38;5;241m=\u001b[39m{\u001b[38;5;124m'\u001b[39m\u001b[38;5;124mapi_key\u001b[39m\u001b[38;5;124m'\u001b[39m: deploy_key[\u001b[38;5;124m'\u001b[39m\u001b[38;5;124mdeploy_key\u001b[39m\u001b[38;5;124m'\u001b[39m]},\n\u001b[1;32m      4\u001b[0m     json\u001b[38;5;241m=\u001b[39mbody\n\u001b[1;32m      5\u001b[0m )\n\u001b[1;32m      7\u001b[0m value \u001b[38;5;241m=\u001b[39m response\u001b[38;5;241m.\u001b[39mjson()\n\u001b[1;32m      8\u001b[0m value\n",
      "\u001b[0;31mNameError\u001b[0m: name 'requests' is not defined"
     ]
    }
   ],
   "source": [
    "response = requests.post(\n",
    "    url=\"https://inference.xplainable.io/v1/predict\",\n",
    "    headers={'api_key': deploy_key['deploy_key']},\n",
    "    json=body\n",
    ")\n",
    "\n",
    "value = response.json()\n",
    "value"
   ]
  },
  {
   "cell_type": "markdown",
   "id": "fcb9a408",
   "metadata": {},
   "source": [
    "## SaaS Deployment Info\n",
    "The SaaS application interface displayed above mirrors the operations performed programmatically in the earlier steps. It displays a dashboard for managing the 'Lead Scoring Prediction' model, facilitating a range of actions from deployment to testing, all within a user-friendly web interface. This makes it accessible even to non-technical users who prefer to manage model deployments and monitor performance through a graphical interface rather than code. Features like the deployment checklist, example payload, and prediction response are all integrated into the application, ensuring that users have full control and visibility over the deployment lifecycle and model interactions."
   ]
  },
  {
   "cell_type": "markdown",
   "id": "d2273ddb",
   "metadata": {},
   "source": [
    "![Model Image](https://xplainable-public-storage.syd1.digitaloceanspaces.com/documentation_content/deployment_info.png)\n",
    "\n"
   ]
  },
  {
   "cell_type": "markdown",
   "id": "75ef5763",
   "metadata": {},
   "source": [
    "## 7. Batch Optimisation (Beta)\n",
    "The concept of Batch Optimization within the Xplainable platform represents a significant leap forward from traditional machine learning approaches. Moving away from the prediction -> monitor model approach, this feature offers a dynamic and cost-effective utilisation of model insights.\n",
    "\n",
    "This optimisation approach allows for the association of monetary costs with various predictive scores. It provides a detailed understanding of the financial impact of different predictive outcomes. For example, within our Telco model, the choice to provide tech support carries a different cost implication than opting against it, influencing the decision-making process.\n",
    "\n",
    "Features may be fixed or adjustable to align with business requirements. Certain attributes like 'Senior Citizen', 'Tenure', and 'Monthly Charges' may be set due to regulatory standards or business limitations, ensuring that optimisation adheres to these rules.\n",
    "\n",
    "Conversely, features such as 'Streaming Movies' or 'Device Protection' are modifiable, enabling the exploration of various combinations to discover the most cost-effective approach. The model could assess if altering the contract type for specific customer segments improves retention without markedly raising costs.\n",
    "\n",
    "Employing the Xplainable model's output in this manner allows organisations to extend past simple predictions to genuine cost optimisation, facilitating strategic decision-making that evaluates each recommended action not only for its impact on outcomes like churn but also for cost-efficiency. Thus, Xplainable's strategy provides businesses the capability to optimise their resources with foresight rarely seen in traditional machine learning.\n",
    "\n"
   ]
  }
 ],
 "metadata": {
  "kernelspec": {
   "display_name": "xplainable-api",
   "language": "python",
   "name": "python3"
  },
  "language_info": {
   "codemirror_mode": {
    "name": "ipython",
    "version": 3
   },
   "file_extension": ".py",
   "mimetype": "text/x-python",
   "name": "python",
   "nbconvert_exporter": "python",
   "pygments_lexer": "ipython3",
   "version": "3.10.17"
  }
 },
 "nbformat": 4,
 "nbformat_minor": 5
}
