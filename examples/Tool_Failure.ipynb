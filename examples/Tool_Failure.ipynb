{
 "cells": [
  {
   "cell_type": "markdown",
   "id": "99aa8e91-1932-4a98-ad80-e59f8d68d579",
   "metadata": {},
   "source": [
    "## Package Imports"
   ]
  },
  {
   "cell_type": "code",
   "execution_count": 2,
   "id": "0324a62b-b581-4c8f-8fe9-44bfea38232d",
   "metadata": {},
   "outputs": [],
   "source": [
    "import pandas as pd\n",
    "import requests\n",
    "import json\n",
    "from sklearn.model_selection import train_test_split\n",
    "\n",
    "import xplainable as xp\n",
    "from xplainable.core.models import XClassifier\n",
    "from xplainable.core.optimisation.bayesian import XParamOptimiser\n",
    "from xplainable.preprocessing.pipeline import XPipeline\n",
    "from xplainable.preprocessing import transformers as xtf\n",
    "\n",
    "import xplainable_client"
   ]
  },
  {
   "cell_type": "markdown",
   "id": "f9405b66-af1f-411f-86a3-4416aab9dadc",
   "metadata": {},
   "source": [
    "## Read in the csv dataset"
   ]
  },
  {
   "cell_type": "code",
   "execution_count": 4,
   "id": "86b7e5d4-c187-4dbf-9a16-fecc0db86697",
   "metadata": {},
   "outputs": [],
   "source": [
    "df = pd.read_csv(\"data/asset_failure.csv\")"
   ]
  },
  {
   "cell_type": "code",
   "execution_count": 5,
   "id": "f840530d-0b7f-4c13-a488-9802ce0159ae",
   "metadata": {},
   "outputs": [
    {
     "data": {
      "text/html": [
       "<div>\n",
       "<style scoped>\n",
       "    .dataframe tbody tr th:only-of-type {\n",
       "        vertical-align: middle;\n",
       "    }\n",
       "\n",
       "    .dataframe tbody tr th {\n",
       "        vertical-align: top;\n",
       "    }\n",
       "\n",
       "    .dataframe thead th {\n",
       "        text-align: right;\n",
       "    }\n",
       "</style>\n",
       "<table border=\"1\" class=\"dataframe\">\n",
       "  <thead>\n",
       "    <tr style=\"text-align: right;\">\n",
       "      <th></th>\n",
       "      <th>UDI</th>\n",
       "      <th>Product ID</th>\n",
       "      <th>Type</th>\n",
       "      <th>Air temperature [K]</th>\n",
       "      <th>Process temperature [K]</th>\n",
       "      <th>Rotational speed [rpm]</th>\n",
       "      <th>Torque [Nm]</th>\n",
       "      <th>Tool wear [min]</th>\n",
       "      <th>Machine failure</th>\n",
       "      <th>TWF</th>\n",
       "      <th>HDF</th>\n",
       "      <th>PWF</th>\n",
       "      <th>OSF</th>\n",
       "      <th>RNF</th>\n",
       "    </tr>\n",
       "  </thead>\n",
       "  <tbody>\n",
       "    <tr>\n",
       "      <th>0</th>\n",
       "      <td>1</td>\n",
       "      <td>M14860</td>\n",
       "      <td>M</td>\n",
       "      <td>298.1</td>\n",
       "      <td>308.6</td>\n",
       "      <td>1551</td>\n",
       "      <td>42.8</td>\n",
       "      <td>0</td>\n",
       "      <td>0</td>\n",
       "      <td>0</td>\n",
       "      <td>0</td>\n",
       "      <td>0</td>\n",
       "      <td>0</td>\n",
       "      <td>0</td>\n",
       "    </tr>\n",
       "    <tr>\n",
       "      <th>1</th>\n",
       "      <td>2</td>\n",
       "      <td>L47181</td>\n",
       "      <td>L</td>\n",
       "      <td>298.2</td>\n",
       "      <td>308.7</td>\n",
       "      <td>1408</td>\n",
       "      <td>46.3</td>\n",
       "      <td>3</td>\n",
       "      <td>0</td>\n",
       "      <td>0</td>\n",
       "      <td>0</td>\n",
       "      <td>0</td>\n",
       "      <td>0</td>\n",
       "      <td>0</td>\n",
       "    </tr>\n",
       "    <tr>\n",
       "      <th>2</th>\n",
       "      <td>3</td>\n",
       "      <td>L47182</td>\n",
       "      <td>L</td>\n",
       "      <td>298.1</td>\n",
       "      <td>308.5</td>\n",
       "      <td>1498</td>\n",
       "      <td>49.4</td>\n",
       "      <td>5</td>\n",
       "      <td>0</td>\n",
       "      <td>0</td>\n",
       "      <td>0</td>\n",
       "      <td>0</td>\n",
       "      <td>0</td>\n",
       "      <td>0</td>\n",
       "    </tr>\n",
       "    <tr>\n",
       "      <th>3</th>\n",
       "      <td>4</td>\n",
       "      <td>L47183</td>\n",
       "      <td>L</td>\n",
       "      <td>298.2</td>\n",
       "      <td>308.6</td>\n",
       "      <td>1433</td>\n",
       "      <td>39.5</td>\n",
       "      <td>7</td>\n",
       "      <td>0</td>\n",
       "      <td>0</td>\n",
       "      <td>0</td>\n",
       "      <td>0</td>\n",
       "      <td>0</td>\n",
       "      <td>0</td>\n",
       "    </tr>\n",
       "    <tr>\n",
       "      <th>4</th>\n",
       "      <td>5</td>\n",
       "      <td>L47184</td>\n",
       "      <td>L</td>\n",
       "      <td>298.2</td>\n",
       "      <td>308.7</td>\n",
       "      <td>1408</td>\n",
       "      <td>40.0</td>\n",
       "      <td>9</td>\n",
       "      <td>0</td>\n",
       "      <td>0</td>\n",
       "      <td>0</td>\n",
       "      <td>0</td>\n",
       "      <td>0</td>\n",
       "      <td>0</td>\n",
       "    </tr>\n",
       "  </tbody>\n",
       "</table>\n",
       "</div>"
      ],
      "text/plain": [
       "   UDI Product ID Type  Air temperature [K]  Process temperature [K]  \\\n",
       "0    1     M14860    M                298.1                    308.6   \n",
       "1    2     L47181    L                298.2                    308.7   \n",
       "2    3     L47182    L                298.1                    308.5   \n",
       "3    4     L47183    L                298.2                    308.6   \n",
       "4    5     L47184    L                298.2                    308.7   \n",
       "\n",
       "   Rotational speed [rpm]  Torque [Nm]  Tool wear [min]  Machine failure  TWF  \\\n",
       "0                    1551         42.8                0                0    0   \n",
       "1                    1408         46.3                3                0    0   \n",
       "2                    1498         49.4                5                0    0   \n",
       "3                    1433         39.5                7                0    0   \n",
       "4                    1408         40.0                9                0    0   \n",
       "\n",
       "   HDF  PWF  OSF  RNF  \n",
       "0    0    0    0    0  \n",
       "1    0    0    0    0  \n",
       "2    0    0    0    0  \n",
       "3    0    0    0    0  \n",
       "4    0    0    0    0  "
      ]
     },
     "execution_count": 5,
     "metadata": {},
     "output_type": "execute_result"
    }
   ],
   "source": [
    "df.head()"
   ]
  },
  {
   "cell_type": "markdown",
   "id": "556e5585-ec8d-4c98-8c93-3c3b5904178e",
   "metadata": {},
   "source": [
    "## Dataset Overview: Machine Failure Prediction\n",
    "\n",
    "This dataset is designed for predictive maintenance, focusing on machine failure prediction. Below is an overview of its structure and the data it contains:\n",
    "\n",
    "1. **UDI (Unique Identifier):** A column for unique identification numbers for each record.\n",
    "\n",
    "2. **Product ID:** Identifier for the product being produced or involved in the process.\n",
    "\n",
    "3. **Type:** Indicates the type or category of the product or process, with different types represented by different letters (e.g., 'M', 'L').\n",
    "\n",
    "4. **Air temperature [K] (Kelvin):** The temperature of the air in the environment where the machine operates, measured in Kelvin.\n",
    "\n",
    "5. **Process temperature [K] (Kelvin):** The operational temperature of the process or machine, also measured in Kelvin.\n",
    "\n",
    "6. **Rotational speed [rpm] (Revolutions per Minute):** This column shows the speed at which a component of the machine is rotating.\n",
    "\n",
    "7. **Torque [Nm] (Newton Meters):** The torque being applied in the process, measured in Newton meters.\n",
    "\n",
    "8. **Tool wear [min]:** Indicates the amount of wear on the tools used in the machine, measured in minutes of operation.\n",
    "\n",
    "9. **Machine failure:** A binary indicator (0 or 1) showing whether a machine failure occurred.\n",
    "\n",
    "10. **TWF (Tool Wear Failure):** Specific indicator of failure due to tool wear.\n",
    "\n",
    "11. **HDF (Heat Dissipation Failure):** Indicates failure due to ineffective heat dissipation.\n",
    "\n",
    "12. **PWF (Power Failure):** Shows whether a failure was due to power issues.\n",
    "\n",
    "13. **OSF (Overstrain Failure):** Indicates if the failure was due to overstraining of the machine components.\n",
    "\n",
    "14. **RNF (Random Failure):** A column for failures that don't fit into the other specified categories and are considered random.\n",
    "\n",
    "Each row of the dataset represents a unique instance or record of the production process, with the corresponding measurements and failure indicators. This data can be used to train machine learning models to predict machine failures based on these parameters.\n"
   ]
  },
  {
   "cell_type": "code",
   "execution_count": 6,
   "id": "7ca3748f-3fb5-4ba0-9ce0-5a9e5f6037ff",
   "metadata": {},
   "outputs": [
    {
     "data": {
      "text/html": [
       "<div>\n",
       "<style scoped>\n",
       "    .dataframe tbody tr th:only-of-type {\n",
       "        vertical-align: middle;\n",
       "    }\n",
       "\n",
       "    .dataframe tbody tr th {\n",
       "        vertical-align: top;\n",
       "    }\n",
       "\n",
       "    .dataframe thead th {\n",
       "        text-align: right;\n",
       "    }\n",
       "</style>\n",
       "<table border=\"1\" class=\"dataframe\">\n",
       "  <thead>\n",
       "    <tr style=\"text-align: right;\">\n",
       "      <th></th>\n",
       "      <th>Type</th>\n",
       "      <th>Air temperature [K]</th>\n",
       "      <th>Process temperature [K]</th>\n",
       "      <th>Rotational speed [rpm]</th>\n",
       "      <th>Torque [Nm]</th>\n",
       "      <th>Tool wear [min]</th>\n",
       "      <th>Machine failure</th>\n",
       "    </tr>\n",
       "  </thead>\n",
       "  <tbody>\n",
       "    <tr>\n",
       "      <th>0</th>\n",
       "      <td>M</td>\n",
       "      <td>298.1</td>\n",
       "      <td>308.6</td>\n",
       "      <td>1551</td>\n",
       "      <td>42.8</td>\n",
       "      <td>0</td>\n",
       "      <td>0</td>\n",
       "    </tr>\n",
       "    <tr>\n",
       "      <th>1</th>\n",
       "      <td>L</td>\n",
       "      <td>298.2</td>\n",
       "      <td>308.7</td>\n",
       "      <td>1408</td>\n",
       "      <td>46.3</td>\n",
       "      <td>3</td>\n",
       "      <td>0</td>\n",
       "    </tr>\n",
       "    <tr>\n",
       "      <th>2</th>\n",
       "      <td>L</td>\n",
       "      <td>298.1</td>\n",
       "      <td>308.5</td>\n",
       "      <td>1498</td>\n",
       "      <td>49.4</td>\n",
       "      <td>5</td>\n",
       "      <td>0</td>\n",
       "    </tr>\n",
       "    <tr>\n",
       "      <th>3</th>\n",
       "      <td>L</td>\n",
       "      <td>298.2</td>\n",
       "      <td>308.6</td>\n",
       "      <td>1433</td>\n",
       "      <td>39.5</td>\n",
       "      <td>7</td>\n",
       "      <td>0</td>\n",
       "    </tr>\n",
       "    <tr>\n",
       "      <th>4</th>\n",
       "      <td>L</td>\n",
       "      <td>298.2</td>\n",
       "      <td>308.7</td>\n",
       "      <td>1408</td>\n",
       "      <td>40.0</td>\n",
       "      <td>9</td>\n",
       "      <td>0</td>\n",
       "    </tr>\n",
       "    <tr>\n",
       "      <th>...</th>\n",
       "      <td>...</td>\n",
       "      <td>...</td>\n",
       "      <td>...</td>\n",
       "      <td>...</td>\n",
       "      <td>...</td>\n",
       "      <td>...</td>\n",
       "      <td>...</td>\n",
       "    </tr>\n",
       "    <tr>\n",
       "      <th>9995</th>\n",
       "      <td>M</td>\n",
       "      <td>298.8</td>\n",
       "      <td>308.4</td>\n",
       "      <td>1604</td>\n",
       "      <td>29.5</td>\n",
       "      <td>14</td>\n",
       "      <td>0</td>\n",
       "    </tr>\n",
       "    <tr>\n",
       "      <th>9996</th>\n",
       "      <td>H</td>\n",
       "      <td>298.9</td>\n",
       "      <td>308.4</td>\n",
       "      <td>1632</td>\n",
       "      <td>31.8</td>\n",
       "      <td>17</td>\n",
       "      <td>0</td>\n",
       "    </tr>\n",
       "    <tr>\n",
       "      <th>9997</th>\n",
       "      <td>M</td>\n",
       "      <td>299.0</td>\n",
       "      <td>308.6</td>\n",
       "      <td>1645</td>\n",
       "      <td>33.4</td>\n",
       "      <td>22</td>\n",
       "      <td>0</td>\n",
       "    </tr>\n",
       "    <tr>\n",
       "      <th>9998</th>\n",
       "      <td>H</td>\n",
       "      <td>299.0</td>\n",
       "      <td>308.7</td>\n",
       "      <td>1408</td>\n",
       "      <td>48.5</td>\n",
       "      <td>25</td>\n",
       "      <td>0</td>\n",
       "    </tr>\n",
       "    <tr>\n",
       "      <th>9999</th>\n",
       "      <td>M</td>\n",
       "      <td>299.0</td>\n",
       "      <td>308.7</td>\n",
       "      <td>1500</td>\n",
       "      <td>40.2</td>\n",
       "      <td>30</td>\n",
       "      <td>0</td>\n",
       "    </tr>\n",
       "  </tbody>\n",
       "</table>\n",
       "<p>10000 rows × 7 columns</p>\n",
       "</div>"
      ],
      "text/plain": [
       "     Type  Air temperature [K]  Process temperature [K]  \\\n",
       "0       M                298.1                    308.6   \n",
       "1       L                298.2                    308.7   \n",
       "2       L                298.1                    308.5   \n",
       "3       L                298.2                    308.6   \n",
       "4       L                298.2                    308.7   \n",
       "...   ...                  ...                      ...   \n",
       "9995    M                298.8                    308.4   \n",
       "9996    H                298.9                    308.4   \n",
       "9997    M                299.0                    308.6   \n",
       "9998    H                299.0                    308.7   \n",
       "9999    M                299.0                    308.7   \n",
       "\n",
       "      Rotational speed [rpm]  Torque [Nm]  Tool wear [min]  Machine failure  \n",
       "0                       1551         42.8                0                0  \n",
       "1                       1408         46.3                3                0  \n",
       "2                       1498         49.4                5                0  \n",
       "3                       1433         39.5                7                0  \n",
       "4                       1408         40.0                9                0  \n",
       "...                      ...          ...              ...              ...  \n",
       "9995                    1604         29.5               14                0  \n",
       "9996                    1632         31.8               17                0  \n",
       "9997                    1645         33.4               22                0  \n",
       "9998                    1408         48.5               25                0  \n",
       "9999                    1500         40.2               30                0  \n",
       "\n",
       "[10000 rows x 7 columns]"
      ]
     },
     "execution_count": 6,
     "metadata": {},
     "output_type": "execute_result"
    }
   ],
   "source": [
    "df = df.drop(columns=[\"Product ID\", \"UDI\", \"TWF\", \"HDF\", \"PWF\", \"OSF\", \"RNF\"])\n",
    "df"
   ]
  },
  {
   "cell_type": "code",
   "execution_count": 7,
   "id": "f5c8490b-d1b3-4cd6-a48b-79e85f5f3149",
   "metadata": {},
   "outputs": [
    {
     "data": {
      "text/plain": [
       "0    9661\n",
       "1     339\n",
       "Name: Machine failure, dtype: int64"
      ]
     },
     "execution_count": 7,
     "metadata": {},
     "output_type": "execute_result"
    }
   ],
   "source": [
    "df[\"Machine failure\"].value_counts()"
   ]
  },
  {
   "cell_type": "code",
   "execution_count": 8,
   "id": "fd52a0ac-21ca-459b-803f-f3d45bbb8990",
   "metadata": {},
   "outputs": [],
   "source": [
    "X, y = df.drop(columns=['Machine failure']), df['Machine failure']\n",
    "\n",
    "X_train, X_test, y_train, y_test = train_test_split(\n",
    "     X, y, test_size=0.33, random_state=42)"
   ]
  },
  {
   "cell_type": "markdown",
   "id": "03ba45f8-971a-41f7-a5f5-08ff3fe87e98",
   "metadata": {},
   "source": [
    "## 2. Model Optimisation\n",
    "The `XParamOptimiser` is utilised to fine-tune the hyperparameters of our model. This process searches for the optimal parameters that will yield the best model performance, balancing accuracy and computational efficiency."
   ]
  },
  {
   "cell_type": "code",
   "execution_count": 9,
   "id": "cada979b-d142-4f60-95bd-50df6a6987c1",
   "metadata": {},
   "outputs": [
    {
     "name": "stdout",
     "output_type": "stream",
     "text": [
      "100%|██████████| 30/30 [00:01<00:00, 17.32trial/s, best loss: -0.9315957452699021]\n"
     ]
    }
   ],
   "source": [
    "opt = XParamOptimiser()\n",
    "params = opt.optimise(X_train, y_train)"
   ]
  },
  {
   "cell_type": "markdown",
   "id": "b7f01515-675b-4253-ad87-fefc5c27f64e",
   "metadata": {},
   "source": [
    "## 3. Model Training\n",
    "With the optimised parameters obtained, the `XClassifier` is trained on the dataset. This classifier undergoes a fitting process with the training data, ensuring that it learns the underlying patterns and can make accurate predictions."
   ]
  },
  {
   "cell_type": "code",
   "execution_count": 10,
   "id": "2880d74e-9594-4320-aea5-116fa5e6f136",
   "metadata": {},
   "outputs": [
    {
     "data": {
      "text/plain": [
       "<xplainable.core.ml.classification.XClassifier at 0x294115630>"
      ]
     },
     "execution_count": 10,
     "metadata": {},
     "output_type": "execute_result"
    }
   ],
   "source": [
    "model = XClassifier(**params)\n",
    "model.fit(X_train, y_train)"
   ]
  },
  {
   "cell_type": "markdown",
   "id": "29c58f7a-27d0-4a6d-9ed5-eba3d4c91ec5",
   "metadata": {},
   "source": [
    "## 4. Model Interpretability and Explainability\n",
    "Following training, the `model.explain()` method is called to generate insights into the model's decision-making process. This step is crucial for understanding the factors that influence the model's predictions and ensuring that the model's behaviour is transparent and explainable."
   ]
  },
  {
   "cell_type": "code",
   "execution_count": 11,
   "id": "2d85c3b8-af16-4742-bfe6-20d004844183",
   "metadata": {},
   "outputs": [
    {
     "data": {
      "text/html": [
       "\n",
       "    <style>\n",
       "    .vega-bind {\n",
       "      text-align:right;\n",
       "    }\n",
       "    </style>\n",
       "    "
      ],
      "text/plain": [
       "<IPython.core.display.HTML object>"
      ]
     },
     "metadata": {},
     "output_type": "display_data"
    },
    {
     "data": {
      "text/html": [
       "\n",
       "<style>\n",
       "  #altair-viz-ba8b4783c08e4f2a9467898ae9f4c1e0.vega-embed {\n",
       "    width: 100%;\n",
       "    display: flex;\n",
       "  }\n",
       "\n",
       "  #altair-viz-ba8b4783c08e4f2a9467898ae9f4c1e0.vega-embed details,\n",
       "  #altair-viz-ba8b4783c08e4f2a9467898ae9f4c1e0.vega-embed details summary {\n",
       "    position: relative;\n",
       "  }\n",
       "</style>\n",
       "<div id=\"altair-viz-ba8b4783c08e4f2a9467898ae9f4c1e0\"></div>\n",
       "<script type=\"text/javascript\">\n",
       "  var VEGA_DEBUG = (typeof VEGA_DEBUG == \"undefined\") ? {} : VEGA_DEBUG;\n",
       "  (function(spec, embedOpt){\n",
       "    let outputDiv = document.currentScript.previousElementSibling;\n",
       "    if (outputDiv.id !== \"altair-viz-ba8b4783c08e4f2a9467898ae9f4c1e0\") {\n",
       "      outputDiv = document.getElementById(\"altair-viz-ba8b4783c08e4f2a9467898ae9f4c1e0\");\n",
       "    }\n",
       "    const paths = {\n",
       "      \"vega\": \"https://cdn.jsdelivr.net/npm/vega@5?noext\",\n",
       "      \"vega-lib\": \"https://cdn.jsdelivr.net/npm/vega-lib?noext\",\n",
       "      \"vega-lite\": \"https://cdn.jsdelivr.net/npm/vega-lite@5.20.1?noext\",\n",
       "      \"vega-embed\": \"https://cdn.jsdelivr.net/npm/vega-embed@6?noext\",\n",
       "    };\n",
       "\n",
       "    function maybeLoadScript(lib, version) {\n",
       "      var key = `${lib.replace(\"-\", \"\")}_version`;\n",
       "      return (VEGA_DEBUG[key] == version) ?\n",
       "        Promise.resolve(paths[lib]) :\n",
       "        new Promise(function(resolve, reject) {\n",
       "          var s = document.createElement('script');\n",
       "          document.getElementsByTagName(\"head\")[0].appendChild(s);\n",
       "          s.async = true;\n",
       "          s.onload = () => {\n",
       "            VEGA_DEBUG[key] = version;\n",
       "            return resolve(paths[lib]);\n",
       "          };\n",
       "          s.onerror = () => reject(`Error loading script: ${paths[lib]}`);\n",
       "          s.src = paths[lib];\n",
       "        });\n",
       "    }\n",
       "\n",
       "    function showError(err) {\n",
       "      outputDiv.innerHTML = `<div class=\"error\" style=\"color:red;\">${err}</div>`;\n",
       "      throw err;\n",
       "    }\n",
       "\n",
       "    function displayChart(vegaEmbed) {\n",
       "      vegaEmbed(outputDiv, spec, embedOpt)\n",
       "        .catch(err => showError(`Javascript Error: ${err.message}<br>This usually means there's a typo in your chart specification. See the javascript console for the full traceback.`));\n",
       "    }\n",
       "\n",
       "    if(typeof define === \"function\" && define.amd) {\n",
       "      requirejs.config({paths});\n",
       "      require([\"vega-embed\"], displayChart, err => showError(`Error loading script: ${err.message}`));\n",
       "    } else {\n",
       "      maybeLoadScript(\"vega\", \"5\")\n",
       "        .then(() => maybeLoadScript(\"vega-lite\", \"5.20.1\"))\n",
       "        .then(() => maybeLoadScript(\"vega-embed\", \"6\"))\n",
       "        .catch(showError)\n",
       "        .then(() => displayChart(vegaEmbed));\n",
       "    }\n",
       "  })({\"config\": {\"view\": {\"continuousWidth\": 300, \"continuousHeight\": 300}}, \"hconcat\": [{\"mark\": {\"type\": \"bar\", \"color\": \"#0080ea\"}, \"encoding\": {\"color\": {\"condition\": {\"param\": \"param_1\", \"value\": \"lightgray\"}, \"value\": \"#0080ea\"}, \"tooltip\": {\"field\": \"importance_label\", \"type\": \"nominal\"}, \"x\": {\"field\": \"importance\", \"type\": \"quantitative\"}, \"y\": {\"field\": \"feature\", \"sort\": {\"field\": \"importance\", \"order\": \"descending\"}, \"type\": \"nominal\"}}, \"height\": 400, \"name\": \"view_1\", \"title\": \"Feature Importances\", \"transform\": [{\"filter\": {\"param\": \"param_2\"}}], \"width\": 330}, {\"mark\": {\"type\": \"bar\", \"color\": \"#0080ea\"}, \"encoding\": {\"x\": {\"axis\": {\"labels\": false, \"title\": null}, \"field\": \"importance\", \"type\": \"quantitative\"}, \"y\": {\"axis\": {\"labels\": false, \"title\": null}, \"field\": \"feature\", \"sort\": \"-x\", \"type\": \"nominal\"}}, \"height\": 400, \"name\": \"view_2\", \"width\": 25}, {\"data\": {\"name\": \"data-15909cd674847a01aefc7278f33eb52f\"}, \"mark\": {\"type\": \"bar\", \"color\": \"#e14067\"}, \"encoding\": {\"color\": {\"condition\": {\"test\": \"(datum.contribution < 0)\", \"value\": \"#e14067\"}, \"value\": \"#12b980\"}, \"tooltip\": {\"field\": \"score_label\", \"type\": \"nominal\"}, \"x\": {\"field\": \"val\", \"type\": \"quantitative\"}, \"y\": {\"field\": \"value\", \"sort\": {\"field\": \"index\", \"order\": \"descending\"}, \"type\": \"nominal\"}}, \"height\": 400, \"name\": \"view_3\", \"title\": \"Contributions\", \"transform\": [{\"fold\": [\"contribution\", \"mean\", \"frequency\"], \"as\": [\"column\", \"val\"]}, {\"filter\": {\"param\": \"Select\"}}, {\"filter\": {\"param\": \"param_1\"}}, {\"filter\": {\"param\": \"param_3\"}}], \"width\": 330}, {\"data\": {\"name\": \"data-15909cd674847a01aefc7278f33eb52f\"}, \"mark\": {\"type\": \"bar\", \"color\": \"#e14067\"}, \"encoding\": {\"color\": {\"condition\": {\"test\": \"(datum.contribution < 0)\", \"value\": \"#e14067\"}, \"value\": \"#12b980\"}, \"x\": {\"axis\": {\"labels\": false, \"title\": null}, \"field\": \"contribution\", \"type\": \"quantitative\"}, \"y\": {\"axis\": {\"labels\": false, \"title\": null}, \"field\": \"value\", \"sort\": {\"field\": \"index\", \"order\": \"descending\"}, \"type\": \"nominal\"}}, \"height\": 400, \"name\": \"view_4\", \"transform\": [{\"filter\": {\"param\": \"param_1\"}}], \"width\": 25}], \"data\": {\"name\": \"data-85171f6d95b64eccc4f33e1edafc4568\"}, \"params\": [{\"name\": \"param_1\", \"select\": {\"type\": \"point\", \"fields\": [\"feature\"]}, \"value\": \"Rotational speed [rpm]\", \"views\": [\"view_1\"]}, {\"name\": \"Select\", \"select\": {\"type\": \"point\", \"fields\": [\"column\"]}, \"bind\": {\"input\": \"select\", \"options\": [\"contribution\", \"mean\", \"frequency\"]}, \"value\": \"contribution\", \"views\": [\"view_1\", \"view_3\"]}, {\"name\": \"param_2\", \"select\": {\"type\": \"interval\", \"encodings\": [\"y\"]}, \"views\": [\"view_2\"]}, {\"name\": \"param_3\", \"select\": {\"type\": \"interval\", \"encodings\": [\"y\"]}, \"views\": [\"view_4\"]}], \"$schema\": \"https://vega.github.io/schema/vega-lite/v5.20.1.json\", \"datasets\": {\"data-85171f6d95b64eccc4f33e1edafc4568\": [{\"feature\": \"Process temperature [K]\", \"importance\": 0.0, \"importance_label\": \"0.0%\"}, {\"feature\": \"Type\", \"importance\": 0.010689167023169282, \"importance_label\": \"1.1%\"}, {\"feature\": \"Tool wear [min]\", \"importance\": 0.040013536001665594, \"importance_label\": \"4.0%\"}, {\"feature\": \"Air temperature [K]\", \"importance\": 0.10804910127156683, \"importance_label\": \"10.8%\"}, {\"feature\": \"Torque [Nm]\", \"importance\": 0.3428250419432102, \"importance_label\": \"34.3%\"}, {\"feature\": \"Rotational speed [rpm]\", \"importance\": 0.49842315376038804, \"importance_label\": \"49.8%\"}], \"data-15909cd674847a01aefc7278f33eb52f\": [{\"index\": 0, \"value\": \"H\", \"contribution\": -0.004153573033897188, \"mean\": 0.01608187134502924, \"frequency\": 0.10208955223880598, \"feature\": \"Type\", \"score_label\": \"-0.4\"}, {\"index\": 1, \"value\": \"M\", \"contribution\": -0.000967552293424214, \"mean\": 0.03273809523809524, \"frequency\": 0.3008955223880597, \"feature\": \"Type\", \"score_label\": \"-0.1\"}, {\"index\": 2, \"value\": \"L\", \"contribution\": 0.021124044439256057, \"mean\": 0.04025, \"frequency\": 0.5970149253731343, \"feature\": \"Type\", \"score_label\": \"2.1\"}, {\"index\": 3, \"value\": \"Null\", \"contribution\": 0.0, \"mean\": 0.0, \"frequency\": 0.0, \"feature\": \"Type\", \"score_label\": \"0.0\"}, {\"index\": 0, \"value\": \"-inf - 301.75\", \"contribution\": -0.006475834526553804, \"mean\": 0.023376125694577504, \"frequency\": 0.778955223880597, \"feature\": \"Air temperature [K]\", \"score_label\": \"-0.6\"}, {\"index\": 1, \"value\": \"301.75 - 302.15\", \"contribution\": 0.0803923803941034, \"mean\": 0.0959409594095941, \"frequency\": 0.04044776119402985, \"feature\": \"Air temperature [K]\", \"score_label\": \"8.0\"}, {\"index\": 2, \"value\": \"302.15 - 302.35\", \"contribution\": 0.021255725869578246, \"mean\": 0.051470588235294115, \"frequency\": 0.04059701492537313, \"feature\": \"Air temperature [K]\", \"score_label\": \"2.1\"}, {\"index\": 3, \"value\": \"302.35 - 302.55\", \"contribution\": 0.06157609254114416, \"mean\": 0.08994708994708994, \"frequency\": 0.028208955223880595, \"feature\": \"Air temperature [K]\", \"score_label\": \"6.2\"}, {\"index\": 4, \"value\": \"302.55 - 302.95\", \"contribution\": 0.07401243386894873, \"mean\": 0.09900990099009901, \"frequency\": 0.030149253731343282, \"feature\": \"Air temperature [K]\", \"score_label\": \"7.4\"}, {\"index\": 5, \"value\": \"302.95 - 303.45\", \"contribution\": 0.12979342792264414, \"mean\": 0.1513513513513513, \"frequency\": 0.027611940298507463, \"feature\": \"Air temperature [K]\", \"score_label\": \"13.0\"}, {\"index\": 6, \"value\": \"303.45 - inf\", \"contribution\": -0.0008240487113308931, \"mean\": 0.03038674033149171, \"frequency\": 0.054029850746268655, \"feature\": \"Air temperature [K]\", \"score_label\": \"-0.1\"}, {\"index\": 7, \"value\": \"nan - nan\", \"contribution\": 0.0, \"mean\": 0.0, \"frequency\": 0.0, \"feature\": \"Air temperature [K]\", \"score_label\": \"0.0\"}, {\"index\": 0, \"value\": \"-inf - inf\", \"contribution\": 0.0, \"mean\": 0.035522388059701496, \"frequency\": 1.0, \"feature\": \"Process temperature [K]\", \"score_label\": \"0.0\"}, {\"index\": 1, \"value\": \"nan - nan\", \"contribution\": 0.0, \"mean\": 0.0, \"frequency\": 0.0, \"feature\": \"Process temperature [K]\", \"score_label\": \"0.0\"}, {\"index\": 0, \"value\": \"-inf - 1313.5\", \"contribution\": 0.21543289802202337, \"mean\": 0.215962441314554, \"frequency\": 0.0317910447761194, \"feature\": \"Rotational speed [rpm]\", \"score_label\": \"21.5\"}, {\"index\": 1, \"value\": \"1313.5 - 1341.5\", \"contribution\": 0.17172066779697423, \"mean\": 0.17727272727272728, \"frequency\": 0.03283582089552239, \"feature\": \"Rotational speed [rpm]\", \"score_label\": \"17.2\"}, {\"index\": 2, \"value\": \"1341.5 - 1364.5\", \"contribution\": 0.13575344116501037, \"mean\": 0.13805970149253732, \"frequency\": 0.04, \"feature\": \"Rotational speed [rpm]\", \"score_label\": \"13.6\"}, {\"index\": 3, \"value\": \"1364.5 - 1380.5\", \"contribution\": 0.15996702547409208, \"mean\": 0.1625, \"frequency\": 0.03582089552238806, \"feature\": \"Rotational speed [rpm]\", \"score_label\": \"16.0\"}, {\"index\": 4, \"value\": \"1380.5 - 1497.5\", \"contribution\": -0.0074600520385695165, \"mean\": 0.015424164524421594, \"frequency\": 0.3483582089552239, \"feature\": \"Rotational speed [rpm]\", \"score_label\": \"-0.7\"}, {\"index\": 5, \"value\": \"1497.5 - 1559.5\", \"contribution\": -0.007658506662523075, \"mean\": 0.006433823529411764, \"frequency\": 0.16238805970149253, \"feature\": \"Rotational speed [rpm]\", \"score_label\": \"-0.8\"}, {\"index\": 6, \"value\": \"1559.5 - 1648.5\", \"contribution\": -0.008292369803229156, \"mean\": 0.0037488284910965055, \"frequency\": 0.15925373134328358, \"feature\": \"Rotational speed [rpm]\", \"score_label\": \"-0.8\"}, {\"index\": 7, \"value\": \"1648.5 - 1988.0\", \"contribution\": -0.008204924406535535, \"mean\": 0.004537205081669692, \"frequency\": 0.1644776119402985, \"feature\": \"Rotational speed [rpm]\", \"score_label\": \"-0.8\"}, {\"index\": 8, \"value\": \"1988.0 - inf\", \"contribution\": 0.12155645578819022, \"mean\": 0.1488095238095238, \"frequency\": 0.02507462686567164, \"feature\": \"Rotational speed [rpm]\", \"score_label\": \"12.2\"}, {\"index\": 9, \"value\": \"nan - nan\", \"contribution\": 0.0, \"mean\": 0.0, \"frequency\": 0.0, \"feature\": \"Rotational speed [rpm]\", \"score_label\": \"0.0\"}, {\"index\": 0, \"value\": \"-inf - 20.25\", \"contribution\": 0.12218387671095345, \"mean\": 0.1497005988023952, \"frequency\": 0.024925373134328358, \"feature\": \"Torque [Nm]\", \"score_label\": \"12.2\"}, {\"index\": 1, \"value\": \"20.25 - 34.35\", \"contribution\": -0.01002980114707724, \"mean\": 0.004618937644341803, \"frequency\": 0.25850746268656716, \"feature\": \"Torque [Nm]\", \"score_label\": \"-1.0\"}, {\"index\": 2, \"value\": \"34.35 - 50.85\", \"contribution\": -0.008934780689857286, \"mean\": 0.01632547292044571, \"frequency\": 0.5759701492537314, \"feature\": \"Torque [Nm]\", \"score_label\": \"-0.9\"}, {\"index\": 3, \"value\": \"50.85 - 53.55\", \"contribution\": 0.039952251507141066, \"mean\": 0.062146892655367235, \"frequency\": 0.05283582089552239, \"feature\": \"Torque [Nm]\", \"score_label\": \"4.0\"}, {\"index\": 4, \"value\": \"53.55 - 55.35\", \"contribution\": 0.08460452810309137, \"mean\": 0.1099476439790576, \"frequency\": 0.028507462686567165, \"feature\": \"Torque [Nm]\", \"score_label\": \"8.5\"}, {\"index\": 5, \"value\": \"55.35 - 59.05\", \"contribution\": 0.11187108272054129, \"mean\": 0.13043478260869565, \"frequency\": 0.0308955223880597, \"feature\": \"Torque [Nm]\", \"score_label\": \"11.2\"}, {\"index\": 6, \"value\": \"59.05 - inf\", \"contribution\": 0.38947470587622496, \"mean\": 0.37894736842105264, \"frequency\": 0.028358208955223882, \"feature\": \"Torque [Nm]\", \"score_label\": \"38.9\"}, {\"index\": 7, \"value\": \"nan - nan\", \"contribution\": 0.0, \"mean\": 0.0, \"frequency\": 0.0, \"feature\": \"Torque [Nm]\", \"score_label\": \"0.0\"}, {\"index\": 0, \"value\": \"-inf - 199.5\", \"contribution\": -0.006570809548944108, \"mean\": 0.02410223228728567, \"frequency\": 0.9226865671641791, \"feature\": \"Tool wear [min]\", \"score_label\": \"-0.7\"}, {\"index\": 1, \"value\": \"199.5 - 210.5\", \"contribution\": 0.15085283666542132, \"mean\": 0.14583333333333334, \"frequency\": 0.04298507462686567, \"feature\": \"Tool wear [min]\", \"score_label\": \"15.1\"}, {\"index\": 2, \"value\": \"210.5 - inf\", \"contribution\": 0.20865253568014994, \"mean\": 0.20434782608695654, \"frequency\": 0.034328358208955224, \"feature\": \"Tool wear [min]\", \"score_label\": \"20.9\"}, {\"index\": 3, \"value\": \"nan - nan\", \"contribution\": 0.0, \"mean\": 0.0, \"frequency\": 0.0, \"feature\": \"Tool wear [min]\", \"score_label\": \"0.0\"}]}}, {\"mode\": \"vega-lite\"});\n",
       "</script>"
      ],
      "text/plain": [
       "alt.HConcatChart(...)"
      ]
     },
     "execution_count": 11,
     "metadata": {},
     "output_type": "execute_result"
    }
   ],
   "source": [
    "model.explain()"
   ]
  },
  {
   "cell_type": "code",
   "execution_count": 18,
   "id": "4df8c9f9-eca2-4402-acf2-7cf1f4821aca",
   "metadata": {},
   "outputs": [
    {
     "data": {
      "text/plain": [
       "<xplainable.core.ml.classification.XClassifier at 0x294115630>"
      ]
     },
     "execution_count": 18,
     "metadata": {},
     "output_type": "execute_result"
    }
   ],
   "source": [
    "params = {\n",
    "    \"max_depth\": 4,\n",
    "    \"min_info_gain\": 0.05,\n",
    "}\n",
    "\n",
    "model.update_feature_params(features=['Rotational speed [rpm]', 'Tool wear [min]', 'Air temperature [K]', 'Process temperature [K]','Torque [Nm]'], **params)"
   ]
  },
  {
   "cell_type": "code",
   "execution_count": 19,
   "id": "38a3217b-7856-4b0c-99be-5c9f0be3b9f1",
   "metadata": {},
   "outputs": [
    {
     "data": {
      "text/html": [
       "\n",
       "    <style>\n",
       "    .vega-bind {\n",
       "      text-align:right;\n",
       "    }\n",
       "    </style>\n",
       "    "
      ],
      "text/plain": [
       "<IPython.core.display.HTML object>"
      ]
     },
     "metadata": {},
     "output_type": "display_data"
    },
    {
     "data": {
      "text/html": [
       "\n",
       "<style>\n",
       "  #altair-viz-2d17c44bf672474f862c1cd51d8916b0.vega-embed {\n",
       "    width: 100%;\n",
       "    display: flex;\n",
       "  }\n",
       "\n",
       "  #altair-viz-2d17c44bf672474f862c1cd51d8916b0.vega-embed details,\n",
       "  #altair-viz-2d17c44bf672474f862c1cd51d8916b0.vega-embed details summary {\n",
       "    position: relative;\n",
       "  }\n",
       "</style>\n",
       "<div id=\"altair-viz-2d17c44bf672474f862c1cd51d8916b0\"></div>\n",
       "<script type=\"text/javascript\">\n",
       "  var VEGA_DEBUG = (typeof VEGA_DEBUG == \"undefined\") ? {} : VEGA_DEBUG;\n",
       "  (function(spec, embedOpt){\n",
       "    let outputDiv = document.currentScript.previousElementSibling;\n",
       "    if (outputDiv.id !== \"altair-viz-2d17c44bf672474f862c1cd51d8916b0\") {\n",
       "      outputDiv = document.getElementById(\"altair-viz-2d17c44bf672474f862c1cd51d8916b0\");\n",
       "    }\n",
       "    const paths = {\n",
       "      \"vega\": \"https://cdn.jsdelivr.net/npm/vega@5?noext\",\n",
       "      \"vega-lib\": \"https://cdn.jsdelivr.net/npm/vega-lib?noext\",\n",
       "      \"vega-lite\": \"https://cdn.jsdelivr.net/npm/vega-lite@5.20.1?noext\",\n",
       "      \"vega-embed\": \"https://cdn.jsdelivr.net/npm/vega-embed@6?noext\",\n",
       "    };\n",
       "\n",
       "    function maybeLoadScript(lib, version) {\n",
       "      var key = `${lib.replace(\"-\", \"\")}_version`;\n",
       "      return (VEGA_DEBUG[key] == version) ?\n",
       "        Promise.resolve(paths[lib]) :\n",
       "        new Promise(function(resolve, reject) {\n",
       "          var s = document.createElement('script');\n",
       "          document.getElementsByTagName(\"head\")[0].appendChild(s);\n",
       "          s.async = true;\n",
       "          s.onload = () => {\n",
       "            VEGA_DEBUG[key] = version;\n",
       "            return resolve(paths[lib]);\n",
       "          };\n",
       "          s.onerror = () => reject(`Error loading script: ${paths[lib]}`);\n",
       "          s.src = paths[lib];\n",
       "        });\n",
       "    }\n",
       "\n",
       "    function showError(err) {\n",
       "      outputDiv.innerHTML = `<div class=\"error\" style=\"color:red;\">${err}</div>`;\n",
       "      throw err;\n",
       "    }\n",
       "\n",
       "    function displayChart(vegaEmbed) {\n",
       "      vegaEmbed(outputDiv, spec, embedOpt)\n",
       "        .catch(err => showError(`Javascript Error: ${err.message}<br>This usually means there's a typo in your chart specification. See the javascript console for the full traceback.`));\n",
       "    }\n",
       "\n",
       "    if(typeof define === \"function\" && define.amd) {\n",
       "      requirejs.config({paths});\n",
       "      require([\"vega-embed\"], displayChart, err => showError(`Error loading script: ${err.message}`));\n",
       "    } else {\n",
       "      maybeLoadScript(\"vega\", \"5\")\n",
       "        .then(() => maybeLoadScript(\"vega-lite\", \"5.20.1\"))\n",
       "        .then(() => maybeLoadScript(\"vega-embed\", \"6\"))\n",
       "        .catch(showError)\n",
       "        .then(() => displayChart(vegaEmbed));\n",
       "    }\n",
       "  })({\"config\": {\"view\": {\"continuousWidth\": 300, \"continuousHeight\": 300}}, \"hconcat\": [{\"mark\": {\"type\": \"bar\", \"color\": \"#0080ea\"}, \"encoding\": {\"color\": {\"condition\": {\"param\": \"param_13\", \"value\": \"lightgray\"}, \"value\": \"#0080ea\"}, \"tooltip\": {\"field\": \"importance_label\", \"type\": \"nominal\"}, \"x\": {\"field\": \"importance\", \"type\": \"quantitative\"}, \"y\": {\"field\": \"feature\", \"sort\": {\"field\": \"importance\", \"order\": \"descending\"}, \"type\": \"nominal\"}}, \"height\": 400, \"name\": \"view_17\", \"title\": \"Feature Importances\", \"transform\": [{\"filter\": {\"param\": \"param_14\"}}], \"width\": 330}, {\"mark\": {\"type\": \"bar\", \"color\": \"#0080ea\"}, \"encoding\": {\"x\": {\"axis\": {\"labels\": false, \"title\": null}, \"field\": \"importance\", \"type\": \"quantitative\"}, \"y\": {\"axis\": {\"labels\": false, \"title\": null}, \"field\": \"feature\", \"sort\": \"-x\", \"type\": \"nominal\"}}, \"height\": 400, \"name\": \"view_18\", \"width\": 25}, {\"data\": {\"name\": \"data-8d4d756b092e3f3ce28e1b01c22c78c5\"}, \"mark\": {\"type\": \"bar\", \"color\": \"#e14067\"}, \"encoding\": {\"color\": {\"condition\": {\"test\": \"(datum.contribution < 0)\", \"value\": \"#e14067\"}, \"value\": \"#12b980\"}, \"tooltip\": {\"field\": \"score_label\", \"type\": \"nominal\"}, \"x\": {\"field\": \"val\", \"type\": \"quantitative\"}, \"y\": {\"field\": \"value\", \"sort\": {\"field\": \"index\", \"order\": \"descending\"}, \"type\": \"nominal\"}}, \"height\": 400, \"name\": \"view_19\", \"title\": \"Contributions\", \"transform\": [{\"fold\": [\"contribution\", \"mean\", \"frequency\"], \"as\": [\"column\", \"val\"]}, {\"filter\": {\"param\": \"Select\"}}, {\"filter\": {\"param\": \"param_13\"}}, {\"filter\": {\"param\": \"param_15\"}}], \"width\": 330}, {\"data\": {\"name\": \"data-8d4d756b092e3f3ce28e1b01c22c78c5\"}, \"mark\": {\"type\": \"bar\", \"color\": \"#e14067\"}, \"encoding\": {\"color\": {\"condition\": {\"test\": \"(datum.contribution < 0)\", \"value\": \"#e14067\"}, \"value\": \"#12b980\"}, \"x\": {\"axis\": {\"labels\": false, \"title\": null}, \"field\": \"contribution\", \"type\": \"quantitative\"}, \"y\": {\"axis\": {\"labels\": false, \"title\": null}, \"field\": \"value\", \"sort\": {\"field\": \"index\", \"order\": \"descending\"}, \"type\": \"nominal\"}}, \"height\": 400, \"name\": \"view_20\", \"transform\": [{\"filter\": {\"param\": \"param_13\"}}], \"width\": 25}], \"data\": {\"name\": \"data-7927ac7ff1c3fb411be34bad59405be3\"}, \"params\": [{\"name\": \"param_13\", \"select\": {\"type\": \"point\", \"fields\": [\"feature\"]}, \"value\": \"Rotational speed [rpm]\", \"views\": [\"view_17\"]}, {\"name\": \"Select\", \"select\": {\"type\": \"point\", \"fields\": [\"column\"]}, \"bind\": {\"input\": \"select\", \"options\": [\"contribution\", \"mean\", \"frequency\"]}, \"value\": \"contribution\", \"views\": [\"view_17\", \"view_19\"]}, {\"name\": \"param_14\", \"select\": {\"type\": \"interval\", \"encodings\": [\"y\"]}, \"views\": [\"view_18\"]}, {\"name\": \"param_15\", \"select\": {\"type\": \"interval\", \"encodings\": [\"y\"]}, \"views\": [\"view_20\"]}], \"$schema\": \"https://vega.github.io/schema/vega-lite/v5.20.1.json\", \"datasets\": {\"data-7927ac7ff1c3fb411be34bad59405be3\": [{\"feature\": \"Air temperature [K]\", \"importance\": 0.0, \"importance_label\": \"0.0%\"}, {\"feature\": \"Process temperature [K]\", \"importance\": 0.0, \"importance_label\": \"0.0%\"}, {\"feature\": \"Type\", \"importance\": 0.028495517140096207, \"importance_label\": \"2.8%\"}, {\"feature\": \"Tool wear [min]\", \"importance\": 0.10989422396210413, \"importance_label\": \"11.0%\"}, {\"feature\": \"Torque [Nm]\", \"importance\": 0.3584743338884663, \"importance_label\": \"35.8%\"}, {\"feature\": \"Rotational speed [rpm]\", \"importance\": 0.5031359250093335, \"importance_label\": \"50.3%\"}], \"data-8d4d756b092e3f3ce28e1b01c22c78c5\": [{\"index\": 0, \"value\": \"H\", \"contribution\": -0.004006890184702441, \"mean\": 0.01608187134502924, \"frequency\": 0.10208955223880598, \"feature\": \"Type\", \"score_label\": \"-0.4\"}, {\"index\": 1, \"value\": \"M\", \"contribution\": -0.0009333833198715297, \"mean\": 0.03273809523809524, \"frequency\": 0.3008955223880597, \"feature\": \"Type\", \"score_label\": \"-0.1\"}, {\"index\": 2, \"value\": \"L\", \"contribution\": 0.024408834293742288, \"mean\": 0.04025, \"frequency\": 0.5970149253731343, \"feature\": \"Type\", \"score_label\": \"2.4\"}, {\"index\": 3, \"value\": \"Null\", \"contribution\": 0.0, \"mean\": 0.0, \"frequency\": 0.0, \"feature\": \"Type\", \"score_label\": \"0.0\"}, {\"index\": 0, \"value\": \"-inf - inf\", \"contribution\": 0.0, \"mean\": 0.035522388059701496, \"frequency\": 1.0, \"feature\": \"Air temperature [K]\", \"score_label\": \"0.0\"}, {\"index\": 1, \"value\": \"nan - nan\", \"contribution\": 0.0, \"mean\": 0.0, \"frequency\": 0.0, \"feature\": \"Air temperature [K]\", \"score_label\": \"0.0\"}, {\"index\": 0, \"value\": \"-inf - inf\", \"contribution\": 0.0, \"mean\": 0.035522388059701496, \"frequency\": 1.0, \"feature\": \"Process temperature [K]\", \"score_label\": \"0.0\"}, {\"index\": 1, \"value\": \"nan - nan\", \"contribution\": 0.0, \"mean\": 0.0, \"frequency\": 0.0, \"feature\": \"Process temperature [K]\", \"score_label\": \"0.0\"}, {\"index\": 0, \"value\": \"-inf - 1313.5\", \"contribution\": 0.24893272329365737, \"mean\": 0.215962441314554, \"frequency\": 0.0317910447761194, \"feature\": \"Rotational speed [rpm]\", \"score_label\": \"24.9\"}, {\"index\": 1, \"value\": \"1313.5 - 1341.5\", \"contribution\": 0.1984232393148065, \"mean\": 0.17727272727272728, \"frequency\": 0.03283582089552239, \"feature\": \"Rotational speed [rpm]\", \"score_label\": \"19.8\"}, {\"index\": 2, \"value\": \"1341.5 - 1364.5\", \"contribution\": 0.1568631073339443, \"mean\": 0.13805970149253732, \"frequency\": 0.04, \"feature\": \"Rotational speed [rpm]\", \"score_label\": \"15.7\"}, {\"index\": 3, \"value\": \"1364.5 - 1380.5\", \"contribution\": 0.18484190508536333, \"mean\": 0.1625, \"frequency\": 0.03582089552238806, \"feature\": \"Rotational speed [rpm]\", \"score_label\": \"18.5\"}, {\"index\": 4, \"value\": \"1380.5 - 1988.0\", \"contribution\": -0.013910922832375576, \"mean\": 0.00930066177785727, \"frequency\": 0.8344776119402985, \"feature\": \"Rotational speed [rpm]\", \"score_label\": \"-1.4\"}, {\"index\": 5, \"value\": \"1988.0 - inf\", \"contribution\": 0.1404584900964656, \"mean\": 0.1488095238095238, \"frequency\": 0.02507462686567164, \"feature\": \"Rotational speed [rpm]\", \"score_label\": \"14.0\"}, {\"index\": 6, \"value\": \"nan - nan\", \"contribution\": 0.0, \"mean\": 0.0, \"frequency\": 0.0, \"feature\": \"Rotational speed [rpm]\", \"score_label\": \"0.0\"}, {\"index\": 0, \"value\": \"-inf - 20.25\", \"contribution\": 0.14118347500076234, \"mean\": 0.1497005988023952, \"frequency\": 0.024925373134328358, \"feature\": \"Torque [Nm]\", \"score_label\": \"14.1\"}, {\"index\": 1, \"value\": \"20.25 - 52.45\", \"contribution\": -0.011265812711409608, \"mean\": 0.014642549526270457, \"frequency\": 0.8664179104477612, \"feature\": \"Torque [Nm]\", \"score_label\": \"-1.1\"}, {\"index\": 2, \"value\": \"52.45 - 55.35\", \"contribution\": 0.08763199966998368, \"mean\": 0.08761329305135952, \"frequency\": 0.049402985074626864, \"feature\": \"Torque [Nm]\", \"score_label\": \"8.8\"}, {\"index\": 3, \"value\": \"55.35 - 59.05\", \"contribution\": 0.1292670410838899, \"mean\": 0.13043478260869565, \"frequency\": 0.0308955223880597, \"feature\": \"Torque [Nm]\", \"score_label\": \"12.9\"}, {\"index\": 4, \"value\": \"59.05 - inf\", \"contribution\": 0.45003804004833814, \"mean\": 0.37894736842105264, \"frequency\": 0.028358208955223882, \"feature\": \"Torque [Nm]\", \"score_label\": \"45.0\"}, {\"index\": 5, \"value\": \"nan - nan\", \"contribution\": 0.0, \"mean\": 0.0, \"frequency\": 0.0, \"feature\": \"Torque [Nm]\", \"score_label\": \"0.0\"}, {\"index\": 0, \"value\": \"-inf - 199.5\", \"contribution\": -0.0063387623312138736, \"mean\": 0.02410223228728567, \"frequency\": 0.9226865671641791, \"feature\": \"Tool wear [min]\", \"score_label\": \"-0.6\"}, {\"index\": 1, \"value\": \"199.5 - 210.5\", \"contribution\": 0.17431045950956717, \"mean\": 0.14583333333333334, \"frequency\": 0.04298507462686567, \"feature\": \"Tool wear [min]\", \"score_label\": \"17.4\"}, {\"index\": 2, \"value\": \"210.5 - inf\", \"contribution\": 0.24109801430456057, \"mean\": 0.20434782608695654, \"frequency\": 0.034328358208955224, \"feature\": \"Tool wear [min]\", \"score_label\": \"24.1\"}, {\"index\": 3, \"value\": \"nan - nan\", \"contribution\": 0.0, \"mean\": 0.0, \"frequency\": 0.0, \"feature\": \"Tool wear [min]\", \"score_label\": \"0.0\"}]}}, {\"mode\": \"vega-lite\"});\n",
       "</script>"
      ],
      "text/plain": [
       "alt.HConcatChart(...)"
      ]
     },
     "execution_count": 19,
     "metadata": {},
     "output_type": "execute_result"
    }
   ],
   "source": [
    "model.explain()"
   ]
  },
  {
   "cell_type": "markdown",
   "id": "485dc680-c743-40c0-bd02-88413c833356",
   "metadata": {},
   "source": [
    "In this snapshot, we demonstrate the impact of hyperparameter tuning on model interpretability. By adjusting max_depth and min_info_gain, we refine the feature wise explainability and information criterion, respectively, which in turn recalibrates feature score contributions. These scores, essential in understanding feature contributions to model predictions, are visualized before and after parameter adjustment, illustrating the model's internal logic shifts. This process is critical for enhancing transparency and aids in pinpointing influential features, fostering the development of interpretable and trustworthy machine learning models."
   ]
  },
  {
   "cell_type": "markdown",
   "id": "227c2573-0f0d-4cbc-afc8-df145442f425",
   "metadata": {},
   "source": [
    "# Persisting to Xplainable Cloud"
   ]
  },
  {
   "cell_type": "markdown",
   "id": "5170c404-1dc9-4aa7-8ae7-826259f9e7e0",
   "metadata": {},
   "source": [
    "## Instantiate Xplainable Cloud\n",
    "\n",
    "Initialise the xplainable cloud using an API key from:\n",
    "https://beta.xplainable.io/\n",
    "\n",
    "This allows you to save and collaborate on models, create deployments, create shareable reports."
   ]
  },
  {
   "cell_type": "code",
   "execution_count": 20,
   "id": "ef891f44",
   "metadata": {},
   "outputs": [],
   "source": [
    "client = xplainable_client.Client(\n",
    "    api_key=\"\",#<- Add your own token here\n",
    ")"
   ]
  },
  {
   "cell_type": "markdown",
   "id": "388eae28-0585-49d1-9b6a-d66bd0daef25",
   "metadata": {},
   "source": [
    "## 5. Model Persisting\n",
    "In this step, we first create a unique identifier for our churn prediction model using `client.create_model_id`. This identifier, shown as `model_id`, represents the newly instantiated model which predicts the likelihood of customers leaving within the next month. Following this, we generate a specific version of the model with `xp.client.create_model_version`, passing in our training data. The output `version_id` represents this particular iteration of our model, allowing us to track and manage different versions systematically.\n"
   ]
  },
  {
   "cell_type": "code",
   "execution_count": 22,
   "id": "399422d4",
   "metadata": {},
   "outputs": [
    {
     "data": {
      "application/vnd.jupyter.widget-view+json": {
       "model_id": "e0f9c7461a8f4b9caf8cfd314882a856",
       "version_major": 2,
       "version_minor": 0
      },
      "text/plain": [
       "  0%|          | 0/6 [00:00<?, ?it/s]"
      ]
     },
     "metadata": {},
     "output_type": "display_data"
    },
    {
     "name": "stdout",
     "output_type": "stream",
     "text": [
      "<Response [200]>\n"
     ]
    }
   ],
   "source": [
    "# Create a model\n",
    "model_id = client.create_model(\n",
    "    model=model,\n",
    "    model_name=\"Asset Failure Prediction\",\n",
    "    model_description=\"Using machine metadata to predict asset failures\",\n",
    "    x=X_train,\n",
    "    y=y_train\n",
    ")"
   ]
  },
  {
   "cell_type": "markdown",
   "id": "803430e6-8402-4fa0-b9cc-772804763b1d",
   "metadata": {},
   "source": [
    "## 6. Model Deployment"
   ]
  },
  {
   "cell_type": "markdown",
   "id": "62f65099-510a-4636-aea0-0632941fc0d5",
   "metadata": {},
   "source": [
    "The code block illustrates the deployment of our churn prediction model using the `xp.client.deploy` function. The deployment process involves specifying the `hostname` of the server where the model will be hosted, as well as the unique `model_id` and `version_id` that we obtained in the previous steps. This step effectively activates the model's endpoint, allowing it to receive and process prediction requests. The output confirms the deployment with a `deployment_id`, indicating the model's current `status` as 'inactive', its `location`, and the `endpoint` URL where it can be accessed for xplainable deployments."
   ]
  },
  {
   "cell_type": "code",
   "execution_count": 24,
   "id": "86e391f8-3007-4170-8089-f8fc14401d52",
   "metadata": {},
   "outputs": [
    {
     "name": "stdout",
     "output_type": "stream",
     "text": [
      "<Response [200]>\n"
     ]
    }
   ],
   "source": [
    "deployment = client.deploy(\n",
    "    model_version_id=model_id[\"version_id\"], #<- Use model id produced above\n",
    ")"
   ]
  },
  {
   "cell_type": "markdown",
   "id": "ea300063-0fee-4d3a-a107-aa8264f288c8",
   "metadata": {},
   "source": [
    "### Testing the Deployment programatically\n",
    "This section demonstrates the steps taken to programmatically test a deployed model. These steps are essential for validating that the model's deployment is functional and ready to process incoming prediction requests.\n"
   ]
  },
  {
   "cell_type": "markdown",
   "id": "7ed6fed3-91f5-4173-ab08-4971e6c4f65a",
   "metadata": {},
   "source": [
    "1. **Activating the Deployment:**\n",
    "   The model deployment is activated using `xp.client.activate_deployment`, which changes the deployment status to active, allowing it to accept prediction requests."
   ]
  },
  {
   "cell_type": "code",
   "execution_count": 25,
   "id": "f361569c-9f6e-4218-b2fc-49439a42d7bd",
   "metadata": {},
   "outputs": [
    {
     "data": {
      "text/plain": [
       "{'message': 'activated deployment'}"
      ]
     },
     "execution_count": 25,
     "metadata": {},
     "output_type": "execute_result"
    }
   ],
   "source": [
    "client.activate_deployment(deployment['deployment_id'])"
   ]
  },
  {
   "cell_type": "markdown",
   "id": "a5092f55-1cfd-4162-8056-2b6c150f20fd",
   "metadata": {},
   "source": [
    "2. **Creating a Deployment Key:**\n",
    "   A deployment key is generated with `xp.client.generate_deploy_key`. This key is required to authenticate and make secure requests to the deployed model."
   ]
  },
  {
   "cell_type": "code",
   "execution_count": 27,
   "id": "15f4d541-2e7b-43da-b9b1-fc7cbc518d91",
   "metadata": {},
   "outputs": [
    {
     "name": "stdout",
     "output_type": "stream",
     "text": [
      "<Response [200]>\n"
     ]
    }
   ],
   "source": [
    "deploy_key = client.generate_deploy_key(deployment['deployment_id'],'API key for Tool Failure Prediction', 7)"
   ]
  },
  {
   "cell_type": "markdown",
   "id": "34a8ec84-df55-4d97-b8f3-f4b8199ddac3",
   "metadata": {},
   "source": [
    "3. **Generating Example Payload:**\n",
    "   An example payload for a deployment request is generated by `xp.client.generate_example_deployment_payload`. This payload mimics the input data structure the model expects when making predictions."
   ]
  },
  {
   "cell_type": "code",
   "execution_count": 29,
   "id": "a92aabc4-3f1e-47a0-a4db-35eaadca9197",
   "metadata": {},
   "outputs": [],
   "source": [
    "#Set the option to highlight multiple ways of creating data\n",
    "option = 2"
   ]
  },
  {
   "cell_type": "code",
   "execution_count": 31,
   "id": "f05fab0b-5da5-4644-9814-247898ac8961",
   "metadata": {},
   "outputs": [],
   "source": [
    "if option == 1:\n",
    "    body = xp.client.generate_example_deployment_payload(deployment['deployment_id'])\n",
    "else:\n",
    "    body = json.loads(df.drop(columns=[\"Machine failure\"]).sample(1).to_json(orient=\"records\"))"
   ]
  },
  {
   "cell_type": "code",
   "execution_count": 32,
   "id": "3bc5dd63-7aa5-452a-9c02-52f87d30cfc6",
   "metadata": {},
   "outputs": [
    {
     "data": {
      "text/plain": [
       "[{'Type': 'L',\n",
       "  'Air temperature [K]': 297.9,\n",
       "  'Process temperature [K]': 307.8,\n",
       "  'Rotational speed [rpm]': 1397,\n",
       "  'Torque [Nm]': 45.0,\n",
       "  'Tool wear [min]': 104}]"
      ]
     },
     "execution_count": 32,
     "metadata": {},
     "output_type": "execute_result"
    }
   ],
   "source": [
    "body"
   ]
  },
  {
   "cell_type": "markdown",
   "id": "be6ead2d-bc5c-498e-88b6-362247938a94",
   "metadata": {},
   "source": [
    "4. **Making a Prediction Request:**\n",
    "   A POST request is made to the model's prediction endpoint with the example payload. The model processes the input data and returns a prediction response, which includes the predicted class (e.g., 0 for no failure) and the prediction probabilities for each class."
   ]
  },
  {
   "cell_type": "code",
   "execution_count": 33,
   "id": "0e0dd6f2-c8a9-4a2e-9501-9800310b3594",
   "metadata": {},
   "outputs": [
    {
     "data": {
      "text/plain": [
       "[{'index': 0,\n",
       "  'id': None,\n",
       "  'partition': '__dataset__',\n",
       "  'score': 0.00400689018470244,\n",
       "  'proba': None,\n",
       "  'pred': 0,\n",
       "  'support': None,\n",
       "  'breakdown': [{'feature': 'base_value',\n",
       "    'value': None,\n",
       "    'score': 0.035522388059701496},\n",
       "   {'feature': 'Type', 'value': 'L', 'score': 0.0},\n",
       "   {'feature': 'Air temperature [K]', 'value': '297.9', 'score': 0.0},\n",
       "   {'feature': 'Process temperature [K]', 'value': '307.8', 'score': 0.0},\n",
       "   {'feature': 'Rotational speed [rpm]',\n",
       "    'value': '1397',\n",
       "    'score': -0.013910922832375576},\n",
       "   {'feature': 'Torque [Nm]', 'value': '45', 'score': -0.011265812711409608},\n",
       "   {'feature': 'Tool wear [min]',\n",
       "    'value': '104',\n",
       "    'score': -0.0063387623312138736}]}]"
      ]
     },
     "execution_count": 33,
     "metadata": {},
     "output_type": "execute_result"
    }
   ],
   "source": [
    "response = requests.post(\n",
    "    url=\"https://inference.xplainable.io/v1/predict\",\n",
    "    headers={'api_key': deploy_key['deploy_key']},\n",
    "    json=body\n",
    ")\n",
    "\n",
    "value = response.json()\n",
    "value"
   ]
  }
 ],
 "metadata": {
  "kernelspec": {
   "display_name": "xplainable-api",
   "language": "python",
   "name": "python3"
  },
  "language_info": {
   "codemirror_mode": {
    "name": "ipython",
    "version": 3
   },
   "file_extension": ".py",
   "mimetype": "text/x-python",
   "name": "python",
   "nbconvert_exporter": "python",
   "pygments_lexer": "ipython3",
   "version": "3.10.17"
  }
 },
 "nbformat": 4,
 "nbformat_minor": 5
}
