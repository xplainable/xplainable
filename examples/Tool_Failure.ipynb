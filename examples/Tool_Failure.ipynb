{
 "cells": [
  {
   "cell_type": "markdown",
   "id": "99aa8e91-1932-4a98-ad80-e59f8d68d579",
   "metadata": {},
   "source": [
    "## Package Imports"
   ]
  },
  {
   "cell_type": "code",
   "execution_count": 14,
   "id": "0324a62b-b581-4c8f-8fe9-44bfea38232d",
   "metadata": {},
   "outputs": [],
   "source": [
    "import pandas as pd\n",
    "import requests\n",
    "import json\n",
    "from sklearn.model_selection import train_test_split\n",
    "\n",
    "import xplainable as xp\n",
    "from xplainable.core.models import XClassifier\n",
    "from xplainable.core.optimisation.bayesian import XParamOptimiser\n",
    "from xplainable.preprocessing.pipeline import XPipeline\n",
    "from xplainable.preprocessing import transformers as xtf"
   ]
  },
  {
   "cell_type": "markdown",
   "id": "f9405b66-af1f-411f-86a3-4416aab9dadc",
   "metadata": {},
   "source": [
    "## Read in the csv dataset"
   ]
  },
  {
   "cell_type": "code",
   "execution_count": 15,
   "id": "86b7e5d4-c187-4dbf-9a16-fecc0db86697",
   "metadata": {},
   "outputs": [],
   "source": [
    "df = pd.read_csv(\"https://xplainable-public-storage.syd1.digitaloceanspaces.com/example_data/asset_failure.csv\")"
   ]
  },
  {
   "cell_type": "code",
   "execution_count": 4,
   "id": "f840530d-0b7f-4c13-a488-9802ce0159ae",
   "metadata": {},
   "outputs": [
    {
     "data": {
      "text/html": [
       "<div>\n",
       "<style scoped>\n",
       "    .dataframe tbody tr th:only-of-type {\n",
       "        vertical-align: middle;\n",
       "    }\n",
       "\n",
       "    .dataframe tbody tr th {\n",
       "        vertical-align: top;\n",
       "    }\n",
       "\n",
       "    .dataframe thead th {\n",
       "        text-align: right;\n",
       "    }\n",
       "</style>\n",
       "<table border=\"1\" class=\"dataframe\">\n",
       "  <thead>\n",
       "    <tr style=\"text-align: right;\">\n",
       "      <th></th>\n",
       "      <th>UDI</th>\n",
       "      <th>Product ID</th>\n",
       "      <th>Type</th>\n",
       "      <th>Air temperature [K]</th>\n",
       "      <th>Process temperature [K]</th>\n",
       "      <th>Rotational speed [rpm]</th>\n",
       "      <th>Torque [Nm]</th>\n",
       "      <th>Tool wear [min]</th>\n",
       "      <th>Machine failure</th>\n",
       "      <th>TWF</th>\n",
       "      <th>HDF</th>\n",
       "      <th>PWF</th>\n",
       "      <th>OSF</th>\n",
       "      <th>RNF</th>\n",
       "    </tr>\n",
       "  </thead>\n",
       "  <tbody>\n",
       "    <tr>\n",
       "      <th>0</th>\n",
       "      <td>1</td>\n",
       "      <td>M14860</td>\n",
       "      <td>M</td>\n",
       "      <td>298.1</td>\n",
       "      <td>308.6</td>\n",
       "      <td>1551</td>\n",
       "      <td>42.8</td>\n",
       "      <td>0</td>\n",
       "      <td>0</td>\n",
       "      <td>0</td>\n",
       "      <td>0</td>\n",
       "      <td>0</td>\n",
       "      <td>0</td>\n",
       "      <td>0</td>\n",
       "    </tr>\n",
       "    <tr>\n",
       "      <th>1</th>\n",
       "      <td>2</td>\n",
       "      <td>L47181</td>\n",
       "      <td>L</td>\n",
       "      <td>298.2</td>\n",
       "      <td>308.7</td>\n",
       "      <td>1408</td>\n",
       "      <td>46.3</td>\n",
       "      <td>3</td>\n",
       "      <td>0</td>\n",
       "      <td>0</td>\n",
       "      <td>0</td>\n",
       "      <td>0</td>\n",
       "      <td>0</td>\n",
       "      <td>0</td>\n",
       "    </tr>\n",
       "    <tr>\n",
       "      <th>2</th>\n",
       "      <td>3</td>\n",
       "      <td>L47182</td>\n",
       "      <td>L</td>\n",
       "      <td>298.1</td>\n",
       "      <td>308.5</td>\n",
       "      <td>1498</td>\n",
       "      <td>49.4</td>\n",
       "      <td>5</td>\n",
       "      <td>0</td>\n",
       "      <td>0</td>\n",
       "      <td>0</td>\n",
       "      <td>0</td>\n",
       "      <td>0</td>\n",
       "      <td>0</td>\n",
       "    </tr>\n",
       "    <tr>\n",
       "      <th>3</th>\n",
       "      <td>4</td>\n",
       "      <td>L47183</td>\n",
       "      <td>L</td>\n",
       "      <td>298.2</td>\n",
       "      <td>308.6</td>\n",
       "      <td>1433</td>\n",
       "      <td>39.5</td>\n",
       "      <td>7</td>\n",
       "      <td>0</td>\n",
       "      <td>0</td>\n",
       "      <td>0</td>\n",
       "      <td>0</td>\n",
       "      <td>0</td>\n",
       "      <td>0</td>\n",
       "    </tr>\n",
       "    <tr>\n",
       "      <th>4</th>\n",
       "      <td>5</td>\n",
       "      <td>L47184</td>\n",
       "      <td>L</td>\n",
       "      <td>298.2</td>\n",
       "      <td>308.7</td>\n",
       "      <td>1408</td>\n",
       "      <td>40.0</td>\n",
       "      <td>9</td>\n",
       "      <td>0</td>\n",
       "      <td>0</td>\n",
       "      <td>0</td>\n",
       "      <td>0</td>\n",
       "      <td>0</td>\n",
       "      <td>0</td>\n",
       "    </tr>\n",
       "  </tbody>\n",
       "</table>\n",
       "</div>"
      ],
      "text/plain": [
       "   UDI Product ID Type  Air temperature [K]  Process temperature [K]  \\\n",
       "0    1     M14860    M                298.1                    308.6   \n",
       "1    2     L47181    L                298.2                    308.7   \n",
       "2    3     L47182    L                298.1                    308.5   \n",
       "3    4     L47183    L                298.2                    308.6   \n",
       "4    5     L47184    L                298.2                    308.7   \n",
       "\n",
       "   Rotational speed [rpm]  Torque [Nm]  Tool wear [min]  Machine failure  TWF  \\\n",
       "0                    1551         42.8                0                0    0   \n",
       "1                    1408         46.3                3                0    0   \n",
       "2                    1498         49.4                5                0    0   \n",
       "3                    1433         39.5                7                0    0   \n",
       "4                    1408         40.0                9                0    0   \n",
       "\n",
       "   HDF  PWF  OSF  RNF  \n",
       "0    0    0    0    0  \n",
       "1    0    0    0    0  \n",
       "2    0    0    0    0  \n",
       "3    0    0    0    0  \n",
       "4    0    0    0    0  "
      ]
     },
     "execution_count": 4,
     "metadata": {},
     "output_type": "execute_result"
    }
   ],
   "source": [
    "df.head()"
   ]
  },
  {
   "cell_type": "markdown",
   "id": "556e5585-ec8d-4c98-8c93-3c3b5904178e",
   "metadata": {},
   "source": [
    "## Dataset Overview: Machine Failure Prediction\n",
    "\n",
    "This dataset is designed for predictive maintenance, focusing on machine failure prediction. Below is an overview of its structure and the data it contains:\n",
    "\n",
    "1. **UDI (Unique Identifier):** A column for unique identification numbers for each record.\n",
    "\n",
    "2. **Product ID:** Identifier for the product being produced or involved in the process.\n",
    "\n",
    "3. **Type:** Indicates the type or category of the product or process, with different types represented by different letters (e.g., 'M', 'L').\n",
    "\n",
    "4. **Air temperature [K] (Kelvin):** The temperature of the air in the environment where the machine operates, measured in Kelvin.\n",
    "\n",
    "5. **Process temperature [K] (Kelvin):** The operational temperature of the process or machine, also measured in Kelvin.\n",
    "\n",
    "6. **Rotational speed [rpm] (Revolutions per Minute):** This column shows the speed at which a component of the machine is rotating.\n",
    "\n",
    "7. **Torque [Nm] (Newton Meters):** The torque being applied in the process, measured in Newton meters.\n",
    "\n",
    "8. **Tool wear [min]:** Indicates the amount of wear on the tools used in the machine, measured in minutes of operation.\n",
    "\n",
    "9. **Machine failure:** A binary indicator (0 or 1) showing whether a machine failure occurred.\n",
    "\n",
    "10. **TWF (Tool Wear Failure):** Specific indicator of failure due to tool wear.\n",
    "\n",
    "11. **HDF (Heat Dissipation Failure):** Indicates failure due to ineffective heat dissipation.\n",
    "\n",
    "12. **PWF (Power Failure):** Shows whether a failure was due to power issues.\n",
    "\n",
    "13. **OSF (Overstrain Failure):** Indicates if the failure was due to overstraining of the machine components.\n",
    "\n",
    "14. **RNF (Random Failure):** A column for failures that don't fit into the other specified categories and are considered random.\n",
    "\n",
    "Each row of the dataset represents a unique instance or record of the production process, with the corresponding measurements and failure indicators. This data can be used to train machine learning models to predict machine failures based on these parameters.\n"
   ]
  },
  {
   "cell_type": "code",
   "execution_count": 5,
   "id": "7ca3748f-3fb5-4ba0-9ce0-5a9e5f6037ff",
   "metadata": {},
   "outputs": [
    {
     "data": {
      "text/html": [
       "<div>\n",
       "<style scoped>\n",
       "    .dataframe tbody tr th:only-of-type {\n",
       "        vertical-align: middle;\n",
       "    }\n",
       "\n",
       "    .dataframe tbody tr th {\n",
       "        vertical-align: top;\n",
       "    }\n",
       "\n",
       "    .dataframe thead th {\n",
       "        text-align: right;\n",
       "    }\n",
       "</style>\n",
       "<table border=\"1\" class=\"dataframe\">\n",
       "  <thead>\n",
       "    <tr style=\"text-align: right;\">\n",
       "      <th></th>\n",
       "      <th>Type</th>\n",
       "      <th>Air temperature [K]</th>\n",
       "      <th>Process temperature [K]</th>\n",
       "      <th>Rotational speed [rpm]</th>\n",
       "      <th>Torque [Nm]</th>\n",
       "      <th>Tool wear [min]</th>\n",
       "      <th>Machine failure</th>\n",
       "    </tr>\n",
       "  </thead>\n",
       "  <tbody>\n",
       "    <tr>\n",
       "      <th>0</th>\n",
       "      <td>M</td>\n",
       "      <td>298.1</td>\n",
       "      <td>308.6</td>\n",
       "      <td>1551</td>\n",
       "      <td>42.8</td>\n",
       "      <td>0</td>\n",
       "      <td>0</td>\n",
       "    </tr>\n",
       "    <tr>\n",
       "      <th>1</th>\n",
       "      <td>L</td>\n",
       "      <td>298.2</td>\n",
       "      <td>308.7</td>\n",
       "      <td>1408</td>\n",
       "      <td>46.3</td>\n",
       "      <td>3</td>\n",
       "      <td>0</td>\n",
       "    </tr>\n",
       "    <tr>\n",
       "      <th>2</th>\n",
       "      <td>L</td>\n",
       "      <td>298.1</td>\n",
       "      <td>308.5</td>\n",
       "      <td>1498</td>\n",
       "      <td>49.4</td>\n",
       "      <td>5</td>\n",
       "      <td>0</td>\n",
       "    </tr>\n",
       "    <tr>\n",
       "      <th>3</th>\n",
       "      <td>L</td>\n",
       "      <td>298.2</td>\n",
       "      <td>308.6</td>\n",
       "      <td>1433</td>\n",
       "      <td>39.5</td>\n",
       "      <td>7</td>\n",
       "      <td>0</td>\n",
       "    </tr>\n",
       "    <tr>\n",
       "      <th>4</th>\n",
       "      <td>L</td>\n",
       "      <td>298.2</td>\n",
       "      <td>308.7</td>\n",
       "      <td>1408</td>\n",
       "      <td>40.0</td>\n",
       "      <td>9</td>\n",
       "      <td>0</td>\n",
       "    </tr>\n",
       "    <tr>\n",
       "      <th>...</th>\n",
       "      <td>...</td>\n",
       "      <td>...</td>\n",
       "      <td>...</td>\n",
       "      <td>...</td>\n",
       "      <td>...</td>\n",
       "      <td>...</td>\n",
       "      <td>...</td>\n",
       "    </tr>\n",
       "    <tr>\n",
       "      <th>9995</th>\n",
       "      <td>M</td>\n",
       "      <td>298.8</td>\n",
       "      <td>308.4</td>\n",
       "      <td>1604</td>\n",
       "      <td>29.5</td>\n",
       "      <td>14</td>\n",
       "      <td>0</td>\n",
       "    </tr>\n",
       "    <tr>\n",
       "      <th>9996</th>\n",
       "      <td>H</td>\n",
       "      <td>298.9</td>\n",
       "      <td>308.4</td>\n",
       "      <td>1632</td>\n",
       "      <td>31.8</td>\n",
       "      <td>17</td>\n",
       "      <td>0</td>\n",
       "    </tr>\n",
       "    <tr>\n",
       "      <th>9997</th>\n",
       "      <td>M</td>\n",
       "      <td>299.0</td>\n",
       "      <td>308.6</td>\n",
       "      <td>1645</td>\n",
       "      <td>33.4</td>\n",
       "      <td>22</td>\n",
       "      <td>0</td>\n",
       "    </tr>\n",
       "    <tr>\n",
       "      <th>9998</th>\n",
       "      <td>H</td>\n",
       "      <td>299.0</td>\n",
       "      <td>308.7</td>\n",
       "      <td>1408</td>\n",
       "      <td>48.5</td>\n",
       "      <td>25</td>\n",
       "      <td>0</td>\n",
       "    </tr>\n",
       "    <tr>\n",
       "      <th>9999</th>\n",
       "      <td>M</td>\n",
       "      <td>299.0</td>\n",
       "      <td>308.7</td>\n",
       "      <td>1500</td>\n",
       "      <td>40.2</td>\n",
       "      <td>30</td>\n",
       "      <td>0</td>\n",
       "    </tr>\n",
       "  </tbody>\n",
       "</table>\n",
       "<p>10000 rows × 7 columns</p>\n",
       "</div>"
      ],
      "text/plain": [
       "     Type  Air temperature [K]  Process temperature [K]  \\\n",
       "0       M                298.1                    308.6   \n",
       "1       L                298.2                    308.7   \n",
       "2       L                298.1                    308.5   \n",
       "3       L                298.2                    308.6   \n",
       "4       L                298.2                    308.7   \n",
       "...   ...                  ...                      ...   \n",
       "9995    M                298.8                    308.4   \n",
       "9996    H                298.9                    308.4   \n",
       "9997    M                299.0                    308.6   \n",
       "9998    H                299.0                    308.7   \n",
       "9999    M                299.0                    308.7   \n",
       "\n",
       "      Rotational speed [rpm]  Torque [Nm]  Tool wear [min]  Machine failure  \n",
       "0                       1551         42.8                0                0  \n",
       "1                       1408         46.3                3                0  \n",
       "2                       1498         49.4                5                0  \n",
       "3                       1433         39.5                7                0  \n",
       "4                       1408         40.0                9                0  \n",
       "...                      ...          ...              ...              ...  \n",
       "9995                    1604         29.5               14                0  \n",
       "9996                    1632         31.8               17                0  \n",
       "9997                    1645         33.4               22                0  \n",
       "9998                    1408         48.5               25                0  \n",
       "9999                    1500         40.2               30                0  \n",
       "\n",
       "[10000 rows x 7 columns]"
      ]
     },
     "execution_count": 5,
     "metadata": {},
     "output_type": "execute_result"
    }
   ],
   "source": [
    "df = df.drop(columns=[\"Product ID\", \"UDI\", \"TWF\", \"HDF\", \"PWF\", \"OSF\", \"RNF\"])\n",
    "df"
   ]
  },
  {
   "cell_type": "code",
   "execution_count": 6,
   "id": "f5c8490b-d1b3-4cd6-a48b-79e85f5f3149",
   "metadata": {},
   "outputs": [
    {
     "data": {
      "text/plain": [
       "0    9661\n",
       "1     339\n",
       "Name: Machine failure, dtype: int64"
      ]
     },
     "execution_count": 6,
     "metadata": {},
     "output_type": "execute_result"
    }
   ],
   "source": [
    "df[\"Machine failure\"].value_counts()"
   ]
  },
  {
   "cell_type": "code",
   "execution_count": 7,
   "id": "fd52a0ac-21ca-459b-803f-f3d45bbb8990",
   "metadata": {},
   "outputs": [],
   "source": [
    "X, y = df.drop(columns=['Machine failure']), df['Machine failure']\n",
    "\n",
    "X_train, X_test, y_train, y_test = train_test_split(\n",
    "     X, y, test_size=0.33, random_state=42)"
   ]
  },
  {
   "cell_type": "markdown",
   "id": "03ba45f8-971a-41f7-a5f5-08ff3fe87e98",
   "metadata": {},
   "source": [
    "## 2. Model Optimisation\n",
    "The `XParamOptimiser` is utilised to fine-tune the hyperparameters of our model. This process searches for the optimal parameters that will yield the best model performance, balancing accuracy and computational efficiency."
   ]
  },
  {
   "cell_type": "code",
   "execution_count": 8,
   "id": "cada979b-d142-4f60-95bd-50df6a6987c1",
   "metadata": {},
   "outputs": [
    {
     "name": "stdout",
     "output_type": "stream",
     "text": [
      "100%|██████████| 30/30 [00:01<00:00, 15.52trial/s, best loss: -0.9315957452699021]\n"
     ]
    }
   ],
   "source": [
    "opt = XParamOptimiser()\n",
    "params = opt.optimise(X_train, y_train)"
   ]
  },
  {
   "cell_type": "markdown",
   "id": "b7f01515-675b-4253-ad87-fefc5c27f64e",
   "metadata": {},
   "source": [
    "## 3. Model Training\n",
    "With the optimised parameters obtained, the `XClassifier` is trained on the dataset. This classifier undergoes a fitting process with the training data, ensuring that it learns the underlying patterns and can make accurate predictions."
   ]
  },
  {
   "cell_type": "code",
   "execution_count": 9,
   "id": "2880d74e-9594-4320-aea5-116fa5e6f136",
   "metadata": {},
   "outputs": [
    {
     "data": {
      "text/plain": [
       "<xplainable.core.ml.classification.XClassifier at 0x29581d420>"
      ]
     },
     "execution_count": 9,
     "metadata": {},
     "output_type": "execute_result"
    }
   ],
   "source": [
    "model = XClassifier(**params)\n",
    "model.fit(X_train, y_train)"
   ]
  },
  {
   "cell_type": "markdown",
   "id": "29c58f7a-27d0-4a6d-9ed5-eba3d4c91ec5",
   "metadata": {},
   "source": [
    "## 4. Model Interpretability and Explainability\n",
    "Following training, the `model.explain()` method is called to generate insights into the model's decision-making process. This step is crucial for understanding the factors that influence the model's predictions and ensuring that the model's behaviour is transparent and explainable."
   ]
  },
  {
   "cell_type": "code",
   "execution_count": 10,
   "id": "2d85c3b8-af16-4742-bfe6-20d004844183",
   "metadata": {},
   "outputs": [
    {
     "data": {
      "text/html": [
       "\n",
       "    <style>\n",
       "    .vega-bind {\n",
       "      text-align:right;\n",
       "    }\n",
       "    </style>\n",
       "    "
      ],
      "text/plain": [
       "<IPython.core.display.HTML object>"
      ]
     },
     "metadata": {},
     "output_type": "display_data"
    },
    {
     "data": {
      "text/html": [
       "\n",
       "<style>\n",
       "  #altair-viz-2699f936208747539abc7ec1d8d2c8fe.vega-embed {\n",
       "    width: 100%;\n",
       "    display: flex;\n",
       "  }\n",
       "\n",
       "  #altair-viz-2699f936208747539abc7ec1d8d2c8fe.vega-embed details,\n",
       "  #altair-viz-2699f936208747539abc7ec1d8d2c8fe.vega-embed details summary {\n",
       "    position: relative;\n",
       "  }\n",
       "</style>\n",
       "<div id=\"altair-viz-2699f936208747539abc7ec1d8d2c8fe\"></div>\n",
       "<script type=\"text/javascript\">\n",
       "  var VEGA_DEBUG = (typeof VEGA_DEBUG == \"undefined\") ? {} : VEGA_DEBUG;\n",
       "  (function(spec, embedOpt){\n",
       "    let outputDiv = document.currentScript.previousElementSibling;\n",
       "    if (outputDiv.id !== \"altair-viz-2699f936208747539abc7ec1d8d2c8fe\") {\n",
       "      outputDiv = document.getElementById(\"altair-viz-2699f936208747539abc7ec1d8d2c8fe\");\n",
       "    }\n",
       "\n",
       "    const paths = {\n",
       "      \"vega\": \"https://cdn.jsdelivr.net/npm/vega@5?noext\",\n",
       "      \"vega-lib\": \"https://cdn.jsdelivr.net/npm/vega-lib?noext\",\n",
       "      \"vega-lite\": \"https://cdn.jsdelivr.net/npm/vega-lite@5.20.1?noext\",\n",
       "      \"vega-embed\": \"https://cdn.jsdelivr.net/npm/vega-embed@6?noext\",\n",
       "    };\n",
       "\n",
       "    function maybeLoadScript(lib, version) {\n",
       "      var key = `${lib.replace(\"-\", \"\")}_version`;\n",
       "      return (VEGA_DEBUG[key] == version) ?\n",
       "        Promise.resolve(paths[lib]) :\n",
       "        new Promise(function(resolve, reject) {\n",
       "          var s = document.createElement('script');\n",
       "          document.getElementsByTagName(\"head\")[0].appendChild(s);\n",
       "          s.async = true;\n",
       "          s.onload = () => {\n",
       "            VEGA_DEBUG[key] = version;\n",
       "            return resolve(paths[lib]);\n",
       "          };\n",
       "          s.onerror = () => reject(`Error loading script: ${paths[lib]}`);\n",
       "          s.src = paths[lib];\n",
       "        });\n",
       "    }\n",
       "\n",
       "    function showError(err) {\n",
       "      outputDiv.innerHTML = `<div class=\"error\" style=\"color:red;\">${err}</div>`;\n",
       "      throw err;\n",
       "    }\n",
       "\n",
       "    function displayChart(vegaEmbed) {\n",
       "      vegaEmbed(outputDiv, spec, embedOpt)\n",
       "        .catch(err => showError(`Javascript Error: ${err.message}<br>This usually means there's a typo in your chart specification. See the javascript console for the full traceback.`));\n",
       "    }\n",
       "\n",
       "    if(typeof define === \"function\" && define.amd) {\n",
       "      requirejs.config({paths});\n",
       "      let deps = [\"vega-embed\"];\n",
       "      require(deps, displayChart, err => showError(`Error loading script: ${err.message}`));\n",
       "    } else {\n",
       "      maybeLoadScript(\"vega\", \"5\")\n",
       "        .then(() => maybeLoadScript(\"vega-lite\", \"5.20.1\"))\n",
       "        .then(() => maybeLoadScript(\"vega-embed\", \"6\"))\n",
       "        .catch(showError)\n",
       "        .then(() => displayChart(vegaEmbed));\n",
       "    }\n",
       "  })({\"config\": {\"view\": {\"continuousWidth\": 300, \"continuousHeight\": 300}}, \"hconcat\": [{\"mark\": {\"type\": \"bar\", \"color\": \"#0080ea\"}, \"encoding\": {\"color\": {\"condition\": {\"param\": \"param_1\", \"value\": \"lightgray\"}, \"value\": \"#0080ea\"}, \"tooltip\": {\"field\": \"importance_label\", \"type\": \"nominal\"}, \"x\": {\"field\": \"importance\", \"type\": \"quantitative\"}, \"y\": {\"field\": \"feature\", \"sort\": {\"field\": \"importance\", \"order\": \"descending\"}, \"type\": \"nominal\"}}, \"height\": 400, \"name\": \"view_1\", \"title\": \"Feature Importances\", \"transform\": [{\"filter\": {\"param\": \"param_2\"}}], \"width\": 330}, {\"mark\": {\"type\": \"bar\", \"color\": \"#0080ea\"}, \"encoding\": {\"x\": {\"axis\": {\"labels\": false, \"title\": null}, \"field\": \"importance\", \"type\": \"quantitative\"}, \"y\": {\"axis\": {\"labels\": false, \"title\": null}, \"field\": \"feature\", \"sort\": \"-x\", \"type\": \"nominal\"}}, \"height\": 400, \"name\": \"view_2\", \"width\": 25}, {\"data\": {\"name\": \"data-399393208a4ce86d1555cba9281e0f65\"}, \"mark\": {\"type\": \"bar\", \"color\": \"#e14067\"}, \"encoding\": {\"color\": {\"condition\": {\"test\": \"(datum.contribution < 0)\", \"value\": \"#e14067\"}, \"value\": \"#12b980\"}, \"tooltip\": {\"field\": \"score_label\", \"type\": \"nominal\"}, \"x\": {\"field\": \"val\", \"type\": \"quantitative\"}, \"y\": {\"field\": \"value\", \"sort\": {\"field\": \"index\", \"order\": \"descending\"}, \"type\": \"nominal\"}}, \"height\": 400, \"name\": \"view_3\", \"title\": \"Contributions\", \"transform\": [{\"fold\": [\"contribution\", \"mean\", \"frequency\"], \"as\": [\"column\", \"val\"]}, {\"filter\": {\"param\": \"Select\"}}, {\"filter\": {\"param\": \"param_1\"}}, {\"filter\": {\"param\": \"param_3\"}}], \"width\": 330}, {\"data\": {\"name\": \"data-399393208a4ce86d1555cba9281e0f65\"}, \"mark\": {\"type\": \"bar\", \"color\": \"#e14067\"}, \"encoding\": {\"color\": {\"condition\": {\"test\": \"(datum.contribution < 0)\", \"value\": \"#e14067\"}, \"value\": \"#12b980\"}, \"x\": {\"axis\": {\"labels\": false, \"title\": null}, \"field\": \"contribution\", \"type\": \"quantitative\"}, \"y\": {\"axis\": {\"labels\": false, \"title\": null}, \"field\": \"value\", \"sort\": {\"field\": \"index\", \"order\": \"descending\"}, \"type\": \"nominal\"}}, \"height\": 400, \"name\": \"view_4\", \"transform\": [{\"filter\": {\"param\": \"param_1\"}}], \"width\": 25}], \"data\": {\"name\": \"data-ee53ca5068cf733f0b164234d5bb84ec\"}, \"params\": [{\"name\": \"param_1\", \"select\": {\"type\": \"point\", \"fields\": [\"feature\"]}, \"value\": \"Rotational speed [rpm]\", \"views\": [\"view_1\"]}, {\"name\": \"Select\", \"select\": {\"type\": \"point\", \"fields\": [\"column\"]}, \"bind\": {\"input\": \"select\", \"options\": [\"contribution\", \"mean\", \"frequency\"]}, \"value\": \"contribution\", \"views\": [\"view_1\", \"view_3\"]}, {\"name\": \"param_2\", \"select\": {\"type\": \"interval\", \"encodings\": [\"y\"]}, \"views\": [\"view_2\"]}, {\"name\": \"param_3\", \"select\": {\"type\": \"interval\", \"encodings\": [\"y\"]}, \"views\": [\"view_4\"]}], \"$schema\": \"https://vega.github.io/schema/vega-lite/v5.20.1.json\", \"datasets\": {\"data-ee53ca5068cf733f0b164234d5bb84ec\": [{\"feature\": \"Type\", \"importance\": 0.0, \"importance_label\": \"0.0%\"}, {\"feature\": \"Process temperature [K]\", \"importance\": 0.0, \"importance_label\": \"0.0%\"}, {\"feature\": \"Tool wear [min]\", \"importance\": 0.040391529126176454, \"importance_label\": \"4.0%\"}, {\"feature\": \"Air temperature [K]\", \"importance\": 0.10908798068981923, \"importance_label\": \"10.9%\"}, {\"feature\": \"Torque [Nm]\", \"importance\": 0.346315384434777, \"importance_label\": \"34.6%\"}, {\"feature\": \"Rotational speed [rpm]\", \"importance\": 0.5042051057492273, \"importance_label\": \"50.4%\"}], \"data-399393208a4ce86d1555cba9281e0f65\": [{\"index\": 0, \"value\": \"-inf - 301.75\", \"contribution\": -0.007333305605373574, \"mean\": 0.023376125694577504, \"frequency\": 0.778955223880597, \"feature\": \"Air temperature [K]\", \"score_label\": \"-0.7\"}, {\"index\": 1, \"value\": \"301.75 - 302.15\", \"contribution\": 0.08219256674472186, \"mean\": 0.0959409594095941, \"frequency\": 0.04044776119402985, \"feature\": \"Air temperature [K]\", \"score_label\": \"8.2\"}, {\"index\": 2, \"value\": \"302.15 - 302.35\", \"contribution\": 0.021731694703879725, \"mean\": 0.051470588235294115, \"frequency\": 0.04059701492537313, \"feature\": \"Air temperature [K]\", \"score_label\": \"2.2\"}, {\"index\": 3, \"value\": \"302.35 - 302.55\", \"contribution\": 0.06295493517241818, \"mean\": 0.08994708994708994, \"frequency\": 0.028208955223880595, \"feature\": \"Air temperature [K]\", \"score_label\": \"6.3\"}, {\"index\": 4, \"value\": \"302.55 - 302.95\", \"contribution\": 0.0756697572691737, \"mean\": 0.09900990099009901, \"frequency\": 0.030149253731343282, \"feature\": \"Air temperature [K]\", \"score_label\": \"7.6\"}, {\"index\": 5, \"value\": \"302.95 - 303.45\", \"contribution\": 0.13269982721323492, \"mean\": 0.1513513513513513, \"frequency\": 0.027611940298507463, \"feature\": \"Air temperature [K]\", \"score_label\": \"13.3\"}, {\"index\": 6, \"value\": \"303.45 - inf\", \"contribution\": -0.0009331617429575623, \"mean\": 0.03038674033149171, \"frequency\": 0.054029850746268655, \"feature\": \"Air temperature [K]\", \"score_label\": \"-0.1\"}, {\"index\": 7, \"value\": \"nan - nan\", \"contribution\": 0.0, \"mean\": 0.0, \"frequency\": 0.0, \"feature\": \"Air temperature [K]\", \"score_label\": \"0.0\"}, {\"index\": 0, \"value\": \"-inf - inf\", \"contribution\": 0.0, \"mean\": 0.035522388059701496, \"frequency\": 1.0, \"feature\": \"Process temperature [K]\", \"score_label\": \"0.0\"}, {\"index\": 1, \"value\": \"nan - nan\", \"contribution\": 0.0, \"mean\": 0.0, \"frequency\": 0.0, \"feature\": \"Process temperature [K]\", \"score_label\": \"0.0\"}, {\"index\": 0, \"value\": \"-inf - 1313.5\", \"contribution\": 0.22025697911767247, \"mean\": 0.215962441314554, \"frequency\": 0.0317910447761194, \"feature\": \"Rotational speed [rpm]\", \"score_label\": \"22.0\"}, {\"index\": 1, \"value\": \"1313.5 - 1341.5\", \"contribution\": 0.17556592279218364, \"mean\": 0.17727272727272728, \"frequency\": 0.03283582089552239, \"feature\": \"Rotational speed [rpm]\", \"score_label\": \"17.6\"}, {\"index\": 2, \"value\": \"1341.5 - 1364.5\", \"contribution\": 0.1387933000501027, \"mean\": 0.13805970149253732, \"frequency\": 0.04, \"feature\": \"Rotational speed [rpm]\", \"score_label\": \"13.9\"}, {\"index\": 3, \"value\": \"1364.5 - 1380.5\", \"contribution\": 0.16354908703758597, \"mean\": 0.1625, \"frequency\": 0.03582089552238806, \"feature\": \"Rotational speed [rpm]\", \"score_label\": \"16.4\"}, {\"index\": 4, \"value\": \"1380.5 - 1497.5\", \"contribution\": -0.008447844244089004, \"mean\": 0.015424164524421594, \"frequency\": 0.3483582089552239, \"feature\": \"Rotational speed [rpm]\", \"score_label\": \"-0.8\"}, {\"index\": 5, \"value\": \"1497.5 - 1559.5\", \"contribution\": -0.008672576423437233, \"mean\": 0.006433823529411764, \"frequency\": 0.16238805970149253, \"feature\": \"Rotational speed [rpm]\", \"score_label\": \"-0.9\"}, {\"index\": 6, \"value\": \"1559.5 - 1648.5\", \"contribution\": -0.009390369953169879, \"mean\": 0.0037488284910965055, \"frequency\": 0.15925373134328358, \"feature\": \"Rotational speed [rpm]\", \"score_label\": \"-0.9\"}, {\"index\": 7, \"value\": \"1648.5 - 1988.0\", \"contribution\": -0.009291345832786943, \"mean\": 0.004537205081669692, \"frequency\": 0.1644776119402985, \"feature\": \"Rotational speed [rpm]\", \"score_label\": \"-0.9\"}, {\"index\": 8, \"value\": \"1988.0 - inf\", \"contribution\": 0.12427840868306317, \"mean\": 0.1488095238095238, \"frequency\": 0.02507462686567164, \"feature\": \"Rotational speed [rpm]\", \"score_label\": \"12.4\"}, {\"index\": 9, \"value\": \"nan - nan\", \"contribution\": 0.0, \"mean\": 0.0, \"frequency\": 0.0, \"feature\": \"Rotational speed [rpm]\", \"score_label\": \"0.0\"}, {\"index\": 0, \"value\": \"-inf - 20.25\", \"contribution\": 0.12491987912862587, \"mean\": 0.1497005988023952, \"frequency\": 0.024925373134328358, \"feature\": \"Torque [Nm]\", \"score_label\": \"12.5\"}, {\"index\": 1, \"value\": \"20.25 - 34.35\", \"contribution\": -0.011357856145188631, \"mean\": 0.004618937644341803, \"frequency\": 0.25850746268656716, \"feature\": \"Torque [Nm]\", \"score_label\": \"-1.1\"}, {\"index\": 2, \"value\": \"34.35 - 50.85\", \"contribution\": -0.010117843043556285, \"mean\": 0.01632547292044571, \"frequency\": 0.5759701492537314, \"feature\": \"Torque [Nm]\", \"score_label\": \"-1.0\"}, {\"index\": 3, \"value\": \"50.85 - 53.55\", \"contribution\": 0.04084688228541948, \"mean\": 0.062146892655367235, \"frequency\": 0.05283582089552239, \"feature\": \"Torque [Nm]\", \"score_label\": \"4.1\"}, {\"index\": 4, \"value\": \"53.55 - 55.35\", \"contribution\": 0.08649903496985001, \"mean\": 0.1099476439790576, \"frequency\": 0.028507462686567165, \"feature\": \"Torque [Nm]\", \"score_label\": \"8.6\"}, {\"index\": 5, \"value\": \"55.35 - 59.05\", \"contribution\": 0.11437615590229272, \"mean\": 0.13043478260869565, \"frequency\": 0.0308955223880597, \"feature\": \"Torque [Nm]\", \"score_label\": \"11.4\"}, {\"index\": 6, \"value\": \"59.05 - inf\", \"contribution\": 0.3981960180950251, \"mean\": 0.37894736842105264, \"frequency\": 0.028358208955223882, \"feature\": \"Torque [Nm]\", \"score_label\": \"39.8\"}, {\"index\": 7, \"value\": \"nan - nan\", \"contribution\": 0.0, \"mean\": 0.0, \"frequency\": 0.0, \"feature\": \"Torque [Nm]\", \"score_label\": \"0.0\"}, {\"index\": 0, \"value\": \"-inf - 199.5\", \"contribution\": -0.007440856355969411, \"mean\": 0.02410223228728567, \"frequency\": 0.9226865671641791, \"feature\": \"Tool wear [min]\", \"score_label\": \"-0.7\"}, {\"index\": 1, \"value\": \"199.5 - 210.5\", \"contribution\": 0.15423080875911846, \"mean\": 0.14583333333333334, \"frequency\": 0.04298507462686567, \"feature\": \"Tool wear [min]\", \"score_label\": \"15.4\"}, {\"index\": 2, \"value\": \"210.5 - inf\", \"contribution\": 0.2133247875143659, \"mean\": 0.20434782608695654, \"frequency\": 0.034328358208955224, \"feature\": \"Tool wear [min]\", \"score_label\": \"21.3\"}, {\"index\": 3, \"value\": \"nan - nan\", \"contribution\": 0.0, \"mean\": 0.0, \"frequency\": 0.0, \"feature\": \"Tool wear [min]\", \"score_label\": \"0.0\"}]}}, {\"mode\": \"vega-lite\"});\n",
       "</script>"
      ],
      "text/plain": [
       "alt.HConcatChart(...)"
      ]
     },
     "execution_count": 10,
     "metadata": {},
     "output_type": "execute_result"
    }
   ],
   "source": [
    "model.explain()"
   ]
  },
  {
   "cell_type": "code",
   "execution_count": 11,
   "id": "4df8c9f9-eca2-4402-acf2-7cf1f4821aca",
   "metadata": {},
   "outputs": [
    {
     "data": {
      "text/plain": [
       "<xplainable.core.ml.classification.XClassifier at 0x28fe17940>"
      ]
     },
     "execution_count": 11,
     "metadata": {},
     "output_type": "execute_result"
    }
   ],
   "source": [
    "params = {\n",
    "    \"max_depth\": 4,\n",
    "    \"min_info_gain\": 0.05,\n",
    "}\n",
    "\n",
    "model.update_feature_params(features=['Rotational speed [rpm]', 'Tool wear [min]', 'Air temperature [K]', 'Process temperature [K]','Torque [Nm]'], **params)"
   ]
  },
  {
   "cell_type": "code",
   "execution_count": 12,
   "id": "38a3217b-7856-4b0c-99be-5c9f0be3b9f1",
   "metadata": {},
   "outputs": [
    {
     "data": {
      "text/html": [
       "\n",
       "    <style>\n",
       "    .vega-bind {\n",
       "      text-align:right;\n",
       "    }\n",
       "    </style>\n",
       "    "
      ],
      "text/plain": [
       "<IPython.core.display.HTML object>"
      ]
     },
     "metadata": {},
     "output_type": "display_data"
    },
    {
     "data": {
      "text/html": [
       "\n",
       "<style>\n",
       "  #altair-viz-edf99c435b0e430493a95d375b38268e.vega-embed {\n",
       "    width: 100%;\n",
       "    display: flex;\n",
       "  }\n",
       "\n",
       "  #altair-viz-edf99c435b0e430493a95d375b38268e.vega-embed details,\n",
       "  #altair-viz-edf99c435b0e430493a95d375b38268e.vega-embed details summary {\n",
       "    position: relative;\n",
       "  }\n",
       "</style>\n",
       "<div id=\"altair-viz-edf99c435b0e430493a95d375b38268e\"></div>\n",
       "<script type=\"text/javascript\">\n",
       "  var VEGA_DEBUG = (typeof VEGA_DEBUG == \"undefined\") ? {} : VEGA_DEBUG;\n",
       "  (function(spec, embedOpt){\n",
       "    let outputDiv = document.currentScript.previousElementSibling;\n",
       "    if (outputDiv.id !== \"altair-viz-edf99c435b0e430493a95d375b38268e\") {\n",
       "      outputDiv = document.getElementById(\"altair-viz-edf99c435b0e430493a95d375b38268e\");\n",
       "    }\n",
       "\n",
       "    const paths = {\n",
       "      \"vega\": \"https://cdn.jsdelivr.net/npm/vega@5?noext\",\n",
       "      \"vega-lib\": \"https://cdn.jsdelivr.net/npm/vega-lib?noext\",\n",
       "      \"vega-lite\": \"https://cdn.jsdelivr.net/npm/vega-lite@5.20.1?noext\",\n",
       "      \"vega-embed\": \"https://cdn.jsdelivr.net/npm/vega-embed@6?noext\",\n",
       "    };\n",
       "\n",
       "    function maybeLoadScript(lib, version) {\n",
       "      var key = `${lib.replace(\"-\", \"\")}_version`;\n",
       "      return (VEGA_DEBUG[key] == version) ?\n",
       "        Promise.resolve(paths[lib]) :\n",
       "        new Promise(function(resolve, reject) {\n",
       "          var s = document.createElement('script');\n",
       "          document.getElementsByTagName(\"head\")[0].appendChild(s);\n",
       "          s.async = true;\n",
       "          s.onload = () => {\n",
       "            VEGA_DEBUG[key] = version;\n",
       "            return resolve(paths[lib]);\n",
       "          };\n",
       "          s.onerror = () => reject(`Error loading script: ${paths[lib]}`);\n",
       "          s.src = paths[lib];\n",
       "        });\n",
       "    }\n",
       "\n",
       "    function showError(err) {\n",
       "      outputDiv.innerHTML = `<div class=\"error\" style=\"color:red;\">${err}</div>`;\n",
       "      throw err;\n",
       "    }\n",
       "\n",
       "    function displayChart(vegaEmbed) {\n",
       "      vegaEmbed(outputDiv, spec, embedOpt)\n",
       "        .catch(err => showError(`Javascript Error: ${err.message}<br>This usually means there's a typo in your chart specification. See the javascript console for the full traceback.`));\n",
       "    }\n",
       "\n",
       "    if(typeof define === \"function\" && define.amd) {\n",
       "      requirejs.config({paths});\n",
       "      let deps = [\"vega-embed\"];\n",
       "      require(deps, displayChart, err => showError(`Error loading script: ${err.message}`));\n",
       "    } else {\n",
       "      maybeLoadScript(\"vega\", \"5\")\n",
       "        .then(() => maybeLoadScript(\"vega-lite\", \"5.20.1\"))\n",
       "        .then(() => maybeLoadScript(\"vega-embed\", \"6\"))\n",
       "        .catch(showError)\n",
       "        .then(() => displayChart(vegaEmbed));\n",
       "    }\n",
       "  })({\"config\": {\"view\": {\"continuousWidth\": 300, \"continuousHeight\": 300}}, \"hconcat\": [{\"mark\": {\"type\": \"bar\", \"color\": \"#0080ea\"}, \"encoding\": {\"color\": {\"condition\": {\"param\": \"param_4\", \"value\": \"lightgray\"}, \"value\": \"#0080ea\"}, \"tooltip\": {\"field\": \"importance_label\", \"type\": \"nominal\"}, \"x\": {\"field\": \"importance\", \"type\": \"quantitative\"}, \"y\": {\"field\": \"feature\", \"sort\": {\"field\": \"importance\", \"order\": \"descending\"}, \"type\": \"nominal\"}}, \"height\": 400, \"name\": \"view_5\", \"title\": \"Feature Importances\", \"transform\": [{\"filter\": {\"param\": \"param_5\"}}], \"width\": 330}, {\"mark\": {\"type\": \"bar\", \"color\": \"#0080ea\"}, \"encoding\": {\"x\": {\"axis\": {\"labels\": false, \"title\": null}, \"field\": \"importance\", \"type\": \"quantitative\"}, \"y\": {\"axis\": {\"labels\": false, \"title\": null}, \"field\": \"feature\", \"sort\": \"-x\", \"type\": \"nominal\"}}, \"height\": 400, \"name\": \"view_6\", \"width\": 25}, {\"data\": {\"name\": \"data-fa8f81e23b388cc3565a83e80e9f667c\"}, \"mark\": {\"type\": \"bar\", \"color\": \"#e14067\"}, \"encoding\": {\"color\": {\"condition\": {\"test\": \"(datum.contribution < 0)\", \"value\": \"#e14067\"}, \"value\": \"#12b980\"}, \"tooltip\": {\"field\": \"score_label\", \"type\": \"nominal\"}, \"x\": {\"field\": \"val\", \"type\": \"quantitative\"}, \"y\": {\"field\": \"value\", \"sort\": {\"field\": \"index\", \"order\": \"descending\"}, \"type\": \"nominal\"}}, \"height\": 400, \"name\": \"view_7\", \"title\": \"Contributions\", \"transform\": [{\"fold\": [\"contribution\", \"mean\", \"frequency\"], \"as\": [\"column\", \"val\"]}, {\"filter\": {\"param\": \"Select\"}}, {\"filter\": {\"param\": \"param_4\"}}, {\"filter\": {\"param\": \"param_6\"}}], \"width\": 330}, {\"data\": {\"name\": \"data-fa8f81e23b388cc3565a83e80e9f667c\"}, \"mark\": {\"type\": \"bar\", \"color\": \"#e14067\"}, \"encoding\": {\"color\": {\"condition\": {\"test\": \"(datum.contribution < 0)\", \"value\": \"#e14067\"}, \"value\": \"#12b980\"}, \"x\": {\"axis\": {\"labels\": false, \"title\": null}, \"field\": \"contribution\", \"type\": \"quantitative\"}, \"y\": {\"axis\": {\"labels\": false, \"title\": null}, \"field\": \"value\", \"sort\": {\"field\": \"index\", \"order\": \"descending\"}, \"type\": \"nominal\"}}, \"height\": 400, \"name\": \"view_8\", \"transform\": [{\"filter\": {\"param\": \"param_4\"}}], \"width\": 25}], \"data\": {\"name\": \"data-a09905628200ee4e2aef28e90bcbe079\"}, \"params\": [{\"name\": \"param_4\", \"select\": {\"type\": \"point\", \"fields\": [\"feature\"]}, \"value\": \"Rotational speed [rpm]\", \"views\": [\"view_5\"]}, {\"name\": \"Select\", \"select\": {\"type\": \"point\", \"fields\": [\"column\"]}, \"bind\": {\"input\": \"select\", \"options\": [\"contribution\", \"mean\", \"frequency\"]}, \"value\": \"contribution\", \"views\": [\"view_5\", \"view_7\"]}, {\"name\": \"param_5\", \"select\": {\"type\": \"interval\", \"encodings\": [\"y\"]}, \"views\": [\"view_6\"]}, {\"name\": \"param_6\", \"select\": {\"type\": \"interval\", \"encodings\": [\"y\"]}, \"views\": [\"view_8\"]}], \"$schema\": \"https://vega.github.io/schema/vega-lite/v5.20.1.json\", \"datasets\": {\"data-a09905628200ee4e2aef28e90bcbe079\": [{\"feature\": \"Type\", \"importance\": 0.0, \"importance_label\": \"0.0%\"}, {\"feature\": \"Air temperature [K]\", \"importance\": 0.0, \"importance_label\": \"0.0%\"}, {\"feature\": \"Process temperature [K]\", \"importance\": 0.0, \"importance_label\": \"0.0%\"}, {\"feature\": \"Tool wear [min]\", \"importance\": 0.11312447401879569, \"importance_label\": \"11.3%\"}, {\"feature\": \"Torque [Nm]\", \"importance\": 0.36896485619433533, \"importance_label\": \"36.9%\"}, {\"feature\": \"Rotational speed [rpm]\", \"importance\": 0.5179106697868688, \"importance_label\": \"51.8%\"}], \"data-fa8f81e23b388cc3565a83e80e9f667c\": [{\"index\": 0, \"value\": \"-inf - inf\", \"contribution\": 0.0, \"mean\": 0.035522388059701496, \"frequency\": 1.0, \"feature\": \"Air temperature [K]\", \"score_label\": \"0.0\"}, {\"index\": 1, \"value\": \"nan - nan\", \"contribution\": 0.0, \"mean\": 0.0, \"frequency\": 0.0, \"feature\": \"Air temperature [K]\", \"score_label\": \"0.0\"}, {\"index\": 0, \"value\": \"-inf - inf\", \"contribution\": 0.0, \"mean\": 0.035522388059701496, \"frequency\": 1.0, \"feature\": \"Process temperature [K]\", \"score_label\": \"0.0\"}, {\"index\": 1, \"value\": \"nan - nan\", \"contribution\": 0.0, \"mean\": 0.0, \"frequency\": 0.0, \"feature\": \"Process temperature [K]\", \"score_label\": \"0.0\"}, {\"index\": 0, \"value\": \"-inf - 1313.5\", \"contribution\": 0.2553962478119128, \"mean\": 0.215962441314554, \"frequency\": 0.0317910447761194, \"feature\": \"Rotational speed [rpm]\", \"score_label\": \"25.5\"}, {\"index\": 1, \"value\": \"1313.5 - 1341.5\", \"contribution\": 0.2035752878495826, \"mean\": 0.17727272727272728, \"frequency\": 0.03283582089552239, \"feature\": \"Rotational speed [rpm]\", \"score_label\": \"20.4\"}, {\"index\": 2, \"value\": \"1341.5 - 1364.5\", \"contribution\": 0.16093604931942454, \"mean\": 0.13805970149253732, \"frequency\": 0.04, \"feature\": \"Rotational speed [rpm]\", \"score_label\": \"16.1\"}, {\"index\": 3, \"value\": \"1364.5 - 1380.5\", \"contribution\": 0.18964131502115916, \"mean\": 0.1625, \"frequency\": 0.03582089552238806, \"feature\": \"Rotational speed [rpm]\", \"score_label\": \"19.0\"}, {\"index\": 4, \"value\": \"1380.5 - 1988.0\", \"contribution\": -0.01567956188032209, \"mean\": 0.00930066177785727, \"frequency\": 0.8344776119402985, \"feature\": \"Rotational speed [rpm]\", \"score_label\": \"-1.6\"}, {\"index\": 5, \"value\": \"1988.0 - inf\", \"contribution\": 0.1441054870943841, \"mean\": 0.1488095238095238, \"frequency\": 0.02507462686567164, \"feature\": \"Rotational speed [rpm]\", \"score_label\": \"14.4\"}, {\"index\": 6, \"value\": \"nan - nan\", \"contribution\": 0.0, \"mean\": 0.0, \"frequency\": 0.0, \"feature\": \"Rotational speed [rpm]\", \"score_label\": \"0.0\"}, {\"index\": 0, \"value\": \"-inf - 20.25\", \"contribution\": 0.1448492961919901, \"mean\": 0.1497005988023952, \"frequency\": 0.024925373134328358, \"feature\": \"Torque [Nm]\", \"score_label\": \"14.5\"}, {\"index\": 1, \"value\": \"20.25 - 52.45\", \"contribution\": -0.012698151637327479, \"mean\": 0.014642549526270457, \"frequency\": 0.8664179104477612, \"feature\": \"Torque [Nm]\", \"score_label\": \"-1.3\"}, {\"index\": 2, \"value\": \"52.45 - 55.35\", \"contribution\": 0.0899073597389872, \"mean\": 0.08761329305135952, \"frequency\": 0.049402985074626864, \"feature\": \"Torque [Nm]\", \"score_label\": \"9.0\"}, {\"index\": 3, \"value\": \"55.35 - 59.05\", \"contribution\": 0.13262345272151305, \"mean\": 0.13043478260869565, \"frequency\": 0.0308955223880597, \"feature\": \"Torque [Nm]\", \"score_label\": \"13.3\"}, {\"index\": 4, \"value\": \"59.05 - inf\", \"contribution\": 0.46172325309511225, \"mean\": 0.37894736842105264, \"frequency\": 0.028358208955223882, \"feature\": \"Torque [Nm]\", \"score_label\": \"46.2\"}, {\"index\": 5, \"value\": \"nan - nan\", \"contribution\": 0.0, \"mean\": 0.0, \"frequency\": 0.0, \"feature\": \"Torque [Nm]\", \"score_label\": \"0.0\"}, {\"index\": 0, \"value\": \"-inf - 199.5\", \"contribution\": -0.007144674542051926, \"mean\": 0.02410223228728567, \"frequency\": 0.9226865671641791, \"feature\": \"Tool wear [min]\", \"score_label\": \"-0.7\"}, {\"index\": 1, \"value\": \"199.5 - 210.5\", \"contribution\": 0.17883642103813394, \"mean\": 0.14583333333333334, \"frequency\": 0.04298507462686567, \"feature\": \"Tool wear [min]\", \"score_label\": \"17.9\"}, {\"index\": 2, \"value\": \"210.5 - inf\", \"contribution\": 0.2473581110332735, \"mean\": 0.20434782608695654, \"frequency\": 0.034328358208955224, \"feature\": \"Tool wear [min]\", \"score_label\": \"24.7\"}, {\"index\": 3, \"value\": \"nan - nan\", \"contribution\": 0.0, \"mean\": 0.0, \"frequency\": 0.0, \"feature\": \"Tool wear [min]\", \"score_label\": \"0.0\"}]}}, {\"mode\": \"vega-lite\"});\n",
       "</script>"
      ],
      "text/plain": [
       "alt.HConcatChart(...)"
      ]
     },
     "execution_count": 12,
     "metadata": {},
     "output_type": "execute_result"
    }
   ],
   "source": [
    "model.explain()"
   ]
  },
  {
   "cell_type": "markdown",
   "id": "485dc680-c743-40c0-bd02-88413c833356",
   "metadata": {},
   "source": [
    "In this snapshot, we demonstrate the impact of hyperparameter tuning on model interpretability. By adjusting max_depth and min_info_gain, we refine the feature wise explainability and information criterion, respectively, which in turn recalibrates feature score contributions. These scores, essential in understanding feature contributions to model predictions, are visualized before and after parameter adjustment, illustrating the model's internal logic shifts. This process is critical for enhancing transparency and aids in pinpointing influential features, fostering the development of interpretable and trustworthy machine learning models."
   ]
  },
  {
   "cell_type": "markdown",
   "id": "227c2573-0f0d-4cbc-afc8-df145442f425",
   "metadata": {},
   "source": [
    "# Persisting to Xplainable Cloud"
   ]
  },
  {
   "cell_type": "markdown",
   "id": "5170c404-1dc9-4aa7-8ae7-826259f9e7e0",
   "metadata": {},
   "source": [
    "## Instantiate Xplainable Cloud\n",
    "\n",
    "Initialise the xplainable cloud using an API key from:\n",
    "https://beta.xplainable.io/\n",
    "\n",
    "This allows you to save and collaborate on models, create deployments, create shareable reports."
   ]
  },
  {
   "cell_type": "code",
   "execution_count": 13,
   "id": "ef891f44",
   "metadata": {},
   "outputs": [],
   "source": [
    "client = xplainable_client.Client(\n",
    "    api_key=\"\",#<- Add your own token here\n",
    ")\n",
    "\n",
    "\n"
   ]
  },
  {
   "cell_type": "markdown",
   "id": "388eae28-0585-49d1-9b6a-d66bd0daef25",
   "metadata": {},
   "source": [
    "## 5. Model Persisting\n",
    "In this step, we first create a unique identifier for our churn prediction model using `client.create_model_id`. This identifier, shown as `model_id`, represents the newly instantiated model which predicts the likelihood of customers leaving within the next month. Following this, we generate a specific version of the model with `xp.client.create_model_version`, passing in our training data. The output `version_id` represents this particular iteration of our model, allowing us to track and manage different versions systematically.\n"
   ]
  },
  {
   "cell_type": "code",
   "execution_count": 14,
   "id": "399422d4",
   "metadata": {},
   "outputs": [
    {
     "data": {
      "application/vnd.jupyter.widget-view+json": {
       "model_id": "78ee173189fa4f57a16926e2776e5975",
       "version_major": 2,
       "version_minor": 0
      },
      "text/plain": [
       "  0%|          | 0/6 [00:00<?, ?it/s]"
      ]
     },
     "metadata": {},
     "output_type": "display_data"
    },
    {
     "name": "stdout",
     "output_type": "stream",
     "text": [
      "<Response [200]>\n"
     ]
    }
   ],
   "source": [
    "# Create a model\n",
    "model_id = client.create_model(\n",
    "    model=model,\n",
    "    model_name=\"Asset Failure Prediction\",\n",
    "    model_description=\"Using machine metadata to predict asset failures\",\n",
    "    x=X_train,\n",
    "    y=y_train\n",
    ")"
   ]
  },
  {
   "cell_type": "markdown",
   "id": "803430e6-8402-4fa0-b9cc-772804763b1d",
   "metadata": {},
   "source": [
    "## 6. Model Deployment"
   ]
  },
  {
   "cell_type": "markdown",
   "id": "62f65099-510a-4636-aea0-0632941fc0d5",
   "metadata": {},
   "source": [
    "The code block illustrates the deployment of our churn prediction model using the `xp.client.deploy` function. The deployment process involves specifying the `hostname` of the server where the model will be hosted, as well as the unique `model_id` and `version_id` that we obtained in the previous steps. This step effectively activates the model's endpoint, allowing it to receive and process prediction requests. The output confirms the deployment with a `deployment_id`, indicating the model's current `status` as 'inactive', its `location`, and the `endpoint` URL where it can be accessed for xplainable deployments."
   ]
  },
  {
   "cell_type": "code",
   "execution_count": 15,
   "id": "86e391f8-3007-4170-8089-f8fc14401d52",
   "metadata": {},
   "outputs": [
    {
     "name": "stdout",
     "output_type": "stream",
     "text": [
      "<Response [200]>\n"
     ]
    }
   ],
   "source": [
    "deployment = client.deploy(\n",
    "    model_version_id=model_id[\"version_id\"], #<- Use model id produced above\n",
    ")"
   ]
  },
  {
   "cell_type": "markdown",
   "id": "ea300063-0fee-4d3a-a107-aa8264f288c8",
   "metadata": {},
   "source": [
    "### Testing the Deployment programatically\n",
    "This section demonstrates the steps taken to programmatically test a deployed model. These steps are essential for validating that the model's deployment is functional and ready to process incoming prediction requests.\n"
   ]
  },
  {
   "cell_type": "markdown",
   "id": "7ed6fed3-91f5-4173-ab08-4971e6c4f65a",
   "metadata": {},
   "source": [
    "1. **Activating the Deployment:**\n",
    "   The model deployment is activated using `xp.client.activate_deployment`, which changes the deployment status to active, allowing it to accept prediction requests."
   ]
  },
  {
   "cell_type": "code",
   "execution_count": 16,
   "id": "f361569c-9f6e-4218-b2fc-49439a42d7bd",
   "metadata": {},
   "outputs": [
    {
     "data": {
      "text/plain": [
       "{'message': 'activated deployment'}"
      ]
     },
     "execution_count": 16,
     "metadata": {},
     "output_type": "execute_result"
    }
   ],
   "source": [
    "client.activate_deployment(deployment['deployment_id'])"
   ]
  },
  {
   "cell_type": "markdown",
   "id": "a5092f55-1cfd-4162-8056-2b6c150f20fd",
   "metadata": {},
   "source": [
    "2. **Creating a Deployment Key:**\n",
    "   A deployment key is generated with `xp.client.generate_deploy_key`. This key is required to authenticate and make secure requests to the deployed model."
   ]
  },
  {
   "cell_type": "code",
   "execution_count": 17,
   "id": "15f4d541-2e7b-43da-b9b1-fc7cbc518d91",
   "metadata": {},
   "outputs": [
    {
     "name": "stdout",
     "output_type": "stream",
     "text": [
      "<Response [200]>\n"
     ]
    }
   ],
   "source": [
    "deploy_key = client.generate_deploy_key(deployment['deployment_id'],'API key for Tool Failure Prediction', 7)"
   ]
  },
  {
   "cell_type": "markdown",
   "id": "34a8ec84-df55-4d97-b8f3-f4b8199ddac3",
   "metadata": {},
   "source": [
    "3. **Generating Example Payload:**\n",
    "   An example payload for a deployment request is generated by `xp.client.generate_example_deployment_payload`. This payload mimics the input data structure the model expects when making predictions."
   ]
  },
  {
   "cell_type": "code",
   "execution_count": 18,
   "id": "a92aabc4-3f1e-47a0-a4db-35eaadca9197",
   "metadata": {},
   "outputs": [],
   "source": [
    "#Set the option to highlight multiple ways of creating data\n",
    "option = 2"
   ]
  },
  {
   "cell_type": "code",
   "execution_count": 19,
   "id": "f05fab0b-5da5-4644-9814-247898ac8961",
   "metadata": {},
   "outputs": [],
   "source": [
    "if option == 1:\n",
    "    body = xp.client.generate_example_deployment_payload(deployment['deployment_id'])\n",
    "else:\n",
    "    body = json.loads(df.drop(columns=[\"Machine failure\"]).sample(1).to_json(orient=\"records\"))"
   ]
  },
  {
   "cell_type": "code",
   "execution_count": 20,
   "id": "3bc5dd63-7aa5-452a-9c02-52f87d30cfc6",
   "metadata": {},
   "outputs": [
    {
     "data": {
      "text/plain": [
       "[{'Type': 'M',\n",
       "  'Air temperature [K]': 298.8,\n",
       "  'Process temperature [K]': 308.8,\n",
       "  'Rotational speed [rpm]': 1497,\n",
       "  'Torque [Nm]': 46.8,\n",
       "  'Tool wear [min]': 72}]"
      ]
     },
     "execution_count": 20,
     "metadata": {},
     "output_type": "execute_result"
    }
   ],
   "source": [
    "body"
   ]
  },
  {
   "cell_type": "markdown",
   "id": "be6ead2d-bc5c-498e-88b6-362247938a94",
   "metadata": {},
   "source": [
    "4. **Making a Prediction Request:**\n",
    "   A POST request is made to the model's prediction endpoint with the example payload. The model processes the input data and returns a prediction response, which includes the predicted class (e.g., 0 for no failure) and the prediction probabilities for each class."
   ]
  },
  {
   "cell_type": "code",
   "execution_count": 21,
   "id": "0e0dd6f2-c8a9-4a2e-9501-9800310b3594",
   "metadata": {},
   "outputs": [
    {
     "data": {
      "text/plain": [
       "[{'index': 0,\n",
       "  'id': None,\n",
       "  'partition': '__dataset__',\n",
       "  'score': 0.0,\n",
       "  'proba': None,\n",
       "  'pred': 0,\n",
       "  'support': None,\n",
       "  'breakdown': [{'feature': 'base_value',\n",
       "    'value': None,\n",
       "    'score': 0.035522388059701496},\n",
       "   {'feature': 'Type', 'value': 'M', 'score': 0.0},\n",
       "   {'feature': 'Air temperature [K]', 'value': '298.8', 'score': 0.0},\n",
       "   {'feature': 'Process temperature [K]', 'value': '308.8', 'score': 0.0},\n",
       "   {'feature': 'Rotational speed [rpm]',\n",
       "    'value': '1497',\n",
       "    'score': -0.01567956188032209},\n",
       "   {'feature': 'Torque [Nm]', 'value': '46.8', 'score': -0.012698151637327479},\n",
       "   {'feature': 'Tool wear [min]',\n",
       "    'value': '72',\n",
       "    'score': -0.007144674542051926}]}]"
      ]
     },
     "execution_count": 21,
     "metadata": {},
     "output_type": "execute_result"
    },
    {
     "ename": "",
     "evalue": "",
     "output_type": "error",
     "traceback": [
      "\u001b[1;31mThe Kernel crashed while executing code in the current cell or a previous cell. \n",
      "\u001b[1;31mPlease review the code in the cell(s) to identify a possible cause of the failure. \n",
      "\u001b[1;31mClick <a href='https://aka.ms/vscodeJupyterKernelCrash'>here</a> for more info. \n",
      "\u001b[1;31mView Jupyter <a href='command:jupyter.viewOutput'>log</a> for further details."
     ]
    }
   ],
   "source": [
    "response = requests.post(\n",
    "    url=\"https://inference.xplainable.io/v1/predict\",\n",
    "    headers={'api_key': deploy_key['deploy_key']},\n",
    "    json=body\n",
    ")\n",
    "\n",
    "value = response.json()\n",
    "value"
   ]
  }
 ],
 "metadata": {
  "kernelspec": {
   "display_name": "xplainable-jupyter",
   "language": "python",
   "name": "python3"
  },
  "language_info": {
   "codemirror_mode": {
    "name": "ipython",
    "version": 3
   },
   "file_extension": ".py",
   "mimetype": "text/x-python",
   "name": "python",
   "nbconvert_exporter": "python",
   "pygments_lexer": "ipython3",
   "version": "3.10.18"
  }
 },
 "nbformat": 4,
 "nbformat_minor": 5
}
