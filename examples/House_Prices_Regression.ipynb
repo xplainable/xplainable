{
 "cells": [
  {
   "cell_type": "markdown",
   "metadata": {},
   "source": [
    "# Regression - House Prices Advanced Regression"
   ]
  },
  {
   "cell_type": "markdown",
   "metadata": {},
   "source": [
    "\n",
    "Predicting house prices using advanced regression techniques with comprehensive feature engineering.\n",
    "\n",
    "**Dataset Source**: [Kaggle House Prices Competition](https://www.kaggle.com/competitions/house-prices-advanced-regression-techniques)\n",
    "**Problem Type**: Regression\n",
    "**Target Variable**: SalePrice - Final sale price of houses\n",
    "**Use Case**: Real estate valuation, property investment analysis, market trend prediction\n",
    "\n",
    "## Package Imports"
   ]
  },
  {
   "cell_type": "code",
   "execution_count": null,
   "metadata": {},
   "outputs": [],
   "source": [
    "import pandas as pd\n",
    "import xplainable as xp\n",
    "from xplainable.core.models import XRegressor\n",
    "from xplainable.core.optimisation.genetic import XEvolutionaryNetwork\n",
    "from xplainable.core.optimisation.layers import Evolve, Tighten\n",
    "from xplainable.preprocessing.pipeline import XPipeline\n",
    "from xplainable.preprocessing import transformers as xtf\n",
    "from sklearn.model_selection import train_test_split\n",
    "import requests\n",
    "import json\n",
    "\n",
    "# Additional imports specific to this example\n",
    "import numpy as np\n",
    "import matplotlib.pyplot as plt\n",
    "import seaborn as sns\n",
    "\n",
    "from xplainable_client.client.client import XplainableClient\n",
    "from xplainable_client.client.base import XplainableAPIError"
   ]
  },
  {
   "cell_type": "code",
   "execution_count": null,
   "metadata": {},
   "outputs": [],
   "source": [
    "!pip install xplainable\n",
    "!pip install xplainable-client"
   ]
  },
  {
   "cell_type": "markdown",
   "metadata": {},
   "source": [
    "## Xplainable Cloud Setup"
   ]
  },
  {
   "cell_type": "code",
   "execution_count": null,
   "metadata": {},
   "outputs": [],
   "source": [
    "# Initialize Xplainable Cloud client\n",
    "client = XplainableClient(\n",
    "    api_key=\"\", #Create api key in xplainable cloud - https://platform.xplainable.io/\n",
    "    hostname=\"https://platform.xplainable.io\"\n",
    ")"
   ]
  },
  {
   "cell_type": "markdown",
   "metadata": {},
   "source": [
    "## Data Loading and Exploration\n",
    "\n",
    "Load the House Prices dataset from Kaggle.\n",
    "\n",
    "**Note**: Download the dataset from [Kaggle](https://www.kaggle.com/competitions/house-prices-advanced-regression-techniques/data) or use the Kaggle API."
   ]
  },
  {
   "cell_type": "code",
   "execution_count": null,
   "metadata": {},
   "outputs": [],
   "source": [
    "# Load dataset\n",
    "try:\n",
    "    # If you have downloaded the dataset manually\n",
    "    train_df = pd.read_csv('train.csv')\n",
    "    test_df = pd.read_csv('test.csv')\n",
    "    \n",
    "    # Display basic information\n",
    "    print(f\"Training dataset shape: {train_df.shape}\")\n",
    "    print(f\"Test dataset shape: {test_df.shape}\")\n",
    "    print(f\"Target variable statistics:\")\n",
    "    print(train_df['SalePrice'].describe())\n",
    "    \n",
    "    train_df.head()\n",
    "    \n",
    "except FileNotFoundError:\n",
    "    print(\"Dataset files not found. Please download from Kaggle:\")\n",
    "    print(\"https://www.kaggle.com/competitions/house-prices-advanced-regression-techniques/data\")\n",
    "    print(\"Or use: kaggle competitions download -c house-prices-advanced-regression-techniques\")\n",
    "    \n",
    "    # For testing purposes, create a simple synthetic dataset\n",
    "    print(\"\\\\nCreating synthetic dataset for testing...\")\n",
    "    import numpy as np\n",
    "    np.random.seed(42)\n",
    "    \n",
    "    # Create a simple synthetic housing dataset\n",
    "    n_samples = 1000\n",
    "    train_df = pd.DataFrame({\n",
    "        'LotArea': np.random.normal(10000, 2000, n_samples),\n",
    "        'YearBuilt': np.random.randint(1950, 2020, n_samples),\n",
    "        'TotalBsmtSF': np.random.normal(1000, 300, n_samples),\n",
    "        'GrLivArea': np.random.normal(1500, 400, n_samples),\n",
    "        'GarageCars': np.random.randint(0, 4, n_samples),\n",
    "        'Neighborhood': np.random.choice(['A', 'B', 'C', 'D'], n_samples),\n",
    "        'HouseStyle': np.random.choice(['1Story', '2Story', 'Split'], n_samples)\n",
    "    })\n",
    "    \n",
    "    # Create target variable with realistic relationship\n",
    "    train_df['SalePrice'] = (\n",
    "        train_df['LotArea'] * 0.01 + \n",
    "        train_df['GrLivArea'] * 80 + \n",
    "        train_df['TotalBsmtSF'] * 30 +\n",
    "        train_df['GarageCars'] * 5000 +\n",
    "        np.random.normal(0, 10000, n_samples)\n",
    "    ).astype(int)\n",
    "    \n",
    "    print(f\"Synthetic dataset created: {train_df.shape}\")\n",
    "    print(f\"Target variable statistics:\")\n",
    "    print(train_df['SalePrice'].describe())"
   ]
  },
  {
   "cell_type": "markdown",
   "metadata": {},
   "source": [
    "## 1. Data Preprocessing\n",
    "\n",
    "Handle missing values, encode categorical variables, and engineer features."
   ]
  },
  {
   "cell_type": "code",
   "execution_count": null,
   "metadata": {},
   "outputs": [],
   "source": [
    "# Simple data preprocessing without complex pipeline\n",
    "# Drop columns with too many missing values or non-informative features\n",
    "if 'Id' in train_df.columns:\n",
    "    df_processed = train_df.drop(columns=['Id'])\n",
    "else:\n",
    "    df_processed = train_df.copy()\n",
    "\n",
    "# Fill missing values with simple pandas operations\n",
    "df_processed = df_processed.fillna(df_processed.median(numeric_only=True))\n",
    "df_processed = df_processed.fillna(df_processed.mode().iloc[0])\n",
    "\n",
    "print(f\"Processed dataset shape: {df_processed.shape}\")\n",
    "print(f\"Missing values: {df_processed.isnull().sum().sum()}\")\n",
    "df_processed.head()"
   ]
  },
  {
   "cell_type": "markdown",
   "metadata": {},
   "source": [
    "### Create Train/Test Split"
   ]
  },
  {
   "cell_type": "code",
   "execution_count": null,
   "metadata": {},
   "outputs": [],
   "source": [
    "X, y = df_processed.drop(columns=['SalePrice']), df_processed['SalePrice']\n",
    "\n",
    "X_train, X_test, y_train, y_test = train_test_split(\n",
    "    X, y, test_size=0.2, random_state=42\n",
    ")"
   ]
  },
  {
   "cell_type": "markdown",
   "metadata": {},
   "source": [
    "## 2. Model Optimization\n",
    "\n",
    "Optimize the model using genetic algorithms with evolutionary networks for house price prediction."
   ]
  },
  {
   "cell_type": "code",
   "execution_count": null,
   "metadata": {},
   "outputs": [],
   "source": [
    "# First train a base model\n",
    "model = XRegressor()\n",
    "model.fit(X_train, y_train)\n",
    "\n",
    "# Create evolutionary network for optimization\n",
    "network = XEvolutionaryNetwork(model)\n",
    "\n",
    "# Add optimization layers\n",
    "# Start with an initial Tighten layer\n",
    "network.add_layer(\n",
    "    Tighten(\n",
    "        iterations=100,\n",
    "        learning_rate=0.1,\n",
    "        early_stopping=20\n",
    "    )\n",
    ")\n",
    "\n",
    "# Add an Evolve layer with high severity for exploration\n",
    "network.add_layer(\n",
    "    Evolve(\n",
    "        mutations=100,\n",
    "        generations=50,\n",
    "        max_severity=0.5,\n",
    "        max_leaves=20,\n",
    "        early_stopping=20\n",
    "    )\n",
    ")\n",
    "\n",
    "# Add another Evolve layer with lower severity for refinement\n",
    "network.add_layer(\n",
    "    Evolve(\n",
    "        mutations=100,\n",
    "        generations=50,\n",
    "        max_severity=0.3,\n",
    "        max_leaves=15,\n",
    "        early_stopping=20\n",
    "    )\n",
    ")\n",
    "\n",
    "# Add a final Tighten layer with low learning rate for fine-tuning\n",
    "network.add_layer(\n",
    "    Tighten(\n",
    "        iterations=100,\n",
    "        learning_rate=0.025,\n",
    "        early_stopping=20\n",
    "    )\n",
    ")\n",
    "\n",
    "# Fit the network and run optimization\n",
    "network.fit(X_train, y_train)\n",
    "network.optimise()"
   ]
  },
  {
   "cell_type": "markdown",
   "metadata": {},
   "source": [
    "## 3. Model Training\n",
    "\n",
    "The model has been trained and optimized through the evolutionary network process."
   ]
  },
  {
   "cell_type": "code",
   "execution_count": null,
   "metadata": {},
   "outputs": [],
   "source": [
    "# Model is already trained through the evolutionary network\n",
    "# Let's evaluate the optimized model performance\n",
    "train_performance = model.evaluate(X_train, y_train)\n",
    "print(\"Training Performance:\")\n",
    "for metric, value in train_performance.items():\n",
    "    print(f\"{metric}: {value:.4f}\")"
   ]
  },
  {
   "cell_type": "markdown",
   "metadata": {},
   "source": [
    "## 4. Model Interpretability and Explainability\n",
    "\n",
    "Analyze which features most influence house price predictions."
   ]
  },
  {
   "cell_type": "code",
   "execution_count": null,
   "metadata": {},
   "outputs": [],
   "source": [
    "model.explain()"
   ]
  },
  {
   "cell_type": "markdown",
   "metadata": {},
   "source": [
    "## 5. Model Persistence (Optional)\n",
    "\n",
    "Save the model to Xplainable Cloud for collaboration and deployment."
   ]
  },
  {
   "cell_type": "code",
   "execution_count": null,
   "metadata": {},
   "outputs": [],
   "source": [
    "Uncomment to save model to Xplainable Cloud\n",
    "try:\n",
    "    model_id, version_id = client.models.create_model(\n",
    "        model=model,\n",
    "        model_name=\"House Prices Regression Model\",\n",
    "        model_description=\"Predicting house sale prices using property characteristics\",\n",
    "        x=X_train,\n",
    "        y=y_train\n",
    "    )\n",
    "except XplainableAPIError as e:\n",
    "    print(f\"Error creating model: {e}\")"
   ]
  },
  {
   "cell_type": "markdown",
   "metadata": {},
   "source": [
    "## 6. Model Deployment (Optional)\n",
    "\n",
    "Deploy the model for real-time predictions."
   ]
  },
  {
   "cell_type": "code",
   "execution_count": null,
   "metadata": {},
   "outputs": [],
   "source": [
    "Uncomment to deploy model\n",
    "try:\n",
    "    deployment_response = client.deployments.deploy(\n",
    "        model_version_id=version_id\n",
    "    )\n",
    "    deployment_id = deployment_response.deployment_id\n",
    "except XplainableAPIError as e:\n",
    "    print(f\"Error deploying model: {e}\")\n",
    "\n",
    "# Activate deployment\n",
    "try:\n",
    "    client.deployments.activate_deployment(deployment_id=deployment_id)\n",
    "except XplainableAPIError as e:\n",
    "    print(f\"Error activating deployment: {e}\")\n",
    "\n",
    "# Generate deploy key for inference\n",
    "try:\n",
    "    deploy_key = client.deployments.generate_deploy_key(\n",
    "        deployment_id=deployment_id,\n",
    "        name=\"House Prices Deployment Key\"\n",
    "    )\n",
    "    print(f\"Deploy key created: {str(deploy_key)}\")\n",
    "except XplainableAPIError as e:\n",
    "    print(f\"Error generating deploy key: {e}\")\n",
    "\n",
    "# Generate example deployment payload\n",
    "try:\n",
    "    example_payload = client.deployments.generate_example_deployment_payload(\n",
    "        model_version_id=version_id\n",
    "    )\n",
    "    print(\"Example payload:\", example_payload)\n",
    "except XplainableAPIError as e:\n",
    "    print(f\"Error generating example payload: {e}\")"
   ]
  },
  {
   "cell_type": "markdown",
   "metadata": {},
   "source": [
    "## 7. Model Testing\n",
    "\n",
    "Evaluate model performance on test data."
   ]
  },
  {
   "cell_type": "code",
   "execution_count": null,
   "metadata": {},
   "outputs": [],
   "source": [
    "# Evaluate on test set\n",
    "test_predictions = model.predict(X_test)\n",
    "test_performance = model.evaluate(X_test, y_test)\n",
    "\n",
    "print(\"Test Set Performance:\")\n",
    "for metric, value in test_performance.items():\n",
    "    print(f\"{metric}: {value:.4f}\")\n",
    "\n",
    "# Plot predictions vs actual\n",
    "plt.figure(figsize=(10, 6))\n",
    "plt.scatter(y_test, test_predictions, alpha=0.5)\n",
    "plt.plot([y_test.min(), y_test.max()], [y_test.min(), y_test.max()], 'r--', lw=2)\n",
    "plt.xlabel('Actual Sale Price')\n",
    "plt.ylabel('Predicted Sale Price')\n",
    "plt.title('House Price Predictions vs Actual Values')\n",
    "plt.show()"
   ]
  }
 ],
 "metadata": {
  "kernelspec": {
   "display_name": "Python 3",
   "language": "python",
   "name": "python3"
  },
  "language_info": {
   "codemirror_mode": {
    "name": "ipython",
    "version": 3
   },
   "file_extension": ".py",
   "mimetype": "text/x-python",
   "name": "python",
   "nbconvert_exporter": "python",
   "pygments_lexer": "ipython3",
   "version": "3.8.5"
  }
 },
 "nbformat": 4,
 "nbformat_minor": 4
}
